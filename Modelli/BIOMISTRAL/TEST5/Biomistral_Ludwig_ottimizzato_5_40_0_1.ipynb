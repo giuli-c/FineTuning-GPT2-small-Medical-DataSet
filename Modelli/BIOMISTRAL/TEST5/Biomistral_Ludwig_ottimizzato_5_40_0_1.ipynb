{
  "cells": [
    {
      "cell_type": "code",
      "execution_count": 1,
      "metadata": {
        "colab": {
          "base_uri": "https://localhost:8080/"
        },
        "id": "PewB6aEXFgDx",
        "outputId": "ffc138cd-6634-4eda-870c-7db05213fc9e"
      },
      "outputs": [
        {
          "output_type": "stream",
          "name": "stdout",
          "text": [
            "  Installing build dependencies ... \u001b[?25l\u001b[?25hdone\n",
            "  Getting requirements to build wheel ... \u001b[?25l\u001b[?25hdone\n",
            "  Preparing metadata (pyproject.toml) ... \u001b[?25l\u001b[?25hdone\n",
            "  Building wheel for transformers (pyproject.toml) ... \u001b[?25l\u001b[?25hdone\n",
            "  Installing build dependencies ... \u001b[?25l\u001b[?25hdone\n",
            "  Getting requirements to build wheel ... \u001b[?25l\u001b[?25hdone\n",
            "  Preparing metadata (pyproject.toml) ... \u001b[?25l\u001b[?25hdone\n",
            "  Building wheel for peft (pyproject.toml) ... \u001b[?25l\u001b[?25hdone\n",
            "  Installing build dependencies ... \u001b[?25l\u001b[?25hdone\n",
            "  Getting requirements to build wheel ... \u001b[?25l\u001b[?25hdone\n",
            "  Preparing metadata (pyproject.toml) ... \u001b[?25l\u001b[?25hdone\n",
            "  Building wheel for accelerate (pyproject.toml) ... \u001b[?25l\u001b[?25hdone\n",
            "\u001b[2K     \u001b[90m━━━━━━━━━━━━━━━━━━━━━━━━━━━━━━━━━━━━━━━━\u001b[0m \u001b[32m60.8/60.8 kB\u001b[0m \u001b[31m5.7 MB/s\u001b[0m eta \u001b[36m0:00:00\u001b[0m\n",
            "\u001b[2K   \u001b[90m━━━━━━━━━━━━━━━━━━━━━━━━━━━━━━━━━━━━━━━━\u001b[0m \u001b[32m547.8/547.8 kB\u001b[0m \u001b[31m42.0 MB/s\u001b[0m eta \u001b[36m0:00:00\u001b[0m\n",
            "\u001b[2K   \u001b[90m━━━━━━━━━━━━━━━━━━━━━━━━━━━━━━━━━━━━━━━━\u001b[0m \u001b[32m41.1/41.1 MB\u001b[0m \u001b[31m27.6 MB/s\u001b[0m eta \u001b[36m0:00:00\u001b[0m\n",
            "\u001b[2K   \u001b[90m━━━━━━━━━━━━━━━━━━━━━━━━━━━━━━━━━━━━━━━━\u001b[0m \u001b[32m139.4/139.4 kB\u001b[0m \u001b[31m13.7 MB/s\u001b[0m eta \u001b[36m0:00:00\u001b[0m\n",
            "\u001b[2K   \u001b[90m━━━━━━━━━━━━━━━━━━━━━━━━━━━━━━━━━━━━━━━━\u001b[0m \u001b[32m116.3/116.3 kB\u001b[0m \u001b[31m12.0 MB/s\u001b[0m eta \u001b[36m0:00:00\u001b[0m\n",
            "\u001b[2K   \u001b[90m━━━━━━━━━━━━━━━━━━━━━━━━━━━━━━━━━━━━━━━━\u001b[0m \u001b[32m316.1/316.1 kB\u001b[0m \u001b[31m29.0 MB/s\u001b[0m eta \u001b[36m0:00:00\u001b[0m\n",
            "\u001b[2K   \u001b[90m━━━━━━━━━━━━━━━━━━━━━━━━━━━━━━━━━━━━━━━━\u001b[0m \u001b[32m39.9/39.9 MB\u001b[0m \u001b[31m14.4 MB/s\u001b[0m eta \u001b[36m0:00:00\u001b[0m\n",
            "\u001b[2K   \u001b[90m━━━━━━━━━━━━━━━━━━━━━━━━━━━━━━━━━━━━━━━━\u001b[0m \u001b[32m64.9/64.9 kB\u001b[0m \u001b[31m6.0 MB/s\u001b[0m eta \u001b[36m0:00:00\u001b[0m\n",
            "\u001b[2K   \u001b[90m━━━━━━━━━━━━━━━━━━━━━━━━━━━━━━━━━━━━━━━━\u001b[0m \u001b[32m2.3/2.3 MB\u001b[0m \u001b[31m80.2 MB/s\u001b[0m eta \u001b[36m0:00:00\u001b[0m\n",
            "\u001b[2K   \u001b[90m━━━━━━━━━━━━━━━━━━━━━━━━━━━━━━━━━━━━━━━━\u001b[0m \u001b[32m134.8/134.8 kB\u001b[0m \u001b[31m12.3 MB/s\u001b[0m eta \u001b[36m0:00:00\u001b[0m\n",
            "\u001b[2K   \u001b[90m━━━━━━━━━━━━━━━━━━━━━━━━━━━━━━━━━━━━━━━━\u001b[0m \u001b[32m194.1/194.1 kB\u001b[0m \u001b[31m20.0 MB/s\u001b[0m eta \u001b[36m0:00:00\u001b[0m\n",
            "\u001b[2K   \u001b[90m━━━━━━━━━━━━━━━━━━━━━━━━━━━━━━━━━━━━━━━━\u001b[0m \u001b[32m1.6/1.6 MB\u001b[0m \u001b[31m71.8 MB/s\u001b[0m eta \u001b[36m0:00:00\u001b[0m\n",
            "\u001b[?25h\u001b[31mERROR: pip's dependency resolver does not currently take into account all the packages that are installed. This behaviour is the source of the following dependency conflicts.\n",
            "cudf-cu12 24.4.1 requires pyarrow<15.0.0a0,>=14.0.1, but you have pyarrow 17.0.0 which is incompatible.\n",
            "gcsfs 2024.6.1 requires fsspec==2024.6.1, but you have fsspec 2024.5.0 which is incompatible.\n",
            "gensim 4.3.3 requires scipy<1.14.0,>=1.7.0, but you have scipy 1.14.0 which is incompatible.\n",
            "google-colab 1.0.0 requires requests==2.31.0, but you have requests 2.32.3 which is incompatible.\n",
            "ibis-framework 8.0.0 requires pyarrow<16,>=2, but you have pyarrow 17.0.0 which is incompatible.\u001b[0m\u001b[31m\n",
            "\u001b[0mFound existing installation: torch 2.3.1+cu121\n",
            "Uninstalling torch-2.3.1+cu121:\n",
            "  Successfully uninstalled torch-2.3.1+cu121\n",
            "\u001b[33mWARNING: Skipping torchdata as it is not installed.\u001b[0m\u001b[33m\n",
            "\u001b[0mCollecting torch==1.13.1\n",
            "  Downloading torch-1.13.1-cp310-cp310-manylinux1_x86_64.whl.metadata (24 kB)\n",
            "Requirement already satisfied: typing-extensions in /usr/local/lib/python3.10/dist-packages (from torch==1.13.1) (4.12.2)\n",
            "Collecting nvidia-cuda-runtime-cu11==11.7.99 (from torch==1.13.1)\n",
            "  Downloading nvidia_cuda_runtime_cu11-11.7.99-py3-none-manylinux1_x86_64.whl.metadata (1.6 kB)\n",
            "Collecting nvidia-cudnn-cu11==8.5.0.96 (from torch==1.13.1)\n",
            "  Downloading nvidia_cudnn_cu11-8.5.0.96-2-py3-none-manylinux1_x86_64.whl.metadata (1.6 kB)\n",
            "Collecting nvidia-cublas-cu11==11.10.3.66 (from torch==1.13.1)\n",
            "  Downloading nvidia_cublas_cu11-11.10.3.66-py3-none-manylinux1_x86_64.whl.metadata (1.6 kB)\n",
            "Collecting nvidia-cuda-nvrtc-cu11==11.7.99 (from torch==1.13.1)\n",
            "  Downloading nvidia_cuda_nvrtc_cu11-11.7.99-2-py3-none-manylinux1_x86_64.whl.metadata (1.5 kB)\n",
            "Requirement already satisfied: setuptools in /usr/local/lib/python3.10/dist-packages (from nvidia-cublas-cu11==11.10.3.66->torch==1.13.1) (71.0.4)\n",
            "Requirement already satisfied: wheel in /usr/local/lib/python3.10/dist-packages (from nvidia-cublas-cu11==11.10.3.66->torch==1.13.1) (0.43.0)\n",
            "Downloading torch-1.13.1-cp310-cp310-manylinux1_x86_64.whl (887.5 MB)\n",
            "\u001b[2K   \u001b[90m━━━━━━━━━━━━━━━━━━━━━━━━━━━━━━━━━━━━━━━━\u001b[0m \u001b[32m887.5/887.5 MB\u001b[0m \u001b[31m1.5 MB/s\u001b[0m eta \u001b[36m0:00:00\u001b[0m\n",
            "\u001b[?25hDownloading nvidia_cublas_cu11-11.10.3.66-py3-none-manylinux1_x86_64.whl (317.1 MB)\n",
            "\u001b[2K   \u001b[90m━━━━━━━━━━━━━━━━━━━━━━━━━━━━━━━━━━━━━━━━\u001b[0m \u001b[32m317.1/317.1 MB\u001b[0m \u001b[31m4.0 MB/s\u001b[0m eta \u001b[36m0:00:00\u001b[0m\n",
            "\u001b[?25hDownloading nvidia_cuda_nvrtc_cu11-11.7.99-2-py3-none-manylinux1_x86_64.whl (21.0 MB)\n",
            "\u001b[2K   \u001b[90m━━━━━━━━━━━━━━━━━━━━━━━━━━━━━━━━━━━━━━━━\u001b[0m \u001b[32m21.0/21.0 MB\u001b[0m \u001b[31m34.9 MB/s\u001b[0m eta \u001b[36m0:00:00\u001b[0m\n",
            "\u001b[?25hDownloading nvidia_cuda_runtime_cu11-11.7.99-py3-none-manylinux1_x86_64.whl (849 kB)\n",
            "\u001b[2K   \u001b[90m━━━━━━━━━━━━━━━━━━━━━━━━━━━━━━━━━━━━━━━━\u001b[0m \u001b[32m849.3/849.3 kB\u001b[0m \u001b[31m45.2 MB/s\u001b[0m eta \u001b[36m0:00:00\u001b[0m\n",
            "\u001b[?25hDownloading nvidia_cudnn_cu11-8.5.0.96-2-py3-none-manylinux1_x86_64.whl (557.1 MB)\n",
            "\u001b[2K   \u001b[90m━━━━━━━━━━━━━━━━━━━━━━━━━━━━━━━━━━━━━━━━\u001b[0m \u001b[32m557.1/557.1 MB\u001b[0m \u001b[31m773.3 kB/s\u001b[0m eta \u001b[36m0:00:00\u001b[0m\n",
            "\u001b[?25hInstalling collected packages: nvidia-cuda-runtime-cu11, nvidia-cuda-nvrtc-cu11, nvidia-cublas-cu11, nvidia-cudnn-cu11, torch\n",
            "\u001b[31mERROR: pip's dependency resolver does not currently take into account all the packages that are installed. This behaviour is the source of the following dependency conflicts.\n",
            "torchaudio 2.3.1+cu121 requires torch==2.3.1, but you have torch 1.13.1 which is incompatible.\n",
            "torchtext 0.18.0 requires torch>=2.3.0, but you have torch 1.13.1 which is incompatible.\n",
            "torchvision 0.18.1+cu121 requires torch==2.3.1, but you have torch 1.13.1 which is incompatible.\u001b[0m\u001b[31m\n",
            "\u001b[0mSuccessfully installed nvidia-cublas-cu11-11.10.3.66 nvidia-cuda-nvrtc-cu11-11.7.99 nvidia-cuda-runtime-cu11-11.7.99 nvidia-cudnn-cu11-8.5.0.96 torch-1.13.1\n",
            "Collecting torchdata==0.5.1\n",
            "  Downloading torchdata-0.5.1-cp310-cp310-manylinux_2_17_x86_64.manylinux2014_x86_64.whl.metadata (1.0 kB)\n",
            "Requirement already satisfied: urllib3>=1.25 in /usr/local/lib/python3.10/dist-packages (from torchdata==0.5.1) (2.0.7)\n",
            "Requirement already satisfied: requests in /usr/local/lib/python3.10/dist-packages (from torchdata==0.5.1) (2.32.3)\n",
            "Collecting portalocker>=2.0.0 (from torchdata==0.5.1)\n",
            "  Downloading portalocker-2.10.1-py3-none-any.whl.metadata (8.5 kB)\n",
            "Requirement already satisfied: torch==1.13.1 in /usr/local/lib/python3.10/dist-packages (from torchdata==0.5.1) (1.13.1)\n",
            "Requirement already satisfied: typing-extensions in /usr/local/lib/python3.10/dist-packages (from torch==1.13.1->torchdata==0.5.1) (4.12.2)\n",
            "Requirement already satisfied: nvidia-cuda-runtime-cu11==11.7.99 in /usr/local/lib/python3.10/dist-packages (from torch==1.13.1->torchdata==0.5.1) (11.7.99)\n",
            "Requirement already satisfied: nvidia-cudnn-cu11==8.5.0.96 in /usr/local/lib/python3.10/dist-packages (from torch==1.13.1->torchdata==0.5.1) (8.5.0.96)\n",
            "Requirement already satisfied: nvidia-cublas-cu11==11.10.3.66 in /usr/local/lib/python3.10/dist-packages (from torch==1.13.1->torchdata==0.5.1) (11.10.3.66)\n",
            "Requirement already satisfied: nvidia-cuda-nvrtc-cu11==11.7.99 in /usr/local/lib/python3.10/dist-packages (from torch==1.13.1->torchdata==0.5.1) (11.7.99)\n",
            "Requirement already satisfied: setuptools in /usr/local/lib/python3.10/dist-packages (from nvidia-cublas-cu11==11.10.3.66->torch==1.13.1->torchdata==0.5.1) (71.0.4)\n",
            "Requirement already satisfied: wheel in /usr/local/lib/python3.10/dist-packages (from nvidia-cublas-cu11==11.10.3.66->torch==1.13.1->torchdata==0.5.1) (0.43.0)\n",
            "Requirement already satisfied: charset-normalizer<4,>=2 in /usr/local/lib/python3.10/dist-packages (from requests->torchdata==0.5.1) (3.3.2)\n",
            "Requirement already satisfied: idna<4,>=2.5 in /usr/local/lib/python3.10/dist-packages (from requests->torchdata==0.5.1) (3.7)\n",
            "Requirement already satisfied: certifi>=2017.4.17 in /usr/local/lib/python3.10/dist-packages (from requests->torchdata==0.5.1) (2024.7.4)\n",
            "Downloading torchdata-0.5.1-cp310-cp310-manylinux_2_17_x86_64.manylinux2014_x86_64.whl (4.6 MB)\n",
            "\u001b[2K   \u001b[90m━━━━━━━━━━━━━━━━━━━━━━━━━━━━━━━━━━━━━━━━\u001b[0m \u001b[32m4.6/4.6 MB\u001b[0m \u001b[31m70.2 MB/s\u001b[0m eta \u001b[36m0:00:00\u001b[0m\n",
            "\u001b[?25hDownloading portalocker-2.10.1-py3-none-any.whl (18 kB)\n",
            "Installing collected packages: portalocker, torchdata\n",
            "Successfully installed portalocker-2.10.1 torchdata-0.5.1\n",
            "  Installing build dependencies ... \u001b[?25l\u001b[?25hdone\n",
            "  Getting requirements to build wheel ... \u001b[?25l\u001b[?25hdone\n",
            "  Preparing metadata (pyproject.toml) ... \u001b[?25l\u001b[?25hdone\n",
            "\u001b[2K     \u001b[90m━━━━━━━━━━━━━━━━━━━━━━━━━━━━━━━━━━━━━━━━\u001b[0m \u001b[32m151.6/151.6 kB\u001b[0m \u001b[31m10.8 MB/s\u001b[0m eta \u001b[36m0:00:00\u001b[0m\n",
            "\u001b[2K     \u001b[90m━━━━━━━━━━━━━━━━━━━━━━━━━━━━━━━━━━━━━━━━\u001b[0m \u001b[32m98.1/98.1 kB\u001b[0m \u001b[31m10.1 MB/s\u001b[0m eta \u001b[36m0:00:00\u001b[0m\n",
            "\u001b[?25h  Installing build dependencies ... \u001b[?25l\u001b[?25hdone\n",
            "  Getting requirements to build wheel ... \u001b[?25l\u001b[?25hdone\n",
            "  Preparing metadata (pyproject.toml) ... \u001b[?25l\u001b[?25hdone\n",
            "\u001b[2K     \u001b[90m━━━━━━━━━━━━━━━━━━━━━━━━━━━━━━━━━━━━━━━━\u001b[0m \u001b[32m49.3/49.3 kB\u001b[0m \u001b[31m4.4 MB/s\u001b[0m eta \u001b[36m0:00:00\u001b[0m\n",
            "\u001b[2K   \u001b[90m━━━━━━━━━━━━━━━━━━━━━━━━━━━━━━━━━━━━━━━━\u001b[0m \u001b[32m19.0/19.0 MB\u001b[0m \u001b[31m47.3 MB/s\u001b[0m eta \u001b[36m0:00:00\u001b[0m\n",
            "\u001b[2K   \u001b[90m━━━━━━━━━━━━━━━━━━━━━━━━━━━━━━━━━━━━━━━━\u001b[0m \u001b[32m92.5/92.5 MB\u001b[0m \u001b[31m9.6 MB/s\u001b[0m eta \u001b[36m0:00:00\u001b[0m\n",
            "\u001b[2K   \u001b[90m━━━━━━━━━━━━━━━━━━━━━━━━━━━━━━━━━━━━━━━━\u001b[0m \u001b[32m166.4/166.4 kB\u001b[0m \u001b[31m13.7 MB/s\u001b[0m eta \u001b[36m0:00:00\u001b[0m\n",
            "\u001b[2K   \u001b[90m━━━━━━━━━━━━━━━━━━━━━━━━━━━━━━━━━━━━━━━━\u001b[0m \u001b[32m80.8/80.8 kB\u001b[0m \u001b[31m7.4 MB/s\u001b[0m eta \u001b[36m0:00:00\u001b[0m\n",
            "\u001b[2K   \u001b[90m━━━━━━━━━━━━━━━━━━━━━━━━━━━━━━━━━━━━━━━━\u001b[0m \u001b[32m49.2/49.2 kB\u001b[0m \u001b[31m4.6 MB/s\u001b[0m eta \u001b[36m0:00:00\u001b[0m\n",
            "\u001b[2K   \u001b[90m━━━━━━━━━━━━━━━━━━━━━━━━━━━━━━━━━━━━━━━━\u001b[0m \u001b[32m38.0/38.0 MB\u001b[0m \u001b[31m21.8 MB/s\u001b[0m eta \u001b[36m0:00:00\u001b[0m\n",
            "\u001b[2K   \u001b[90m━━━━━━━━━━━━━━━━━━━━━━━━━━━━━━━━━━━━━━━━\u001b[0m \u001b[32m3.1/3.1 MB\u001b[0m \u001b[31m51.9 MB/s\u001b[0m eta \u001b[36m0:00:00\u001b[0m\n",
            "\u001b[2K   \u001b[90m━━━━━━━━━━━━━━━━━━━━━━━━━━━━━━━━━━━━━━━━\u001b[0m \u001b[32m682.2/682.2 kB\u001b[0m \u001b[31m47.6 MB/s\u001b[0m eta \u001b[36m0:00:00\u001b[0m\n",
            "\u001b[2K   \u001b[90m━━━━━━━━━━━━━━━━━━━━━━━━━━━━━━━━━━━━━━━━\u001b[0m \u001b[32m232.0/232.0 kB\u001b[0m \u001b[31m11.8 MB/s\u001b[0m eta \u001b[36m0:00:00\u001b[0m\n",
            "\u001b[2K   \u001b[90m━━━━━━━━━━━━━━━━━━━━━━━━━━━━━━━━━━━━━━━━\u001b[0m \u001b[32m868.8/868.8 kB\u001b[0m \u001b[31m53.7 MB/s\u001b[0m eta \u001b[36m0:00:00\u001b[0m\n",
            "\u001b[2K   \u001b[90m━━━━━━━━━━━━━━━━━━━━━━━━━━━━━━━━━━━━━━━━\u001b[0m \u001b[32m143.9/143.9 kB\u001b[0m \u001b[31m12.2 MB/s\u001b[0m eta \u001b[36m0:00:00\u001b[0m\n",
            "\u001b[2K   \u001b[90m━━━━━━━━━━━━━━━━━━━━━━━━━━━━━━━━━━━━━━━━\u001b[0m \u001b[32m159.9/159.9 kB\u001b[0m \u001b[31m15.7 MB/s\u001b[0m eta \u001b[36m0:00:00\u001b[0m\n",
            "\u001b[2K   \u001b[90m━━━━━━━━━━━━━━━━━━━━━━━━━━━━━━━━━━━━━━━━\u001b[0m \u001b[32m542.1/542.1 kB\u001b[0m \u001b[31m31.0 MB/s\u001b[0m eta \u001b[36m0:00:00\u001b[0m\n",
            "\u001b[2K   \u001b[90m━━━━━━━━━━━━━━━━━━━━━━━━━━━━━━━━━━━━━━━━\u001b[0m \u001b[32m39.5/39.5 MB\u001b[0m \u001b[31m9.7 MB/s\u001b[0m eta \u001b[36m0:00:00\u001b[0m\n",
            "\u001b[2K   \u001b[90m━━━━━━━━━━━━━━━━━━━━━━━━━━━━━━━━━━━━━━━━\u001b[0m \u001b[32m897.5/897.5 kB\u001b[0m \u001b[31m43.6 MB/s\u001b[0m eta \u001b[36m0:00:00\u001b[0m\n",
            "\u001b[2K   \u001b[90m━━━━━━━━━━━━━━━━━━━━━━━━━━━━━━━━━━━━━━━━\u001b[0m \u001b[32m779.1/779.1 MB\u001b[0m \u001b[31m826.4 kB/s\u001b[0m eta \u001b[36m0:00:00\u001b[0m\n",
            "\u001b[2K   \u001b[90m━━━━━━━━━━━━━━━━━━━━━━━━━━━━━━━━━━━━━━━━\u001b[0m \u001b[32m100.0/100.0 kB\u001b[0m \u001b[31m11.8 MB/s\u001b[0m eta \u001b[36m0:00:00\u001b[0m\n",
            "\u001b[2K   \u001b[90m━━━━━━━━━━━━━━━━━━━━━━━━━━━━━━━━━━━━━━━━\u001b[0m \u001b[32m58.4/58.4 kB\u001b[0m \u001b[31m5.9 MB/s\u001b[0m eta \u001b[36m0:00:00\u001b[0m\n",
            "\u001b[2K   \u001b[90m━━━━━━━━━━━━━━━━━━━━━━━━━━━━━━━━━━━━━━━━\u001b[0m \u001b[32m51.1/51.1 kB\u001b[0m \u001b[31m4.8 MB/s\u001b[0m eta \u001b[36m0:00:00\u001b[0m\n",
            "\u001b[2K   \u001b[90m━━━━━━━━━━━━━━━━━━━━━━━━━━━━━━━━━━━━━━━━\u001b[0m \u001b[32m98.7/98.7 kB\u001b[0m \u001b[31m10.0 MB/s\u001b[0m eta \u001b[36m0:00:00\u001b[0m\n",
            "\u001b[2K   \u001b[90m━━━━━━━━━━━━━━━━━━━━━━━━━━━━━━━━━━━━━━━━\u001b[0m \u001b[32m117.7/117.7 kB\u001b[0m \u001b[31m11.6 MB/s\u001b[0m eta \u001b[36m0:00:00\u001b[0m\n",
            "\u001b[2K   \u001b[90m━━━━━━━━━━━━━━━━━━━━━━━━━━━━━━━━━━━━━━━━\u001b[0m \u001b[32m62.5/62.5 kB\u001b[0m \u001b[31m6.4 MB/s\u001b[0m eta \u001b[36m0:00:00\u001b[0m\n",
            "\u001b[?25h  Building wheel for ludwig (pyproject.toml) ... \u001b[?25l\u001b[?25hdone\n",
            "  Building wheel for gpustat (pyproject.toml) ... \u001b[?25l\u001b[?25hdone\n",
            "\u001b[31mERROR: pip's dependency resolver does not currently take into account all the packages that are installed. This behaviour is the source of the following dependency conflicts.\n",
            "albumentations 1.4.11 requires pydantic>=2.7.0, but you have pydantic 1.10.17 which is incompatible.\n",
            "gcsfs 2024.6.1 requires fsspec==2024.6.1, but you have fsspec 2023.10.0 which is incompatible.\n",
            "torchdata 0.5.1 requires torch==1.13.1, but you have torch 2.3.1 which is incompatible.\u001b[0m\u001b[31m\n",
            "\u001b[0mCollecting bert-score\n",
            "  Downloading bert_score-0.3.13-py3-none-any.whl.metadata (15 kB)\n",
            "Requirement already satisfied: torch>=1.0.0 in /usr/local/lib/python3.10/dist-packages (from bert-score) (2.3.1)\n",
            "Requirement already satisfied: pandas>=1.0.1 in /usr/local/lib/python3.10/dist-packages (from bert-score) (2.0.3)\n",
            "Requirement already satisfied: transformers>=3.0.0 in /usr/local/lib/python3.10/dist-packages (from bert-score) (4.44.0.dev0)\n",
            "Requirement already satisfied: numpy in /usr/local/lib/python3.10/dist-packages (from bert-score) (1.25.2)\n",
            "Requirement already satisfied: requests in /usr/local/lib/python3.10/dist-packages (from bert-score) (2.32.3)\n",
            "Requirement already satisfied: tqdm>=4.31.1 in /usr/local/lib/python3.10/dist-packages (from bert-score) (4.66.4)\n",
            "Requirement already satisfied: matplotlib in /usr/local/lib/python3.10/dist-packages (from bert-score) (3.7.1)\n",
            "Requirement already satisfied: packaging>=20.9 in /usr/local/lib/python3.10/dist-packages (from bert-score) (24.1)\n",
            "Requirement already satisfied: python-dateutil>=2.8.2 in /usr/local/lib/python3.10/dist-packages (from pandas>=1.0.1->bert-score) (2.8.2)\n",
            "Requirement already satisfied: pytz>=2020.1 in /usr/local/lib/python3.10/dist-packages (from pandas>=1.0.1->bert-score) (2024.1)\n",
            "Requirement already satisfied: tzdata>=2022.1 in /usr/local/lib/python3.10/dist-packages (from pandas>=1.0.1->bert-score) (2024.1)\n",
            "Requirement already satisfied: filelock in /usr/local/lib/python3.10/dist-packages (from torch>=1.0.0->bert-score) (3.15.4)\n",
            "Requirement already satisfied: typing-extensions>=4.8.0 in /usr/local/lib/python3.10/dist-packages (from torch>=1.0.0->bert-score) (4.12.2)\n",
            "Requirement already satisfied: sympy in /usr/local/lib/python3.10/dist-packages (from torch>=1.0.0->bert-score) (1.13.1)\n",
            "Requirement already satisfied: networkx in /usr/local/lib/python3.10/dist-packages (from torch>=1.0.0->bert-score) (3.3)\n",
            "Requirement already satisfied: jinja2 in /usr/local/lib/python3.10/dist-packages (from torch>=1.0.0->bert-score) (3.1.4)\n",
            "Requirement already satisfied: fsspec in /usr/local/lib/python3.10/dist-packages (from torch>=1.0.0->bert-score) (2023.10.0)\n",
            "Requirement already satisfied: nvidia-cuda-nvrtc-cu12==12.1.105 in /usr/local/lib/python3.10/dist-packages (from torch>=1.0.0->bert-score) (12.1.105)\n",
            "Requirement already satisfied: nvidia-cuda-runtime-cu12==12.1.105 in /usr/local/lib/python3.10/dist-packages (from torch>=1.0.0->bert-score) (12.1.105)\n",
            "Requirement already satisfied: nvidia-cuda-cupti-cu12==12.1.105 in /usr/local/lib/python3.10/dist-packages (from torch>=1.0.0->bert-score) (12.1.105)\n",
            "Requirement already satisfied: nvidia-cudnn-cu12==8.9.2.26 in /usr/local/lib/python3.10/dist-packages (from torch>=1.0.0->bert-score) (8.9.2.26)\n",
            "Requirement already satisfied: nvidia-cublas-cu12==12.1.3.1 in /usr/local/lib/python3.10/dist-packages (from torch>=1.0.0->bert-score) (12.1.3.1)\n",
            "Requirement already satisfied: nvidia-cufft-cu12==11.0.2.54 in /usr/local/lib/python3.10/dist-packages (from torch>=1.0.0->bert-score) (11.0.2.54)\n",
            "Requirement already satisfied: nvidia-curand-cu12==10.3.2.106 in /usr/local/lib/python3.10/dist-packages (from torch>=1.0.0->bert-score) (10.3.2.106)\n",
            "Requirement already satisfied: nvidia-cusolver-cu12==11.4.5.107 in /usr/local/lib/python3.10/dist-packages (from torch>=1.0.0->bert-score) (11.4.5.107)\n",
            "Requirement already satisfied: nvidia-cusparse-cu12==12.1.0.106 in /usr/local/lib/python3.10/dist-packages (from torch>=1.0.0->bert-score) (12.1.0.106)\n",
            "Requirement already satisfied: nvidia-nccl-cu12==2.20.5 in /usr/local/lib/python3.10/dist-packages (from torch>=1.0.0->bert-score) (2.20.5)\n",
            "Requirement already satisfied: nvidia-nvtx-cu12==12.1.105 in /usr/local/lib/python3.10/dist-packages (from torch>=1.0.0->bert-score) (12.1.105)\n",
            "Requirement already satisfied: triton==2.3.1 in /usr/local/lib/python3.10/dist-packages (from torch>=1.0.0->bert-score) (2.3.1)\n",
            "Requirement already satisfied: nvidia-nvjitlink-cu12 in /usr/local/lib/python3.10/dist-packages (from nvidia-cusolver-cu12==11.4.5.107->torch>=1.0.0->bert-score) (12.5.82)\n",
            "Requirement already satisfied: huggingface-hub<1.0,>=0.23.2 in /usr/local/lib/python3.10/dist-packages (from transformers>=3.0.0->bert-score) (0.23.5)\n",
            "Requirement already satisfied: pyyaml>=5.1 in /usr/local/lib/python3.10/dist-packages (from transformers>=3.0.0->bert-score) (6.0)\n",
            "Requirement already satisfied: regex!=2019.12.17 in /usr/local/lib/python3.10/dist-packages (from transformers>=3.0.0->bert-score) (2024.5.15)\n",
            "Requirement already satisfied: tokenizers<0.20,>=0.19 in /usr/local/lib/python3.10/dist-packages (from transformers>=3.0.0->bert-score) (0.19.1)\n",
            "Requirement already satisfied: safetensors>=0.4.1 in /usr/local/lib/python3.10/dist-packages (from transformers>=3.0.0->bert-score) (0.4.3)\n",
            "Requirement already satisfied: contourpy>=1.0.1 in /usr/local/lib/python3.10/dist-packages (from matplotlib->bert-score) (1.2.1)\n",
            "Requirement already satisfied: cycler>=0.10 in /usr/local/lib/python3.10/dist-packages (from matplotlib->bert-score) (0.12.1)\n",
            "Requirement already satisfied: fonttools>=4.22.0 in /usr/local/lib/python3.10/dist-packages (from matplotlib->bert-score) (4.53.1)\n",
            "Requirement already satisfied: kiwisolver>=1.0.1 in /usr/local/lib/python3.10/dist-packages (from matplotlib->bert-score) (1.4.5)\n",
            "Requirement already satisfied: pillow>=6.2.0 in /usr/local/lib/python3.10/dist-packages (from matplotlib->bert-score) (9.4.0)\n",
            "Requirement already satisfied: pyparsing>=2.3.1 in /usr/local/lib/python3.10/dist-packages (from matplotlib->bert-score) (3.1.2)\n",
            "Requirement already satisfied: charset-normalizer<4,>=2 in /usr/local/lib/python3.10/dist-packages (from requests->bert-score) (3.3.2)\n",
            "Requirement already satisfied: idna<4,>=2.5 in /usr/local/lib/python3.10/dist-packages (from requests->bert-score) (3.7)\n",
            "Requirement already satisfied: urllib3<3,>=1.21.1 in /usr/local/lib/python3.10/dist-packages (from requests->bert-score) (1.26.19)\n",
            "Requirement already satisfied: certifi>=2017.4.17 in /usr/local/lib/python3.10/dist-packages (from requests->bert-score) (2024.7.4)\n",
            "Requirement already satisfied: six>=1.5 in /usr/local/lib/python3.10/dist-packages (from python-dateutil>=2.8.2->pandas>=1.0.1->bert-score) (1.16.0)\n",
            "Requirement already satisfied: MarkupSafe>=2.0 in /usr/local/lib/python3.10/dist-packages (from jinja2->torch>=1.0.0->bert-score) (2.1.5)\n",
            "Requirement already satisfied: mpmath<1.4,>=1.1.0 in /usr/local/lib/python3.10/dist-packages (from sympy->torch>=1.0.0->bert-score) (1.3.0)\n",
            "Downloading bert_score-0.3.13-py3-none-any.whl (61 kB)\n",
            "\u001b[2K   \u001b[90m━━━━━━━━━━━━━━━━━━━━━━━━━━━━━━━━━━━━━━━━\u001b[0m \u001b[32m61.1/61.1 kB\u001b[0m \u001b[31m3.5 MB/s\u001b[0m eta \u001b[36m0:00:00\u001b[0m\n",
            "\u001b[?25hInstalling collected packages: bert-score\n",
            "Successfully installed bert-score-0.3.13\n",
            "Requirement already satisfied: ludwig in /usr/local/lib/python3.10/dist-packages (0.10.3.dev0)\n",
            "Requirement already satisfied: Cython>=0.25 in /usr/local/lib/python3.10/dist-packages (from ludwig) (3.0.10)\n",
            "Requirement already satisfied: h5py!=3.0.0,>=2.6 in /usr/local/lib/python3.10/dist-packages (from ludwig) (3.11.0)\n",
            "Requirement already satisfied: numpy>=1.15 in /usr/local/lib/python3.10/dist-packages (from ludwig) (1.25.2)\n",
            "Requirement already satisfied: pandas!=1.1.5,<2.2.0,>=1.0 in /usr/local/lib/python3.10/dist-packages (from ludwig) (2.0.3)\n",
            "Requirement already satisfied: scipy>=0.18 in /usr/local/lib/python3.10/dist-packages (from ludwig) (1.14.0)\n",
            "Requirement already satisfied: tabulate>=0.7 in /usr/local/lib/python3.10/dist-packages (from ludwig) (0.9.0)\n",
            "Requirement already satisfied: scikit-learn in /usr/local/lib/python3.10/dist-packages (from ludwig) (1.3.2)\n",
            "Requirement already satisfied: tqdm in /usr/local/lib/python3.10/dist-packages (from ludwig) (4.66.4)\n",
            "Requirement already satisfied: torch>=2.0.0 in /usr/local/lib/python3.10/dist-packages (from ludwig) (2.3.1)\n",
            "Requirement already satisfied: torchaudio in /usr/local/lib/python3.10/dist-packages (from ludwig) (2.3.1+cu121)\n",
            "Requirement already satisfied: torchtext in /usr/local/lib/python3.10/dist-packages (from ludwig) (0.18.0)\n",
            "Requirement already satisfied: torchvision in /usr/local/lib/python3.10/dist-packages (from ludwig) (0.18.1+cu121)\n",
            "Requirement already satisfied: pydantic<2.0 in /usr/local/lib/python3.10/dist-packages (from ludwig) (1.10.17)\n",
            "Requirement already satisfied: transformers>=4.42.3 in /usr/local/lib/python3.10/dist-packages (from ludwig) (4.44.0.dev0)\n",
            "Requirement already satisfied: tifffile in /usr/local/lib/python3.10/dist-packages (from ludwig) (2024.7.21)\n",
            "Requirement already satisfied: imagecodecs in /usr/local/lib/python3.10/dist-packages (from ludwig) (2024.6.1)\n",
            "Requirement already satisfied: tokenizers>=0.15 in /usr/local/lib/python3.10/dist-packages (from ludwig) (0.19.1)\n",
            "Requirement already satisfied: spacy>=2.3 in /usr/local/lib/python3.10/dist-packages (from ludwig) (3.7.5)\n",
            "Requirement already satisfied: PyYAML!=5.4.*,<6.0.1,>=3.12 in /usr/local/lib/python3.10/dist-packages (from ludwig) (6.0)\n",
            "Requirement already satisfied: absl-py in /usr/local/lib/python3.10/dist-packages (from ludwig) (1.4.0)\n",
            "Requirement already satisfied: kaggle in /usr/local/lib/python3.10/dist-packages (from ludwig) (1.6.14)\n",
            "Requirement already satisfied: requests in /usr/local/lib/python3.10/dist-packages (from ludwig) (2.32.3)\n",
            "Requirement already satisfied: fsspec<=2023.10.0 in /usr/local/lib/python3.10/dist-packages (from fsspec[http]<=2023.10.0->ludwig) (2023.10.0)\n",
            "Requirement already satisfied: dataclasses-json in /usr/local/lib/python3.10/dist-packages (from ludwig) (0.6.7)\n",
            "Requirement already satisfied: jsonschema<4.7,>=4.5.0 in /usr/local/lib/python3.10/dist-packages (from ludwig) (4.6.2)\n",
            "Requirement already satisfied: marshmallow in /usr/local/lib/python3.10/dist-packages (from ludwig) (3.21.3)\n",
            "Requirement already satisfied: marshmallow-jsonschema in /usr/local/lib/python3.10/dist-packages (from ludwig) (0.13.0)\n",
            "Requirement already satisfied: marshmallow-dataclass==8.5.4 in /usr/local/lib/python3.10/dist-packages (from ludwig) (8.5.4)\n",
            "Requirement already satisfied: tensorboard in /usr/local/lib/python3.10/dist-packages (from ludwig) (2.15.2)\n",
            "Requirement already satisfied: nltk in /usr/local/lib/python3.10/dist-packages (from ludwig) (3.8.1)\n",
            "Requirement already satisfied: torchmetrics>=0.11.0 in /usr/local/lib/python3.10/dist-packages (from ludwig) (1.4.0.post0)\n",
            "Requirement already satisfied: torchinfo in /usr/local/lib/python3.10/dist-packages (from ludwig) (1.8.0)\n",
            "Requirement already satisfied: filelock in /usr/local/lib/python3.10/dist-packages (from ludwig) (3.15.4)\n",
            "Requirement already satisfied: psutil in /usr/local/lib/python3.10/dist-packages (from ludwig) (5.9.5)\n",
            "Requirement already satisfied: protobuf in /usr/local/lib/python3.10/dist-packages (from ludwig) (3.20.3)\n",
            "Requirement already satisfied: py-cpuinfo==9.0.0 in /usr/local/lib/python3.10/dist-packages (from ludwig) (9.0.0)\n",
            "Requirement already satisfied: gpustat in /usr/local/lib/python3.10/dist-packages (from ludwig) (1.1.1)\n",
            "Requirement already satisfied: rich~=12.4.4 in /usr/local/lib/python3.10/dist-packages (from ludwig) (12.4.4)\n",
            "Requirement already satisfied: packaging in /usr/local/lib/python3.10/dist-packages (from ludwig) (24.1)\n",
            "Requirement already satisfied: retry in /usr/local/lib/python3.10/dist-packages (from ludwig) (0.9.2)\n",
            "Requirement already satisfied: sacremoses in /usr/local/lib/python3.10/dist-packages (from ludwig) (0.1.1)\n",
            "Requirement already satisfied: sentencepiece in /usr/local/lib/python3.10/dist-packages (from ludwig) (0.1.99)\n",
            "Requirement already satisfied: getdaft==0.1.20 in /usr/local/lib/python3.10/dist-packages (from ludwig) (0.1.20)\n",
            "Requirement already satisfied: bitsandbytes<0.41.0 in /usr/local/lib/python3.10/dist-packages (from ludwig) (0.40.2)\n",
            "Requirement already satisfied: xlwt in /usr/local/lib/python3.10/dist-packages (from ludwig) (1.3.0)\n",
            "Requirement already satisfied: xlrd>=2.0.1 in /usr/local/lib/python3.10/dist-packages (from ludwig) (2.0.1)\n",
            "Requirement already satisfied: xlsxwriter>=1.4.3 in /usr/local/lib/python3.10/dist-packages (from ludwig) (3.2.0)\n",
            "Requirement already satisfied: openpyxl>=3.0.7 in /usr/local/lib/python3.10/dist-packages (from ludwig) (3.1.5)\n",
            "Requirement already satisfied: pyxlsb>=1.0.8 in /usr/local/lib/python3.10/dist-packages (from ludwig) (1.0.10)\n",
            "Requirement already satisfied: pyarrow<15.0.0 in /usr/local/lib/python3.10/dist-packages (from ludwig) (14.0.2)\n",
            "Requirement already satisfied: lxml in /usr/local/lib/python3.10/dist-packages (from ludwig) (4.9.4)\n",
            "Requirement already satisfied: html5lib in /usr/local/lib/python3.10/dist-packages (from ludwig) (1.1)\n",
            "Requirement already satisfied: datasets in /usr/local/lib/python3.10/dist-packages (from ludwig) (2.19.2)\n",
            "Requirement already satisfied: urllib3<2 in /usr/local/lib/python3.10/dist-packages (from ludwig) (1.26.19)\n",
            "Requirement already satisfied: loguru in /usr/local/lib/python3.10/dist-packages (from getdaft==0.1.20->ludwig) (0.7.2)\n",
            "Requirement already satisfied: typing-inspect>=0.7.1 in /usr/local/lib/python3.10/dist-packages (from marshmallow-dataclass==8.5.4->ludwig) (0.9.0)\n",
            "Requirement already satisfied: aiohttp!=4.0.0a0,!=4.0.0a1 in /usr/local/lib/python3.10/dist-packages (from fsspec[http]<=2023.10.0->ludwig) (3.9.5)\n",
            "Requirement already satisfied: attrs>=17.4.0 in /usr/local/lib/python3.10/dist-packages (from jsonschema<4.7,>=4.5.0->ludwig) (23.2.0)\n",
            "Requirement already satisfied: pyrsistent!=0.17.0,!=0.17.1,!=0.17.2,>=0.14.0 in /usr/local/lib/python3.10/dist-packages (from jsonschema<4.7,>=4.5.0->ludwig) (0.20.0)\n",
            "Requirement already satisfied: et-xmlfile in /usr/local/lib/python3.10/dist-packages (from openpyxl>=3.0.7->ludwig) (1.1.0)\n",
            "Requirement already satisfied: python-dateutil>=2.8.2 in /usr/local/lib/python3.10/dist-packages (from pandas!=1.1.5,<2.2.0,>=1.0->ludwig) (2.8.2)\n",
            "Requirement already satisfied: pytz>=2020.1 in /usr/local/lib/python3.10/dist-packages (from pandas!=1.1.5,<2.2.0,>=1.0->ludwig) (2024.1)\n",
            "Requirement already satisfied: tzdata>=2022.1 in /usr/local/lib/python3.10/dist-packages (from pandas!=1.1.5,<2.2.0,>=1.0->ludwig) (2024.1)\n",
            "Requirement already satisfied: typing-extensions>=4.2.0 in /usr/local/lib/python3.10/dist-packages (from pydantic<2.0->ludwig) (4.12.2)\n",
            "Requirement already satisfied: commonmark<0.10.0,>=0.9.0 in /usr/local/lib/python3.10/dist-packages (from rich~=12.4.4->ludwig) (0.9.1)\n",
            "Requirement already satisfied: pygments<3.0.0,>=2.6.0 in /usr/local/lib/python3.10/dist-packages (from rich~=12.4.4->ludwig) (2.16.1)\n",
            "Requirement already satisfied: spacy-legacy<3.1.0,>=3.0.11 in /usr/local/lib/python3.10/dist-packages (from spacy>=2.3->ludwig) (3.0.12)\n",
            "Requirement already satisfied: spacy-loggers<2.0.0,>=1.0.0 in /usr/local/lib/python3.10/dist-packages (from spacy>=2.3->ludwig) (1.0.5)\n",
            "Requirement already satisfied: murmurhash<1.1.0,>=0.28.0 in /usr/local/lib/python3.10/dist-packages (from spacy>=2.3->ludwig) (1.0.10)\n",
            "Requirement already satisfied: cymem<2.1.0,>=2.0.2 in /usr/local/lib/python3.10/dist-packages (from spacy>=2.3->ludwig) (2.0.8)\n",
            "Requirement already satisfied: preshed<3.1.0,>=3.0.2 in /usr/local/lib/python3.10/dist-packages (from spacy>=2.3->ludwig) (3.0.9)\n",
            "Requirement already satisfied: thinc<8.3.0,>=8.2.2 in /usr/local/lib/python3.10/dist-packages (from spacy>=2.3->ludwig) (8.2.5)\n",
            "Requirement already satisfied: wasabi<1.2.0,>=0.9.1 in /usr/local/lib/python3.10/dist-packages (from spacy>=2.3->ludwig) (1.1.3)\n",
            "Requirement already satisfied: srsly<3.0.0,>=2.4.3 in /usr/local/lib/python3.10/dist-packages (from spacy>=2.3->ludwig) (2.4.8)\n",
            "Requirement already satisfied: catalogue<2.1.0,>=2.0.6 in /usr/local/lib/python3.10/dist-packages (from spacy>=2.3->ludwig) (2.0.10)\n",
            "Requirement already satisfied: weasel<0.5.0,>=0.1.0 in /usr/local/lib/python3.10/dist-packages (from spacy>=2.3->ludwig) (0.4.1)\n",
            "Requirement already satisfied: typer<1.0.0,>=0.3.0 in /usr/local/lib/python3.10/dist-packages (from spacy>=2.3->ludwig) (0.12.3)\n",
            "Requirement already satisfied: jinja2 in /usr/local/lib/python3.10/dist-packages (from spacy>=2.3->ludwig) (3.1.4)\n",
            "Requirement already satisfied: setuptools in /usr/local/lib/python3.10/dist-packages (from spacy>=2.3->ludwig) (71.0.4)\n",
            "Requirement already satisfied: langcodes<4.0.0,>=3.2.0 in /usr/local/lib/python3.10/dist-packages (from spacy>=2.3->ludwig) (3.4.0)\n",
            "Requirement already satisfied: charset-normalizer<4,>=2 in /usr/local/lib/python3.10/dist-packages (from requests->ludwig) (3.3.2)\n",
            "Requirement already satisfied: idna<4,>=2.5 in /usr/local/lib/python3.10/dist-packages (from requests->ludwig) (3.7)\n",
            "Requirement already satisfied: certifi>=2017.4.17 in /usr/local/lib/python3.10/dist-packages (from requests->ludwig) (2024.7.4)\n",
            "Requirement already satisfied: huggingface-hub<1.0,>=0.16.4 in /usr/local/lib/python3.10/dist-packages (from tokenizers>=0.15->ludwig) (0.23.5)\n",
            "Requirement already satisfied: sympy in /usr/local/lib/python3.10/dist-packages (from torch>=2.0.0->ludwig) (1.13.1)\n",
            "Requirement already satisfied: networkx in /usr/local/lib/python3.10/dist-packages (from torch>=2.0.0->ludwig) (3.3)\n",
            "Requirement already satisfied: nvidia-cuda-nvrtc-cu12==12.1.105 in /usr/local/lib/python3.10/dist-packages (from torch>=2.0.0->ludwig) (12.1.105)\n",
            "Requirement already satisfied: nvidia-cuda-runtime-cu12==12.1.105 in /usr/local/lib/python3.10/dist-packages (from torch>=2.0.0->ludwig) (12.1.105)\n",
            "Requirement already satisfied: nvidia-cuda-cupti-cu12==12.1.105 in /usr/local/lib/python3.10/dist-packages (from torch>=2.0.0->ludwig) (12.1.105)\n",
            "Requirement already satisfied: nvidia-cudnn-cu12==8.9.2.26 in /usr/local/lib/python3.10/dist-packages (from torch>=2.0.0->ludwig) (8.9.2.26)\n",
            "Requirement already satisfied: nvidia-cublas-cu12==12.1.3.1 in /usr/local/lib/python3.10/dist-packages (from torch>=2.0.0->ludwig) (12.1.3.1)\n",
            "Requirement already satisfied: nvidia-cufft-cu12==11.0.2.54 in /usr/local/lib/python3.10/dist-packages (from torch>=2.0.0->ludwig) (11.0.2.54)\n",
            "Requirement already satisfied: nvidia-curand-cu12==10.3.2.106 in /usr/local/lib/python3.10/dist-packages (from torch>=2.0.0->ludwig) (10.3.2.106)\n",
            "Requirement already satisfied: nvidia-cusolver-cu12==11.4.5.107 in /usr/local/lib/python3.10/dist-packages (from torch>=2.0.0->ludwig) (11.4.5.107)\n",
            "Requirement already satisfied: nvidia-cusparse-cu12==12.1.0.106 in /usr/local/lib/python3.10/dist-packages (from torch>=2.0.0->ludwig) (12.1.0.106)\n",
            "Requirement already satisfied: nvidia-nccl-cu12==2.20.5 in /usr/local/lib/python3.10/dist-packages (from torch>=2.0.0->ludwig) (2.20.5)\n",
            "Requirement already satisfied: nvidia-nvtx-cu12==12.1.105 in /usr/local/lib/python3.10/dist-packages (from torch>=2.0.0->ludwig) (12.1.105)\n",
            "Requirement already satisfied: triton==2.3.1 in /usr/local/lib/python3.10/dist-packages (from torch>=2.0.0->ludwig) (2.3.1)\n",
            "Requirement already satisfied: nvidia-nvjitlink-cu12 in /usr/local/lib/python3.10/dist-packages (from nvidia-cusolver-cu12==11.4.5.107->torch>=2.0.0->ludwig) (12.5.82)\n",
            "Requirement already satisfied: lightning-utilities>=0.8.0 in /usr/local/lib/python3.10/dist-packages (from torchmetrics>=0.11.0->ludwig) (0.11.6)\n",
            "Requirement already satisfied: regex!=2019.12.17 in /usr/local/lib/python3.10/dist-packages (from transformers>=4.42.3->ludwig) (2024.5.15)\n",
            "Requirement already satisfied: safetensors>=0.4.1 in /usr/local/lib/python3.10/dist-packages (from transformers>=4.42.3->ludwig) (0.4.3)\n",
            "Requirement already satisfied: pyarrow-hotfix in /usr/local/lib/python3.10/dist-packages (from datasets->ludwig) (0.6)\n",
            "Requirement already satisfied: dill<0.3.9,>=0.3.0 in /usr/local/lib/python3.10/dist-packages (from datasets->ludwig) (0.3.8)\n",
            "Requirement already satisfied: xxhash in /usr/local/lib/python3.10/dist-packages (from datasets->ludwig) (3.4.1)\n",
            "Requirement already satisfied: multiprocess in /usr/local/lib/python3.10/dist-packages (from datasets->ludwig) (0.70.16)\n",
            "Requirement already satisfied: nvidia-ml-py>=11.450.129 in /usr/local/lib/python3.10/dist-packages (from gpustat->ludwig) (12.555.43)\n",
            "Requirement already satisfied: blessed>=1.17.1 in /usr/local/lib/python3.10/dist-packages (from gpustat->ludwig) (1.20.0)\n",
            "Requirement already satisfied: six>=1.9 in /usr/local/lib/python3.10/dist-packages (from html5lib->ludwig) (1.16.0)\n",
            "Requirement already satisfied: webencodings in /usr/local/lib/python3.10/dist-packages (from html5lib->ludwig) (0.5.1)\n",
            "Requirement already satisfied: python-slugify in /usr/local/lib/python3.10/dist-packages (from kaggle->ludwig) (8.0.4)\n",
            "Requirement already satisfied: bleach in /usr/local/lib/python3.10/dist-packages (from kaggle->ludwig) (6.1.0)\n",
            "Requirement already satisfied: click in /usr/local/lib/python3.10/dist-packages (from nltk->ludwig) (8.1.7)\n",
            "Requirement already satisfied: joblib in /usr/local/lib/python3.10/dist-packages (from nltk->ludwig) (1.4.2)\n",
            "Requirement already satisfied: decorator>=3.4.2 in /usr/local/lib/python3.10/dist-packages (from retry->ludwig) (4.4.2)\n",
            "Requirement already satisfied: py<2.0.0,>=1.4.26 in /usr/local/lib/python3.10/dist-packages (from retry->ludwig) (1.11.0)\n",
            "Requirement already satisfied: threadpoolctl>=2.0.0 in /usr/local/lib/python3.10/dist-packages (from scikit-learn->ludwig) (3.5.0)\n",
            "Requirement already satisfied: grpcio>=1.48.2 in /usr/local/lib/python3.10/dist-packages (from tensorboard->ludwig) (1.64.1)\n",
            "Requirement already satisfied: google-auth<3,>=1.6.3 in /usr/local/lib/python3.10/dist-packages (from tensorboard->ludwig) (2.27.0)\n",
            "Requirement already satisfied: google-auth-oauthlib<2,>=0.5 in /usr/local/lib/python3.10/dist-packages (from tensorboard->ludwig) (1.2.1)\n",
            "Requirement already satisfied: markdown>=2.6.8 in /usr/local/lib/python3.10/dist-packages (from tensorboard->ludwig) (3.6)\n",
            "Requirement already satisfied: tensorboard-data-server<0.8.0,>=0.7.0 in /usr/local/lib/python3.10/dist-packages (from tensorboard->ludwig) (0.7.2)\n",
            "Requirement already satisfied: werkzeug>=1.0.1 in /usr/local/lib/python3.10/dist-packages (from tensorboard->ludwig) (3.0.3)\n",
            "Requirement already satisfied: pillow!=8.3.*,>=5.3.0 in /usr/local/lib/python3.10/dist-packages (from torchvision->ludwig) (9.4.0)\n",
            "Requirement already satisfied: aiosignal>=1.1.2 in /usr/local/lib/python3.10/dist-packages (from aiohttp!=4.0.0a0,!=4.0.0a1->fsspec[http]<=2023.10.0->ludwig) (1.3.1)\n",
            "Requirement already satisfied: frozenlist>=1.1.1 in /usr/local/lib/python3.10/dist-packages (from aiohttp!=4.0.0a0,!=4.0.0a1->fsspec[http]<=2023.10.0->ludwig) (1.4.1)\n",
            "Requirement already satisfied: multidict<7.0,>=4.5 in /usr/local/lib/python3.10/dist-packages (from aiohttp!=4.0.0a0,!=4.0.0a1->fsspec[http]<=2023.10.0->ludwig) (6.0.5)\n",
            "Requirement already satisfied: yarl<2.0,>=1.0 in /usr/local/lib/python3.10/dist-packages (from aiohttp!=4.0.0a0,!=4.0.0a1->fsspec[http]<=2023.10.0->ludwig) (1.9.4)\n",
            "Requirement already satisfied: async-timeout<5.0,>=4.0 in /usr/local/lib/python3.10/dist-packages (from aiohttp!=4.0.0a0,!=4.0.0a1->fsspec[http]<=2023.10.0->ludwig) (4.0.3)\n",
            "Requirement already satisfied: wcwidth>=0.1.4 in /usr/local/lib/python3.10/dist-packages (from blessed>=1.17.1->gpustat->ludwig) (0.2.13)\n",
            "Requirement already satisfied: cachetools<6.0,>=2.0.0 in /usr/local/lib/python3.10/dist-packages (from google-auth<3,>=1.6.3->tensorboard->ludwig) (5.4.0)\n",
            "Requirement already satisfied: pyasn1-modules>=0.2.1 in /usr/local/lib/python3.10/dist-packages (from google-auth<3,>=1.6.3->tensorboard->ludwig) (0.4.0)\n",
            "Requirement already satisfied: rsa<5,>=3.1.4 in /usr/local/lib/python3.10/dist-packages (from google-auth<3,>=1.6.3->tensorboard->ludwig) (4.9)\n",
            "Requirement already satisfied: requests-oauthlib>=0.7.0 in /usr/local/lib/python3.10/dist-packages (from google-auth-oauthlib<2,>=0.5->tensorboard->ludwig) (1.3.1)\n",
            "Requirement already satisfied: language-data>=1.2 in /usr/local/lib/python3.10/dist-packages (from langcodes<4.0.0,>=3.2.0->spacy>=2.3->ludwig) (1.2.0)\n",
            "Requirement already satisfied: blis<0.8.0,>=0.7.8 in /usr/local/lib/python3.10/dist-packages (from thinc<8.3.0,>=8.2.2->spacy>=2.3->ludwig) (0.7.11)\n",
            "Requirement already satisfied: confection<1.0.0,>=0.0.1 in /usr/local/lib/python3.10/dist-packages (from thinc<8.3.0,>=8.2.2->spacy>=2.3->ludwig) (0.1.5)\n",
            "Requirement already satisfied: shellingham>=1.3.0 in /usr/local/lib/python3.10/dist-packages (from typer<1.0.0,>=0.3.0->spacy>=2.3->ludwig) (1.5.4)\n",
            "Requirement already satisfied: mypy-extensions>=0.3.0 in /usr/local/lib/python3.10/dist-packages (from typing-inspect>=0.7.1->marshmallow-dataclass==8.5.4->ludwig) (1.0.0)\n",
            "Requirement already satisfied: cloudpathlib<1.0.0,>=0.7.0 in /usr/local/lib/python3.10/dist-packages (from weasel<0.5.0,>=0.1.0->spacy>=2.3->ludwig) (0.18.1)\n",
            "Requirement already satisfied: smart-open<8.0.0,>=5.2.1 in /usr/local/lib/python3.10/dist-packages (from weasel<0.5.0,>=0.1.0->spacy>=2.3->ludwig) (7.0.4)\n",
            "Requirement already satisfied: MarkupSafe>=2.1.1 in /usr/local/lib/python3.10/dist-packages (from werkzeug>=1.0.1->tensorboard->ludwig) (2.1.5)\n",
            "Requirement already satisfied: text-unidecode>=1.3 in /usr/local/lib/python3.10/dist-packages (from python-slugify->kaggle->ludwig) (1.3)\n",
            "Requirement already satisfied: mpmath<1.4,>=1.1.0 in /usr/local/lib/python3.10/dist-packages (from sympy->torch>=2.0.0->ludwig) (1.3.0)\n",
            "Requirement already satisfied: marisa-trie>=0.7.7 in /usr/local/lib/python3.10/dist-packages (from language-data>=1.2->langcodes<4.0.0,>=3.2.0->spacy>=2.3->ludwig) (1.2.0)\n",
            "Requirement already satisfied: pyasn1<0.7.0,>=0.4.6 in /usr/local/lib/python3.10/dist-packages (from pyasn1-modules>=0.2.1->google-auth<3,>=1.6.3->tensorboard->ludwig) (0.6.0)\n",
            "Requirement already satisfied: oauthlib>=3.0.0 in /usr/local/lib/python3.10/dist-packages (from requests-oauthlib>=0.7.0->google-auth-oauthlib<2,>=0.5->tensorboard->ludwig) (3.2.2)\n",
            "Requirement already satisfied: wrapt in /usr/local/lib/python3.10/dist-packages (from smart-open<8.0.0,>=5.2.1->weasel<0.5.0,>=0.1.0->spacy>=2.3->ludwig) (1.14.1)\n",
            "Collecting nlpaug\n",
            "  Downloading nlpaug-1.1.11-py3-none-any.whl.metadata (14 kB)\n",
            "Requirement already satisfied: numpy>=1.16.2 in /usr/local/lib/python3.10/dist-packages (from nlpaug) (1.25.2)\n",
            "Requirement already satisfied: pandas>=1.2.0 in /usr/local/lib/python3.10/dist-packages (from nlpaug) (2.0.3)\n",
            "Requirement already satisfied: requests>=2.22.0 in /usr/local/lib/python3.10/dist-packages (from nlpaug) (2.32.3)\n",
            "Requirement already satisfied: gdown>=4.0.0 in /usr/local/lib/python3.10/dist-packages (from nlpaug) (5.1.0)\n",
            "Requirement already satisfied: beautifulsoup4 in /usr/local/lib/python3.10/dist-packages (from gdown>=4.0.0->nlpaug) (4.12.3)\n",
            "Requirement already satisfied: filelock in /usr/local/lib/python3.10/dist-packages (from gdown>=4.0.0->nlpaug) (3.15.4)\n",
            "Requirement already satisfied: tqdm in /usr/local/lib/python3.10/dist-packages (from gdown>=4.0.0->nlpaug) (4.66.4)\n",
            "Requirement already satisfied: python-dateutil>=2.8.2 in /usr/local/lib/python3.10/dist-packages (from pandas>=1.2.0->nlpaug) (2.8.2)\n",
            "Requirement already satisfied: pytz>=2020.1 in /usr/local/lib/python3.10/dist-packages (from pandas>=1.2.0->nlpaug) (2024.1)\n",
            "Requirement already satisfied: tzdata>=2022.1 in /usr/local/lib/python3.10/dist-packages (from pandas>=1.2.0->nlpaug) (2024.1)\n",
            "Requirement already satisfied: charset-normalizer<4,>=2 in /usr/local/lib/python3.10/dist-packages (from requests>=2.22.0->nlpaug) (3.3.2)\n",
            "Requirement already satisfied: idna<4,>=2.5 in /usr/local/lib/python3.10/dist-packages (from requests>=2.22.0->nlpaug) (3.7)\n",
            "Requirement already satisfied: urllib3<3,>=1.21.1 in /usr/local/lib/python3.10/dist-packages (from requests>=2.22.0->nlpaug) (1.26.19)\n",
            "Requirement already satisfied: certifi>=2017.4.17 in /usr/local/lib/python3.10/dist-packages (from requests>=2.22.0->nlpaug) (2024.7.4)\n",
            "Requirement already satisfied: six>=1.5 in /usr/local/lib/python3.10/dist-packages (from python-dateutil>=2.8.2->pandas>=1.2.0->nlpaug) (1.16.0)\n",
            "Requirement already satisfied: soupsieve>1.2 in /usr/local/lib/python3.10/dist-packages (from beautifulsoup4->gdown>=4.0.0->nlpaug) (2.5)\n",
            "Requirement already satisfied: PySocks!=1.5.7,>=1.5.6 in /usr/local/lib/python3.10/dist-packages (from requests[socks]->gdown>=4.0.0->nlpaug) (1.7.1)\n",
            "Downloading nlpaug-1.1.11-py3-none-any.whl (410 kB)\n",
            "\u001b[2K   \u001b[90m━━━━━━━━━━━━━━━━━━━━━━━━━━━━━━━━━━━━━━━━\u001b[0m \u001b[32m410.5/410.5 kB\u001b[0m \u001b[31m30.2 MB/s\u001b[0m eta \u001b[36m0:00:00\u001b[0m\n",
            "\u001b[?25hInstalling collected packages: nlpaug\n",
            "Successfully installed nlpaug-1.1.11\n"
          ]
        }
      ],
      "source": [
        "!pip install bitsandbytes>=0.41.3\n",
        "!pip install -q -U git+https://github.com/huggingface/transformers.git\n",
        "!pip install -q -U git+https://github.com/huggingface/peft.git\n",
        "!pip install -q -U git+https://github.com/huggingface/accelerate.git\n",
        "!pip install -q -U datasets scipy ipywidgets\n",
        "!pip uninstall torch torchdata -y\n",
        "!pip install torch==1.13.1\n",
        "!pip install torchdata==0.5.1\n",
        "!pip install git+https://github.com/ludwig-ai/ludwig.git@master --quiet\n",
        "!pip install bert-score\n",
        "!pip install ludwig\n",
        "!pip install nlpaug"
      ]
    },
    {
      "cell_type": "code",
      "execution_count": null,
      "metadata": {
        "id": "4K7mJ_oeuRer"
      },
      "outputs": [],
      "source": [
        "#bitsandbytes --version"
      ]
    },
    {
      "cell_type": "code",
      "execution_count": 2,
      "metadata": {
        "id": "ugNv5bkOFzqZ",
        "colab": {
          "base_uri": "https://localhost:8080/"
        },
        "outputId": "ab93c700-75e3-44a8-c615-fb20f01eb95e"
      },
      "outputs": [
        {
          "output_type": "stream",
          "name": "stderr",
          "text": [
            "/usr/local/lib/python3.10/dist-packages/dask/dataframe/__init__.py:42: FutureWarning: \n",
            "Dask dataframe query planning is disabled because dask-expr is not installed.\n",
            "\n",
            "You can install it with `pip install dask[dataframe]` or `conda install dask`.\n",
            "This will raise in a future version.\n",
            "\n",
            "  warnings.warn(msg, FutureWarning)\n"
          ]
        }
      ],
      "source": [
        "import os\n",
        "import gc\n",
        "\n",
        "from google.colab import data_table\n",
        "\n",
        "import numpy as np\n",
        "import pandas as pd\n",
        "\n",
        "import torch\n",
        "from torch import Tensor\n",
        "\n",
        "import datasets\n",
        "from datasets import Dataset, DatasetDict\n",
        "\n",
        "import yaml\n",
        "from ludwig.api import LudwigModel, TrainingResults\n"
      ]
    },
    {
      "cell_type": "code",
      "execution_count": 3,
      "metadata": {
        "colab": {
          "base_uri": "https://localhost:8080/",
          "height": 73
        },
        "id": "koAStUzeF0ZR",
        "outputId": "4f36921e-c1e9-43ac-9b47-58a079499a6a"
      },
      "outputs": [
        {
          "output_type": "display_data",
          "data": {
            "text/plain": [
              "<IPython.core.display.HTML object>"
            ],
            "text/html": [
              "\n",
              "     <input type=\"file\" id=\"files-30cb92c4-f245-4eec-9ef8-de5a5136ec2b\" name=\"files[]\" multiple disabled\n",
              "        style=\"border:none\" />\n",
              "     <output id=\"result-30cb92c4-f245-4eec-9ef8-de5a5136ec2b\">\n",
              "      Upload widget is only available when the cell has been executed in the\n",
              "      current browser session. Please rerun this cell to enable.\n",
              "      </output>\n",
              "      <script>// Copyright 2017 Google LLC\n",
              "//\n",
              "// Licensed under the Apache License, Version 2.0 (the \"License\");\n",
              "// you may not use this file except in compliance with the License.\n",
              "// You may obtain a copy of the License at\n",
              "//\n",
              "//      http://www.apache.org/licenses/LICENSE-2.0\n",
              "//\n",
              "// Unless required by applicable law or agreed to in writing, software\n",
              "// distributed under the License is distributed on an \"AS IS\" BASIS,\n",
              "// WITHOUT WARRANTIES OR CONDITIONS OF ANY KIND, either express or implied.\n",
              "// See the License for the specific language governing permissions and\n",
              "// limitations under the License.\n",
              "\n",
              "/**\n",
              " * @fileoverview Helpers for google.colab Python module.\n",
              " */\n",
              "(function(scope) {\n",
              "function span(text, styleAttributes = {}) {\n",
              "  const element = document.createElement('span');\n",
              "  element.textContent = text;\n",
              "  for (const key of Object.keys(styleAttributes)) {\n",
              "    element.style[key] = styleAttributes[key];\n",
              "  }\n",
              "  return element;\n",
              "}\n",
              "\n",
              "// Max number of bytes which will be uploaded at a time.\n",
              "const MAX_PAYLOAD_SIZE = 100 * 1024;\n",
              "\n",
              "function _uploadFiles(inputId, outputId) {\n",
              "  const steps = uploadFilesStep(inputId, outputId);\n",
              "  const outputElement = document.getElementById(outputId);\n",
              "  // Cache steps on the outputElement to make it available for the next call\n",
              "  // to uploadFilesContinue from Python.\n",
              "  outputElement.steps = steps;\n",
              "\n",
              "  return _uploadFilesContinue(outputId);\n",
              "}\n",
              "\n",
              "// This is roughly an async generator (not supported in the browser yet),\n",
              "// where there are multiple asynchronous steps and the Python side is going\n",
              "// to poll for completion of each step.\n",
              "// This uses a Promise to block the python side on completion of each step,\n",
              "// then passes the result of the previous step as the input to the next step.\n",
              "function _uploadFilesContinue(outputId) {\n",
              "  const outputElement = document.getElementById(outputId);\n",
              "  const steps = outputElement.steps;\n",
              "\n",
              "  const next = steps.next(outputElement.lastPromiseValue);\n",
              "  return Promise.resolve(next.value.promise).then((value) => {\n",
              "    // Cache the last promise value to make it available to the next\n",
              "    // step of the generator.\n",
              "    outputElement.lastPromiseValue = value;\n",
              "    return next.value.response;\n",
              "  });\n",
              "}\n",
              "\n",
              "/**\n",
              " * Generator function which is called between each async step of the upload\n",
              " * process.\n",
              " * @param {string} inputId Element ID of the input file picker element.\n",
              " * @param {string} outputId Element ID of the output display.\n",
              " * @return {!Iterable<!Object>} Iterable of next steps.\n",
              " */\n",
              "function* uploadFilesStep(inputId, outputId) {\n",
              "  const inputElement = document.getElementById(inputId);\n",
              "  inputElement.disabled = false;\n",
              "\n",
              "  const outputElement = document.getElementById(outputId);\n",
              "  outputElement.innerHTML = '';\n",
              "\n",
              "  const pickedPromise = new Promise((resolve) => {\n",
              "    inputElement.addEventListener('change', (e) => {\n",
              "      resolve(e.target.files);\n",
              "    });\n",
              "  });\n",
              "\n",
              "  const cancel = document.createElement('button');\n",
              "  inputElement.parentElement.appendChild(cancel);\n",
              "  cancel.textContent = 'Cancel upload';\n",
              "  const cancelPromise = new Promise((resolve) => {\n",
              "    cancel.onclick = () => {\n",
              "      resolve(null);\n",
              "    };\n",
              "  });\n",
              "\n",
              "  // Wait for the user to pick the files.\n",
              "  const files = yield {\n",
              "    promise: Promise.race([pickedPromise, cancelPromise]),\n",
              "    response: {\n",
              "      action: 'starting',\n",
              "    }\n",
              "  };\n",
              "\n",
              "  cancel.remove();\n",
              "\n",
              "  // Disable the input element since further picks are not allowed.\n",
              "  inputElement.disabled = true;\n",
              "\n",
              "  if (!files) {\n",
              "    return {\n",
              "      response: {\n",
              "        action: 'complete',\n",
              "      }\n",
              "    };\n",
              "  }\n",
              "\n",
              "  for (const file of files) {\n",
              "    const li = document.createElement('li');\n",
              "    li.append(span(file.name, {fontWeight: 'bold'}));\n",
              "    li.append(span(\n",
              "        `(${file.type || 'n/a'}) - ${file.size} bytes, ` +\n",
              "        `last modified: ${\n",
              "            file.lastModifiedDate ? file.lastModifiedDate.toLocaleDateString() :\n",
              "                                    'n/a'} - `));\n",
              "    const percent = span('0% done');\n",
              "    li.appendChild(percent);\n",
              "\n",
              "    outputElement.appendChild(li);\n",
              "\n",
              "    const fileDataPromise = new Promise((resolve) => {\n",
              "      const reader = new FileReader();\n",
              "      reader.onload = (e) => {\n",
              "        resolve(e.target.result);\n",
              "      };\n",
              "      reader.readAsArrayBuffer(file);\n",
              "    });\n",
              "    // Wait for the data to be ready.\n",
              "    let fileData = yield {\n",
              "      promise: fileDataPromise,\n",
              "      response: {\n",
              "        action: 'continue',\n",
              "      }\n",
              "    };\n",
              "\n",
              "    // Use a chunked sending to avoid message size limits. See b/62115660.\n",
              "    let position = 0;\n",
              "    do {\n",
              "      const length = Math.min(fileData.byteLength - position, MAX_PAYLOAD_SIZE);\n",
              "      const chunk = new Uint8Array(fileData, position, length);\n",
              "      position += length;\n",
              "\n",
              "      const base64 = btoa(String.fromCharCode.apply(null, chunk));\n",
              "      yield {\n",
              "        response: {\n",
              "          action: 'append',\n",
              "          file: file.name,\n",
              "          data: base64,\n",
              "        },\n",
              "      };\n",
              "\n",
              "      let percentDone = fileData.byteLength === 0 ?\n",
              "          100 :\n",
              "          Math.round((position / fileData.byteLength) * 100);\n",
              "      percent.textContent = `${percentDone}% done`;\n",
              "\n",
              "    } while (position < fileData.byteLength);\n",
              "  }\n",
              "\n",
              "  // All done.\n",
              "  yield {\n",
              "    response: {\n",
              "      action: 'complete',\n",
              "    }\n",
              "  };\n",
              "}\n",
              "\n",
              "scope.google = scope.google || {};\n",
              "scope.google.colab = scope.google.colab || {};\n",
              "scope.google.colab._files = {\n",
              "  _uploadFiles,\n",
              "  _uploadFilesContinue,\n",
              "};\n",
              "})(self);\n",
              "</script> "
            ]
          },
          "metadata": {}
        },
        {
          "output_type": "stream",
          "name": "stdout",
          "text": [
            "Saving Output.csv to Output.csv\n"
          ]
        }
      ],
      "source": [
        "from google.colab import files\n",
        "uploaded = files.upload()"
      ]
    },
    {
      "cell_type": "code",
      "execution_count": 4,
      "metadata": {
        "colab": {
          "base_uri": "https://localhost:8080/"
        },
        "id": "3IxZAiPUF0a4",
        "outputId": "60147072-deb5-422a-f98f-40e47f2bfb1f"
      },
      "outputs": [
        {
          "output_type": "stream",
          "name": "stdout",
          "text": [
            "                                             DOMANDE  \\\n",
            "0  Ho avuto un breve affanno dopo una passeggiata...   \n",
            "1  Dovrei essere preoccupato se ho sperimentato u...   \n",
            "2  Dovrei essere preoccupato se ho avuto un legge...   \n",
            "3  È motivo di preoccupazione se ho avuto un brev...   \n",
            "4  Dovrei essere preoccupato se ho avuto un po' d...   \n",
            "\n",
            "                                            RISPOSTE  \n",
            "0  Capisco che possa essere preoccupante, ma un b...  \n",
            "1  È comprensibile essere preoccupati per un epis...  \n",
            "2  L'affanno dopo una camminata può essere normal...  \n",
            "3  È comprensibile essere preoccupati per un brev...  \n",
            "4  L'affanno dopo una passeggiata può essere norm...  \n"
          ]
        },
        {
          "output_type": "stream",
          "name": "stderr",
          "text": [
            "Skipping line 35: expected 2 fields, saw 3\n",
            "\n"
          ]
        }
      ],
      "source": [
        "import pandas as pd\n",
        "\n",
        "file_name = \"Output.csv\"\n",
        "try:\n",
        "    # Prova a leggere il file con il delimitatore corretto\n",
        "    df = pd.read_csv(file_name, delimiter=',', on_bad_lines='warn')\n",
        "except pd.errors.ParserError as e:\n",
        "    print(f\"Error parsing CSV file: {e}\")\n",
        "\n",
        "# Visualizza le prime righe del dataset\n",
        "print(df.head())"
      ]
    },
    {
      "cell_type": "markdown",
      "source": [
        "##MIGLIORAMENTO PRE-FINETUNING:\n",
        "1. Pulizia Avanzata dei Dati:\n",
        "Rimuovi o correggi i dati rumorosi o anomali nel dataset.\n",
        "Normalizza i testi, ad esempio, convertendo tutto in minuscolo e rimuovendo i caratteri speciali non necessari.\n",
        "\n",
        "2. Bilanciamento del Dataset:\n",
        "Assicurati che il dataset abbia una distribuzione bilanciata di domande e risposte per evitare bias.\n",
        "\n",
        "3. Augmentazione dei Dati:\n",
        "Utilizza tecniche di augmentazione come la parafrasi automatica per generare più dati di addestramento."
      ],
      "metadata": {
        "id": "_Xp0-c2TId5g"
      }
    },
    {
      "cell_type": "code",
      "execution_count": 5,
      "metadata": {
        "id": "S1ypdSqcexQU"
      },
      "outputs": [],
      "source": [
        "# Pulizia del dataset\n",
        "df_cleaned = df.dropna()"
      ]
    },
    {
      "cell_type": "code",
      "source": [
        "from transformers import AutoTokenizer\n",
        "# Funzione per calcolare la lunghezza media delle domande e delle risposte in token\n",
        "def calculate_average_length(df, question_col, answer_col, model_name='bert-base-uncased'):\n",
        "    tokenizer = AutoTokenizer.from_pretrained(model_name)\n",
        "\n",
        "    # Tokenizzazione e calcolo delle lunghezze\n",
        "    df['question_length'] = df[question_col].apply(lambda x: len(tokenizer.tokenize(x)))\n",
        "    df['answer_length'] = df[answer_col].apply(lambda x: len(tokenizer.tokenize(x)))\n",
        "\n",
        "    # Calcolo della lunghezza media\n",
        "    avg_question_length = df['question_length'].mean()\n",
        "    avg_answer_length = df['answer_length'].mean()\n",
        "\n",
        "    return avg_question_length, avg_answer_length"
      ],
      "metadata": {
        "id": "Bq5oWIzDqlbw"
      },
      "execution_count": 6,
      "outputs": []
    },
    {
      "cell_type": "code",
      "source": [
        "from sklearn.utils import resample\n",
        "import nlpaug.augmenter.word as naw\n",
        "\n",
        "# Bilanciamento del dataset\n",
        "min_class_size = df_cleaned['DOMANDE'].value_counts().min()\n",
        "df_balanced = df_cleaned.groupby('DOMANDE').apply(lambda x: resample(x, replace=False, n_samples=min_class_size)).reset_index(drop=True)\n",
        "\n",
        "# Augmentazione dei dati\n",
        "aug = naw.SynonymAug(aug_src='wordnet')\n",
        "\n",
        "df_balanced['DOMANDE_aug'] = df_balanced['DOMANDE'].apply(lambda x: aug.augment(x))\n",
        "df_balanced['RISPOSTE_aug'] = df_balanced['RISPOSTE'].apply(lambda x: aug.augment(x))\n",
        "\n",
        "df_augmented = pd.concat([df_balanced[['DOMANDE', 'RISPOSTE']],\n",
        "                          df_balanced[['DOMANDE_aug', 'RISPOSTE_aug']].rename(columns={'DOMANDE_aug': 'DOMANDE', 'RISPOSTE_aug': 'RISPOSTE'})])"
      ],
      "metadata": {
        "id": "xmHpm1kYJdzc",
        "colab": {
          "base_uri": "https://localhost:8080/"
        },
        "outputId": "4e7b2f09-f86e-4486-bda2-39bd61d391f2"
      },
      "execution_count": 7,
      "outputs": [
        {
          "output_type": "stream",
          "name": "stderr",
          "text": [
            "[nltk_data] Downloading package wordnet to /root/nltk_data...\n",
            "[nltk_data] Downloading package omw-1.4 to /root/nltk_data...\n",
            "[nltk_data] Downloading package averaged_perceptron_tagger to\n",
            "[nltk_data]     /root/nltk_data...\n",
            "[nltk_data]   Unzipping taggers/averaged_perceptron_tagger.zip.\n"
          ]
        }
      ]
    },
    {
      "cell_type": "code",
      "source": [
        "df_augmented['DOMANDE'] = df_augmented['DOMANDE'].apply(lambda x: ' '.join(x) if isinstance(x, list) else str(x))\n",
        "df_augmented['RISPOSTE'] = df_augmented['RISPOSTE'].apply(lambda x: ' '.join(x) if isinstance(x, list) else str(x))"
      ],
      "metadata": {
        "id": "IPvJoucNG4kt"
      },
      "execution_count": 8,
      "outputs": []
    },
    {
      "cell_type": "code",
      "source": [
        "#suddivisione del set di dati in un set di addestramento, in uno di test e in uno di validazione\n",
        "from sklearn.model_selection import train_test_split\n",
        "\n",
        "#separo le caratteristiche dal target (divido input da output)\n",
        "df_train, df_temp = train_test_split(df_augmented, test_size=0.4, random_state=200)\n",
        "df_test, df_validation = train_test_split(df_temp, test_size=0.5, random_state=200)"
      ],
      "metadata": {
        "id": "CcAV8BiCJhAb"
      },
      "execution_count": 9,
      "outputs": []
    },
    {
      "cell_type": "code",
      "execution_count": 10,
      "metadata": {
        "colab": {
          "base_uri": "https://localhost:8080/"
        },
        "id": "EIQYugjqe0Un",
        "outputId": "ad5a2c6f-870a-4d2a-c79b-ca74ef850454"
      },
      "outputs": [
        {
          "output_type": "stream",
          "name": "stdout",
          "text": [
            "Train set size: (1720, 2)\n",
            "Test set size: (574, 2)\n",
            "Validation set size: (574, 2)\n"
          ]
        }
      ],
      "source": [
        "# Verifica delle dimensioni\n",
        "print(f'Train set size: {df_train.shape}')\n",
        "print(f'Test set size: {df_test.shape}')\n",
        "print(f'Validation set size: {df_validation.shape}')"
      ]
    },
    {
      "cell_type": "code",
      "execution_count": 11,
      "metadata": {
        "colab": {
          "base_uri": "https://localhost:8080/"
        },
        "id": "p_hcSyCoF0gP",
        "outputId": "c5b63b34-3da6-4c9f-ef9c-284b5998fb00"
      },
      "outputs": [
        {
          "output_type": "stream",
          "name": "stdout",
          "text": [
            "(2868, 3)\n"
          ]
        }
      ],
      "source": [
        "# Aggiungere una colonna per indicare lo split (per indicare quale riga appartiene a quale suddivisione.)\n",
        "df_train[\"split\"] = np.zeros(df_train.shape[0])\n",
        "df_test[\"split\"] = np.ones(df_test.shape[0])\n",
        "df_validation[\"split\"] = np.full(df_validation.shape[0], 2)\n",
        "\n",
        "df_dataset = pd.concat([df_train, df_test, df_validation])\n",
        "df_dataset[\"split\"] = df_dataset[\"split\"].astype(int)\n",
        "\n",
        "# Verifica delle dimensioni complessive\n",
        "print(df_dataset.shape)"
      ]
    },
    {
      "cell_type": "code",
      "execution_count": 12,
      "metadata": {
        "id": "sIa4Iv_wF0kd"
      },
      "outputs": [],
      "source": [
        "# Verifica delle dimensioni per ciascuno split\n",
        "assert df_dataset[df_dataset[\"split\"] == 0].shape[0] == df_train.shape[0]\n",
        "assert df_dataset[df_dataset[\"split\"] == 1].shape[0] == df_test.shape[0]\n",
        "assert df_dataset[df_dataset[\"split\"] == 2].shape[0] == df_validation.shape[0]"
      ]
    },
    {
      "cell_type": "code",
      "execution_count": 13,
      "metadata": {
        "colab": {
          "base_uri": "https://localhost:8080/",
          "height": 487
        },
        "id": "-jcG9CBIGHgG",
        "outputId": "2ded78cf-2b7d-47e7-cc78-6e803a100515"
      },
      "outputs": [
        {
          "output_type": "stream",
          "name": "stdout",
          "text": [
            "La media del numero di token nella colonna DOMANDE è: 24\n",
            "La media del numero di token nella colonna RISPOSTE è: 81\n"
          ]
        },
        {
          "output_type": "display_data",
          "data": {
            "text/plain": [
              "<Figure size 640x480 with 2 Axes>"
            ],
            "image/png": "[encoded data removed]"
          },
          "metadata": {}
        }
      ],
      "source": [
        "# Calcolare la lunghezza dei caratteri in ciascuna colonna\n",
        "df_dataset['num_characters_domande'] = df_dataset['DOMANDE'].apply(lambda x: len(str(x)))\n",
        "df_dataset['num_characters_risposte'] = df_dataset['RISPOSTE'].apply(lambda x: len(str(x)))\n",
        "\n",
        "# Visualizzare la distribuzione\n",
        "df_dataset.hist(column=['num_characters_domande', 'num_characters_risposte'])\n",
        "\n",
        "# Calcolare la media\n",
        "average_chars_domande = df_dataset['num_characters_domande'].mean()\n",
        "average_chars_risposte = df_dataset['num_characters_risposte'].mean()\n",
        "\n",
        "print(f'La media del numero di token nella colonna DOMANDE è: {(average_chars_domande / 3):.0f}')\n",
        "print(f'La media del numero di token nella colonna RISPOSTE è: {(average_chars_risposte / 3):.0f}')"
      ]
    },
    {
      "cell_type": "markdown",
      "source": [
        "##Cos'è la Regolarizzazione?\n",
        "La regolarizzazione è una tecnica utilizzata durante l'addestramento dei modelli di machine learning per prevenire l'overfitting. L'overfitting si verifica quando un modello impara troppo bene i dettagli e il rumore nel dataset di addestramento, perdendo la capacità di generalizzare su nuovi dati. La regolarizzazione aggiunge una penalità per la complessità del modello, aiutando a mantenere il modello più semplice e a migliorare la sua capacità di generalizzare.\n",
        "\n",
        "**Dropout:**\n",
        "\n",
        "Dropout è una tecnica di regolarizzazione specificamente utilizzata nelle reti neurali. Durante l'addestramento, il Dropout spegne (esclude) casualmente una frazione di neuroni nel modello a ogni iterazione. Questo impedisce ai neuroni di diventare troppo dipendenti dagli altri neuroni, migliorando la capacità di generalizzazione del modello. Durante l'inferenza (valutazione o previsione), tutti i neuroni sono attivi e i pesi dei neuroni sono scalati per tenere conto del Dropout."
      ],
      "metadata": {
        "id": "BSbPSwgumD7h"
      }
    },
    {
      "cell_type": "code",
      "source": [],
      "metadata": {
        "id": "izF6jL4pmDPR"
      },
      "execution_count": null,
      "outputs": []
    },
    {
      "cell_type": "code",
      "execution_count": 14,
      "metadata": {
        "colab": {
          "base_uri": "https://localhost:8080/",
          "height": 54,
          "referenced_widgets": [
            "10fb783eb3684deb9d2c7a5880a77006",
            "4fc4030fc06840b1b9d1abc7c518760b",
            "5426163a328248c29a0fbbf7d105a8ec",
            "a2905e85b8f342ff9240fd9b6b78f034",
            "9719c312ddb34a5795ab221a04e57946",
            "b629961a85f24201883b9b9392fbbf37",
            "094e8b42bda040359e2ef636f1b1264d",
            "ad46d82ef57e4b558689296df1c91e7a",
            "a853e5d0294b41a5bcf52c77ffec362b",
            "85566ddadd1b4b39aa353f5f44ecfa8a",
            "6a61eb6a37634d00b46d05b779404333",
            "fe5f2a7d2ad84133acc7c308d5628451",
            "37bb3b96f21d4b3fa63fa853d8632efa",
            "41f7a91e5c164a6db6dc2e78a36fe43a",
            "fa9ab3cf555844f191c4364c4514e6cb",
            "1ce8a9c39e394ea78ef5621447ea9af3",
            "0d8eff726018479e84c6f5e6f6032f8c",
            "3039f5a6c1114360bd3fec2b16b29504",
            "1494f845d9024e71bf401ddc26e85144",
            "eb03c98246c34278b83791abb55289a0",
            "06c6b45663eb47fb947e41d3c9d76cea",
            "0031a78451d84229a5dc86c0810d30cb",
            "fa248f874c744bb993c24a3275c9b237",
            "1abddea1f19e4853847246073cda1324",
            "9eb3f77d42c949c6b81b29a57c7e4dc5",
            "fedd6b18683641a0a7f461492d6b8cda",
            "bad8431ef5274b188c898c4999500f61",
            "5ab42bb94fe64d1bb01b0b2a0b634d25",
            "0d242e6953d24e6ea37145b0e7f3eb2b",
            "3a2e92df8b9a406d915f179cc13a3e47",
            "6ba918e4d0e8440f9309fcc89913b15a",
            "79c196c505bd493ab4eb059640b1869f",
            "019d19183cd8460fbeb5a7158f76d3e3",
            "a6bd44ad53334651ab1aee60ff8c14a7",
            "a59a801896f04ea7b9771bb49ff6162a",
            "7fa10d7106d04bd082a20672aa16ab8f",
            "468a177dad764e52a25c7c0d61bebe35",
            "482be3ae23cf42368364db655acf4b31",
            "846dff3188624fc5a6b4c7f59c07085d",
            "218cbdc3f6734b7fb1de4a1d5803c560",
            "5aa097e7dcbc49b7818c0930e7168f9c",
            "2297ce4c2cf441999433221bdcf85a7c",
            "83c8fa6d0b8a443aacb4ecd9c34f1b1d",
            "bad6c05b27534b4e865713e1d5af85b4",
            "d1ba6f64eddc49db80031d170b09484b",
            "4714f5f2129a44d997688ae3781a5c11",
            "e3b75f65289043458aa5780e69ee5bba",
            "3850aa5cb2be46d48a5e4919c050f0c1",
            "bcc73091e1b046bbb8203898646cb724",
            "c2ca0b93820b4d02a5dee2ff755c654f",
            "2d0029f262a14f7582514026f519552f",
            "69597ecb301447e1a0de1e7c8b335910",
            "9e4cc39f44f34e36bc9e019be613cf50",
            "2bf5cb24f0be4be986bc763322348a07",
            "326bebe238504c618ac876d67adb981c",
            "68999459c93a494f8827110168b42b31",
            "5c053675041b42dcb840eac183d10608",
            "e30c85c4f4f24d9eaebf9a2bae9f12bb",
            "2ef5e08172e64573b14a8f2adbcad933",
            "d7ef5337c6d34003a6abff6eee753742",
            "345a0ab45d4e4b52818028a338597a9d",
            "2c97130455344df3acc2c02fa2d1a532",
            "43222e2ea38041f7b6174d051cc6dd16",
            "dacd46b46f2f427eb1931a7bd1ba0469",
            "38053b19bac042b78c7a7590da98f46f",
            "85b3ad2559174f8db18c57bdb4ee9d8d",
            "2551e30db80b402caa6951f4177c7def",
            "7bba98d4c7ea457995775dec4598011a",
            "b709868cb41449559468113720698764",
            "30e876e78bf4488d8ec3dc0d559a43cc",
            "28338b76cfa645d79ab85bb2feee1eb6",
            "e074c1f95c9348a2a05166ba4d72977f",
            "b513781cc3504239bffc3c2b25e787b3",
            "fbb6f399352949ea8df8483fab5e5f13",
            "4692fb4d9c8c43169d3b4a2e88bd5f4c",
            "dcba6dd50e9e4927b971bd59666f0b44",
            "c5f18b242c404190a1573c3a1ac6f46d"
          ]
        },
        "id": "3Lpj7sJRGHhp",
        "outputId": "ae5fdf58-1918-444e-de54-a23be95ed075"
      },
      "outputs": [
        {
          "output_type": "display_data",
          "data": {
            "text/plain": [
              "tokenizer_config.json:   0%|          | 0.00/1.42k [00:00<?, ?B/s]"
            ],
            "application/vnd.jupyter.widget-view+json": {
              "version_major": 2,
              "version_minor": 0,
              "model_id": "10fb783eb3684deb9d2c7a5880a77006"
            }
          },
          "metadata": {}
        },
        {
          "output_type": "display_data",
          "data": {
            "text/plain": [
              "tokenizer.model:   0%|          | 0.00/493k [00:00<?, ?B/s]"
            ],
            "application/vnd.jupyter.widget-view+json": {
              "version_major": 2,
              "version_minor": 0,
              "model_id": "fe5f2a7d2ad84133acc7c308d5628451"
            }
          },
          "metadata": {}
        },
        {
          "output_type": "display_data",
          "data": {
            "text/plain": [
              "tokenizer.json:   0%|          | 0.00/1.80M [00:00<?, ?B/s]"
            ],
            "application/vnd.jupyter.widget-view+json": {
              "version_major": 2,
              "version_minor": 0,
              "model_id": "fa248f874c744bb993c24a3275c9b237"
            }
          },
          "metadata": {}
        },
        {
          "output_type": "display_data",
          "data": {
            "text/plain": [
              "special_tokens_map.json:   0%|          | 0.00/72.0 [00:00<?, ?B/s]"
            ],
            "application/vnd.jupyter.widget-view+json": {
              "version_major": 2,
              "version_minor": 0,
              "model_id": "a6bd44ad53334651ab1aee60ff8c14a7"
            }
          },
          "metadata": {}
        },
        {
          "output_type": "display_data",
          "data": {
            "text/plain": [
              "config.json:   0%|          | 0.00/567 [00:00<?, ?B/s]"
            ],
            "application/vnd.jupyter.widget-view+json": {
              "version_major": 2,
              "version_minor": 0,
              "model_id": "d1ba6f64eddc49db80031d170b09484b"
            }
          },
          "metadata": {}
        },
        {
          "output_type": "display_data",
          "data": {
            "text/plain": [
              "pytorch_model.bin:   0%|          | 0.00/14.5G [00:00<?, ?B/s]"
            ],
            "application/vnd.jupyter.widget-view+json": {
              "version_major": 2,
              "version_minor": 0,
              "model_id": "68999459c93a494f8827110168b42b31"
            }
          },
          "metadata": {}
        },
        {
          "output_type": "display_data",
          "data": {
            "text/plain": [
              "generation_config.json:   0%|          | 0.00/111 [00:00<?, ?B/s]"
            ],
            "application/vnd.jupyter.widget-view+json": {
              "version_major": 2,
              "version_minor": 0,
              "model_id": "2551e30db80b402caa6951f4177c7def"
            }
          },
          "metadata": {}
        },
        {
          "output_type": "stream",
          "name": "stderr",
          "text": [
            "You are calling `save_pretrained` to a 4-bit converted model, but your `bitsandbytes` version doesn't support it. If you want to save 4-bit models, make sure to have `bitsandbytes>=0.41.3` installed.\n"
          ]
        }
      ],
      "source": [
        "from transformers import AutoModelForCausalLM, AutoTokenizer, BitsAndBytesConfig\n",
        "\n",
        "# Percorso alla cartella del modello salvato\n",
        "model_path: str = \"BioMistral/BioMistral-7B\"\n",
        "\n",
        "# Carica il tokenizer\n",
        "tokenizer = AutoTokenizer.from_pretrained(\n",
        "    model_path,\n",
        "    model_max_length=512,\n",
        "    trust_remote_code=True,\n",
        "    padding_side=\"left\",\n",
        "    add_eos_token=True)\n",
        "\n",
        "bnb_config = BitsAndBytesConfig(\n",
        "    load_in_4bit=True,\n",
        "    load_in_8bit=False,\n",
        "    llm_int8_threshold=6.0,\n",
        "    llm_int8_has_fp16_weight=False,\n",
        "    bnb_4bit_compute_dtype=\"float16\",\n",
        "    bnb_4bit_use_double_quant=True,\n",
        "    bnb_4bit_quant_type=\"nf4\",\n",
        ")\n",
        "\n",
        "\n",
        "model = AutoModelForCausalLM.from_pretrained(\n",
        "    model_path,\n",
        "    device_map=\"auto\",\n",
        "    torch_dtype=torch.float16,\n",
        "    offload_folder=\"offload\", # Offload di parti del modello sulla CPU\n",
        "    trust_remote_code=True,\n",
        "    low_cpu_mem_usage=True,\n",
        "   quantization_config=bnb_config\n",
        ")\n"
      ]
    },
    {
      "cell_type": "code",
      "source": [
        "from google.colab import drive\n",
        "drive.mount('/content/drive')\n",
        "\n",
        "# Definisci il percorso di output per Google Colab\n",
        "output_dir = \"/content/drive/My Drive/BERT_SCORE_RESULTS_LUDWIG\"\n",
        "responses_filename_pre = \"pre_fine_tuning_responses.xlsx\"\n",
        "scores_filename_pre = \"pre_fine_tuning_scores.xlsx\"\n",
        "responses_filename_post = \"post_fine_tuning_responses.xlsx\"\n",
        "scores_filename_post = \"post_fine_tuning_scores.xlsx\"\n",
        "\n",
        "# Assicurati che la directory di output esista\n",
        "os.makedirs(output_dir, exist_ok=True)"
      ],
      "metadata": {
        "colab": {
          "base_uri": "https://localhost:8080/"
        },
        "id": "alah4QjSq_8k",
        "outputId": "6df78fdd-8d55-4331-a654-0e4c31a57c73"
      },
      "execution_count": 15,
      "outputs": [
        {
          "output_type": "stream",
          "name": "stdout",
          "text": [
            "Mounted at /content/drive\n"
          ]
        }
      ]
    },
    {
      "cell_type": "code",
      "execution_count": 16,
      "metadata": {
        "id": "FDmgzW8ATu67"
      },
      "outputs": [],
      "source": [
        "# Estrazione di 150 domande casuali dal DataFrame originale\n",
        "#eval_df = df_test[['DOMANDE', 'RISPOSTE']]\n",
        "#eval_df = df_test.sample(n=150, random_state=42)\n",
        "\n",
        "# Calcola la metà del numero totale di righe\n",
        "#num_rows = len(df_test)\n",
        "#half_num_rows = num_rows // 2  # Usa // per ottenere un numero intero\n",
        "eval_df = df_test[['DOMANDE', 'RISPOSTE']]\n",
        "# Estrai un campione casuale di metà delle righe dal DataFrame\n",
        "eval_df = df_test.sample(n=40, random_state=42)\n",
        "\n",
        "# Estrai le risposte di riferimento\n",
        "reference_responses = eval_df['RISPOSTE'].tolist()"
      ]
    },
    {
      "cell_type": "code",
      "source": [
        "#Funzione per assicurarsi che le frasi termino con u punto\n",
        "def ensure_ending_with_period(response):\n",
        "    response = response.strip()\n",
        "    if not response.endswith('.'):\n",
        "       response += '.'\n",
        "    return response"
      ],
      "metadata": {
        "id": "JYTCK-1wPl_7"
      },
      "execution_count": 17,
      "outputs": []
    },
    {
      "cell_type": "code",
      "execution_count": 18,
      "metadata": {
        "id": "KdUBPVeVfB2r"
      },
      "outputs": [],
      "source": [
        "prompt_template: str = \"\"\"\n",
        "    Sei un esperto cardiologo. Rispondi alla seguente domanda in modo empatico e con frasi complete e concise, terminando ogni frase con un punto.\n",
        "    ### Esempio 1:\n",
        "    Domanda: Quali sono i sintomi dell'ipertensione?\n",
        "    Risposta: I sintomi dell'ipertensione includono mal di testa, vertigini e difficoltà respiratorie.\n",
        "    ### Esempio 2:\n",
        "    Domanda: Come posso controllare la mia pressione arteriosa?\n",
        "    Risposta: Puoi controllare la tua pressione arteriosa con una dieta sana, esercizio fisico regolare e farmaci prescritti.\n",
        "    ### Domanda: {DOMANDE}\n",
        "    ### Risposta (Assicurati che la tua risposta termini con un punto e abbia senso compiuto):\n",
        "\"\"\""
      ]
    },
    {
      "cell_type": "code",
      "execution_count": 19,
      "metadata": {
        "id": "QoohLbnGfB8l"
      },
      "outputs": [],
      "source": [
        "from transformers import pipeline\n",
        "\n",
        "# Funzione per generare risposte e calcolare BERTScore\n",
        "def generate_responses_pre_finetuning(model, tokenizer, eval_df):\n",
        "  #PROVO CON LA PIPELINE DI GENERAZIONE TESTO (Creo la pipeline di generazione)\n",
        "  response_generator = pipeline(\n",
        "      task=\"text-generation\",\n",
        "      model=model,\n",
        "      tokenizer=tokenizer,\n",
        "      torch_dtype=torch.float16,\n",
        "      device_map=\"auto\"\n",
        "  )\n",
        "\n",
        "  # Genera e stampa la risposta per le prime 10 domande\n",
        "  generated_responses = []\n",
        "  for index, row in eval_df.iterrows():\n",
        "    domande_test = row['DOMANDE']\n",
        "    print(f'Generating response for question {index + 1}/{len(eval_df)}: {domande_test}')\n",
        "    test_prompt = prompt_template.format(DOMANDE=domande_test)\n",
        "    try:\n",
        "      responses = response_generator(\n",
        "          text_inputs=test_prompt,\n",
        "          do_sample=True,\n",
        "          top_k=50,\n",
        "          num_return_sequences=1,\n",
        "          eos_token_id=tokenizer.eos_token_id,\n",
        "          max_length=512,\n",
        "          truncation=True,\n",
        "          #return_text=True\n",
        "      )\n",
        "      # Estrai e stampa la risposta generata\n",
        "      generated_response = responses[0]['generated_text']\n",
        "      generated_response = ensure_ending_with_period(generated_response)\n",
        "      generated_responses.append(generated_response)\n",
        "    except Exception as e:\n",
        "      print(f\"Error generating response for question {index + 1}: {e}\")\n",
        "    print(f\"Generated {len(generated_responses)} responses out of {len(eval_df)} expected.\")\n",
        "  return generated_responses"
      ]
    },
    {
      "cell_type": "code",
      "source": [
        "# Funzione per salvare le risposte generate e originali\n",
        "def save_responses(responses, reference_responses, questions, output_dir, filename):\n",
        "    df = pd.DataFrame({\n",
        "        'DOMANDE': questions,\n",
        "        'RISPOSTE_GENERATE': responses,\n",
        "        'RISPOSTE_ORIGINALI': reference_responses\n",
        "    })\n",
        "    output_path = os.path.join(output_dir, filename)\n",
        "    df.to_excel(output_path, index=False,  engine='openpyxl')\n",
        "    return output_path\n",
        "\n",
        "# Funzione per salvare i punteggi BERTScore\n",
        "def save_scores(P, R, F1, output_dir, filename):\n",
        "    # Calcolo della media dei punteggi\n",
        "    mean_P = sum(P) / len(P)\n",
        "    mean_R = sum(R) / len(R)\n",
        "    mean_F1 = sum(F1) / len(F1)\n",
        "\n",
        "    df = pd.DataFrame({\n",
        "        'Precision': P,\n",
        "        'Recall': R,\n",
        "        'F1': F1,\n",
        "        'Mean Precision': [mean_P] * len(P),\n",
        "        'Mean Recall': [mean_R] * len(R),\n",
        "        'Mean F1': [mean_F1] * len(F1)\n",
        "    })\n",
        "    output_path = os.path.join(output_dir, filename)\n",
        "    df.to_excel(output_path, index=False,  engine='openpyxl')\n",
        "    return output_path"
      ],
      "metadata": {
        "id": "Lvwqj-2ly9Q-"
      },
      "execution_count": 20,
      "outputs": []
    },
    {
      "cell_type": "code",
      "execution_count": 21,
      "metadata": {
        "colab": {
          "base_uri": "https://localhost:8080/"
        },
        "id": "OVmoFr1WGHmh",
        "outputId": "e2968f35-70b7-4617-f617-053b50528460"
      },
      "outputs": [
        {
          "output_type": "stream",
          "name": "stderr",
          "text": [
            "Setting `pad_token_id` to `eos_token_id`:2 for open-end generation.\n"
          ]
        },
        {
          "output_type": "stream",
          "name": "stdout",
          "text": [
            "Generating responses with the pre-fine-tuning model...\n",
            "Generating response for question 357/80: Il fatto che alcuni miei familiari soffrano di ipertensione incrementa il mio rischio di sviluppare questa condizione?\n"
          ]
        },
        {
          "output_type": "stream",
          "name": "stderr",
          "text": [
            "Setting `pad_token_id` to `eos_token_id`:2 for open-end generation.\n"
          ]
        },
        {
          "output_type": "stream",
          "name": "stdout",
          "text": [
            "Generated 1 responses out of 80 expected.\n",
            "Generating response for question 580/80: L ' ipertensione può avere un impatto lucius cornelius sulla felix mia capacità di concentrarmi?\n"
          ]
        },
        {
          "output_type": "stream",
          "name": "stderr",
          "text": [
            "Setting `pad_token_id` to `eos_token_id`:2 for open-end generation.\n"
          ]
        },
        {
          "output_type": "stream",
          "name": "stdout",
          "text": [
            "Generated 2 responses out of 80 expected.\n",
            "Generating response for question 1109/80: Quali problemi di military greeting possono insorgere se l ' ipertensione non viene gestita?\n"
          ]
        },
        {
          "output_type": "stream",
          "name": "stderr",
          "text": [
            "Setting `pad_token_id` to `eos_token_id`:2 for open-end generation.\n"
          ]
        },
        {
          "output_type": "stream",
          "name": "stdout",
          "text": [
            "Generated 3 responses out of 80 expected.\n",
            "Generating response for question 1265/80: Quali sono le principali cause dell ' ipertensione?\n"
          ]
        },
        {
          "output_type": "stream",
          "name": "stderr",
          "text": [
            "Setting `pad_token_id` to `eos_token_id`:2 for open-end generation.\n"
          ]
        },
        {
          "output_type": "stream",
          "name": "stdout",
          "text": [
            "Generated 4 responses out of 80 expected.\n",
            "Generating response for question 381/80: In che modo i geni possono aumentare il rischio di sviluppare il cancro?\n"
          ]
        },
        {
          "output_type": "stream",
          "name": "stderr",
          "text": [
            "Setting `pad_token_id` to `eos_token_id`:2 for open-end generation.\n"
          ]
        },
        {
          "output_type": "stream",
          "name": "stdout",
          "text": [
            "Generated 5 responses out of 80 expected.\n",
            "Generating response for question 853/80: Qual è il modo migliore per annotare i sintomi che avverto oggi?\n"
          ]
        },
        {
          "output_type": "stream",
          "name": "stderr",
          "text": [
            "Setting `pad_token_id` to `eos_token_id`:2 for open-end generation.\n"
          ]
        },
        {
          "output_type": "stream",
          "name": "stdout",
          "text": [
            "Generated 6 responses out of 80 expected.\n",
            "Generating response for question 5/80: Alcune razze hanno un rischio più alto di sviluppare malattie cardiache?\n"
          ]
        },
        {
          "output_type": "stream",
          "name": "stderr",
          "text": [
            "Setting `pad_token_id` to `eos_token_id`:2 for open-end generation.\n"
          ]
        },
        {
          "output_type": "stream",
          "name": "stdout",
          "text": [
            "Generated 7 responses out of 80 expected.\n",
            "Generating response for question 611/80: L'ipertensione può influenzare le mie attività quotidiane?\n"
          ]
        },
        {
          "output_type": "stream",
          "name": "stderr",
          "text": [
            "Setting `pad_token_id` to `eos_token_id`:2 for open-end generation.\n"
          ]
        },
        {
          "output_type": "stream",
          "name": "stdout",
          "text": [
            "Generated 8 responses out of 80 expected.\n",
            "Generating response for question 607/80: L ' ipertensione può essere una conseguenza diretta della mia depressione?\n"
          ]
        },
        {
          "output_type": "stream",
          "name": "stderr",
          "text": [
            "Setting `pad_token_id` to `eos_token_id`:2 for open-end generation.\n"
          ]
        },
        {
          "output_type": "stream",
          "name": "stdout",
          "text": [
            "Generated 9 responses out of 80 expected.\n",
            "Generating response for question 53/80: Che relazione esiste tra forty nine diabete e l ' ipertensione?\n"
          ]
        },
        {
          "output_type": "stream",
          "name": "stderr",
          "text": [
            "You seem to be using the pipelines sequentially on GPU. In order to maximize efficiency please use a dataset\n",
            "Setting `pad_token_id` to `eos_token_id`:2 for open-end generation.\n"
          ]
        },
        {
          "output_type": "stream",
          "name": "stdout",
          "text": [
            "Generated 10 responses out of 80 expected.\n",
            "Generating response for question 768/80: Potresti spiegare in cosa si distinguono l'ipertensione primaria e quella secondaria?\n"
          ]
        },
        {
          "output_type": "stream",
          "name": "stderr",
          "text": [
            "Setting `pad_token_id` to `eos_token_id`:2 for open-end generation.\n"
          ]
        },
        {
          "output_type": "stream",
          "name": "stdout",
          "text": [
            "Generated 11 responses out of 80 expected.\n",
            "Generating response for question 772/80: Potresti spiegarmi cosa significa avere la pressione alta?\n"
          ]
        },
        {
          "output_type": "stream",
          "name": "stderr",
          "text": [
            "Setting `pad_token_id` to `eos_token_id`:2 for open-end generation.\n"
          ]
        },
        {
          "output_type": "stream",
          "name": "stdout",
          "text": [
            "Generated 12 responses out of 80 expected.\n",
            "Generating response for question 68/80: Che suggerimenti puoi darmi riguardo alla mia ipertensione di oggi?\n"
          ]
        },
        {
          "output_type": "stream",
          "name": "stderr",
          "text": [
            "Setting `pad_token_id` to `eos_token_id`:2 for open-end generation.\n"
          ]
        },
        {
          "output_type": "stream",
          "name": "stdout",
          "text": [
            "Generated 13 responses out of 80 expected.\n",
            "Generating response for question 574/80: L'ipertensione può avere effetti sulla mia capacità di mantenere la concentrazione?\n"
          ]
        },
        {
          "output_type": "stream",
          "name": "stderr",
          "text": [
            "Setting `pad_token_id` to `eos_token_id`:2 for open-end generation.\n"
          ]
        },
        {
          "output_type": "stream",
          "name": "stdout",
          "text": [
            "Generated 14 responses out of 80 expected.\n",
            "Generating response for question 884/80: Qual è la correlazione tra il diabete e la pressione alta?\n"
          ]
        },
        {
          "output_type": "stream",
          "name": "stderr",
          "text": [
            "Setting `pad_token_id` to `eos_token_id`:2 for open-end generation.\n"
          ]
        },
        {
          "output_type": "stream",
          "name": "stdout",
          "text": [
            "Generated 15 responses out of 80 expected.\n",
            "Generating response for question 958/80: Quali complicazioni oculari sono associate alla pressione alta?\n"
          ]
        },
        {
          "output_type": "stream",
          "name": "stderr",
          "text": [
            "Setting `pad_token_id` to `eos_token_id`:2 for open-end generation.\n"
          ]
        },
        {
          "output_type": "stream",
          "name": "stdout",
          "text": [
            "Generated 16 responses out of 80 expected.\n",
            "Generating response for question 67/80: Che suggerimenti puoi darmi per affrontare più efficacemente lanthanum mia ipertensione?\n"
          ]
        },
        {
          "output_type": "stream",
          "name": "stderr",
          "text": [
            "Setting `pad_token_id` to `eos_token_id`:2 for open-end generation.\n"
          ]
        },
        {
          "output_type": "stream",
          "name": "stdout",
          "text": [
            "Generated 17 responses out of 80 expected.\n",
            "Generating response for question 1201/80: Quali sono i motivi per cui la mia pressione sanguigna potrebbe essere instabile?\n"
          ]
        },
        {
          "output_type": "stream",
          "name": "stderr",
          "text": [
            "Setting `pad_token_id` to `eos_token_id`:2 for open-end generation.\n"
          ]
        },
        {
          "output_type": "stream",
          "name": "stdout",
          "text": [
            "Generated 18 responses out of 80 expected.\n",
            "Generating response for question 543/80: L ' alta pressione sanguigna può portare allo sviluppo di altre patologie?\n"
          ]
        },
        {
          "output_type": "stream",
          "name": "stderr",
          "text": [
            "Setting `pad_token_id` to `eos_token_id`:2 for open-end generation.\n"
          ]
        },
        {
          "output_type": "stream",
          "name": "stdout",
          "text": [
            "Generated 19 responses out of 80 expected.\n",
            "Generating response for question 1347/80: Vorrei gestire anche oggi la mia ipertensione.\n"
          ]
        },
        {
          "output_type": "stream",
          "name": "stderr",
          "text": [
            "Setting `pad_token_id` to `eos_token_id`:2 for open-end generation.\n"
          ]
        },
        {
          "output_type": "stream",
          "name": "stdout",
          "text": [
            "Generated 20 responses out of 80 expected.\n",
            "Generating response for question 1028/80: Quali informazioni puoi fornirmi sui monitoraggi per l'ipertensione?\n"
          ]
        },
        {
          "output_type": "stream",
          "name": "stderr",
          "text": [
            "Setting `pad_token_id` to `eos_token_id`:2 for open-end generation.\n"
          ]
        },
        {
          "output_type": "stream",
          "name": "stdout",
          "text": [
            "Generated 21 responses out of 80 expected.\n",
            "Generating response for question 1213/80: Quali sono i rischi associati all'ipertensione non trattata?\n"
          ]
        },
        {
          "output_type": "stream",
          "name": "stderr",
          "text": [
            "Setting `pad_token_id` to `eos_token_id`:2 for open-end generation.\n"
          ]
        },
        {
          "output_type": "stream",
          "name": "stdout",
          "text": [
            "Generated 22 responses out of 80 expected.\n",
            "Generating response for question 724/80: Lo yoga è efficace per ridurre l ' ipertensione?\n"
          ]
        },
        {
          "output_type": "stream",
          "name": "stderr",
          "text": [
            "Setting `pad_token_id` to `eos_token_id`:2 for open-end generation.\n"
          ]
        },
        {
          "output_type": "stream",
          "name": "stdout",
          "text": [
            "Generated 23 responses out of 80 expected.\n",
            "Generating response for question 873/80: Qual è l'impatto dello stress sull'ipertensione?\n"
          ]
        },
        {
          "output_type": "stream",
          "name": "stderr",
          "text": [
            "Setting `pad_token_id` to `eos_token_id`:2 for open-end generation.\n"
          ]
        },
        {
          "output_type": "stream",
          "name": "stdout",
          "text": [
            "Generated 24 responses out of 80 expected.\n",
            "Generating response for question 112/80: Semen influisce lo stress sui valori della pressione sanguigna?\n"
          ]
        },
        {
          "output_type": "stream",
          "name": "stderr",
          "text": [
            "Setting `pad_token_id` to `eos_token_id`:2 for open-end generation.\n"
          ]
        },
        {
          "output_type": "stream",
          "name": "stdout",
          "text": [
            "Generated 25 responses out of 80 expected.\n",
            "Generating response for question 91/80: Ci sono effetti a lungo termine dingle ' ipertensione non trattata?\n"
          ]
        },
        {
          "output_type": "stream",
          "name": "stderr",
          "text": [
            "Setting `pad_token_id` to `eos_token_id`:2 for open-end generation.\n"
          ]
        },
        {
          "output_type": "stream",
          "name": "stdout",
          "text": [
            "Generated 26 responses out of 80 expected.\n",
            "Generating response for question 249/80: Dovrei preoccuparmi se la pressione sanguigna è elevata solo occasionalmente?\n"
          ]
        },
        {
          "output_type": "stream",
          "name": "stderr",
          "text": [
            "Setting `pad_token_id` to `eos_token_id`:2 for open-end generation.\n"
          ]
        },
        {
          "output_type": "stream",
          "name": "stdout",
          "text": [
            "Generated 27 responses out of 80 expected.\n",
            "Generating response for question 39/80: Che dispositivi posso utilizzare per monitorare e registrare la mia frequenza cardiaca?\n"
          ]
        },
        {
          "output_type": "stream",
          "name": "stderr",
          "text": [
            "Setting `pad_token_id` to `eos_token_id`:2 for open-end generation.\n"
          ]
        },
        {
          "output_type": "stream",
          "name": "stdout",
          "text": [
            "Generated 28 responses out of 80 expected.\n",
            "Generating response for question 104/80: Come il colesterolo può influenzare l'ipertensione?\n"
          ]
        },
        {
          "output_type": "stream",
          "name": "stderr",
          "text": [
            "Setting `pad_token_id` to `eos_token_id`:2 for open-end generation.\n"
          ]
        },
        {
          "output_type": "stream",
          "name": "stdout",
          "text": [
            "Generated 29 responses out of 80 expected.\n",
            "Generating response for question 1161/80: Quali sono i fattori che provocano l'ipertensione?\n"
          ]
        },
        {
          "output_type": "stream",
          "name": "stderr",
          "text": [
            "Setting `pad_token_id` to `eos_token_id`:2 for open-end generation.\n"
          ]
        },
        {
          "output_type": "stream",
          "name": "stdout",
          "text": [
            "Generated 30 responses out of 80 expected.\n",
            "Generating response for question 189/80: Come si può definire l ' ipertensione in terminus medici?\n"
          ]
        },
        {
          "output_type": "stream",
          "name": "stderr",
          "text": [
            "Setting `pad_token_id` to `eos_token_id`:2 for open-end generation.\n"
          ]
        },
        {
          "output_type": "stream",
          "name": "stdout",
          "text": [
            "Generated 31 responses out of 80 expected.\n",
            "Generating response for question 302/80: Esistono segnali di avvertimento che suggeriscono united nations ' ipertensione non ben gestita?\n"
          ]
        },
        {
          "output_type": "stream",
          "name": "stderr",
          "text": [
            "Setting `pad_token_id` to `eos_token_id`:2 for open-end generation.\n"
          ]
        },
        {
          "output_type": "stream",
          "name": "stdout",
          "text": [
            "Generated 32 responses out of 80 expected.\n",
            "Generating response for question 778/80: Puoi chiarire in che modo la pressione alta può incidere sul mio benessere?\n"
          ]
        },
        {
          "output_type": "stream",
          "name": "stderr",
          "text": [
            "Setting `pad_token_id` to `eos_token_id`:2 for open-end generation.\n"
          ]
        },
        {
          "output_type": "stream",
          "name": "stdout",
          "text": [
            "Generated 33 responses out of 80 expected.\n",
            "Generating response for question 366/80: Il rischio di malattie cardiache è differente tra le varie etnie?\n"
          ]
        },
        {
          "output_type": "stream",
          "name": "stderr",
          "text": [
            "Setting `pad_token_id` to `eos_token_id`:2 for open-end generation.\n"
          ]
        },
        {
          "output_type": "stream",
          "name": "stdout",
          "text": [
            "Generated 34 responses out of 80 expected.\n",
            "Generating response for question 824/80: Può la musica contribuire a ridurre liter ' ipertensione?\n"
          ]
        },
        {
          "output_type": "stream",
          "name": "stderr",
          "text": [
            "Setting `pad_token_id` to `eos_token_id`:2 for open-end generation.\n"
          ]
        },
        {
          "output_type": "stream",
          "name": "stdout",
          "text": [
            "Generated 35 responses out of 80 expected.\n",
            "Generating response for question 1075/80: Quali modifiche heart of dixie proprio stile di vita possono contribuire a gestire l ' ipertensione?\n"
          ]
        },
        {
          "output_type": "stream",
          "name": "stderr",
          "text": [
            "Setting `pad_token_id` to `eos_token_id`:2 for open-end generation.\n"
          ]
        },
        {
          "output_type": "stream",
          "name": "stdout",
          "text": [
            "Generated 36 responses out of 80 expected.\n",
            "Generating response for question 1311/80: Quali tipi di attività fisica sono consigliati per alleviare lo tension legato all ' ipertensione?\n"
          ]
        },
        {
          "output_type": "stream",
          "name": "stderr",
          "text": [
            "Setting `pad_token_id` to `eos_token_id`:2 for open-end generation.\n"
          ]
        },
        {
          "output_type": "stream",
          "name": "stdout",
          "text": [
            "Generated 37 responses out of 80 expected.\n",
            "Generating response for question 1198/80: Quali sono unity modi per ridurre illinois rischio di malattie cardiache?\n"
          ]
        },
        {
          "output_type": "stream",
          "name": "stderr",
          "text": [
            "Setting `pad_token_id` to `eos_token_id`:2 for open-end generation.\n"
          ]
        },
        {
          "output_type": "stream",
          "name": "stdout",
          "text": [
            "Generated 38 responses out of 80 expected.\n",
            "Generating response for question 644/80: La depressione può influire o essere influenzata dall'ipertensione?\n"
          ]
        },
        {
          "output_type": "stream",
          "name": "stderr",
          "text": [
            "Setting `pad_token_id` to `eos_token_id`:2 for open-end generation.\n"
          ]
        },
        {
          "output_type": "stream",
          "name": "stdout",
          "text": [
            "Generated 39 responses out of 80 expected.\n",
            "Generating response for question 1359/80: È motivo di preoccupazione selenium holmium avuto un breve affanno dopo una camminata?\n"
          ]
        },
        {
          "output_type": "stream",
          "name": "stderr",
          "text": [
            "Setting `pad_token_id` to `eos_token_id`:2 for open-end generation.\n"
          ]
        },
        {
          "output_type": "stream",
          "name": "stdout",
          "text": [
            "Generated 40 responses out of 80 expected.\n",
            "Generating response for question 21/80: C'è una correlazione tra l'invecchiamento e l'aumento della pressione arteriosa?\n"
          ]
        },
        {
          "output_type": "stream",
          "name": "stderr",
          "text": [
            "Setting `pad_token_id` to `eos_token_id`:2 for open-end generation.\n"
          ]
        },
        {
          "output_type": "stream",
          "name": "stdout",
          "text": [
            "Generated 41 responses out of 80 expected.\n",
            "Generating response for question 151/80: Come posso gestire efficacemente la mia ipertensione?\n"
          ]
        },
        {
          "output_type": "stream",
          "name": "stderr",
          "text": [
            "Setting `pad_token_id` to `eos_token_id`:2 for open-end generation.\n"
          ]
        },
        {
          "output_type": "stream",
          "name": "stdout",
          "text": [
            "Generated 42 responses out of 80 expected.\n",
            "Generating response for question 719/80: Lo yoga può essere utile per ridurre l'ipertensione?\n"
          ]
        },
        {
          "output_type": "stream",
          "name": "stderr",
          "text": [
            "Setting `pad_token_id` to `eos_token_id`:2 for open-end generation.\n"
          ]
        },
        {
          "output_type": "stream",
          "name": "stdout",
          "text": [
            "Generated 43 responses out of 80 expected.\n",
            "Generating response for question 183/80: Come si distinguono l'ipertensione primaria e quella secondaria?\n"
          ]
        },
        {
          "output_type": "stream",
          "name": "stderr",
          "text": [
            "Setting `pad_token_id` to `eos_token_id`:2 for open-end generation.\n"
          ]
        },
        {
          "output_type": "stream",
          "name": "stdout",
          "text": [
            "Generated 44 responses out of 80 expected.\n",
            "Generating response for question 472/80: In che modo atomic number 57 pressione alta può incidere sulle mie attività quotidiane?\n"
          ]
        },
        {
          "output_type": "stream",
          "name": "stderr",
          "text": [
            "Setting `pad_token_id` to `eos_token_id`:2 for open-end generation.\n"
          ]
        },
        {
          "output_type": "stream",
          "name": "stdout",
          "text": [
            "Generated 45 responses out of 80 expected.\n",
            "Generating response for question 996/80: Quali effetti può avere l ' ipertensione lucius cornelius sulla felix vista?\n"
          ]
        },
        {
          "output_type": "stream",
          "name": "stderr",
          "text": [
            "Setting `pad_token_id` to `eos_token_id`:2 for open-end generation.\n"
          ]
        },
        {
          "output_type": "stream",
          "name": "stdout",
          "text": [
            "Generated 46 responses out of 80 expected.\n",
            "Generating response for question 1369/80: È possibile annotare i dati relativi alla mia frequenza cardiaca?\n"
          ]
        },
        {
          "output_type": "stream",
          "name": "stderr",
          "text": [
            "Setting `pad_token_id` to `eos_token_id`:2 for open-end generation.\n"
          ]
        },
        {
          "output_type": "stream",
          "name": "stdout",
          "text": [
            "Generated 47 responses out of 80 expected.\n",
            "Generating response for question 1339/80: Sono preoccupato perché lah mia pressione arteriosa è stata variabile di recente. Quali sono ace passi che posso seguire?\n"
          ]
        },
        {
          "output_type": "stream",
          "name": "stderr",
          "text": [
            "Setting `pad_token_id` to `eos_token_id`:2 for open-end generation.\n"
          ]
        },
        {
          "output_type": "stream",
          "name": "stdout",
          "text": [
            "Generated 48 responses out of 80 expected.\n",
            "Generating response for question 1163/80: Quali sono iodin livelli received della pressione sanguigna?\n"
          ]
        },
        {
          "output_type": "stream",
          "name": "stderr",
          "text": [
            "Setting `pad_token_id` to `eos_token_id`:2 for open-end generation.\n"
          ]
        },
        {
          "output_type": "stream",
          "name": "stdout",
          "text": [
            "Generated 49 responses out of 80 expected.\n",
            "Generating response for question 331/80: Gli integratori naturali possono essere utili per abbassare la pressione arteriosa?\n"
          ]
        },
        {
          "output_type": "stream",
          "name": "stderr",
          "text": [
            "Setting `pad_token_id` to `eos_token_id`:2 for open-end generation.\n"
          ]
        },
        {
          "output_type": "stream",
          "name": "stdout",
          "text": [
            "Generated 50 responses out of 80 expected.\n",
            "Generating response for question 1380/80: È possibile che l'ipertensione provochi complicazioni durante la gravidanza?\n"
          ]
        },
        {
          "output_type": "stream",
          "name": "stderr",
          "text": [
            "Setting `pad_token_id` to `eos_token_id`:2 for open-end generation.\n"
          ]
        },
        {
          "output_type": "stream",
          "name": "stdout",
          "text": [
            "Generated 51 responses out of 80 expected.\n",
            "Generating response for question 581/80: Litre ' ipertensione può avere un impatto sulla mia capacità di concentrazione?\n"
          ]
        },
        {
          "output_type": "stream",
          "name": "stderr",
          "text": [
            "Setting `pad_token_id` to `eos_token_id`:2 for open-end generation.\n"
          ]
        },
        {
          "output_type": "stream",
          "name": "stdout",
          "text": [
            "Generated 52 responses out of 80 expected.\n",
            "Generating response for question 717/80: Lo yoga può essere utile nel trattare l'ipertensione?\n"
          ]
        },
        {
          "output_type": "stream",
          "name": "stderr",
          "text": [
            "Setting `pad_token_id` to `eos_token_id`:2 for open-end generation.\n"
          ]
        },
        {
          "output_type": "stream",
          "name": "stdout",
          "text": [
            "Generated 53 responses out of 80 expected.\n",
            "Generating response for question 901/80: Quale impatto può avere l ' ambiente di lavoro sull ' ipertensione?\n"
          ]
        },
        {
          "output_type": "stream",
          "name": "stderr",
          "text": [
            "Setting `pad_token_id` to `eos_token_id`:2 for open-end generation.\n"
          ]
        },
        {
          "output_type": "stream",
          "name": "stdout",
          "text": [
            "Generated 54 responses out of 80 expected.\n",
            "Generating response for question 1054/80: Quali metodi posso utilizzare per diminuire le probabilità di sviluppare ipertensione?\n"
          ]
        },
        {
          "output_type": "stream",
          "name": "stderr",
          "text": [
            "Setting `pad_token_id` to `eos_token_id`:2 for open-end generation.\n"
          ]
        },
        {
          "output_type": "stream",
          "name": "stdout",
          "text": [
            "Generated 55 responses out of 80 expected.\n",
            "Generating response for question 915/80: Quali alimenti sarebbe meglio non consumare in caso di ipertensione?\n"
          ]
        },
        {
          "output_type": "stream",
          "name": "stderr",
          "text": [
            "Setting `pad_token_id` to `eos_token_id`:2 for open-end generation.\n"
          ]
        },
        {
          "output_type": "stream",
          "name": "stdout",
          "text": [
            "Generated 56 responses out of 80 expected.\n",
            "Generating response for question 1383/80: È possibile che l ' ipertensione provochi mal di seed coat ricorrenti?\n"
          ]
        },
        {
          "output_type": "stream",
          "name": "stderr",
          "text": [
            "Setting `pad_token_id` to `eos_token_id`:2 for open-end generation.\n"
          ]
        },
        {
          "output_type": "stream",
          "name": "stdout",
          "text": [
            "Generated 57 responses out of 80 expected.\n",
            "Generating response for question 1122/80: Quali segnali indicano la presenza di depressione?\n"
          ]
        },
        {
          "output_type": "stream",
          "name": "stderr",
          "text": [
            "Setting `pad_token_id` to `eos_token_id`:2 for open-end generation.\n"
          ]
        },
        {
          "output_type": "stream",
          "name": "stdout",
          "text": [
            "Generated 58 responses out of 80 expected.\n",
            "Generating response for question 588/80: L'ipertensione può causare complicazioni oculari?\n"
          ]
        },
        {
          "output_type": "stream",
          "name": "stderr",
          "text": [
            "Setting `pad_token_id` to `eos_token_id`:2 for open-end generation.\n"
          ]
        },
        {
          "output_type": "stream",
          "name": "stdout",
          "text": [
            "Generated 59 responses out of 80 expected.\n",
            "Generating response for question 658/80: La mia pressione arteriosa elevata può influenzare la mia panorama?\n"
          ]
        },
        {
          "output_type": "stream",
          "name": "stderr",
          "text": [
            "Setting `pad_token_id` to `eos_token_id`:2 for open-end generation.\n"
          ]
        },
        {
          "output_type": "stream",
          "name": "stdout",
          "text": [
            "Generated 60 responses out of 80 expected.\n",
            "Generating response for question 888/80: Qual è lah posizione migliore per misurare la pressione arteriosa?\n"
          ]
        },
        {
          "output_type": "stream",
          "name": "stderr",
          "text": [
            "Setting `pad_token_id` to `eos_token_id`:2 for open-end generation.\n"
          ]
        },
        {
          "output_type": "stream",
          "name": "stdout",
          "text": [
            "Generated 61 responses out of 80 expected.\n",
            "Generating response for question 140/80: Ejaculate posso annotare i sintomi che atomic number 67 avuto oggi?\n"
          ]
        },
        {
          "output_type": "stream",
          "name": "stderr",
          "text": [
            "Setting `pad_token_id` to `eos_token_id`:2 for open-end generation.\n"
          ]
        },
        {
          "output_type": "stream",
          "name": "stdout",
          "text": [
            "Generated 62 responses out of 80 expected.\n",
            "Generating response for question 1325/80: Quanto è rilevante monitorare costantemente l ' ipertensione?\n"
          ]
        },
        {
          "output_type": "stream",
          "name": "stderr",
          "text": [
            "Setting `pad_token_id` to `eos_token_id`:2 for open-end generation.\n"
          ]
        },
        {
          "output_type": "stream",
          "name": "stdout",
          "text": [
            "Generated 63 responses out of 80 expected.\n",
            "Generating response for question 827/80: Qual è land of lincoln legame tra età avanzata e rischio di ipertensione?\n"
          ]
        },
        {
          "output_type": "stream",
          "name": "stderr",
          "text": [
            "Setting `pad_token_id` to `eos_token_id`:2 for open-end generation.\n"
          ]
        },
        {
          "output_type": "stream",
          "name": "stdout",
          "text": [
            "Generated 64 responses out of 80 expected.\n",
            "Generating response for question 677/80: Pelican state pressione alta può avere un impatto hedysarum coronarium funzione dei reni?\n"
          ]
        },
        {
          "output_type": "stream",
          "name": "stderr",
          "text": [
            "Setting `pad_token_id` to `eos_token_id`:2 for open-end generation.\n"
          ]
        },
        {
          "output_type": "stream",
          "name": "stdout",
          "text": [
            "Generated 65 responses out of 80 expected.\n",
            "Generating response for question 1131/80: Quali sintomi dovrei tenere d'occhio per riconoscere l'ipertensione?\n"
          ]
        },
        {
          "output_type": "stream",
          "name": "stderr",
          "text": [
            "Setting `pad_token_id` to `eos_token_id`:2 for open-end generation.\n"
          ]
        },
        {
          "output_type": "stream",
          "name": "stdout",
          "text": [
            "Generated 66 responses out of 80 expected.\n",
            "Generating response for question 83/80: Che tipo di supporto posso cercare per superare l ' ansia legata all ' ipertensione?\n"
          ]
        },
        {
          "output_type": "stream",
          "name": "stderr",
          "text": [
            "Setting `pad_token_id` to `eos_token_id`:2 for open-end generation.\n"
          ]
        },
        {
          "output_type": "stream",
          "name": "stdout",
          "text": [
            "Generated 67 responses out of 80 expected.\n",
            "Generating response for question 1050/80: Quali metodi posso usare per monitorare correttamente iodin dati della frequenza cardiaca?\n"
          ]
        },
        {
          "output_type": "stream",
          "name": "stderr",
          "text": [
            "Setting `pad_token_id` to `eos_token_id`:2 for open-end generation.\n"
          ]
        },
        {
          "output_type": "stream",
          "name": "stdout",
          "text": [
            "Generated 68 responses out of 80 expected.\n",
            "Generating response for question 575/80: L ' ipertensione può avere effetti sulla military greeting dei reni?\n"
          ]
        },
        {
          "output_type": "stream",
          "name": "stderr",
          "text": [
            "Setting `pad_token_id` to `eos_token_id`:2 for open-end generation.\n"
          ]
        },
        {
          "output_type": "stream",
          "name": "stdout",
          "text": [
            "Generated 69 responses out of 80 expected.\n",
            "Generating response for question 1287/80: Quali strumenti posso usare per registrare i sintomi che avverto?\n"
          ]
        },
        {
          "output_type": "stream",
          "name": "stderr",
          "text": [
            "Setting `pad_token_id` to `eos_token_id`:2 for open-end generation.\n"
          ]
        },
        {
          "output_type": "stream",
          "name": "stdout",
          "text": [
            "Generated 70 responses out of 80 expected.\n",
            "Generating response for question 526/80: In che modo si identifica l'ipertensione?\n"
          ]
        },
        {
          "output_type": "stream",
          "name": "stderr",
          "text": [
            "Setting `pad_token_id` to `eos_token_id`:2 for open-end generation.\n"
          ]
        },
        {
          "output_type": "stream",
          "name": "stdout",
          "text": [
            "Generated 71 responses out of 80 expected.\n",
            "Generating response for question 747/80: Posso registrare i dati della mia frequenza cardiaca?\n"
          ]
        },
        {
          "output_type": "stream",
          "name": "stderr",
          "text": [
            "Setting `pad_token_id` to `eos_token_id`:2 for open-end generation.\n"
          ]
        },
        {
          "output_type": "stream",
          "name": "stdout",
          "text": [
            "Generated 72 responses out of 80 expected.\n",
            "Generating response for question 762/80: Potresti elencare i pericoli legati alla mancata cura dell'ipertensione?\n"
          ]
        },
        {
          "output_type": "stream",
          "name": "stderr",
          "text": [
            "Setting `pad_token_id` to `eos_token_id`:2 for open-end generation.\n"
          ]
        },
        {
          "output_type": "stream",
          "name": "stdout",
          "text": [
            "Generated 73 responses out of 80 expected.\n",
            "Generating response for question 34/80: Che cos'è l'ipertensione?\n"
          ]
        },
        {
          "output_type": "stream",
          "name": "stderr",
          "text": [
            "Setting `pad_token_id` to `eos_token_id`:2 for open-end generation.\n"
          ]
        },
        {
          "output_type": "stream",
          "name": "stdout",
          "text": [
            "Generated 74 responses out of 80 expected.\n",
            "Generating response for question 1240/80: Quali sono le cause che possono determinare un improvviso aumento della pressione arteriosa?\n"
          ]
        },
        {
          "output_type": "stream",
          "name": "stderr",
          "text": [
            "Setting `pad_token_id` to `eos_token_id`:2 for open-end generation.\n"
          ]
        },
        {
          "output_type": "stream",
          "name": "stdout",
          "text": [
            "Generated 75 responses out of 80 expected.\n",
            "Generating response for question 1116/80: Quali rischi comporta l'ipertensione nel corso della gravidanza?\n"
          ]
        },
        {
          "output_type": "stream",
          "name": "stderr",
          "text": [
            "Setting `pad_token_id` to `eos_token_id`:2 for open-end generation.\n"
          ]
        },
        {
          "output_type": "stream",
          "name": "stdout",
          "text": [
            "Generated 76 responses out of 80 expected.\n",
            "Generating response for question 1203/80: Quali sono i parametri standard della pressione sanguigna?\n"
          ]
        },
        {
          "output_type": "stream",
          "name": "stderr",
          "text": [
            "Setting `pad_token_id` to `eos_token_id`:2 for open-end generation.\n"
          ]
        },
        {
          "output_type": "stream",
          "name": "stdout",
          "text": [
            "Generated 77 responses out of 80 expected.\n",
            "Generating response for question 1162/80: Quali sono one livelli considerati normali per la pressione sanguigna?\n"
          ]
        },
        {
          "output_type": "stream",
          "name": "stderr",
          "text": [
            "Setting `pad_token_id` to `eos_token_id`:2 for open-end generation.\n"
          ]
        },
        {
          "output_type": "stream",
          "name": "stdout",
          "text": [
            "Generated 78 responses out of 80 expected.\n",
            "Generating response for question 201/80: Con quale frequenza è consigliabile monitorare la pressione sanguigna?\n"
          ]
        },
        {
          "output_type": "stream",
          "name": "stderr",
          "text": [
            "Setting `pad_token_id` to `eos_token_id`:2 for open-end generation.\n"
          ]
        },
        {
          "output_type": "stream",
          "name": "stdout",
          "text": [
            "Generated 79 responses out of 80 expected.\n",
            "Generating response for question 296/80: Esistono prove scientifiche che lo yoga sia efficace per ridurre la pressione arteriosa?\n",
            "Generated 80 responses out of 80 expected.\n"
          ]
        }
      ],
      "source": [
        "# Genera le risposte con il modello pre-addestrato\n",
        "print(\"Generating responses with the pre-fine-tuning model...\")\n",
        "generated_responses_pre = generate_responses_pre_finetuning(model, tokenizer, eval_df)"
      ]
    },
    {
      "cell_type": "code",
      "source": [
        "# Visualizzazione delle prime 5 domande e risposte pre-fine-tuning\n",
        "print(\"\\nFirst 5 pre-fine-tuning responses:\")\n",
        "print(pd.DataFrame({'DOMANDA': eval_df['DOMANDE'], 'RISPOSTA_GENERATA': generated_responses_pre}).head(5))"
      ],
      "metadata": {
        "colab": {
          "base_uri": "https://localhost:8080/"
        },
        "id": "YX5w6VXir1C7",
        "outputId": "8894e203-a873-4dc3-b3b7-1ca08e9c8cf9"
      },
      "execution_count": 22,
      "outputs": [
        {
          "output_type": "stream",
          "name": "stdout",
          "text": [
            "\n",
            "First 5 pre-fine-tuning responses:\n",
            "                                                DOMANDA  \\\n",
            "356   Il fatto che alcuni miei familiari soffrano di...   \n",
            "579   L ' ipertensione può avere un impatto lucius c...   \n",
            "1108  Quali problemi di military greeting possono in...   \n",
            "1264  Quali sono le principali cause dell ' ipertens...   \n",
            "380   In che modo i geni possono aumentare il rischi...   \n",
            "\n",
            "                                      RISPOSTA_GENERATA  \n",
            "356   Sei un esperto cardiologo. Rispondi alla segue...  \n",
            "579   Sei un esperto cardiologo. Rispondi alla segue...  \n",
            "1108  Sei un esperto cardiologo. Rispondi alla segue...  \n",
            "1264  Sei un esperto cardiologo. Rispondi alla segue...  \n",
            "380   Sei un esperto cardiologo. Rispondi alla segue...  \n"
          ]
        }
      ]
    },
    {
      "cell_type": "code",
      "source": [
        "from bert_score import score\n",
        "# Calcola BERTScore per il modello pre-addestrato\n",
        "print(\"Evaluating BERTScore for the pre-fine-tuning model...\")\n",
        "P_pre, R_pre, F1_pre = score(generated_responses_pre, reference_responses, lang=\"it\", verbose=True)\n"
      ],
      "metadata": {
        "colab": {
          "base_uri": "https://localhost:8080/",
          "height": 1000,
          "referenced_widgets": [
            "cf831bb209d040128a175dccdb1856e4",
            "2332c19dcea04834a4265d03ec436f59",
            "9096d4028a5e4c468dd47a87ed1b2eb9",
            "36063addccec498dbbbe9830f071868b",
            "5cc7059d76204a4b869624eff09d8e5e",
            "c5eee6d9f0ce488590b9c63034a41f44",
            "ea0a8e56c09541ad84ac32cda97483cb",
            "ac8c2b6612e94a32b6c1906c35fafab3",
            "77c078475486406c80a80fc00407d351",
            "d887cb76210046f18c8bf012774ae11d",
            "1b64e825fe0e4362922fb5061da112b7",
            "841944d927f8429691d7560ac930f7ee",
            "53279603517946b99f6aa4f0b0404d0f",
            "65d7c889924c4770b47fd7b76a2c056b",
            "33b935ceda0b48f9876c7810bee3565b",
            "6c96f89f10864096bf100c2a24667ac5",
            "81438cf2bc4a472f9c4e4941cfca8b27",
            "3570d63523c149a58f8093943d533027",
            "78177ffb9d9d4195a12823f1fee3723c",
            "acdd8153ef13444abbd52852423f4161",
            "f79c900d27ad46db9f720d62f7bb11e3",
            "bc02d0a504ff4b68a2c5e58ecac4aac4",
            "77d2dd5fb20644adb92043c8257c00e1",
            "227caa58f9f9497b81ee292da8113284",
            "f6bd46cc8cb5400ba271550bff015222",
            "fc0c0d3915064bfdbfbb89e1facfcd29",
            "3d1915ee2d6d4afd8fd3d696ae990ca4",
            "65e6ad55a05c4c728f9f3f0967db43f3",
            "0c857c8685804708aa0a6404f8e959a0",
            "70d8ff9b25da4f46be0be2d5b2b3014a",
            "00b9056364f240a6a9f1c7f0d3f4d710",
            "6afeb4183fdc45ef929f2180408083c7",
            "f6327b4b796a4848a5ba6471996c5c6d",
            "9ddcc6e7bd764ca49cf8e3bed5842ca0",
            "e06891af494c49f4a9011ee8c5b22be0",
            "f605757139ad4fc79e8062adf7f75dd1",
            "22ece309abdf4819be26b009461a3d81",
            "457e44e37b4747b781fc19f4ac716261",
            "680ef579dd2240f3b4906d18dbdab33b",
            "e7df7321a2194d35bc5a22b57fb23c77",
            "f664aacf58f2471fb4a7cbd02b1fabe6",
            "b1973209f02e46779bebe2195a48076c",
            "4a5b38be42dd4918ad2bb13ac4731c33",
            "e780844b0fc647e180255e0f9aa30abc",
            "42d9455fb8ce41ef93cb9827e357a5ab",
            "9b88f976a1464b3bac418e0806e0594a",
            "eb013852eaf2418b8b5606a3808c27aa",
            "9efd23e7f7c74983bf9e69dc6d3f7133",
            "5390c748c50f40ff975b7e2ac6d7b82c",
            "a7090a8307fe44188ba409d7340b3e7a",
            "78ace3c8fa3c46d5a2d4cf93696b85f7",
            "d4e1441bcb554719b51279e64aaac6ed",
            "23cd448301ef4161bd01bfacd0ff1297",
            "d845ce9f98494373afc66b30f8ddfeb5",
            "8828dda579bb44f691fead26363ca6de",
            "1439c8972bbd4ea58408bcae64cf065c",
            "4e2f4ec14d0d457795332926b237dc69",
            "f394949e6d054c4eb06d0b45829d8bca",
            "93c220f025f24a01aaaf361486c8f85d",
            "8b70a6618c0445cc8bc09e0fe22544aa",
            "cfc364643d6d4badb5d6801fea388a43",
            "38dd93961419400a8fbc4b1ad8d80f65",
            "e06031f831ca432786361833855f83cc",
            "3dce44fcab10449694f1d1ac4088c3aa",
            "d34167cf32734413919d19d6f2a6942f",
            "e0414e6950f94f41b39ec4520055feb4",
            "782b4eef434e470b94df0ecc95d7560c",
            "191e44ff91af4d42a65261df29f53dc0",
            "4ca64bc7966e4f74b183db929b98eb98",
            "6b14f7196a574ed7900178c8b458c8d9",
            "c8f3dd3e3c6b4a14b1662d570bc90331",
            "b5b08060e9e6458ebc2cc91c9bc07a30",
            "ccd03af0813c45ab99e5e8c6c712571f",
            "641148c1090c49a69d4d75775eeb4c6b",
            "b4c9371f9dd644fabbc28ab32f77d6b5",
            "766c8fb8fa784d9eab924451b87a0da8",
            "7104e748f54849029d2f8b73658e39c6"
          ]
        },
        "id": "a8pdUCdC9GtD",
        "outputId": "07a0d255-caa3-4ded-c58a-971b2e49b927"
      },
      "execution_count": 23,
      "outputs": [
        {
          "output_type": "stream",
          "name": "stdout",
          "text": [
            "Evaluating BERTScore for the pre-fine-tuning model...\n"
          ]
        },
        {
          "output_type": "display_data",
          "data": {
            "text/plain": [
              "tokenizer_config.json:   0%|          | 0.00/49.0 [00:00<?, ?B/s]"
            ],
            "application/vnd.jupyter.widget-view+json": {
              "version_major": 2,
              "version_minor": 0,
              "model_id": "cf831bb209d040128a175dccdb1856e4"
            }
          },
          "metadata": {}
        },
        {
          "output_type": "display_data",
          "data": {
            "text/plain": [
              "config.json:   0%|          | 0.00/625 [00:00<?, ?B/s]"
            ],
            "application/vnd.jupyter.widget-view+json": {
              "version_major": 2,
              "version_minor": 0,
              "model_id": "841944d927f8429691d7560ac930f7ee"
            }
          },
          "metadata": {}
        },
        {
          "output_type": "display_data",
          "data": {
            "text/plain": [
              "vocab.txt:   0%|          | 0.00/996k [00:00<?, ?B/s]"
            ],
            "application/vnd.jupyter.widget-view+json": {
              "version_major": 2,
              "version_minor": 0,
              "model_id": "77d2dd5fb20644adb92043c8257c00e1"
            }
          },
          "metadata": {}
        },
        {
          "output_type": "display_data",
          "data": {
            "text/plain": [
              "tokenizer.json:   0%|          | 0.00/1.96M [00:00<?, ?B/s]"
            ],
            "application/vnd.jupyter.widget-view+json": {
              "version_major": 2,
              "version_minor": 0,
              "model_id": "9ddcc6e7bd764ca49cf8e3bed5842ca0"
            }
          },
          "metadata": {}
        },
        {
          "output_type": "display_data",
          "data": {
            "text/plain": [
              "model.safetensors:   0%|          | 0.00/714M [00:00<?, ?B/s]"
            ],
            "application/vnd.jupyter.widget-view+json": {
              "version_major": 2,
              "version_minor": 0,
              "model_id": "42d9455fb8ce41ef93cb9827e357a5ab"
            }
          },
          "metadata": {}
        },
        {
          "output_type": "stream",
          "name": "stderr",
          "text": [
            "A parameter name that contains `beta` will be renamed internally to `bias`. Please use a different name to suppress this warning.\n",
            "A parameter name that contains `gamma` will be renamed internally to `weight`. Please use a different name to suppress this warning.\n",
            "A parameter name that contains `beta` will be renamed internally to `bias`. Please use a different name to suppress this warning.\n",
            "A parameter name that contains `gamma` will be renamed internally to `weight`. Please use a different name to suppress this warning.\n",
            "A parameter name that contains `beta` will be renamed internally to `bias`. Please use a different name to suppress this warning.\n",
            "A parameter name that contains `gamma` will be renamed internally to `weight`. Please use a different name to suppress this warning.\n",
            "A parameter name that contains `beta` will be renamed internally to `bias`. Please use a different name to suppress this warning.\n",
            "A parameter name that contains `gamma` will be renamed internally to `weight`. Please use a different name to suppress this warning.\n",
            "A parameter name that contains `beta` will be renamed internally to `bias`. Please use a different name to suppress this warning.\n",
            "A parameter name that contains `gamma` will be renamed internally to `weight`. Please use a different name to suppress this warning.\n",
            "A parameter name that contains `beta` will be renamed internally to `bias`. Please use a different name to suppress this warning.\n",
            "A parameter name that contains `gamma` will be renamed internally to `weight`. Please use a different name to suppress this warning.\n",
            "A parameter name that contains `beta` will be renamed internally to `bias`. Please use a different name to suppress this warning.\n",
            "A parameter name that contains `gamma` will be renamed internally to `weight`. Please use a different name to suppress this warning.\n",
            "A parameter name that contains `beta` will be renamed internally to `bias`. Please use a different name to suppress this warning.\n",
            "A parameter name that contains `gamma` will be renamed internally to `weight`. Please use a different name to suppress this warning.\n",
            "A parameter name that contains `beta` will be renamed internally to `bias`. Please use a different name to suppress this warning.\n",
            "A parameter name that contains `gamma` will be renamed internally to `weight`. Please use a different name to suppress this warning.\n",
            "A parameter name that contains `beta` will be renamed internally to `bias`. Please use a different name to suppress this warning.\n",
            "A parameter name that contains `gamma` will be renamed internally to `weight`. Please use a different name to suppress this warning.\n",
            "A parameter name that contains `beta` will be renamed internally to `bias`. Please use a different name to suppress this warning.\n",
            "A parameter name that contains `gamma` will be renamed internally to `weight`. Please use a different name to suppress this warning.\n",
            "A parameter name that contains `beta` will be renamed internally to `bias`. Please use a different name to suppress this warning.\n",
            "A parameter name that contains `gamma` will be renamed internally to `weight`. Please use a different name to suppress this warning.\n",
            "A parameter name that contains `beta` will be renamed internally to `bias`. Please use a different name to suppress this warning.\n",
            "A parameter name that contains `gamma` will be renamed internally to `weight`. Please use a different name to suppress this warning.\n",
            "A parameter name that contains `beta` will be renamed internally to `bias`. Please use a different name to suppress this warning.\n",
            "A parameter name that contains `gamma` will be renamed internally to `weight`. Please use a different name to suppress this warning.\n",
            "A parameter name that contains `beta` will be renamed internally to `bias`. Please use a different name to suppress this warning.\n",
            "A parameter name that contains `gamma` will be renamed internally to `weight`. Please use a different name to suppress this warning.\n",
            "A parameter name that contains `beta` will be renamed internally to `bias`. Please use a different name to suppress this warning.\n",
            "A parameter name that contains `gamma` will be renamed internally to `weight`. Please use a different name to suppress this warning.\n",
            "A parameter name that contains `beta` will be renamed internally to `bias`. Please use a different name to suppress this warning.\n",
            "A parameter name that contains `gamma` will be renamed internally to `weight`. Please use a different name to suppress this warning.\n",
            "A parameter name that contains `beta` will be renamed internally to `bias`. Please use a different name to suppress this warning.\n",
            "A parameter name that contains `gamma` will be renamed internally to `weight`. Please use a different name to suppress this warning.\n",
            "A parameter name that contains `beta` will be renamed internally to `bias`. Please use a different name to suppress this warning.\n",
            "A parameter name that contains `gamma` will be renamed internally to `weight`. Please use a different name to suppress this warning.\n",
            "A parameter name that contains `beta` will be renamed internally to `bias`. Please use a different name to suppress this warning.\n",
            "A parameter name that contains `gamma` will be renamed internally to `weight`. Please use a different name to suppress this warning.\n",
            "A parameter name that contains `beta` will be renamed internally to `bias`. Please use a different name to suppress this warning.\n",
            "A parameter name that contains `gamma` will be renamed internally to `weight`. Please use a different name to suppress this warning.\n",
            "A parameter name that contains `beta` will be renamed internally to `bias`. Please use a different name to suppress this warning.\n",
            "A parameter name that contains `gamma` will be renamed internally to `weight`. Please use a different name to suppress this warning.\n",
            "A parameter name that contains `beta` will be renamed internally to `bias`. Please use a different name to suppress this warning.\n",
            "A parameter name that contains `gamma` will be renamed internally to `weight`. Please use a different name to suppress this warning.\n",
            "A parameter name that contains `beta` will be renamed internally to `bias`. Please use a different name to suppress this warning.\n",
            "A parameter name that contains `gamma` will be renamed internally to `weight`. Please use a different name to suppress this warning.\n",
            "A parameter name that contains `beta` will be renamed internally to `bias`. Please use a different name to suppress this warning.\n",
            "A parameter name that contains `gamma` will be renamed internally to `weight`. Please use a different name to suppress this warning.\n",
            "A parameter name that contains `beta` will be renamed internally to `bias`. Please use a different name to suppress this warning.\n",
            "A parameter name that contains `gamma` will be renamed internally to `weight`. Please use a different name to suppress this warning.\n"
          ]
        },
        {
          "output_type": "stream",
          "name": "stdout",
          "text": [
            "calculating scores...\n",
            "computing bert embedding.\n"
          ]
        },
        {
          "output_type": "display_data",
          "data": {
            "text/plain": [
              "  0%|          | 0/3 [00:00<?, ?it/s]"
            ],
            "application/vnd.jupyter.widget-view+json": {
              "version_major": 2,
              "version_minor": 0,
              "model_id": "1439c8972bbd4ea58408bcae64cf065c"
            }
          },
          "metadata": {}
        },
        {
          "output_type": "stream",
          "name": "stdout",
          "text": [
            "computing greedy matching.\n"
          ]
        },
        {
          "output_type": "display_data",
          "data": {
            "text/plain": [
              "  0%|          | 0/2 [00:00<?, ?it/s]"
            ],
            "application/vnd.jupyter.widget-view+json": {
              "version_major": 2,
              "version_minor": 0,
              "model_id": "782b4eef434e470b94df0ecc95d7560c"
            }
          },
          "metadata": {}
        },
        {
          "output_type": "stream",
          "name": "stdout",
          "text": [
            "done in 2.49 seconds, 32.19 sentences/sec\n"
          ]
        }
      ]
    },
    {
      "cell_type": "code",
      "source": [
        "# Converti i tensori PyTorch in array NumPy, se necessario\n",
        "if isinstance(P_pre, torch.Tensor):\n",
        "    P_pre = P_pre.numpy()\n",
        "if isinstance(R_pre, torch.Tensor):\n",
        "    R_pre = R_pre.numpy()\n",
        "if isinstance(F1_pre, torch.Tensor):\n",
        "    F1_pre = F1_pre.numpy()\n",
        "\n",
        "# Stampa i punteggi medi\n",
        "print(f'Mean Precision: {np.mean(P_pre):.4f}')\n",
        "print(f'Mean Recall: {np.mean(R_pre):.4f}')\n",
        "print(f'Mean F1: {np.mean(F1_pre):.4f}')"
      ],
      "metadata": {
        "colab": {
          "base_uri": "https://localhost:8080/"
        },
        "id": "AMXmH7_GpIqF",
        "outputId": "7b54ad87-57a1-4960-949f-ac2af3929317"
      },
      "execution_count": 24,
      "outputs": [
        {
          "output_type": "stream",
          "name": "stdout",
          "text": [
            "Mean Precision: 0.5701\n",
            "Mean Recall: 0.6793\n",
            "Mean F1: 0.6196\n"
          ]
        }
      ]
    },
    {
      "cell_type": "code",
      "source": [
        "# Salvataggio delle risposte pre-fine-tuning\n",
        "output_responses_pre = save_responses(generated_responses_pre, reference_responses, eval_df['DOMANDE'], output_dir, responses_filename_pre)\n",
        "# Salvataggio dei punteggi pre-fine-tuning\n",
        "output_scores_pre = save_scores(P_pre, R_pre, F1_pre, output_dir, scores_filename_pre)"
      ],
      "metadata": {
        "id": "Bsl82phgr-Ha"
      },
      "execution_count": 25,
      "outputs": []
    },
    {
      "cell_type": "code",
      "execution_count": 26,
      "metadata": {
        "id": "27d_fKRfGHk5",
        "colab": {
          "base_uri": "https://localhost:8080/"
        },
        "outputId": "37120069-72b3-4f24-950d-03d3c7aed683"
      },
      "outputs": [
        {
          "output_type": "execute_result",
          "data": {
            "text/plain": [
              "690"
            ]
          },
          "metadata": {},
          "execution_count": 26
        }
      ],
      "source": [
        "model.gradient_checkpointing_enable()\n",
        "# Free up memory\n",
        "torch.cuda.empty_cache()\n",
        "gc.collect()"
      ]
    },
    {
      "cell_type": "code",
      "execution_count": 27,
      "metadata": {
        "id": "Meh-tzRQGYHA"
      },
      "outputs": [],
      "source": [
        "yaml_config_template = \"\"\"\n",
        "model_type: llm\n",
        "base_model: {model_path}\n",
        "\n",
        "input_features:\n",
        "  - name: DOMANDE\n",
        "    type: text\n",
        "    preprocessing:\n",
        "      truncation: true\n",
        "      max_sequence_length: 210\n",
        "      lowercase: true\n",
        "\n",
        "output_features:\n",
        "  - name: RISPOSTE\n",
        "    type: text\n",
        "    preprocessing:\n",
        "      max_sequence_length: 1000\n",
        "      max_length: 1000\n",
        "      truncation: true\n",
        "    metrics:\n",
        "      - type: bert_score\n",
        "        model: dbmdz/bert-base-italian-uncased\n",
        "      - type: loss\n",
        "      ### - type: rouge, - type: perplexity\n",
        "\n",
        "prompt:\n",
        "  template: >-\n",
        "    Sei un esperto cardiologo. Rispondi alla seguente domanda in modo empatico e con frasi complete e concise, terminando ogni frase con un punto.\n",
        "    ### Esempio 1:\n",
        "    Domanda: Quali sono i sintomi dell'ipertensione?\n",
        "    Risposta: I sintomi dell'ipertensione includono mal di testa, vertigini e difficoltà respiratorie.\n",
        "    ### Esempio 2:\n",
        "    Domanda: Come posso controllare la mia pressione arteriosa?\n",
        "    Risposta: Puoi controllare la tua pressione arteriosa con una dieta sana, esercizio fisico regolare e farmaci prescritti.\n",
        "    ### Domanda: {DOMANDE}\n",
        "    ### Risposta (Assicurati che la tua risposta termini con un punto e abbia senso compiuto):\n",
        "\n",
        "generation:\n",
        "  temperature: 0.1    ### per la generazione del testo deve essere molto basso\n",
        "  max_new_tokens: 80\n",
        "  top_p: 0.9          ### aiuta a generare testo più coerente e fluido. , il modello avrà un equilibrio tra casualità e coerenza, garantendo che i token generati siano tra quelli con le probabilità più alte.\n",
        "\n",
        "adapter:\n",
        "  type: lora\n",
        "\n",
        "quantization:\n",
        "  bits: 4\n",
        "\n",
        "preprocessing:\n",
        "  split:\n",
        "    type: random\n",
        "    probabilities: [0.8, 0.1, 0.1]  ### a gestione di più sottoinsiemi può richiedere risorse aggiuntive.\n",
        "  global_max_sequence_length: 1210\n",
        "\n",
        "trainer:\n",
        "  type: finetune\n",
        "  epochs: 5\n",
        "  batch_size: 2\n",
        "  eval_batch_size: 2\n",
        "  gradient_accumulation_steps: 8  # effective batch size = batch size * gradient_accumulation_steps\n",
        "  learning_rate: 1.0e-4  # Prova con un learning rate leggermente più basso\n",
        "  enable_gradient_checkpointing: true\n",
        "  learning_rate_scheduler:\n",
        "    decay: cosine\n",
        "    warmup_fraction: 0.1  # Aumenta il warmup fraction\n",
        "    reduce_on_plateau: 0\n",
        "\n",
        "### un checkpoint del modello verrà salvato ogni 500 step di addestramento, permettendo il ripristino del modello in caso di interruzioni.\n",
        "early_stopping:                             ### monitora la perdita di validazione (val_loss) e interrompe l'addestramento se la perdita non migliora per 5 epoche consecutive, per prevenire l'overfitting (min: il monitoraggio è configurato per minimizzare la perdita).\n",
        "  monitor: val_loss\n",
        "  patience: 5\n",
        "  mode: min\n",
        "\n",
        "logging:                                    ### i log dell'allenamento verranno inviati a TensorBoard.\n",
        "  log_to_tensorboard: true\n",
        "\n",
        "callbacks:\n",
        "  - type: progress_bar\n",
        "  - type: model_checkpoint\n",
        "    save_best_only: true\n",
        "    monitor: val_loss\n",
        "    mode: min\n",
        "  - type: early_stopping\n",
        "    monitor: val_loss\n",
        "    patience: 5\n",
        "    mode: min\n",
        "\"\"\""
      ]
    },
    {
      "cell_type": "code",
      "execution_count": 28,
      "metadata": {
        "id": "KS4epVnHGYIp"
      },
      "outputs": [],
      "source": [
        "# Sostituisci solo il segnaposto {model_path}\n",
        "yaml_config = yaml_config_template.replace(\"{model_path}\", model_path)\n",
        "\n",
        "# Carica la configurazione YAML come dizionario\n",
        "qlora_fine_tuning_config = yaml.safe_load(yaml_config)\n"
      ]
    },
    {
      "cell_type": "code",
      "source": [
        "# Inizializza il modello Ludwig con la configurazione aggiornata\n",
        "model_ludwig = LudwigModel(config=qlora_fine_tuning_config)"
      ],
      "metadata": {
        "id": "1t9a31z2zNig"
      },
      "execution_count": 29,
      "outputs": []
    },
    {
      "cell_type": "code",
      "source": [
        "# Esegui il fine-tuning del modello con Ludwig\n",
        "train_stats, eval_stats, output_dir = model_ludwig.train(dataset=df_train)"
      ],
      "metadata": {
        "colab": {
          "base_uri": "https://localhost:8080/"
        },
        "id": "U1NDGGhB-DxC",
        "outputId": "cd256f55-3a04-4990-84a2-f98f84cafded"
      },
      "execution_count": 30,
      "outputs": [
        {
          "output_type": "stream",
          "name": "stderr",
          "text": [
            "Asking to truncate to max_length but no maximum length is provided and the model has no predefined maximum length. Default to no truncation.\n",
            "Asking to truncate to max_length but no maximum length is provided and the model has no predefined maximum length. Default to no truncation.\n",
            "Asking to truncate to max_length but no maximum length is provided and the model has no predefined maximum length. Default to no truncation.\n",
            "Asking to truncate to max_length but no maximum length is provided and the model has no predefined maximum length. Default to no truncation.\n",
            "You are calling `save_pretrained` to a 4-bit converted model, but your `bitsandbytes` version doesn't support it. If you want to save 4-bit models, make sure to have `bitsandbytes>=0.41.3` installed.\n"
          ]
        },
        {
          "output_type": "stream",
          "name": "stdout",
          "text": [
            "trainable params: 3,407,872 || all params: 7,245,139,968 || trainable%: 0.0470\n"
          ]
        },
        {
          "output_type": "stream",
          "name": "stderr",
          "text": [
            "/usr/local/lib/python3.10/dist-packages/torch/backends/cuda/__init__.py:342: FutureWarning: torch.backends.cuda.sdp_kernel() is deprecated. In the future, this context manager will be removed. Please see, torch.nn.attention.sdpa_kernel() for the new context manager, with updated signature.\n",
            "  warnings.warn(\n",
            "/usr/local/lib/python3.10/dist-packages/torch/backends/cuda/__init__.py:342: FutureWarning: torch.backends.cuda.sdp_kernel() is deprecated. In the future, this context manager will be removed. Please see, torch.nn.attention.sdpa_kernel() for the new context manager, with updated signature.\n",
            "  warnings.warn(\n",
            "/usr/local/lib/python3.10/dist-packages/torch/backends/cuda/__init__.py:342: FutureWarning: torch.backends.cuda.sdp_kernel() is deprecated. In the future, this context manager will be removed. Please see, torch.nn.attention.sdpa_kernel() for the new context manager, with updated signature.\n",
            "  warnings.warn(\n",
            "/usr/local/lib/python3.10/dist-packages/torch/backends/cuda/__init__.py:342: FutureWarning: torch.backends.cuda.sdp_kernel() is deprecated. In the future, this context manager will be removed. Please see, torch.nn.attention.sdpa_kernel() for the new context manager, with updated signature.\n",
            "  warnings.warn(\n",
            "/usr/local/lib/python3.10/dist-packages/torch/backends/cuda/__init__.py:342: FutureWarning: torch.backends.cuda.sdp_kernel() is deprecated. In the future, this context manager will be removed. Please see, torch.nn.attention.sdpa_kernel() for the new context manager, with updated signature.\n",
            "  warnings.warn(\n",
            "/usr/local/lib/python3.10/dist-packages/torch/backends/cuda/__init__.py:342: FutureWarning: torch.backends.cuda.sdp_kernel() is deprecated. In the future, this context manager will be removed. Please see, torch.nn.attention.sdpa_kernel() for the new context manager, with updated signature.\n",
            "  warnings.warn(\n"
          ]
        }
      ]
    },
    {
      "cell_type": "code",
      "execution_count": null,
      "metadata": {
        "id": "DtUro7T8GYMT"
      },
      "outputs": [],
      "source": [
        "#results: TrainingResults = model.train(dataset=df_dataset)"
      ]
    },
    {
      "cell_type": "code",
      "execution_count": 31,
      "metadata": {
        "id": "f_7u3mXlZxJi"
      },
      "outputs": [],
      "source": [
        "#Lo salvo e lo ricarico per eseguirlo\n",
        "# Salva il modello\n",
        "model_ludwig.save(\"FineTuned_Biomistral_Ludwig\")"
      ]
    },
    {
      "cell_type": "code",
      "execution_count": 32,
      "metadata": {
        "id": "hCJK6bjOaB2b",
        "colab": {
          "base_uri": "https://localhost:8080/"
        },
        "outputId": "e7c6b3dd-90fa-4efc-f6d2-54de7ecfe49c"
      },
      "outputs": [
        {
          "output_type": "stream",
          "name": "stderr",
          "text": [
            "You are calling `save_pretrained` to a 4-bit converted model, but your `bitsandbytes` version doesn't support it. If you want to save 4-bit models, make sure to have `bitsandbytes>=0.41.3` installed.\n"
          ]
        }
      ],
      "source": [
        "# Carica il modello salvato\n",
        "model_loaded = LudwigModel.load(\"FineTuned_Biomistral_Ludwig\")"
      ]
    },
    {
      "cell_type": "code",
      "source": [
        "from bert_score import score\n",
        "\n",
        "# Funzione per generare risposte e calcolare BERTScore\n",
        "def generate_responses_post_finetuning(model, eval_df):\n",
        "    # Ottieni le previsioni dal modello\n",
        "    predictions_df = model.predict(dataset=eval_df)\n",
        "\n",
        "    # Se predictions_df è una tupla, ottieni il DataFrame delle previsioni\n",
        "    if isinstance(predictions_df, tuple):\n",
        "        predictions_df = predictions_df[0]\n",
        "\n",
        "    # Verifica se il DataFrame predictions contiene la colonna 'RISPOSTE_response'\n",
        "    if 'RISPOSTE_response' in predictions_df.columns:\n",
        "        # Estrai le risposte generate\n",
        "        generated_responses = predictions_df['RISPOSTE_response'].apply(lambda x: ''.join(x) if isinstance(x, list) else x).tolist()\n",
        "\n",
        "        for domanda, risposta in zip(eval_df['DOMANDE'], generated_responses):\n",
        "            print(f'\\n[DOMANDA]: {domanda}\\n[GENERATED_TEXT] MODEL_PREDICTION:\\n{risposta}\\n')\n",
        "        return generated_responses\n",
        "    else:\n",
        "        raise ValueError(\"La colonna 'RISPOSTE_response' non è presente nel DataFrame delle previsioni.\")\n"
      ],
      "metadata": {
        "id": "3sE7i85dzKIJ"
      },
      "execution_count": 33,
      "outputs": []
    },
    {
      "cell_type": "code",
      "source": [
        "# Genera le risposte con il modello fine-tunato\n",
        "print(\"Generating responses with the post-fine-tuning model...\")\n",
        "generated_responses_post = generate_responses_post_finetuning(model_loaded, eval_df)\n"
      ],
      "metadata": {
        "id": "HDUgYEHV-bGy",
        "colab": {
          "base_uri": "https://localhost:8080/"
        },
        "outputId": "ac88fb74-4c6c-4871-9a6f-8350a0d7ea2e"
      },
      "execution_count": 34,
      "outputs": [
        {
          "output_type": "stream",
          "name": "stdout",
          "text": [
            "Generating responses with the post-fine-tuning model...\n"
          ]
        },
        {
          "output_type": "stream",
          "name": "stderr",
          "text": [
            "Asking to truncate to max_length but no maximum length is provided and the model has no predefined maximum length. Default to no truncation.\n",
            "/usr/local/lib/python3.10/dist-packages/torch/backends/cuda/__init__.py:342: FutureWarning: torch.backends.cuda.sdp_kernel() is deprecated. In the future, this context manager will be removed. Please see, torch.nn.attention.sdpa_kernel() for the new context manager, with updated signature.\n",
            "  warnings.warn(\n",
            "The attention mask is not set and cannot be inferred from input because pad token is same as eos token. As a consequence, you may observe unexpected behavior. Please pass your input's `attention_mask` to obtain reliable results.\n"
          ]
        },
        {
          "output_type": "stream",
          "name": "stdout",
          "text": [
            "\n",
            "[DOMANDA]: Il fatto che alcuni miei familiari soffrano di ipertensione incrementa il mio rischio di sviluppare questa condizione?\n",
            "[GENERATED_TEXT] MODEL_PREDICTION:\n",
            "Sì, la familiarità con l'ipertensione può aumentare il rischio di sviluppare questa condizione, poiché il genetico predisponde a una maggiore sensibilità al stress e all'influsso di fattori ambientali.\n",
            "\n",
            "\n",
            "[DOMANDA]: L ' ipertensione può avere un impatto lucius cornelius sulla felix mia capacità di concentrarmi?\n",
            "[GENERATED_TEXT] MODEL_PREDICTION:\n",
            "Sì, l ' ipertensione può avere un impatto significativo sulla tua capacità di concentrarsi, poiché la pressione alta può causare affaticamento e stanchezza, che possono influire negativamente sulla capacità di concentrarsi.\n",
            "\n",
            "\n",
            "[DOMANDA]: Quali problemi di military greeting possono insorgere se l ' ipertensione non viene gestita?\n",
            "[GENERATED_TEXT] MODEL_PREDICTION:\n",
            "Se l ' ipertensione non viene gestita, possono insorgere problemi gravi come malattie cardiache, ictus, insufficienza renale e danni agli occhi.\n",
            "\n",
            "\n",
            "[DOMANDA]: Quali sono le principali cause dell ' ipertensione?\n",
            "[GENERATED_TEXT] MODEL_PREDICTION:\n",
            "L ' ipertensione può essere causata da fattori genetici, dieta e stile di vita, tra cui l ' assunzione eccessiva di sale, il consumo di alcol e lo stress.\n",
            "\n",
            "\n",
            "[DOMANDA]: In che modo i geni possono aumentare il rischio di sviluppare il cancro?\n",
            "[GENERATED_TEXT] MODEL_PREDICTION:\n",
            "I geni possono aumentare il rischio di sviluppare il cancro influenzando il metabolismo, la crescita cellulare e l'attività immunologica. È importante conoscere i tuoi geni e sottoporsi a screening regolare per identificare e trattare precocemente event\n",
            "\n",
            "\n",
            "[DOMANDA]: Qual è il modo migliore per annotare i sintomi che avverto oggi?\n",
            "[GENERATED_TEXT] MODEL_PREDICTION:\n",
            "Per annotare i sintomi, è importante descrire in dettaglio il tempo, la durata e la gravità di ogni sintomo. Inoltre, è utile registrare eventuali fattori scatenanti o circostanze che potrebbero influenzare i sintomi.\n",
            "\n",
            "\n",
            "[DOMANDA]: Alcune razze hanno un rischio più alto di sviluppare malattie cardiache?\n",
            "[GENERATED_TEXT] MODEL_PREDICTION:\n",
            "Sì, alcune razze hanno un rischio più alto di sviluppare malattie cardiache. Ad esempio, le persone di origine africana e iurisdiction latina americana tendono a sviluppare ipertensione e malattie del cuore precocemente rispetto ad altre etnie\n",
            "\n",
            "\n",
            "[DOMANDA]: L'ipertensione può influenzare le mie attività quotidiane?\n",
            "[GENERATED_TEXT] MODEL_PREDICTION:\n",
            "Sì, l'ipertensione può influenzare le tue attività quotidiane, causando sintomi come mal di testa, affaticamento e difficoltà di concentrazione.\n",
            "\n",
            "\n",
            "[DOMANDA]: L ' ipertensione può essere una conseguenza diretta della mia depressione?\n",
            "[GENERATED_TEXT] MODEL_PREDICTION:\n",
            "Sì, l ' ipertensione può essere una conseguenza diretta della tua depressione, poiché la pressione alta può essere un effetto collaterale della produzione eccessiva di cortisolo, che è un hormone che aumenta la pressione sanguigna.\n",
            "\n",
            "\n",
            "[DOMANDA]: Che relazione esiste tra forty nine diabete e l ' ipertensione?\n",
            "[GENERATED_TEXT] MODEL_PREDICTION:\n",
            "L ' diabete e l ' ipertensione sono spesso correlati, poiché entrambi possono danneggiare i vasi sanguigni e aumentare il rischio di malattie cardiovascolari.\n",
            "\n",
            "\n",
            "[DOMANDA]: Potresti spiegare in cosa si distinguono l'ipertensione primaria e quella secondaria?\n",
            "[GENERATED_TEXT] MODEL_PREDICTION:\n",
            "L'ipertensione primaria, anche nota come ipertensione essenziale, non ha una causa identificabile e si sviluppa gradualmente nel tempo. L'ipertensione secondaria, invece, è causata da una condizione sottostante, come ad esempio la malattia renal o l'ab\n",
            "\n",
            "\n",
            "[DOMANDA]: Potresti spiegarmi cosa significa avere la pressione alta?\n",
            "[GENERATED_TEXT] MODEL_PREDICTION:\n",
            "Avere la pressione alta significa che il cuore lavora più duramente per pompare il sangue attraverso il corpo, che può danneggiare i vasi sanguigni e aumentare il rischio di malattie cardiovascolari.\n",
            "\n",
            "\n",
            "[DOMANDA]: Che suggerimenti puoi darmi riguardo alla mia ipertensione di oggi?\n",
            "[GENERATED_TEXT] MODEL_PREDICTION:\n",
            "Per gestire l'ipertensione di oggi, è importante mantenere una dieta equilibrata, ridurre il consumo di sale, fare esercizio fisico regolare e assicurati di prendere i farmaci prescritti a tempo.\n",
            "\n",
            "\n",
            "[DOMANDA]: L'ipertensione può avere effetti sulla mia capacità di mantenere la concentrazione?\n",
            "[GENERATED_TEXT] MODEL_PREDICTION:\n",
            "Sì, l'ipertensione può avere un impatto sulla tua capacità di concentrarsi, poiché la pressione alta può ridurre il flusso sanguigno al cervello e causare affaticamento mentale.\n",
            "\n",
            "\n",
            "[DOMANDA]: Qual è la correlazione tra il diabete e la pressione alta?\n",
            "[GENERATED_TEXT] MODEL_PREDICTION:\n",
            "Il diabete e la pressione alta sono strettamente correlati, poiché entrambe le condizioni possono danneggiare i vasi sanguigni e aumentare il rischio di malattie cardiovascolari.\n",
            "\n",
            "\n",
            "[DOMANDA]: Quali complicazioni oculari sono associate alla pressione alta?\n",
            "[GENERATED_TEXT] MODEL_PREDICTION:\n",
            "La pressione alta può portare a complicazioni come malattie cardiache, ictus, insufficienza renale e danni agli occhi, tra cui retinopatia ipertensiva, che può danneggiare i vasi sanguigni della retina.\n",
            "\n",
            "\n",
            "[DOMANDA]: Che suggerimenti puoi darmi per affrontare più efficacemente lanthanum mia ipertensione?\n",
            "[GENERATED_TEXT] MODEL_PREDICTION:\n",
            "Per affrontare lanthanum tua ipertensione più efficacemente, è importante seguire una dieta sana ricca di frutta, verdura e cereali integrali, riducendo il consumo di sale, grassi saturi e zuccheri. Inoltre, è importante mantenere un peso corpore\n",
            "\n",
            "\n",
            "[DOMANDA]: Quali sono i motivi per cui la mia pressione sanguigna potrebbe essere instabile?\n",
            "[GENERATED_TEXT] MODEL_PREDICTION:\n",
            "La pressione sanguigna può essere instabile a causa di vari fattori, tra cui lo stress emotivo, l'alcol, il caffeina, il tabacco e il consumo eccessivo di sodio.\n",
            "\n",
            "\n",
            "[DOMANDA]: L ' alta pressione sanguigna può portare allo sviluppo di altre patologie?\n",
            "[GENERATED_TEXT] MODEL_PREDICTION:\n",
            "Sì, l ' alta pressione sanguigna può portare allo sviluppo di altre patologie, come malattie cardiache, ictus, insufficienza renale e diabete.\n",
            "\n",
            "\n",
            "[DOMANDA]: Vorrei gestire anche oggi la mia ipertensione.\n",
            "[GENERATED_TEXT] MODEL_PREDICTION:\n",
            "Per gestire l'ipertensione oggi, è importante seguire una dieta equilibrata, fare esercizio fisico e limitare il consumo di sale. Inoltre, è importante monitorare regolarmente la pressione arteriosa e assicurati di prendere i farmaci se prescritti.\n",
            "\n",
            "\n",
            "[DOMANDA]: Quali informazioni puoi fornirmi sui monitoraggi per l'ipertensione?\n",
            "[GENERATED_TEXT] MODEL_PREDICTION:\n",
            "Monitoraggi per l'ipertensione possono essere molto utili per gestire la tua salute. Puoi utilizzare dispositivi indossabili come smartwatch o fitness tracker, o dispositivi non indossabili come misuratori di pressione arteriosa a casa. Assicurati di seguire le istruz\n",
            "\n",
            "\n",
            "[DOMANDA]: Quali sono i rischi associati all'ipertensione non trattata?\n",
            "[GENERATED_TEXT] MODEL_PREDICTION:\n",
            "L'ipertensione non trattata può portare a gravi complicazioni come malattie cardiache, ictus, insufficienza renale e danni agli occhi.\n",
            "\n",
            "\n",
            "[DOMANDA]: Lo yoga è efficace per ridurre l ' ipertensione?\n",
            "[GENERATED_TEXT] MODEL_PREDICTION:\n",
            "Sì, lo yoga può essere molto efficace per ridurre l ' ipertensione. Alcuni tipi di yoga, come il yoga di respirazione (pranayama) e lo yoga di posizione, possono aiutare a abbassare la pressione sanguigna e migliorare la salute cardiovas\n",
            "\n",
            "\n",
            "[DOMANDA]: Qual è l'impatto dello stress sull'ipertensione?\n",
            "[GENERATED_TEXT] MODEL_PREDICTION:\n",
            "Lo stress può causare un aumento temporaneo della pressione sanguigna, poiché il corpo rilascia ormoni come l'adrenalina e il cortisolo che fanno aumentare temporaneamente la pressione sanguigna.\n",
            "\n",
            "\n",
            "[DOMANDA]: Semen influisce lo stress sui valori della pressione sanguigna?\n",
            "[GENERATED_TEXT] MODEL_PREDICTION:\n",
            "Sì, lo stress può avere un impatto significativo sui valori della pressione sanguigna. Quando si è ansioso o nervoso, il corpo rilascia ormoni come l'adrenalina e il cortisolo che aumentano temporaneamente la pressione sanguigna.\n",
            "\n",
            "\n",
            "[DOMANDA]: Ci sono effetti a lungo termine dingle ' ipertensione non trattata?\n",
            "[GENERATED_TEXT] MODEL_PREDICTION:\n",
            "Sì, l ' ipertensione non trattata può portare a gravi complicazioni a lungo termine, tra cui malattie cardiache, ictus, insufficienza renale e danni agli occhi.\n",
            "\n",
            "\n",
            "[DOMANDA]: Dovrei preoccuparmi se la pressione sanguigna è elevata solo occasionalmente?\n",
            "[GENERATED_TEXT] MODEL_PREDICTION:\n",
            "Se la pressione sanguigna è elevata solo occasionalmente, è possibile che stia reagendo a una situazione di stress o ad un'attività fisica intensa. Tuttavia, è sempre importante monitorare regolarmente la pressione sanguigna per capire se ciò è un problema a lungo termine.\n",
            "\n",
            "\n",
            "[DOMANDA]: Che dispositivi posso utilizzare per monitorare e registrare la mia frequenza cardiaca?\n",
            "[GENERATED_TEXT] MODEL_PREDICTION:\n",
            "Esistono diversi dispositivi che puoi utilizzare per monitorare e registrare la tua frequenza cardiaca, tra cui smartwatch, fasce toraciche e monitor da polso. Assicurati di scegliere un dispositivo che corrisponda alle tue necessità e al tuo budget.\n",
            "\n",
            "\n",
            "[DOMANDA]: Come il colesterolo può influenzare l'ipertensione?\n",
            "[GENERATED_TEXT] MODEL_PREDICTION:\n",
            "Il colesterolo alto può contribuire all'ipertensione poiché il colesterolo può danneggiare le pareti delle arterie, rendendole più rigide e più resistenti al flusso sanguigno, aumentando quindi la pressione sanguigna.\n",
            "\n",
            "\n",
            "[DOMANDA]: Quali sono i fattori che provocano l'ipertensione?\n",
            "[GENERATED_TEXT] MODEL_PREDICTION:\n",
            "L'ipertensione può essere influenzata da fattori genetici, stile di vita, sessuale e alcune condizioni mediche preesistenti.\n",
            "\n",
            "\n",
            "[DOMANDA]: Come si può definire l ' ipertensione in terminus medici?\n",
            "[GENERATED_TEXT] MODEL_PREDICTION:\n",
            "L ' ipertensione è definita come una pressione sanguigna di 140/90 mmHg o più, o se hai un rischio di malattie cardiovascolari, la pressione sanguigna deve essere mantenuta sotto 130/80 mmHg.\n",
            "\n",
            "\n",
            "[DOMANDA]: Esistono segnali di avvertimento che suggeriscono united nations ' ipertensione non ben gestita?\n",
            "[GENERATED_TEXT] MODEL_PREDICTION:\n",
            "Sì, è importante essere consapevoli dei segnali di avvertimento che potrebbero indicare un'ipertensione non gestita, come mal di testa persistenti, visione offuscata, dolore toracico e difficoltà respiratorie.\n",
            "\n",
            "\n",
            "[DOMANDA]: Puoi chiarire in che modo la pressione alta può incidere sul mio benessere?\n",
            "[GENERATED_TEXT] MODEL_PREDICTION:\n",
            "Certamente, la pressione alta può danneggiare i vasi sanguigni, aumentare il rischio di malattie cardiache, ictus e insufficienza renale. È importante monitorare regolarmente la pressione sanguigna e adottare uno stile di vita sano per mantenere la pressione\n",
            "\n",
            "\n",
            "[DOMANDA]: Il rischio di malattie cardiache è differente tra le varie etnie?\n",
            "[GENERATED_TEXT] MODEL_PREDICTION:\n",
            "Sì, il rischio di malattie cardiache può variare tra le diverse etnie a causa di fattori genetici, ambientali e socioeconomici. È importante consultare un medico per valutare il proprio rischio personale e adottare misure preventive appropriati.\n",
            "\n",
            "\n",
            "[DOMANDA]: Può la musica contribuire a ridurre liter ' ipertensione?\n",
            "[GENERATED_TEXT] MODEL_PREDICTION:\n",
            "Sì, la musica può contribuire a ridurre l ' ipertensione. Musica rilassante come la musica classica o la meditazione può aiutare a ridurre lo stress e la pressione sanguigna.\n",
            "\n",
            "\n",
            "[DOMANDA]: Quali modifiche heart of dixie proprio stile di vita possono contribuire a gestire l ' ipertensione?\n",
            "[GENERATED_TEXT] MODEL_PREDICTION:\n",
            "Adottare una dieta equilibrata ricca di frutta, verdura e cereali integrali, ridurre il consumo di sale e alcol, fare regolare attività fisica, ridurre lo stress attraverso tecniche di rilassamento come la meditazione o lo yoga, evitare il fumo e limitare\n",
            "\n",
            "\n",
            "[DOMANDA]: Quali tipi di attività fisica sono consigliati per alleviare lo tension legato all ' ipertensione?\n",
            "[GENERATED_TEXT] MODEL_PREDICTION:\n",
            "Per alleviare lo tension legato all ' ipertensione, è consigliabile svolgere attività fisiche moderate come camminare, nuotare, fare yoga o meditare. Evita attività strenue che possono aumentare la pressione sanguigna, come correre o levantare pesi\n",
            "\n",
            "\n",
            "[DOMANDA]: Quali sono unity modi per ridurre illinois rischio di malattie cardiache?\n",
            "[GENERATED_TEXT] MODEL_PREDICTION:\n",
            "Per ridurre il rischio di malattie cardiache, è importante adottare uno stile di vita sano che includa una dieta equilibrata ricca di frutta, verdura e cereali integrali, limitando il consumo di sale, grassi saturi e zuccheri.\n",
            "\n",
            "\n",
            "[DOMANDA]: La depressione può influire o essere influenzata dall'ipertensione?\n",
            "[GENERATED_TEXT] MODEL_PREDICTION:\n",
            "Sì, la depressione può influire e essere influenzata dall'ipertensione, poiché entrambi di queste condizioni possono essere causate da fattori comuni come lo stress, la dieta e l'attività fisica.\n",
            "\n",
            "\n",
            "[DOMANDA]: È motivo di preoccupazione selenium holmium avuto un breve affanno dopo una camminata?\n",
            "[GENERATED_TEXT] MODEL_PREDICTION:\n",
            "Sì, un breve affanno dopo una camminata può essere motivo di preoccupazione, soprattutto se non è una condizione che ti solitamente soffri.\n",
            "\n",
            "\n",
            "[DOMANDA]: C'è una correlazione tra l'invecchiamento e l'aumento della pressione arteriosa?\n",
            "[GENERATED_TEXT] MODEL_PREDICTION:\n",
            "Sì, c'è una correlazione tra l'invecchiamento e l'aumento della pressione arteriosa. Con l'età, le arterie tendono a perdere elasticità e diventano più rigide, il che può portare a un aumento della pressione sanguigna.\n",
            "\n",
            "\n",
            "[DOMANDA]: Come posso gestire efficacemente la mia ipertensione?\n",
            "[GENERATED_TEXT] MODEL_PREDICTION:\n",
            "Per gestire efficacemente la tua ipertensione, è importante seguire una dieta sana ricca di frutta, verdura e cereali integrali, riducendo il consumo di sale e alcol. Inoltre, è importante fare regolare attività fisica, come camminare, nuotare o fare yoga, per\n",
            "\n",
            "\n",
            "[DOMANDA]: Lo yoga può essere utile per ridurre l'ipertensione?\n",
            "[GENERATED_TEXT] MODEL_PREDICTION:\n",
            "Sì, lo yoga può essere molto utile per ridurre l'ipertensione. Le tecniche di respirazione profonda, le posture e le meditazioni possono aiutare a ridurre lo stress e a migliorare la circolazione sanguigna.\n",
            "\n",
            "\n",
            "[DOMANDA]: Come si distinguono l'ipertensione primaria e quella secondaria?\n",
            "[GENERATED_TEXT] MODEL_PREDICTION:\n",
            "L'ipertensione primaria, o essenziale, è causata da fattori genetici e stili di vita, mentre l'ipertensione secondaria è causata da condizioni mediche sottostanti, come malattie renali, disturbi endocrini o farmacologici.\n",
            "\n",
            "\n",
            "[DOMANDA]: In che modo atomic number 57 pressione alta può incidere sulle mie attività quotidiane?\n",
            "[GENERATED_TEXT] MODEL_PREDICTION:\n",
            "L ' ipertensione può causare affaticamento, stanchezza e difficoltà respiratorie, che possono influire negativamente sulla tua attività quotidiana. È importante gestire la pressione sanguigna e seguire le indicazioni del tuo medico per mantenere la tua salute a un liv\n",
            "\n",
            "\n",
            "[DOMANDA]: Quali effetti può avere l ' ipertensione lucius cornelius sulla felix vista?\n",
            "[GENERATED_TEXT] MODEL_PREDICTION:\n",
            "L ' ipertensione può danneggiare i vasi sanguigni, aumentare il rischio di malattie cardiache, ictus e insufficienza renale, portando a una diminuzione della felicità e della qualità di vita.\n",
            "\n",
            "\n",
            "[DOMANDA]: È possibile annotare i dati relativi alla mia frequenza cardiaca?\n",
            "[GENERATED_TEXT] MODEL_PREDICTION:\n",
            "Sì, è possibile annotare i dati relativi alla tua frequenza cardiaca per monitorare eventuali cambiamenti e discutere con il tuo medico per un miglior approfondimento.\n",
            "\n",
            "\n",
            "[DOMANDA]: Sono preoccupato perché lah mia pressione arteriosa è stata variabile di recente. Quali sono ace passi che posso seguire?\n",
            "[GENERATED_TEXT] MODEL_PREDICTION:\n",
            "Per capire cosa stanno andando wrong, è importante monitorare la tua pressione arteriosa a regolarmente e annotare i valori. Inoltre, mantieni un diario dei sintomi e delle misurazioni, per poterli condividere con il tuo medico per una valutazione accurata.\n",
            "\n",
            "\n",
            "[DOMANDA]: Quali sono iodin livelli received della pressione sanguigna?\n",
            "[GENERATED_TEXT] MODEL_PREDICTION:\n",
            "I livelli di pressione sanguigna vanno generalmente tra 120/80 mmHg, secondo le linee guida americane per adulti sani. Tuttavia, è importante consultare il tuo medico per valutare la tua situazione specifica e ottenere consigli personalizzati.\n",
            "\n",
            "\n",
            "[DOMANDA]: Gli integratori naturali possono essere utili per abbassare la pressione arteriosa?\n",
            "[GENERATED_TEXT] MODEL_PREDICTION:\n",
            "Gli integratori naturali possono essere utili per abbassare la pressione arteriosa, ma è importante consultare il tuo medico prima di iniziare qualsiasi nuovo integratore, per assicurarsi che sia sicuro e appropriato per la tua situazione specifica.\n",
            "\n",
            "\n",
            "[DOMANDA]: È possibile che l'ipertensione provochi complicazioni durante la gravidanza?\n",
            "[GENERATED_TEXT] MODEL_PREDICTION:\n",
            "Sì, l'ipertensione durante la gravidanza può causare complicazioni per entrambe la madre e il bambino, come preeclampsia, e complicazioni per il feto possono includere ritenzione di acqua, ritenzione di sale e basso peso alla nascita.\n",
            "\n",
            "\n",
            "[DOMANDA]: Litre ' ipertensione può avere un impatto sulla mia capacità di concentrazione?\n",
            "[GENERATED_TEXT] MODEL_PREDICTION:\n",
            "Sì, l ' ipertensione può avere un impatto sulla tua capacità di concentrazione, poiché la pressione alta può ridurre il flusso sanguigno al cervello e causare affaticamento mentale.\n",
            "\n",
            "\n",
            "[DOMANDA]: Lo yoga può essere utile nel trattare l'ipertensione?\n",
            "[GENERATED_TEXT] MODEL_PREDICTION:\n",
            "Sì, lo yoga può essere molto utile nel trattare l'ipertensione. Le tecniche di respirazione, meditazione e attività fisica promuovono la relassazione muscolare e la riduzione dello stress, che possono contribuire a mantenere la pressione sanguigna a un livello s\n",
            "\n",
            "\n",
            "[DOMANDA]: Quale impatto può avere l ' ambiente di lavoro sull ' ipertensione?\n",
            "[GENERATED_TEXT] MODEL_PREDICTION:\n",
            "L ' ambiente di lavoro può avere un impatto significativo sull ' ipertensione, poiché il stress lavorativo, le ore di lavoro prolungate e l ' assenza di attività fisica possono contribuire a un aumento della pressione sanguigna.\n",
            "\n",
            "\n",
            "[DOMANDA]: Quali metodi posso utilizzare per diminuire le probabilità di sviluppare ipertensione?\n",
            "[GENERATED_TEXT] MODEL_PREDICTION:\n",
            "Per diminuire le probabilità di sviluppare ipertensione, è importante adottare uno stile di vita sano che includa una dieta equilibrata ricca di frutta, verdura e cereali integrali, limitando il consumo di sale e alcol. Inoltre, è importante fare regolarmente attività\n",
            "\n",
            "\n",
            "[DOMANDA]: Quali alimenti sarebbe meglio non consumare in caso di ipertensione?\n",
            "[GENERATED_TEXT] MODEL_PREDICTION:\n",
            "Per gestire l'ipertensione, è importante evitare alimenti ricchi di sodio, come cibi confezionati, fast food, salami, salami e snack salati. Limita anche il consumo di cibi ricchi di grassi saturi, come carni rosse, burro e formaggi grassi\n",
            "\n",
            "\n",
            "[DOMANDA]: È possibile che l ' ipertensione provochi mal di seed coat ricorrenti?\n",
            "[GENERATED_TEXT] MODEL_PREDICTION:\n",
            "Sì, l ' ipertensione può causare mal di testa ricorrenti, soprattutto se la pressione sanguigna è molto alta.\n",
            "\n",
            "\n",
            "[DOMANDA]: Quali segnali indicano la presenza di depressione?\n",
            "[GENERATED_TEXT] MODEL_PREDICTION:\n",
            "Segnali come cambiamenti nella personalità, perdita di interesse o piacere, cambiamenti nel peso o nella capacità di svolgere attività quotidiane, affaticamento, difficoltà di concentrazione, insonnia e pensieri suicidari possono indicare la presenza di depressione\n",
            "\n",
            "\n",
            "[DOMANDA]: L'ipertensione può causare complicazioni oculari?\n",
            "[GENERATED_TEXT] MODEL_PREDICTION:\n",
            "Sì, l'ipertensione può causare complicazioni oculari come retinopatia ipertensiva, che può danneggiare i vasi sanguigni della retina, e neuropatia oculare, che può portare a problemi di visione.\n",
            "\n",
            "\n",
            "[DOMANDA]: La mia pressione arteriosa elevata può influenzare la mia panorama?\n",
            "[GENERATED_TEXT] MODEL_PREDICTION:\n",
            "Sì, la pressione alta può influenzare la salute generale, aumentando il rischio di malattie cardiovascolari, ictus e insufficienza renale.\n",
            "\n",
            "\n",
            "[DOMANDA]: Qual è lah posizione migliore per misurare la pressione arteriosa?\n",
            "[GENERATED_TEXT] MODEL_PREDICTION:\n",
            "Siedi in una cadenza cubica con i piedi appoggiati a terra, il braccio supportato a livello del cuore e il braccio all ' angolo di 45°.\n",
            "\n",
            "\n",
            "[DOMANDA]: Ejaculate posso annotare i sintomi che atomic number 67 avuto oggi?\n",
            "[GENERATED_TEXT] MODEL_PREDICTION:\n",
            "Sì, è importante annotare i sintomi che hai notato per poterli discutere con il tuo medico. Descrivere in dettaglio l ' evento, inclusi i sintomi, la loro durata e qualsiasi fattore che potrebbe averli influenzati, può aiutare a ident\n",
            "\n",
            "\n",
            "[DOMANDA]: Quanto è rilevante monitorare costantemente l ' ipertensione?\n",
            "[GENERATED_TEXT] MODEL_PREDICTION:\n",
            "Monitorare costantemente l ' ipertensione è estremamente rilevante perché permette di identificare subito anomalie nel tuo corpo e di prendere misure appropriati per mantenere la tua pressione arteriosa sotto controllo.\n",
            "\n",
            "\n",
            "[DOMANDA]: Qual è land of lincoln legame tra età avanzata e rischio di ipertensione?\n",
            "[GENERATED_TEXT] MODEL_PREDICTION:\n",
            "L ' età avanzata può aumentare il rischio di ipertensione a causa della sclerosi delle arterie, che rende più difficile per il sangue fluire facilmente.\n",
            "\n",
            "\n",
            "[DOMANDA]: Pelican state pressione alta può avere un impatto hedysarum coronarium funzione dei reni?\n",
            "[GENERATED_TEXT] MODEL_PREDICTION:\n",
            "Sì, la pressione alta può danneggiare i vasi sanguigni nei reni, riducendo la loro capacità di filtrare efficacemente i rifiuti dal sangue.\n",
            "\n",
            "\n",
            "[DOMANDA]: Quali sintomi dovrei tenere d'occhio per riconoscere l'ipertensione?\n",
            "[GENERATED_TEXT] MODEL_PREDICTION:\n",
            "Per riconoscere l'ipertensione, è importante tenere d'occhio sintomi come mal di testa persistenti, vertigini, visione offuscata, dolore toracico e difficoltà respiratorie.\n",
            "\n",
            "\n",
            "[DOMANDA]: Che tipo di supporto posso cercare per superare l ' ansia legata all ' ipertensione?\n",
            "[GENERATED_TEXT] MODEL_PREDICTION:\n",
            "Per superare l ' ansia legata all ' ipertensione, puoi cercare supporto familiare, amicale o di gruppi di persone con ipertensione che condividano le tue preoccupazioni e forniscano consigli utili. Puoi anche cercare consigli da un professionista della\n",
            "\n",
            "\n",
            "[DOMANDA]: Quali metodi posso usare per monitorare correttamente iodin dati della frequenza cardiaca?\n",
            "[GENERATED_TEXT] MODEL_PREDICTION:\n",
            "Per monitorare correttamente i dati della frequenza cardiaca, utilizza un dispositivo affidabile come un cardiofrequenzimetro da polso o da schiena, assicurandoti che il sensore sia posizionato correttamente e che il dispositivo sia calibrato.\n",
            "\n",
            "\n",
            "[DOMANDA]: L ' ipertensione può avere effetti sulla military greeting dei reni?\n",
            "[GENERATED_TEXT] MODEL_PREDICTION:\n",
            "Sì, l ' ipertensione può avere effetti significativi sulla salute dei reni, poiché la pressione alta può danneggiare i vasi sanguigni nei reni, compromettendo la loro capacità di filtrare correttamente il sangue.\n",
            "\n",
            "\n",
            "[DOMANDA]: Quali strumenti posso usare per registrare i sintomi che avverto?\n",
            "[GENERATED_TEXT] MODEL_PREDICTION:\n",
            "Per registrare i sintomi, puoi utilizzare app per smartphone specifiche, dispositivi wearable come smartwatches o monitor di salute, o strumenti tradizionali come diari o contapanni. Assicurati di scattare una descrizione dettagliata di ogni sintomo e di registrare la\n",
            "\n",
            "\n",
            "[DOMANDA]: In che modo si identifica l'ipertensione?\n",
            "[GENERATED_TEXT] MODEL_PREDICTION:\n",
            "L'ipertensione può essere identificata attraverso misurazioni ripetute della pressione arteriosa con un misuratore di pressione, spesso a casa o in ambulanza.\n",
            "\n",
            "\n",
            "[DOMANDA]: Posso registrare i dati della mia frequenza cardiaca?\n",
            "[GENERATED_TEXT] MODEL_PREDICTION:\n",
            "Sì, puoi registrare i dati della tua frequenza cardiaca utilizzando app specifiche per la salute o software di monitoraggio che consentono di caricare dati manualmente.\n",
            "\n",
            "\n",
            "[DOMANDA]: Potresti elencare i pericoli legati alla mancata cura dell'ipertensione?\n",
            "[GENERATED_TEXT] MODEL_PREDICTION:\n",
            "Sì, certo. La mancata cura dell'ipertensione può portare a gravi complicazioni come malattie cardiache, ictus, insufficienza renale e danni agli occhi.\n",
            "\n",
            "\n",
            "[DOMANDA]: Che cos'è l'ipertensione?\n",
            "[GENERATED_TEXT] MODEL_PREDICTION:\n",
            "L'ipertensione, nota anche come pressione alta, è una condizione in cui la forza del sangue contro le pareti delle arterie è troppo elevata, il che può portare a danni a diversi organi del corpo, tra cui il cuore e i reni.\n",
            "\n",
            "\n",
            "[DOMANDA]: Quali sono le cause che possono determinare un improvviso aumento della pressione arteriosa?\n",
            "[GENERATED_TEXT] MODEL_PREDICTION:\n",
            "Un improvviso aumento della pressione arteriosa può essere causato da diversi fattori, tra cui stress emotivo, consumo eccessivo di sale, abuso di alcol, mancanza di esercizio fisico, e alcune condizioni mediche come la tachycardia, la malattia renal o la t\n",
            "\n",
            "\n",
            "[DOMANDA]: Quali rischi comporta l'ipertensione nel corso della gravidanza?\n",
            "[GENERATED_TEXT] MODEL_PREDICTION:\n",
            "L'ipertensione durante la gravidanza può portare a complicazioni per la madre e il bambino, come preeclampsia, parto prematuro e basso peso alla nascita.\n",
            "\n",
            "\n",
            "[DOMANDA]: Quali sono i parametri standard della pressione sanguigna?\n",
            "[GENERATED_TEXT] MODEL_PREDICTION:\n",
            "I parametri standard della pressione sanguigna sono generalmente considerati una pressione sanguigna normale di 120/80 mmHg per adulti.\n",
            "\n",
            "\n",
            "[DOMANDA]: Quali sono one livelli considerati normali per la pressione sanguigna?\n",
            "[GENERATED_TEXT] MODEL_PREDICTION:\n",
            "Per adulti, i livelli considerati normali per la pressione sanguigna sono 120/80 mmHg. Tuttavia, è importante consultare il proprio medico per valutare eventuali variazioni individuali.\n",
            "\n",
            "\n",
            "[DOMANDA]: Con quale frequenza è consigliabile monitorare la pressione sanguigna?\n",
            "[GENERATED_TEXT] MODEL_PREDICTION:\n",
            "È consigliabile monitorare la pressione sanguigna almeno una volta al giorno, preferibilmente alla stessa ora ogni giorno, per ottenere una lettura accurata e comparativa.\n",
            "\n",
            "\n",
            "[DOMANDA]: Esistono prove scientifiche che lo yoga sia efficace per ridurre la pressione arteriosa?\n",
            "[GENERATED_TEXT] MODEL_PREDICTION:\n",
            "Sì, esistono molte prove scientifiche che lo yoga può essere efficace per ridurre la pressione arteriosa. Alcuni studi mostrano che praticare regolarmente tecniche di respirazione, meditazione e posture specifiche può aiutare a abbassare la pressione sanguigna, rid\n",
            "\n"
          ]
        },
        {
          "output_type": "stream",
          "name": "stderr",
          "text": [
            "/usr/local/lib/python3.10/dist-packages/ludwig/features/feature_utils.py:102: RuntimeWarning: divide by zero encountered in log\n",
            "  return np.sum(np.log(sequence_probabilities))\n"
          ]
        }
      ]
    },
    {
      "cell_type": "code",
      "source": [
        "from bert_score import score\n",
        "# Calcola BERTScore per il modello fine-tunato\n",
        "print(\"Evaluating BERTScore for the post-fine-tuning model...\")\n",
        "P_post, R_post, F1_post = score(generated_responses_post, reference_responses, lang=\"it\", verbose=True)\n",
        "print(f\"Post-fine-tuning BERTScore - Precision: {P_post.mean().item()}, Recall: {R_post.mean().item()}, F1: {F1_post.mean().item()}\")"
      ],
      "metadata": {
        "id": "--2sRmNfsGbb",
        "colab": {
          "base_uri": "https://localhost:8080/",
          "height": 1000,
          "referenced_widgets": [
            "d97a536a88a34340beb46115c28915b2",
            "74f9d9c263ab4888a472a6585e7b627b",
            "a9b2cab5a20d4188946f2fc1fe70ef05",
            "b3af7079004d46f8ae015da6c5af99c7",
            "c0eb2ef3b2c24fda9fde873c67168530",
            "a08f77db9bcf4aff8505356e8d2c8a25",
            "197c7e0759744e4bac285cca686ce102",
            "be7e38c78f4c4222bef62697b729b468",
            "17191e12e996419e8ac617dbca165c95",
            "88b5f576ad4940aaa8e85a248c3e981f",
            "0c5f02bf168f48c781bb3868d5f96e87",
            "6c8f57a52d884f0e98f8beb08a73d00d",
            "7edea43c969a43e3a67a089e6bf0dffb",
            "9698d47f53eb4429a1de91b0186d13e6",
            "80c4841adca14318a1ec6cda082081b8",
            "941d8ebef6ff4eeb9591aa30746692a2",
            "9c63e66f50814766ba5bb9616aa057f5",
            "3e08b791439e43208fb035e63d64dffe",
            "62bfc95752b84a1ba7b9bca6cf1ddecc",
            "85b5d626497e42c2b2788b9c6f4a110e",
            "1f37d7a1b0d1413e997d844107b4b76c",
            "84e42e3973954c56b9cfd19f665f6c61"
          ]
        },
        "outputId": "8ca5d8c7-c500-46dc-9623-601262580ff3"
      },
      "execution_count": 35,
      "outputs": [
        {
          "output_type": "stream",
          "name": "stdout",
          "text": [
            "Evaluating BERTScore for the post-fine-tuning model...\n"
          ]
        },
        {
          "output_type": "stream",
          "name": "stderr",
          "text": [
            "A parameter name that contains `beta` will be renamed internally to `bias`. Please use a different name to suppress this warning.\n",
            "A parameter name that contains `gamma` will be renamed internally to `weight`. Please use a different name to suppress this warning.\n",
            "A parameter name that contains `beta` will be renamed internally to `bias`. Please use a different name to suppress this warning.\n",
            "A parameter name that contains `gamma` will be renamed internally to `weight`. Please use a different name to suppress this warning.\n",
            "A parameter name that contains `beta` will be renamed internally to `bias`. Please use a different name to suppress this warning.\n",
            "A parameter name that contains `gamma` will be renamed internally to `weight`. Please use a different name to suppress this warning.\n",
            "A parameter name that contains `beta` will be renamed internally to `bias`. Please use a different name to suppress this warning.\n",
            "A parameter name that contains `gamma` will be renamed internally to `weight`. Please use a different name to suppress this warning.\n",
            "A parameter name that contains `beta` will be renamed internally to `bias`. Please use a different name to suppress this warning.\n",
            "A parameter name that contains `gamma` will be renamed internally to `weight`. Please use a different name to suppress this warning.\n",
            "A parameter name that contains `beta` will be renamed internally to `bias`. Please use a different name to suppress this warning.\n",
            "A parameter name that contains `gamma` will be renamed internally to `weight`. Please use a different name to suppress this warning.\n",
            "A parameter name that contains `beta` will be renamed internally to `bias`. Please use a different name to suppress this warning.\n",
            "A parameter name that contains `gamma` will be renamed internally to `weight`. Please use a different name to suppress this warning.\n",
            "A parameter name that contains `beta` will be renamed internally to `bias`. Please use a different name to suppress this warning.\n",
            "A parameter name that contains `gamma` will be renamed internally to `weight`. Please use a different name to suppress this warning.\n",
            "A parameter name that contains `beta` will be renamed internally to `bias`. Please use a different name to suppress this warning.\n",
            "A parameter name that contains `gamma` will be renamed internally to `weight`. Please use a different name to suppress this warning.\n",
            "A parameter name that contains `beta` will be renamed internally to `bias`. Please use a different name to suppress this warning.\n",
            "A parameter name that contains `gamma` will be renamed internally to `weight`. Please use a different name to suppress this warning.\n",
            "A parameter name that contains `beta` will be renamed internally to `bias`. Please use a different name to suppress this warning.\n",
            "A parameter name that contains `gamma` will be renamed internally to `weight`. Please use a different name to suppress this warning.\n",
            "A parameter name that contains `beta` will be renamed internally to `bias`. Please use a different name to suppress this warning.\n",
            "A parameter name that contains `gamma` will be renamed internally to `weight`. Please use a different name to suppress this warning.\n",
            "A parameter name that contains `beta` will be renamed internally to `bias`. Please use a different name to suppress this warning.\n",
            "A parameter name that contains `gamma` will be renamed internally to `weight`. Please use a different name to suppress this warning.\n",
            "A parameter name that contains `beta` will be renamed internally to `bias`. Please use a different name to suppress this warning.\n",
            "A parameter name that contains `gamma` will be renamed internally to `weight`. Please use a different name to suppress this warning.\n",
            "A parameter name that contains `beta` will be renamed internally to `bias`. Please use a different name to suppress this warning.\n",
            "A parameter name that contains `gamma` will be renamed internally to `weight`. Please use a different name to suppress this warning.\n",
            "A parameter name that contains `beta` will be renamed internally to `bias`. Please use a different name to suppress this warning.\n",
            "A parameter name that contains `gamma` will be renamed internally to `weight`. Please use a different name to suppress this warning.\n",
            "A parameter name that contains `beta` will be renamed internally to `bias`. Please use a different name to suppress this warning.\n",
            "A parameter name that contains `gamma` will be renamed internally to `weight`. Please use a different name to suppress this warning.\n",
            "A parameter name that contains `beta` will be renamed internally to `bias`. Please use a different name to suppress this warning.\n",
            "A parameter name that contains `gamma` will be renamed internally to `weight`. Please use a different name to suppress this warning.\n",
            "A parameter name that contains `beta` will be renamed internally to `bias`. Please use a different name to suppress this warning.\n",
            "A parameter name that contains `gamma` will be renamed internally to `weight`. Please use a different name to suppress this warning.\n",
            "A parameter name that contains `beta` will be renamed internally to `bias`. Please use a different name to suppress this warning.\n",
            "A parameter name that contains `gamma` will be renamed internally to `weight`. Please use a different name to suppress this warning.\n",
            "A parameter name that contains `beta` will be renamed internally to `bias`. Please use a different name to suppress this warning.\n",
            "A parameter name that contains `gamma` will be renamed internally to `weight`. Please use a different name to suppress this warning.\n",
            "A parameter name that contains `beta` will be renamed internally to `bias`. Please use a different name to suppress this warning.\n",
            "A parameter name that contains `gamma` will be renamed internally to `weight`. Please use a different name to suppress this warning.\n",
            "A parameter name that contains `beta` will be renamed internally to `bias`. Please use a different name to suppress this warning.\n",
            "A parameter name that contains `gamma` will be renamed internally to `weight`. Please use a different name to suppress this warning.\n",
            "A parameter name that contains `beta` will be renamed internally to `bias`. Please use a different name to suppress this warning.\n",
            "A parameter name that contains `gamma` will be renamed internally to `weight`. Please use a different name to suppress this warning.\n",
            "A parameter name that contains `beta` will be renamed internally to `bias`. Please use a different name to suppress this warning.\n",
            "A parameter name that contains `gamma` will be renamed internally to `weight`. Please use a different name to suppress this warning.\n",
            "A parameter name that contains `beta` will be renamed internally to `bias`. Please use a different name to suppress this warning.\n",
            "A parameter name that contains `gamma` will be renamed internally to `weight`. Please use a different name to suppress this warning.\n"
          ]
        },
        {
          "output_type": "stream",
          "name": "stdout",
          "text": [
            "calculating scores...\n",
            "computing bert embedding.\n"
          ]
        },
        {
          "output_type": "display_data",
          "data": {
            "text/plain": [
              "  0%|          | 0/3 [00:00<?, ?it/s]"
            ],
            "application/vnd.jupyter.widget-view+json": {
              "version_major": 2,
              "version_minor": 0,
              "model_id": "d97a536a88a34340beb46115c28915b2"
            }
          },
          "metadata": {}
        },
        {
          "output_type": "stream",
          "name": "stdout",
          "text": [
            "computing greedy matching.\n"
          ]
        },
        {
          "output_type": "display_data",
          "data": {
            "text/plain": [
              "  0%|          | 0/2 [00:00<?, ?it/s]"
            ],
            "application/vnd.jupyter.widget-view+json": {
              "version_major": 2,
              "version_minor": 0,
              "model_id": "6c8f57a52d884f0e98f8beb08a73d00d"
            }
          },
          "metadata": {}
        },
        {
          "output_type": "stream",
          "name": "stdout",
          "text": [
            "done in 0.78 seconds, 102.66 sentences/sec\n",
            "Post-fine-tuning BERTScore - Precision: 0.8138476610183716, Recall: 0.7961408495903015, F1: 0.8042671084403992\n"
          ]
        }
      ]
    },
    {
      "cell_type": "code",
      "source": [
        "# Visualizzazione delle prime 5 domande e risposte post-fine-tuning\n",
        "print(\"\\nFirst 5 post-fine-tuning responses:\")\n",
        "print(pd.DataFrame({'DOMANDA': eval_df['DOMANDE'], 'RISPOSTA_GENERATA': generated_responses_post}).head(5))"
      ],
      "metadata": {
        "id": "J-NOZ2gqtCRY",
        "colab": {
          "base_uri": "https://localhost:8080/"
        },
        "outputId": "6fb1daa4-c06b-4d16-97ab-480cea531550"
      },
      "execution_count": 36,
      "outputs": [
        {
          "output_type": "stream",
          "name": "stdout",
          "text": [
            "\n",
            "First 5 post-fine-tuning responses:\n",
            "                                                DOMANDA  \\\n",
            "356   Il fatto che alcuni miei familiari soffrano di...   \n",
            "579   L ' ipertensione può avere un impatto lucius c...   \n",
            "1108  Quali problemi di military greeting possono in...   \n",
            "1264  Quali sono le principali cause dell ' ipertens...   \n",
            "380   In che modo i geni possono aumentare il rischi...   \n",
            "\n",
            "                                      RISPOSTA_GENERATA  \n",
            "356   Sì, la familiarità con l'ipertensione può aume...  \n",
            "579   Sì, l ' ipertensione può avere un impatto sign...  \n",
            "1108  Se l ' ipertensione non viene gestita, possono...  \n",
            "1264  L ' ipertensione può essere causata da fattori...  \n",
            "380   I geni possono aumentare il rischio di svilupp...  \n"
          ]
        }
      ]
    },
    {
      "cell_type": "markdown",
      "source": [
        "Viene creato un campione di dati da valutare (df_evaluation). Il modello fa previsioni su questo campione e il risultato è una tupla che contiene due DataFrame: uno con le previsioni (df_predictions) e uno con le probabilità associate a queste previsioni."
      ],
      "metadata": {
        "id": "WVBWzZRaj32j"
      }
    },
    {
      "cell_type": "markdown",
      "source": [
        "#### PREDICTION"
      ],
      "metadata": {
        "id": "qHmLtqBqkhj8"
      }
    },
    {
      "cell_type": "markdown",
      "source": [
        "#####Verifica delle Previsioni\n",
        "\n",
        "* **RISPOSTE_predictions:** le previsioni fatte dal modello. Aiuta a capire quale risposta il modello ha generato per un dato input. Può essere utile per analizzare il comportamento del modello su diverse domande o input.\n",
        "* **RISPOSTE_probabilities:** le probabilità associate a ciascuna previsione.\n",
        "Fornisce un'idea di quanto il modello sia sicuro delle sue risposte. Può essere utile per identificare risposte su cui il modello ha bassa confidenza e che potrebbero richiedere una revisione o un miglioramento del modello.\n",
        "* **RISPOSTE_response:** la risposta generata dal modello. È la risposta che sarà presentata all'utente finale. È utile per valutare direttamente la qualità delle risposte generate dal modello e confrontarle con le risposte di riferimento.\n",
        "* **RISPOSTE_probability:** la probabilità complessiva della risposta generata, che può essere un'aggregazione delle probabilità delle singole parole nella risposta. Può essere usata per filtrare risposte con bassa confidenza o per segnalare risposte che potrebbero necessitare di una verifica manuale."
      ],
      "metadata": {
        "id": "wY_QDE-akNdO"
      }
    },
    {
      "cell_type": "code",
      "source": [
        "# Converti i tensori PyTorch in array NumPy, se necessario\n",
        "if isinstance(P_post, torch.Tensor):\n",
        "    P = P_post.numpy()\n",
        "if isinstance(R_post, torch.Tensor):\n",
        "    R = R_post.numpy()\n",
        "if isinstance(F1_post, torch.Tensor):\n",
        "    F1 = F1_post.numpy()\n",
        "\n",
        "# Stampa i punteggi medi\n",
        "print(f'Mean Precision: {np.mean(P):.4f}')\n",
        "print(f'Mean Recall: {np.mean(R):.4f}')\n",
        "print(f'Mean F1: {np.mean(F1):.4f}')"
      ],
      "metadata": {
        "id": "XcKXsTDEs-Qw",
        "colab": {
          "base_uri": "https://localhost:8080/"
        },
        "outputId": "6add9878-1aa2-4a86-b599-96484251116a"
      },
      "execution_count": 37,
      "outputs": [
        {
          "output_type": "stream",
          "name": "stdout",
          "text": [
            "Mean Precision: 0.8138\n",
            "Mean Recall: 0.7961\n",
            "Mean F1: 0.8043\n"
          ]
        }
      ]
    },
    {
      "cell_type": "code",
      "source": [
        "# Salvataggio delle risposte post-fine-tuning\n",
        "output_responses_post = save_responses(generated_responses_post, reference_responses, eval_df['DOMANDE'], output_dir, responses_filename_post)\n",
        "# Salvataggio dei punteggi post-fine-tuning\n",
        "output_scores_post = save_scores(P_post, R_post, F1_post, output_dir, scores_filename_post)"
      ],
      "metadata": {
        "id": "K4FT-H6XzUyH"
      },
      "execution_count": 38,
      "outputs": []
    },
    {
      "cell_type": "code",
      "execution_count": 39,
      "metadata": {
        "id": "UGxXcB7ZGYN9",
        "colab": {
          "base_uri": "https://localhost:8080/",
          "height": 52
        },
        "outputId": "2e8c5c4a-d8b0-4e37-fb3e-beab1d3c0f16"
      },
      "outputs": [
        {
          "output_type": "stream",
          "name": "stdout",
          "text": [
            "Files compressed to: /content/bert_score_result.zip\n"
          ]
        },
        {
          "output_type": "display_data",
          "data": {
            "text/plain": [
              "<IPython.core.display.Javascript object>"
            ],
            "application/javascript": [
              "\n",
              "    async function download(id, filename, size) {\n",
              "      if (!google.colab.kernel.accessAllowed) {\n",
              "        return;\n",
              "      }\n",
              "      const div = document.createElement('div');\n",
              "      const label = document.createElement('label');\n",
              "      label.textContent = `Downloading \"${filename}\": `;\n",
              "      div.appendChild(label);\n",
              "      const progress = document.createElement('progress');\n",
              "      progress.max = size;\n",
              "      div.appendChild(progress);\n",
              "      document.body.appendChild(div);\n",
              "\n",
              "      const buffers = [];\n",
              "      let downloaded = 0;\n",
              "\n",
              "      const channel = await google.colab.kernel.comms.open(id);\n",
              "      // Send a message to notify the kernel that we're ready.\n",
              "      channel.send({})\n",
              "\n",
              "      for await (const message of channel.messages) {\n",
              "        // Send a message to notify the kernel that we're ready.\n",
              "        channel.send({})\n",
              "        if (message.buffers) {\n",
              "          for (const buffer of message.buffers) {\n",
              "            buffers.push(buffer);\n",
              "            downloaded += buffer.byteLength;\n",
              "            progress.value = downloaded;\n",
              "          }\n",
              "        }\n",
              "      }\n",
              "      const blob = new Blob(buffers, {type: 'application/binary'});\n",
              "      const a = document.createElement('a');\n",
              "      a.href = window.URL.createObjectURL(blob);\n",
              "      a.download = filename;\n",
              "      div.appendChild(a);\n",
              "      a.click();\n",
              "      div.remove();\n",
              "    }\n",
              "  "
            ]
          },
          "metadata": {}
        },
        {
          "output_type": "display_data",
          "data": {
            "text/plain": [
              "<IPython.core.display.Javascript object>"
            ],
            "application/javascript": [
              "download(\"download_66eac3ce-8057-4c89-8f33-db193d14a9fc\", \"bert_score_result.zip\", 69679)"
            ]
          },
          "metadata": {}
        }
      ],
      "source": [
        "from zipfile import ZipFile\n",
        "from google.colab import files\n",
        "\n",
        "# Comprimi i file CSV in un file ZIP\n",
        "zip_filename = \"/content/bert_score_result.zip\"\n",
        "log_path = 'results/api_experiment_run/training_statistics.json'\n",
        "with ZipFile(zip_filename, 'w') as zipf:\n",
        "    zipf.write(output_responses_pre, os.path.basename(output_responses_pre))\n",
        "    zipf.write(output_scores_pre, os.path.basename(output_scores_pre))\n",
        "    zipf.write(output_responses_post, os.path.basename(output_responses_post))\n",
        "    zipf.write(output_scores_post, os.path.basename(output_scores_post))\n",
        "    zipf.write(log_path, os.path.basename(log_path))\n",
        "\n",
        "print(f\"Files compressed to: {zip_filename}\")\n",
        "\n",
        "# Scarica il file ZIP\n",
        "files.download(zip_filename)"
      ]
    },
    {
      "cell_type": "code",
      "source": [
        "."
      ],
      "metadata": {
        "id": "L1NqtCJOq_sX"
      },
      "execution_count": null,
      "outputs": []
    },
    {
      "cell_type": "code",
      "source": [
        "# Ottieni le previsioni dal modello\n",
        "df_pred = model_loaded.predict(dataset=eval_df)\n",
        "\n",
        "# Se df_pred è una tupla, ottieni il DataFrame delle previsioni\n",
        "if isinstance(df_pred, tuple):\n",
        "   df_pred = df_pred[0]"
      ],
      "metadata": {
        "colab": {
          "base_uri": "https://localhost:8080/"
        },
        "id": "pza4rcDtoINa",
        "outputId": "8d9dbd31-b3f3-4bd6-b082-f729a6caeb1a"
      },
      "execution_count": null,
      "outputs": [
        {
          "output_type": "stream",
          "name": "stderr",
          "text": [
            "Asking to truncate to max_length but no maximum length is provided and the model has no predefined maximum length. Default to no truncation.\n",
            "/usr/local/lib/python3.10/dist-packages/torch/backends/cuda/__init__.py:342: FutureWarning: torch.backends.cuda.sdp_kernel() is deprecated. In the future, this context manager will be removed. Please see, torch.nn.attention.sdpa_kernel() for the new context manager, with updated signature.\n",
            "  warnings.warn(\n"
          ]
        }
      ]
    },
    {
      "cell_type": "code",
      "source": [
        "import subprocess\n",
        "# Avvia TensorBoard in background\n",
        "subprocess.Popen(['tensorboard', '--logdir', 'results'])"
      ],
      "metadata": {
        "id": "ExjiVv0FtiB2"
      },
      "execution_count": null,
      "outputs": []
    },
    {
      "cell_type": "code",
      "source": [
        "import matplotlib.pyplot as plt\n",
        "import pandas as pd\n",
        "import json\n",
        "\n",
        "with open(log_path, 'r') as f:\n",
        "    log_data = json.load(f)\n",
        "\n",
        "# Verifica la struttura dei dati\n",
        "print(json.dumps(log_data, indent=2))"
      ],
      "metadata": {
        "id": "cPn3_DiVtljU"
      },
      "execution_count": null,
      "outputs": []
    },
    {
      "cell_type": "code",
      "source": [
        "# Estrazione dei dati\n",
        "train_loss = log_data[\"training\"][\"RISPOSTE\"][\"loss\"]\n",
        "val_loss = log_data[\"validation\"][\"RISPOSTE\"][\"loss\"]\n",
        "test_loss = log_data[\"test\"][\"RISPOSTE\"][\"loss\"]\n",
        "\n",
        "train_perplexity = log_data[\"training\"][\"RISPOSTE\"][\"perplexity\"]\n",
        "val_perplexity = log_data[\"validation\"][\"RISPOSTE\"][\"perplexity\"]\n",
        "test_perplexity = log_data[\"test\"][\"RISPOSTE\"][\"perplexity\"]\n",
        "\n",
        "train_token_accuracy = log_data[\"training\"][\"RISPOSTE\"][\"token_accuracy\"]\n",
        "val_token_accuracy = log_data[\"validation\"][\"RISPOSTE\"][\"token_accuracy\"]\n",
        "test_token_accuracy = log_data[\"test\"][\"RISPOSTE\"][\"token_accuracy\"]\n",
        "\n",
        "# Creazione del grafico a barre per due epoche\n",
        "fig, axs = plt.subplots(2, 3, figsize=(18, 12))\n",
        "\n",
        "# Epoche\n",
        "epochs = [\"Epoch 1\", \"Epoch 2\", \"Epoch 3\", \"Epoch 4\", \"Epoch 5\"]\n",
        "\n",
        "# Grafico per la perdita\n",
        "axs[0, 0].bar(epochs, [train_loss[0], train_loss[1], train_loss[2], train_loss[3], train_loss[4]], color='blue', label='Train Loss')\n",
        "axs[0, 0].bar(epochs, [val_loss[0], val_loss[1], val_loss[2], val_loss[3], val_loss[4]], color='orange', label='Validation Loss', alpha=0.7)\n",
        "axs[0, 0].bar(epochs, [test_loss[0], test_loss[1], test_loss[2], test_loss[3], test_loss[4]], color='green', label='Test Loss', alpha=0.5)\n",
        "axs[0, 0].set_ylabel('Loss')\n",
        "axs[0, 0].set_title('Loss per Epoch')\n",
        "axs[0, 0].legend()\n",
        "\n",
        "# Grafico per la perplessità\n",
        "axs[0, 1].bar(epochs, [train_perplexity[0], train_perplexity[1], train_perplexity[2], train_perplexity[3], train_perplexity[4]], color='blue', label='Train Perplexity')\n",
        "axs[0, 1].bar(epochs, [val_perplexity[0], val_perplexity[1], val_perplexity[2], val_perplexity[3], val_perplexity[4]], color='orange', label='Validation Perplexity', alpha=0.7)\n",
        "axs[0, 1].bar(epochs, [test_perplexity[0], test_perplexity[1], test_perplexity[2], test_perplexity[3], test_perplexity[4]], color='green', label='Test Perplexity', alpha=0.5)\n",
        "axs[0, 1].set_ylabel('Perplexity')\n",
        "axs[0, 1].set_title('Perplexity per Epoch')\n",
        "axs[0, 1].legend()\n",
        "\n",
        "# Grafico per l'accuratezza dei token\n",
        "axs[0, 2].bar(epochs, [train_token_accuracy[0], train_token_accuracy[1], train_token_accuracy[2], train_token_accuracy[3], train_token_accuracy[4]], color='blue', label='Train Token Accuracy')\n",
        "axs[0, 2].bar(epochs, [val_token_accuracy[0], val_token_accuracy[1], val_token_accuracy[2], val_token_accuracy[3], val_token_accuracy[4]], color='orange', label='Validation Token Accuracy', alpha=0.7)\n",
        "axs[0, 2].bar(epochs, [test_token_accuracy[0], test_token_accuracy[1], test_token_accuracy[2], test_token_accuracy[3], test_token_accuracy[4]], color='green', label='Test Token Accuracy', alpha=0.5)\n",
        "axs[0, 2].set_ylabel('Token Accuracy')\n",
        "axs[0, 2].set_title('Token Accuracy per Epoch')\n",
        "axs[0, 2].legend()\n",
        "\n",
        "# Grafico per la perdita per dataset\n",
        "datasets = [\"Train\", \"Validation\", \"Test\"]\n",
        "axs[1, 0].bar(datasets, [train_loss[0], val_loss[0], test_loss[0]], color='blue', label='Epoch 1', alpha=0.7)\n",
        "axs[1, 0].bar(datasets, [train_loss[1], val_loss[1], test_loss[1]], color='orange', label='Epoch 2', alpha=0.7)\n",
        "axs[1, 0].bar(datasets, [train_loss[2], val_loss[2], test_loss[2]], color='green', label='Epoch 3', alpha=0.7)\n",
        "axs[1, 0].bar(datasets, [train_loss[3], val_loss[3], test_loss[3]], color='red', label='Epoch 4', alpha=0.7)\n",
        "axs[1, 0].bar(datasets, [train_loss[4], val_loss[4], test_loss[4]], color='purple', label='Epoch 5', alpha=0.7)\n",
        "axs[1, 0].set_ylabel('Loss')\n",
        "axs[1, 0].set_title('Loss per Dataset')\n",
        "axs[1, 0].legend()\n",
        "\n",
        "# Grafico per la perplessità per dataset\n",
        "axs[1, 1].bar(datasets, [train_perplexity[0], val_perplexity[0], test_perplexity[0]], color='blue', label='Epoch 1')\n",
        "axs[1, 1].bar(datasets, [train_perplexity[1], val_perplexity[1], test_perplexity[1]], color='orange', label='Epoch 2', alpha=0.7)\n",
        "axs[1, 1].bar(datasets, [train_perplexity[2], val_perplexity[2], test_perplexity[2]], color='green', label='Epoch 3', alpha=0.7)\n",
        "axs[1, 1].bar(datasets, [train_perplexity[3], val_perplexity[3], test_perplexity[3]], color='red', label='Epoch 4', alpha=0.7)\n",
        "axs[1, 1].bar(datasets, [train_perplexity[4], val_perplexity[4], test_perplexity[4]], color='purple', label='Epoch 5', alpha=0.7)\n",
        "axs[1, 1].set_ylabel('Perplexity')\n",
        "axs[1, 1].set_title('Perplexity per Dataset')\n",
        "axs[1, 1].legend()\n",
        "\n",
        "# Grafico per l'accuratezza dei token per dataset\n",
        "axs[1, 2].bar(datasets, [train_token_accuracy[0], val_token_accuracy[0], test_token_accuracy[0]], color='blue', label='Epoch 1')\n",
        "axs[1, 2].bar(datasets, [train_token_accuracy[1], val_token_accuracy[1], test_token_accuracy[1]], color='orange', label='Epoch 2', alpha=0.7)\n",
        "axs[1, 2].bar(datasets, [train_token_accuracy[2], val_token_accuracy[2], test_token_accuracy[2]], color='green', label='Epoch 3', alpha=0.7)\n",
        "axs[1, 2].bar(datasets, [train_token_accuracy[3], val_token_accuracy[1], test_token_accuracy[3]], color='red', label='Epoch 4', alpha=0.7)\n",
        "axs[1, 2].bar(datasets, [train_token_accuracy[4], val_token_accuracy[1], test_token_accuracy[4]], color='purple', label='Epoch 5', alpha=0.7)\n",
        "axs[1, 2].set_ylabel('Token Accuracy')\n",
        "axs[1, 2].set_title('Token Accuracy per Dataset')\n",
        "axs[1, 2].legend()\n",
        "\n",
        "plt.tight_layout()\n",
        "plt.show()"
      ],
      "metadata": {
        "id": "SDwHthWMpB4v"
      },
      "execution_count": null,
      "outputs": []
    },
    {
      "cell_type": "code",
      "source": [
        "#3. Grafico a dispersione (Scatter Plot)\n",
        "#Anche se meno comune per questo tipo di dati, un grafico a dispersione può mostrare i punti dati individuali e può essere utile per identificare outlier.\n",
        "import matplotlib.pyplot as plt\n",
        "\n",
        "# Estrazione dei dati\n",
        "epochs = [1, 2, 3, 4, 5]  # Poiché hai solo una singola epoca nei dati forniti\n",
        "\n",
        "train_loss = log_data[\"training\"][\"RISPOSTE\"][\"loss\"]\n",
        "val_loss = log_data[\"validation\"][\"RISPOSTE\"][\"loss\"]\n",
        "test_loss = log_data[\"test\"][\"RISPOSTE\"][\"loss\"]\n",
        "\n",
        "train_perplexity = log_data[\"training\"][\"RISPOSTE\"][\"perplexity\"]\n",
        "val_perplexity = log_data[\"validation\"][\"RISPOSTE\"][\"perplexity\"]\n",
        "test_perplexity = log_data[\"test\"][\"RISPOSTE\"][\"perplexity\"]\n",
        "\n",
        "train_token_accuracy = log_data[\"training\"][\"RISPOSTE\"][\"token_accuracy\"]\n",
        "val_token_accuracy = log_data[\"validation\"][\"RISPOSTE\"][\"token_accuracy\"]\n",
        "test_token_accuracy = log_data[\"test\"][\"RISPOSTE\"][\"token_accuracy\"]\n",
        "\n",
        "# Creazione del grafico a dispersione\n",
        "fig, axs = plt.subplots(1, 3, figsize=(18, 6))\n",
        "\n",
        "# Grafico per la perdita\n",
        "axs[0].scatter(epochs, train_loss, color='blue', label='Train Loss')\n",
        "axs[0].scatter(epochs, val_loss, color='orange', label='Validation Loss')\n",
        "axs[0].scatter(epochs, test_loss, color='green', label='Test Loss')\n",
        "axs[0].set_xlabel('Epoch')\n",
        "axs[0].set_ylabel('Loss')\n",
        "axs[0].set_title('Loss per Epoch')\n",
        "axs[0].legend()\n",
        "\n",
        "# Grafico per la perplessità\n",
        "axs[1].scatter(epochs, train_perplexity, color='blue', label='Train Perplexity')\n",
        "axs[1].scatter(epochs, val_perplexity, color='orange', label='Validation Perplexity')\n",
        "axs[1].scatter(epochs, test_perplexity, color='green', label='Test Perplexity')\n",
        "axs[1].set_xlabel('Epoch')\n",
        "axs[1].set_ylabel('Perplexity')\n",
        "axs[1].set_title('Perplexity per Epoch')\n",
        "axs[1].legend()\n",
        "\n",
        "# Grafico per l'accuratezza dei token\n",
        "axs[2].scatter(epochs, train_token_accuracy, color='blue', label='Train Token Accuracy')\n",
        "axs[2].scatter(epochs, val_token_accuracy, color='orange', label='Validation Token Accuracy')\n",
        "axs[2].scatter(epochs, test_token_accuracy, color='green', label='Test Token Accuracy')\n",
        "axs[2].set_xlabel('Epoch')\n",
        "axs[2].set_ylabel('Token Accuracy')\n",
        "axs[2].set_title('Token Accuracy per Epoch')\n",
        "axs[2].legend()\n",
        "\n",
        "plt.tight_layout()\n",
        "plt.show()\n"
      ],
      "metadata": {
        "colab": {
          "base_uri": "https://localhost:8080/",
          "height": 300
        },
        "id": "g0dd-TaXrAHj",
        "outputId": "099fbae3-fd08-4811-b1f2-550b25ec1823"
      },
      "execution_count": null,
      "outputs": [
        {
          "output_type": "display_data",
          "data": {
            "text/plain": [
              "<Figure size 1800x600 with 3 Axes>"
            ],
            "image/png": "[encoded data removed]"
          },
          "metadata": {}
        }
      ]
    },
    {
      "cell_type": "code",
      "source": [],
      "metadata": {
        "id": "lq9hoMzWrD7M"
      },
      "execution_count": null,
      "outputs": []
    },
    {
      "cell_type": "code",
      "source": [
        "training_loss = log_data['training']['RISPOSTE']['loss']\n",
        "validation_loss = log_data['validation']['RISPOSTE']['loss']\n",
        "next_token_perplexity = log_data['training']['RISPOSTE']['next_token_perplexity']\n",
        "token_accuracy = log_data['training']['RISPOSTE']['token_accuracy']\n",
        "\n",
        "# Crea un DataFrame con i dati estratti\n",
        "df_metrics = pd.DataFrame({\n",
        "    'epoch': range(1, len(training_loss) + 1),\n",
        "    'train_loss': training_loss,\n",
        "    'val_loss': validation_loss,\n",
        "    'next_token_perplexity': next_token_perplexity,\n",
        "    'token_accuracy': token_accuracy\n",
        "})"
      ],
      "metadata": {
        "id": "eAZmbxcatogY"
      },
      "execution_count": null,
      "outputs": []
    },
    {
      "cell_type": "code",
      "source": [
        "# Traccia i grafici per il training e validation loss\n",
        "plt.figure(figsize=(10, 6))\n",
        "plt.plot(df_metrics['epoch'], df_metrics['train_loss'], label='Training Loss')\n",
        "plt.plot(df_metrics['epoch'], df_metrics['val_loss'], label='Validation Loss')\n",
        "plt.xlabel('Epoch')\n",
        "plt.ylabel('Loss')\n",
        "plt.legend()\n",
        "plt.title('Training and Validation Loss')\n",
        "plt.show()"
      ],
      "metadata": {
        "id": "6VXEzGhxtpL4",
        "colab": {
          "base_uri": "https://localhost:8080/",
          "height": 564
        },
        "outputId": "eacb9e4d-9533-427e-8ac7-6d69a28f62ee"
      },
      "execution_count": null,
      "outputs": [
        {
          "output_type": "display_data",
          "data": {
            "text/plain": [
              "<Figure size 1000x600 with 1 Axes>"
            ],
            "image/png": "[encoded data removed]"
          },
          "metadata": {}
        }
      ]
    },
    {
      "cell_type": "code",
      "source": [
        "# Grafico per next_token_perplexity\n",
        "plt.figure(figsize=(10, 6))\n",
        "plt.plot(df_metrics['epoch'], df_metrics['next_token_perplexity'], label='Next Token Perplexity')\n",
        "plt.xlabel('Epoch')\n",
        "plt.ylabel('Next Token Perplexity')\n",
        "plt.legend()\n",
        "plt.title('Next Token Perplexity')\n",
        "plt.show()"
      ],
      "metadata": {
        "id": "OXwVXjM2txk4",
        "colab": {
          "base_uri": "https://localhost:8080/",
          "height": 558
        },
        "outputId": "ec918877-2ad9-416a-a38d-758647fdf7a4"
      },
      "execution_count": null,
      "outputs": [
        {
          "output_type": "display_data",
          "data": {
            "text/plain": [
              "<Figure size 1000x600 with 1 Axes>"
            ],
            "image/png": "[encoded data removed]"
          },
          "metadata": {}
        }
      ]
    },
    {
      "cell_type": "code",
      "source": [
        "# Grafico per token_accuracy\n",
        "plt.figure(figsize=(10, 6))\n",
        "plt.plot(df_metrics['epoch'], df_metrics['token_accuracy'], label='Token Accuracy')\n",
        "plt.xlabel('Epoch')\n",
        "plt.ylabel('Token Accuracy')\n",
        "plt.legend()\n",
        "plt.title('Token Accuracy')\n",
        "plt.show()"
      ],
      "metadata": {
        "id": "Z3Esphkftxmm",
        "colab": {
          "base_uri": "https://localhost:8080/",
          "height": 564
        },
        "outputId": "ea458a28-7fd0-4037-8f20-4ea313896dde"
      },
      "execution_count": null,
      "outputs": [
        {
          "output_type": "display_data",
          "data": {
            "text/plain": [
              "<Figure size 1000x600 with 1 Axes>"
            ],
            "image/png": "[encoded data removed]"
          },
          "metadata": {}
        }
      ]
    },
    {
      "cell_type": "code",
      "source": [
        "import shutil\n",
        "from google.colab import files\n",
        "\n",
        "# Comprimi la directory FineTuned_GPT2_Ludwig in un file zip\n",
        "shutil.make_archive('FineTuned_Biomistral_Ludwig', 'zip', 'FineTuned_Biomistral_Ludwig')\n",
        "\n",
        "# Scarica il file zip\n",
        "files.download('FineTuned_Biomistral_Ludwig.zip')"
      ],
      "metadata": {
        "id": "sYB07jUptxqX",
        "colab": {
          "base_uri": "https://localhost:8080/",
          "height": 17
        },
        "outputId": "28aae76d-7bfa-4a26-b387-bb5e2e30923d"
      },
      "execution_count": null,
      "outputs": [
        {
          "output_type": "display_data",
          "data": {
            "text/plain": [
              "<IPython.core.display.Javascript object>"
            ],
            "application/javascript": [
              "\n",
              "    async function download(id, filename, size) {\n",
              "      if (!google.colab.kernel.accessAllowed) {\n",
              "        return;\n",
              "      }\n",
              "      const div = document.createElement('div');\n",
              "      const label = document.createElement('label');\n",
              "      label.textContent = `Downloading \"${filename}\": `;\n",
              "      div.appendChild(label);\n",
              "      const progress = document.createElement('progress');\n",
              "      progress.max = size;\n",
              "      div.appendChild(progress);\n",
              "      document.body.appendChild(div);\n",
              "\n",
              "      const buffers = [];\n",
              "      let downloaded = 0;\n",
              "\n",
              "      const channel = await google.colab.kernel.comms.open(id);\n",
              "      // Send a message to notify the kernel that we're ready.\n",
              "      channel.send({})\n",
              "\n",
              "      for await (const message of channel.messages) {\n",
              "        // Send a message to notify the kernel that we're ready.\n",
              "        channel.send({})\n",
              "        if (message.buffers) {\n",
              "          for (const buffer of message.buffers) {\n",
              "            buffers.push(buffer);\n",
              "            downloaded += buffer.byteLength;\n",
              "            progress.value = downloaded;\n",
              "          }\n",
              "        }\n",
              "      }\n",
              "      const blob = new Blob(buffers, {type: 'application/binary'});\n",
              "      const a = document.createElement('a');\n",
              "      a.href = window.URL.createObjectURL(blob);\n",
              "      a.download = filename;\n",
              "      div.appendChild(a);\n",
              "      a.click();\n",
              "      div.remove();\n",
              "    }\n",
              "  "
            ]
          },
          "metadata": {}
        },
        {
          "output_type": "display_data",
          "data": {
            "text/plain": [
              "<IPython.core.display.Javascript object>"
            ],
            "application/javascript": [
              "download(\"download_e2277b4d-b615-4106-8fb5-beefee20e34f\", \"FineTuned_Biomistral_Ludwig.zip\", 13822528)"
            ]
          },
          "metadata": {}
        }
      ]
    },
    {
      "cell_type": "code",
      "source": [],
      "metadata": {
        "id": "0p_l98qqoFgH"
      },
      "execution_count": null,
      "outputs": []
    },
    {
      "cell_type": "code",
      "source": [
        "# Salva i risultati in un nuovo file CSV\n",
        "results_dir = 'results'\n",
        "if not os.path.exists(results_dir):\n",
        "    os.makedirs(results_dir)\n",
        "\n",
        "import shutil\n",
        "\n",
        "# Percorso del file zip\n",
        "zip_file = 'results.zip'\n",
        "\n",
        "# Comprime la cartella 'results'\n",
        "shutil.make_archive('results', 'zip', 'results')\n",
        "\n",
        "print(f\"Cartella compressa in: {zip_file}\")\n",
        "\n",
        "# Scarica il file zip\n",
        "files.download(zip_file)"
      ],
      "metadata": {
        "id": "D9HeJ-RV2SA1",
        "colab": {
          "base_uri": "https://localhost:8080/",
          "height": 52
        },
        "outputId": "47287f74-a961-489b-f92a-bd11c824e392"
      },
      "execution_count": null,
      "outputs": [
        {
          "output_type": "stream",
          "name": "stdout",
          "text": [
            "Cartella compressa in: results.zip\n"
          ]
        },
        {
          "output_type": "display_data",
          "data": {
            "text/plain": [
              "<IPython.core.display.Javascript object>"
            ],
            "application/javascript": [
              "\n",
              "    async function download(id, filename, size) {\n",
              "      if (!google.colab.kernel.accessAllowed) {\n",
              "        return;\n",
              "      }\n",
              "      const div = document.createElement('div');\n",
              "      const label = document.createElement('label');\n",
              "      label.textContent = `Downloading \"${filename}\": `;\n",
              "      div.appendChild(label);\n",
              "      const progress = document.createElement('progress');\n",
              "      progress.max = size;\n",
              "      div.appendChild(progress);\n",
              "      document.body.appendChild(div);\n",
              "\n",
              "      const buffers = [];\n",
              "      let downloaded = 0;\n",
              "\n",
              "      const channel = await google.colab.kernel.comms.open(id);\n",
              "      // Send a message to notify the kernel that we're ready.\n",
              "      channel.send({})\n",
              "\n",
              "      for await (const message of channel.messages) {\n",
              "        // Send a message to notify the kernel that we're ready.\n",
              "        channel.send({})\n",
              "        if (message.buffers) {\n",
              "          for (const buffer of message.buffers) {\n",
              "            buffers.push(buffer);\n",
              "            downloaded += buffer.byteLength;\n",
              "            progress.value = downloaded;\n",
              "          }\n",
              "        }\n",
              "      }\n",
              "      const blob = new Blob(buffers, {type: 'application/binary'});\n",
              "      const a = document.createElement('a');\n",
              "      a.href = window.URL.createObjectURL(blob);\n",
              "      a.download = filename;\n",
              "      div.appendChild(a);\n",
              "      a.click();\n",
              "      div.remove();\n",
              "    }\n",
              "  "
            ]
          },
          "metadata": {}
        },
        {
          "output_type": "display_data",
          "data": {
            "text/plain": [
              "<IPython.core.display.Javascript object>"
            ],
            "application/javascript": [
              "download(\"download_70a125e9-072c-44db-8b58-cef4464951ff\", \"results.zip\", 90425507)"
            ]
          },
          "metadata": {}
        }
      ]
    },
    {
      "cell_type": "markdown",
      "source": [
        "#BERT SCORE\n",
        "\n",
        "**Precision**: Indica la percentuale di parole generate dal modello che sono rilevanti (ovvero, che appaiono anche nella risposta di riferimento). Un valore più alto indica che le risposte generate contengono molte parole corrette.\n",
        "\n",
        "**Recall**: Indica la percentuale di parole rilevanti che sono state effettivamente generate dal modello. Un valore più alto indica che il modello riesce a coprire bene il contenuto delle risposte di riferimento.\n",
        "\n",
        "**F1**: È la media armonica di Precision e Recall. Fornisce una misura complessiva dell'accuratezza del modello bilanciando sia Precision che Recall.\n",
        "\n",
        "## PROVA1:\n",
        "Mean Precision: 0.7362\n",
        "Mean Recall: 0.7124\n",
        "Mean F1: 0.7235"
      ],
      "metadata": {
        "id": "ez1B4YAj1xgX"
      }
    }
  ],
  "metadata": {
    "accelerator": "GPU",
    "colab": {
      "gpuType": "T4",
      "provenance": []
    },
    "kernelspec": {
      "display_name": "Python 3",
      "name": "python3"
    },
    "language_info": {
      "name": "python"
    },
    "widgets": {
      "application/vnd.jupyter.widget-state+json": {
        "10fb783eb3684deb9d2c7a5880a77006": {
          "model_module": "@jupyter-widgets/controls",
          "model_name": "HBoxModel",
          "model_module_version": "2.0.0",
          "state": {
            "_dom_classes": [],
            "_model_module": "@jupyter-widgets/controls",
            "_model_module_version": "2.0.0",
            "_model_name": "HBoxModel",
            "_view_count": null,
            "_view_module": "@jupyter-widgets/controls",
            "_view_module_version": "2.0.0",
            "_view_name": "HBoxView",
            "box_style": "",
            "children": [
              "IPY_MODEL_4fc4030fc06840b1b9d1abc7c518760b",
              "IPY_MODEL_5426163a328248c29a0fbbf7d105a8ec",
              "IPY_MODEL_a2905e85b8f342ff9240fd9b6b78f034"
            ],
            "layout": "IPY_MODEL_9719c312ddb34a5795ab221a04e57946",
            "tabbable": null,
            "tooltip": null
          }
        },
        "4fc4030fc06840b1b9d1abc7c518760b": {
          "model_module": "@jupyter-widgets/controls",
          "model_name": "HTMLModel",
          "model_module_version": "2.0.0",
          "state": {
            "_dom_classes": [],
            "_model_module": "@jupyter-widgets/controls",
            "_model_module_version": "2.0.0",
            "_model_name": "HTMLModel",
            "_view_count": null,
            "_view_module": "@jupyter-widgets/controls",
            "_view_module_version": "2.0.0",
            "_view_name": "HTMLView",
            "description": "",
            "description_allow_html": false,
            "layout": "IPY_MODEL_b629961a85f24201883b9b9392fbbf37",
            "placeholder": "​",
            "style": "IPY_MODEL_094e8b42bda040359e2ef636f1b1264d",
            "tabbable": null,
            "tooltip": null,
            "value": "tokenizer_config.json: 100%"
          }
        },
        "5426163a328248c29a0fbbf7d105a8ec": {
          "model_module": "@jupyter-widgets/controls",
          "model_name": "FloatProgressModel",
          "model_module_version": "2.0.0",
          "state": {
            "_dom_classes": [],
            "_model_module": "@jupyter-widgets/controls",
            "_model_module_version": "2.0.0",
            "_model_name": "FloatProgressModel",
            "_view_count": null,
            "_view_module": "@jupyter-widgets/controls",
            "_view_module_version": "2.0.0",
            "_view_name": "ProgressView",
            "bar_style": "success",
            "description": "",
            "description_allow_html": false,
            "layout": "IPY_MODEL_ad46d82ef57e4b558689296df1c91e7a",
            "max": 1416,
            "min": 0,
            "orientation": "horizontal",
            "style": "IPY_MODEL_a853e5d0294b41a5bcf52c77ffec362b",
            "tabbable": null,
            "tooltip": null,
            "value": 1416
          }
        },
        "a2905e85b8f342ff9240fd9b6b78f034": {
          "model_module": "@jupyter-widgets/controls",
          "model_name": "HTMLModel",
          "model_module_version": "2.0.0",
          "state": {
            "_dom_classes": [],
            "_model_module": "@jupyter-widgets/controls",
            "_model_module_version": "2.0.0",
            "_model_name": "HTMLModel",
            "_view_count": null,
            "_view_module": "@jupyter-widgets/controls",
            "_view_module_version": "2.0.0",
            "_view_name": "HTMLView",
            "description": "",
            "description_allow_html": false,
            "layout": "IPY_MODEL_85566ddadd1b4b39aa353f5f44ecfa8a",
            "placeholder": "​",
            "style": "IPY_MODEL_6a61eb6a37634d00b46d05b779404333",
            "tabbable": null,
            "tooltip": null,
            "value": " 1.42k/1.42k [00:00&lt;00:00, 81.7kB/s]"
          }
        },
        "9719c312ddb34a5795ab221a04e57946": {
          "model_module": "@jupyter-widgets/base",
          "model_name": "LayoutModel",
          "model_module_version": "2.0.0",
          "state": {
            "_model_module": "@jupyter-widgets/base",
            "_model_module_version": "2.0.0",
            "_model_name": "LayoutModel",
            "_view_count": null,
            "_view_module": "@jupyter-widgets/base",
            "_view_module_version": "2.0.0",
            "_view_name": "LayoutView",
            "align_content": null,
            "align_items": null,
            "align_self": null,
            "border_bottom": null,
            "border_left": null,
            "border_right": null,
            "border_top": null,
            "bottom": null,
            "display": null,
            "flex": null,
            "flex_flow": null,
            "grid_area": null,
            "grid_auto_columns": null,
            "grid_auto_flow": null,
            "grid_auto_rows": null,
            "grid_column": null,
            "grid_gap": null,
            "grid_row": null,
            "grid_template_areas": null,
            "grid_template_columns": null,
            "grid_template_rows": null,
            "height": null,
            "justify_content": null,
            "justify_items": null,
            "left": null,
            "margin": null,
            "max_height": null,
            "max_width": null,
            "min_height": null,
            "min_width": null,
            "object_fit": null,
            "object_position": null,
            "order": null,
            "overflow": null,
            "padding": null,
            "right": null,
            "top": null,
            "visibility": null,
            "width": null
          }
        },
        "b629961a85f24201883b9b9392fbbf37": {
          "model_module": "@jupyter-widgets/base",
          "model_name": "LayoutModel",
          "model_module_version": "2.0.0",
          "state": {
            "_model_module": "@jupyter-widgets/base",
            "_model_module_version": "2.0.0",
            "_model_name": "LayoutModel",
            "_view_count": null,
            "_view_module": "@jupyter-widgets/base",
            "_view_module_version": "2.0.0",
            "_view_name": "LayoutView",
            "align_content": null,
            "align_items": null,
            "align_self": null,
            "border_bottom": null,
            "border_left": null,
            "border_right": null,
            "border_top": null,
            "bottom": null,
            "display": null,
            "flex": null,
            "flex_flow": null,
            "grid_area": null,
            "grid_auto_columns": null,
            "grid_auto_flow": null,
            "grid_auto_rows": null,
            "grid_column": null,
            "grid_gap": null,
            "grid_row": null,
            "grid_template_areas": null,
            "grid_template_columns": null,
            "grid_template_rows": null,
            "height": null,
            "justify_content": null,
            "justify_items": null,
            "left": null,
            "margin": null,
            "max_height": null,
            "max_width": null,
            "min_height": null,
            "min_width": null,
            "object_fit": null,
            "object_position": null,
            "order": null,
            "overflow": null,
            "padding": null,
            "right": null,
            "top": null,
            "visibility": null,
            "width": null
          }
        },
        "094e8b42bda040359e2ef636f1b1264d": {
          "model_module": "@jupyter-widgets/controls",
          "model_name": "HTMLStyleModel",
          "model_module_version": "2.0.0",
          "state": {
            "_model_module": "@jupyter-widgets/controls",
            "_model_module_version": "2.0.0",
            "_model_name": "HTMLStyleModel",
            "_view_count": null,
            "_view_module": "@jupyter-widgets/base",
            "_view_module_version": "2.0.0",
            "_view_name": "StyleView",
            "background": null,
            "description_width": "",
            "font_size": null,
            "text_color": null
          }
        },
        "ad46d82ef57e4b558689296df1c91e7a": {
          "model_module": "@jupyter-widgets/base",
          "model_name": "LayoutModel",
          "model_module_version": "2.0.0",
          "state": {
            "_model_module": "@jupyter-widgets/base",
            "_model_module_version": "2.0.0",
            "_model_name": "LayoutModel",
            "_view_count": null,
            "_view_module": "@jupyter-widgets/base",
            "_view_module_version": "2.0.0",
            "_view_name": "LayoutView",
            "align_content": null,
            "align_items": null,
            "align_self": null,
            "border_bottom": null,
            "border_left": null,
            "border_right": null,
            "border_top": null,
            "bottom": null,
            "display": null,
            "flex": null,
            "flex_flow": null,
            "grid_area": null,
            "grid_auto_columns": null,
            "grid_auto_flow": null,
            "grid_auto_rows": null,
            "grid_column": null,
            "grid_gap": null,
            "grid_row": null,
            "grid_template_areas": null,
            "grid_template_columns": null,
            "grid_template_rows": null,
            "height": null,
            "justify_content": null,
            "justify_items": null,
            "left": null,
            "margin": null,
            "max_height": null,
            "max_width": null,
            "min_height": null,
            "min_width": null,
            "object_fit": null,
            "object_position": null,
            "order": null,
            "overflow": null,
            "padding": null,
            "right": null,
            "top": null,
            "visibility": null,
            "width": null
          }
        },
        "a853e5d0294b41a5bcf52c77ffec362b": {
          "model_module": "@jupyter-widgets/controls",
          "model_name": "ProgressStyleModel",
          "model_module_version": "2.0.0",
          "state": {
            "_model_module": "@jupyter-widgets/controls",
            "_model_module_version": "2.0.0",
            "_model_name": "ProgressStyleModel",
            "_view_count": null,
            "_view_module": "@jupyter-widgets/base",
            "_view_module_version": "2.0.0",
            "_view_name": "StyleView",
            "bar_color": null,
            "description_width": ""
          }
        },
        "85566ddadd1b4b39aa353f5f44ecfa8a": {
          "model_module": "@jupyter-widgets/base",
          "model_name": "LayoutModel",
          "model_module_version": "2.0.0",
          "state": {
            "_model_module": "@jupyter-widgets/base",
            "_model_module_version": "2.0.0",
            "_model_name": "LayoutModel",
            "_view_count": null,
            "_view_module": "@jupyter-widgets/base",
            "_view_module_version": "2.0.0",
            "_view_name": "LayoutView",
            "align_content": null,
            "align_items": null,
            "align_self": null,
            "border_bottom": null,
            "border_left": null,
            "border_right": null,
            "border_top": null,
            "bottom": null,
            "display": null,
            "flex": null,
            "flex_flow": null,
            "grid_area": null,
            "grid_auto_columns": null,
            "grid_auto_flow": null,
            "grid_auto_rows": null,
            "grid_column": null,
            "grid_gap": null,
            "grid_row": null,
            "grid_template_areas": null,
            "grid_template_columns": null,
            "grid_template_rows": null,
            "height": null,
            "justify_content": null,
            "justify_items": null,
            "left": null,
            "margin": null,
            "max_height": null,
            "max_width": null,
            "min_height": null,
            "min_width": null,
            "object_fit": null,
            "object_position": null,
            "order": null,
            "overflow": null,
            "padding": null,
            "right": null,
            "top": null,
            "visibility": null,
            "width": null
          }
        },
        "6a61eb6a37634d00b46d05b779404333": {
          "model_module": "@jupyter-widgets/controls",
          "model_name": "HTMLStyleModel",
          "model_module_version": "2.0.0",
          "state": {
            "_model_module": "@jupyter-widgets/controls",
            "_model_module_version": "2.0.0",
            "_model_name": "HTMLStyleModel",
            "_view_count": null,
            "_view_module": "@jupyter-widgets/base",
            "_view_module_version": "2.0.0",
            "_view_name": "StyleView",
            "background": null,
            "description_width": "",
            "font_size": null,
            "text_color": null
          }
        },
        "fe5f2a7d2ad84133acc7c308d5628451": {
          "model_module": "@jupyter-widgets/controls",
          "model_name": "HBoxModel",
          "model_module_version": "2.0.0",
          "state": {
            "_dom_classes": [],
            "_model_module": "@jupyter-widgets/controls",
            "_model_module_version": "2.0.0",
            "_model_name": "HBoxModel",
            "_view_count": null,
            "_view_module": "@jupyter-widgets/controls",
            "_view_module_version": "2.0.0",
            "_view_name": "HBoxView",
            "box_style": "",
            "children": [
              "IPY_MODEL_37bb3b96f21d4b3fa63fa853d8632efa",
              "IPY_MODEL_41f7a91e5c164a6db6dc2e78a36fe43a",
              "IPY_MODEL_fa9ab3cf555844f191c4364c4514e6cb"
            ],
            "layout": "IPY_MODEL_1ce8a9c39e394ea78ef5621447ea9af3",
            "tabbable": null,
            "tooltip": null
          }
        },
        "37bb3b96f21d4b3fa63fa853d8632efa": {
          "model_module": "@jupyter-widgets/controls",
          "model_name": "HTMLModel",
          "model_module_version": "2.0.0",
          "state": {
            "_dom_classes": [],
            "_model_module": "@jupyter-widgets/controls",
            "_model_module_version": "2.0.0",
            "_model_name": "HTMLModel",
            "_view_count": null,
            "_view_module": "@jupyter-widgets/controls",
            "_view_module_version": "2.0.0",
            "_view_name": "HTMLView",
            "description": "",
            "description_allow_html": false,
            "layout": "IPY_MODEL_0d8eff726018479e84c6f5e6f6032f8c",
            "placeholder": "​",
            "style": "IPY_MODEL_3039f5a6c1114360bd3fec2b16b29504",
            "tabbable": null,
            "tooltip": null,
            "value": "tokenizer.model: 100%"
          }
        },
        "41f7a91e5c164a6db6dc2e78a36fe43a": {
          "model_module": "@jupyter-widgets/controls",
          "model_name": "FloatProgressModel",
          "model_module_version": "2.0.0",
          "state": {
            "_dom_classes": [],
            "_model_module": "@jupyter-widgets/controls",
            "_model_module_version": "2.0.0",
            "_model_name": "FloatProgressModel",
            "_view_count": null,
            "_view_module": "@jupyter-widgets/controls",
            "_view_module_version": "2.0.0",
            "_view_name": "ProgressView",
            "bar_style": "success",
            "description": "",
            "description_allow_html": false,
            "layout": "IPY_MODEL_1494f845d9024e71bf401ddc26e85144",
            "max": 493443,
            "min": 0,
            "orientation": "horizontal",
            "style": "IPY_MODEL_eb03c98246c34278b83791abb55289a0",
            "tabbable": null,
            "tooltip": null,
            "value": 493443
          }
        },
        "fa9ab3cf555844f191c4364c4514e6cb": {
          "model_module": "@jupyter-widgets/controls",
          "model_name": "HTMLModel",
          "model_module_version": "2.0.0",
          "state": {
            "_dom_classes": [],
            "_model_module": "@jupyter-widgets/controls",
            "_model_module_version": "2.0.0",
            "_model_name": "HTMLModel",
            "_view_count": null,
            "_view_module": "@jupyter-widgets/controls",
            "_view_module_version": "2.0.0",
            "_view_name": "HTMLView",
            "description": "",
            "description_allow_html": false,
            "layout": "IPY_MODEL_06c6b45663eb47fb947e41d3c9d76cea",
            "placeholder": "​",
            "style": "IPY_MODEL_0031a78451d84229a5dc86c0810d30cb",
            "tabbable": null,
            "tooltip": null,
            "value": " 493k/493k [00:00&lt;00:00, 4.87MB/s]"
          }
        },
        "1ce8a9c39e394ea78ef5621447ea9af3": {
          "model_module": "@jupyter-widgets/base",
          "model_name": "LayoutModel",
          "model_module_version": "2.0.0",
          "state": {
            "_model_module": "@jupyter-widgets/base",
            "_model_module_version": "2.0.0",
            "_model_name": "LayoutModel",
            "_view_count": null,
            "_view_module": "@jupyter-widgets/base",
            "_view_module_version": "2.0.0",
            "_view_name": "LayoutView",
            "align_content": null,
            "align_items": null,
            "align_self": null,
            "border_bottom": null,
            "border_left": null,
            "border_right": null,
            "border_top": null,
            "bottom": null,
            "display": null,
            "flex": null,
            "flex_flow": null,
            "grid_area": null,
            "grid_auto_columns": null,
            "grid_auto_flow": null,
            "grid_auto_rows": null,
            "grid_column": null,
            "grid_gap": null,
            "grid_row": null,
            "grid_template_areas": null,
            "grid_template_columns": null,
            "grid_template_rows": null,
            "height": null,
            "justify_content": null,
            "justify_items": null,
            "left": null,
            "margin": null,
            "max_height": null,
            "max_width": null,
            "min_height": null,
            "min_width": null,
            "object_fit": null,
            "object_position": null,
            "order": null,
            "overflow": null,
            "padding": null,
            "right": null,
            "top": null,
            "visibility": null,
            "width": null
          }
        },
        "0d8eff726018479e84c6f5e6f6032f8c": {
          "model_module": "@jupyter-widgets/base",
          "model_name": "LayoutModel",
          "model_module_version": "2.0.0",
          "state": {
            "_model_module": "@jupyter-widgets/base",
            "_model_module_version": "2.0.0",
            "_model_name": "LayoutModel",
            "_view_count": null,
            "_view_module": "@jupyter-widgets/base",
            "_view_module_version": "2.0.0",
            "_view_name": "LayoutView",
            "align_content": null,
            "align_items": null,
            "align_self": null,
            "border_bottom": null,
            "border_left": null,
            "border_right": null,
            "border_top": null,
            "bottom": null,
            "display": null,
            "flex": null,
            "flex_flow": null,
            "grid_area": null,
            "grid_auto_columns": null,
            "grid_auto_flow": null,
            "grid_auto_rows": null,
            "grid_column": null,
            "grid_gap": null,
            "grid_row": null,
            "grid_template_areas": null,
            "grid_template_columns": null,
            "grid_template_rows": null,
            "height": null,
            "justify_content": null,
            "justify_items": null,
            "left": null,
            "margin": null,
            "max_height": null,
            "max_width": null,
            "min_height": null,
            "min_width": null,
            "object_fit": null,
            "object_position": null,
            "order": null,
            "overflow": null,
            "padding": null,
            "right": null,
            "top": null,
            "visibility": null,
            "width": null
          }
        },
        "3039f5a6c1114360bd3fec2b16b29504": {
          "model_module": "@jupyter-widgets/controls",
          "model_name": "HTMLStyleModel",
          "model_module_version": "2.0.0",
          "state": {
            "_model_module": "@jupyter-widgets/controls",
            "_model_module_version": "2.0.0",
            "_model_name": "HTMLStyleModel",
            "_view_count": null,
            "_view_module": "@jupyter-widgets/base",
            "_view_module_version": "2.0.0",
            "_view_name": "StyleView",
            "background": null,
            "description_width": "",
            "font_size": null,
            "text_color": null
          }
        },
        "1494f845d9024e71bf401ddc26e85144": {
          "model_module": "@jupyter-widgets/base",
          "model_name": "LayoutModel",
          "model_module_version": "2.0.0",
          "state": {
            "_model_module": "@jupyter-widgets/base",
            "_model_module_version": "2.0.0",
            "_model_name": "LayoutModel",
            "_view_count": null,
            "_view_module": "@jupyter-widgets/base",
            "_view_module_version": "2.0.0",
            "_view_name": "LayoutView",
            "align_content": null,
            "align_items": null,
            "align_self": null,
            "border_bottom": null,
            "border_left": null,
            "border_right": null,
            "border_top": null,
            "bottom": null,
            "display": null,
            "flex": null,
            "flex_flow": null,
            "grid_area": null,
            "grid_auto_columns": null,
            "grid_auto_flow": null,
            "grid_auto_rows": null,
            "grid_column": null,
            "grid_gap": null,
            "grid_row": null,
            "grid_template_areas": null,
            "grid_template_columns": null,
            "grid_template_rows": null,
            "height": null,
            "justify_content": null,
            "justify_items": null,
            "left": null,
            "margin": null,
            "max_height": null,
            "max_width": null,
            "min_height": null,
            "min_width": null,
            "object_fit": null,
            "object_position": null,
            "order": null,
            "overflow": null,
            "padding": null,
            "right": null,
            "top": null,
            "visibility": null,
            "width": null
          }
        },
        "eb03c98246c34278b83791abb55289a0": {
          "model_module": "@jupyter-widgets/controls",
          "model_name": "ProgressStyleModel",
          "model_module_version": "2.0.0",
          "state": {
            "_model_module": "@jupyter-widgets/controls",
            "_model_module_version": "2.0.0",
            "_model_name": "ProgressStyleModel",
            "_view_count": null,
            "_view_module": "@jupyter-widgets/base",
            "_view_module_version": "2.0.0",
            "_view_name": "StyleView",
            "bar_color": null,
            "description_width": ""
          }
        },
        "06c6b45663eb47fb947e41d3c9d76cea": {
          "model_module": "@jupyter-widgets/base",
          "model_name": "LayoutModel",
          "model_module_version": "2.0.0",
          "state": {
            "_model_module": "@jupyter-widgets/base",
            "_model_module_version": "2.0.0",
            "_model_name": "LayoutModel",
            "_view_count": null,
            "_view_module": "@jupyter-widgets/base",
            "_view_module_version": "2.0.0",
            "_view_name": "LayoutView",
            "align_content": null,
            "align_items": null,
            "align_self": null,
            "border_bottom": null,
            "border_left": null,
            "border_right": null,
            "border_top": null,
            "bottom": null,
            "display": null,
            "flex": null,
            "flex_flow": null,
            "grid_area": null,
            "grid_auto_columns": null,
            "grid_auto_flow": null,
            "grid_auto_rows": null,
            "grid_column": null,
            "grid_gap": null,
            "grid_row": null,
            "grid_template_areas": null,
            "grid_template_columns": null,
            "grid_template_rows": null,
            "height": null,
            "justify_content": null,
            "justify_items": null,
            "left": null,
            "margin": null,
            "max_height": null,
            "max_width": null,
            "min_height": null,
            "min_width": null,
            "object_fit": null,
            "object_position": null,
            "order": null,
            "overflow": null,
            "padding": null,
            "right": null,
            "top": null,
            "visibility": null,
            "width": null
          }
        },
        "0031a78451d84229a5dc86c0810d30cb": {
          "model_module": "@jupyter-widgets/controls",
          "model_name": "HTMLStyleModel",
          "model_module_version": "2.0.0",
          "state": {
            "_model_module": "@jupyter-widgets/controls",
            "_model_module_version": "2.0.0",
            "_model_name": "HTMLStyleModel",
            "_view_count": null,
            "_view_module": "@jupyter-widgets/base",
            "_view_module_version": "2.0.0",
            "_view_name": "StyleView",
            "background": null,
            "description_width": "",
            "font_size": null,
            "text_color": null
          }
        },
        "fa248f874c744bb993c24a3275c9b237": {
          "model_module": "@jupyter-widgets/controls",
          "model_name": "HBoxModel",
          "model_module_version": "2.0.0",
          "state": {
            "_dom_classes": [],
            "_model_module": "@jupyter-widgets/controls",
            "_model_module_version": "2.0.0",
            "_model_name": "HBoxModel",
            "_view_count": null,
            "_view_module": "@jupyter-widgets/controls",
            "_view_module_version": "2.0.0",
            "_view_name": "HBoxView",
            "box_style": "",
            "children": [
              "IPY_MODEL_1abddea1f19e4853847246073cda1324",
              "IPY_MODEL_9eb3f77d42c949c6b81b29a57c7e4dc5",
              "IPY_MODEL_fedd6b18683641a0a7f461492d6b8cda"
            ],
            "layout": "IPY_MODEL_bad8431ef5274b188c898c4999500f61",
            "tabbable": null,
            "tooltip": null
          }
        },
        "1abddea1f19e4853847246073cda1324": {
          "model_module": "@jupyter-widgets/controls",
          "model_name": "HTMLModel",
          "model_module_version": "2.0.0",
          "state": {
            "_dom_classes": [],
            "_model_module": "@jupyter-widgets/controls",
            "_model_module_version": "2.0.0",
            "_model_name": "HTMLModel",
            "_view_count": null,
            "_view_module": "@jupyter-widgets/controls",
            "_view_module_version": "2.0.0",
            "_view_name": "HTMLView",
            "description": "",
            "description_allow_html": false,
            "layout": "IPY_MODEL_5ab42bb94fe64d1bb01b0b2a0b634d25",
            "placeholder": "​",
            "style": "IPY_MODEL_0d242e6953d24e6ea37145b0e7f3eb2b",
            "tabbable": null,
            "tooltip": null,
            "value": "tokenizer.json: 100%"
          }
        },
        "9eb3f77d42c949c6b81b29a57c7e4dc5": {
          "model_module": "@jupyter-widgets/controls",
          "model_name": "FloatProgressModel",
          "model_module_version": "2.0.0",
          "state": {
            "_dom_classes": [],
            "_model_module": "@jupyter-widgets/controls",
            "_model_module_version": "2.0.0",
            "_model_name": "FloatProgressModel",
            "_view_count": null,
            "_view_module": "@jupyter-widgets/controls",
            "_view_module_version": "2.0.0",
            "_view_name": "ProgressView",
            "bar_style": "success",
            "description": "",
            "description_allow_html": false,
            "layout": "IPY_MODEL_3a2e92df8b9a406d915f179cc13a3e47",
            "max": 1795303,
            "min": 0,
            "orientation": "horizontal",
            "style": "IPY_MODEL_6ba918e4d0e8440f9309fcc89913b15a",
            "tabbable": null,
            "tooltip": null,
            "value": 1795303
          }
        },
        "fedd6b18683641a0a7f461492d6b8cda": {
          "model_module": "@jupyter-widgets/controls",
          "model_name": "HTMLModel",
          "model_module_version": "2.0.0",
          "state": {
            "_dom_classes": [],
            "_model_module": "@jupyter-widgets/controls",
            "_model_module_version": "2.0.0",
            "_model_name": "HTMLModel",
            "_view_count": null,
            "_view_module": "@jupyter-widgets/controls",
            "_view_module_version": "2.0.0",
            "_view_name": "HTMLView",
            "description": "",
            "description_allow_html": false,
            "layout": "IPY_MODEL_79c196c505bd493ab4eb059640b1869f",
            "placeholder": "​",
            "style": "IPY_MODEL_019d19183cd8460fbeb5a7158f76d3e3",
            "tabbable": null,
            "tooltip": null,
            "value": " 1.80M/1.80M [00:01&lt;00:00, 1.64MB/s]"
          }
        },
        "bad8431ef5274b188c898c4999500f61": {
          "model_module": "@jupyter-widgets/base",
          "model_name": "LayoutModel",
          "model_module_version": "2.0.0",
          "state": {
            "_model_module": "@jupyter-widgets/base",
            "_model_module_version": "2.0.0",
            "_model_name": "LayoutModel",
            "_view_count": null,
            "_view_module": "@jupyter-widgets/base",
            "_view_module_version": "2.0.0",
            "_view_name": "LayoutView",
            "align_content": null,
            "align_items": null,
            "align_self": null,
            "border_bottom": null,
            "border_left": null,
            "border_right": null,
            "border_top": null,
            "bottom": null,
            "display": null,
            "flex": null,
            "flex_flow": null,
            "grid_area": null,
            "grid_auto_columns": null,
            "grid_auto_flow": null,
            "grid_auto_rows": null,
            "grid_column": null,
            "grid_gap": null,
            "grid_row": null,
            "grid_template_areas": null,
            "grid_template_columns": null,
            "grid_template_rows": null,
            "height": null,
            "justify_content": null,
            "justify_items": null,
            "left": null,
            "margin": null,
            "max_height": null,
            "max_width": null,
            "min_height": null,
            "min_width": null,
            "object_fit": null,
            "object_position": null,
            "order": null,
            "overflow": null,
            "padding": null,
            "right": null,
            "top": null,
            "visibility": null,
            "width": null
          }
        },
        "5ab42bb94fe64d1bb01b0b2a0b634d25": {
          "model_module": "@jupyter-widgets/base",
          "model_name": "LayoutModel",
          "model_module_version": "2.0.0",
          "state": {
            "_model_module": "@jupyter-widgets/base",
            "_model_module_version": "2.0.0",
            "_model_name": "LayoutModel",
            "_view_count": null,
            "_view_module": "@jupyter-widgets/base",
            "_view_module_version": "2.0.0",
            "_view_name": "LayoutView",
            "align_content": null,
            "align_items": null,
            "align_self": null,
            "border_bottom": null,
            "border_left": null,
            "border_right": null,
            "border_top": null,
            "bottom": null,
            "display": null,
            "flex": null,
            "flex_flow": null,
            "grid_area": null,
            "grid_auto_columns": null,
            "grid_auto_flow": null,
            "grid_auto_rows": null,
            "grid_column": null,
            "grid_gap": null,
            "grid_row": null,
            "grid_template_areas": null,
            "grid_template_columns": null,
            "grid_template_rows": null,
            "height": null,
            "justify_content": null,
            "justify_items": null,
            "left": null,
            "margin": null,
            "max_height": null,
            "max_width": null,
            "min_height": null,
            "min_width": null,
            "object_fit": null,
            "object_position": null,
            "order": null,
            "overflow": null,
            "padding": null,
            "right": null,
            "top": null,
            "visibility": null,
            "width": null
          }
        },
        "0d242e6953d24e6ea37145b0e7f3eb2b": {
          "model_module": "@jupyter-widgets/controls",
          "model_name": "HTMLStyleModel",
          "model_module_version": "2.0.0",
          "state": {
            "_model_module": "@jupyter-widgets/controls",
            "_model_module_version": "2.0.0",
            "_model_name": "HTMLStyleModel",
            "_view_count": null,
            "_view_module": "@jupyter-widgets/base",
            "_view_module_version": "2.0.0",
            "_view_name": "StyleView",
            "background": null,
            "description_width": "",
            "font_size": null,
            "text_color": null
          }
        },
        "3a2e92df8b9a406d915f179cc13a3e47": {
          "model_module": "@jupyter-widgets/base",
          "model_name": "LayoutModel",
          "model_module_version": "2.0.0",
          "state": {
            "_model_module": "@jupyter-widgets/base",
            "_model_module_version": "2.0.0",
            "_model_name": "LayoutModel",
            "_view_count": null,
            "_view_module": "@jupyter-widgets/base",
            "_view_module_version": "2.0.0",
            "_view_name": "LayoutView",
            "align_content": null,
            "align_items": null,
            "align_self": null,
            "border_bottom": null,
            "border_left": null,
            "border_right": null,
            "border_top": null,
            "bottom": null,
            "display": null,
            "flex": null,
            "flex_flow": null,
            "grid_area": null,
            "grid_auto_columns": null,
            "grid_auto_flow": null,
            "grid_auto_rows": null,
            "grid_column": null,
            "grid_gap": null,
            "grid_row": null,
            "grid_template_areas": null,
            "grid_template_columns": null,
            "grid_template_rows": null,
            "height": null,
            "justify_content": null,
            "justify_items": null,
            "left": null,
            "margin": null,
            "max_height": null,
            "max_width": null,
            "min_height": null,
            "min_width": null,
            "object_fit": null,
            "object_position": null,
            "order": null,
            "overflow": null,
            "padding": null,
            "right": null,
            "top": null,
            "visibility": null,
            "width": null
          }
        },
        "6ba918e4d0e8440f9309fcc89913b15a": {
          "model_module": "@jupyter-widgets/controls",
          "model_name": "ProgressStyleModel",
          "model_module_version": "2.0.0",
          "state": {
            "_model_module": "@jupyter-widgets/controls",
            "_model_module_version": "2.0.0",
            "_model_name": "ProgressStyleModel",
            "_view_count": null,
            "_view_module": "@jupyter-widgets/base",
            "_view_module_version": "2.0.0",
            "_view_name": "StyleView",
            "bar_color": null,
            "description_width": ""
          }
        },
        "79c196c505bd493ab4eb059640b1869f": {
          "model_module": "@jupyter-widgets/base",
          "model_name": "LayoutModel",
          "model_module_version": "2.0.0",
          "state": {
            "_model_module": "@jupyter-widgets/base",
            "_model_module_version": "2.0.0",
            "_model_name": "LayoutModel",
            "_view_count": null,
            "_view_module": "@jupyter-widgets/base",
            "_view_module_version": "2.0.0",
            "_view_name": "LayoutView",
            "align_content": null,
            "align_items": null,
            "align_self": null,
            "border_bottom": null,
            "border_left": null,
            "border_right": null,
            "border_top": null,
            "bottom": null,
            "display": null,
            "flex": null,
            "flex_flow": null,
            "grid_area": null,
            "grid_auto_columns": null,
            "grid_auto_flow": null,
            "grid_auto_rows": null,
            "grid_column": null,
            "grid_gap": null,
            "grid_row": null,
            "grid_template_areas": null,
            "grid_template_columns": null,
            "grid_template_rows": null,
            "height": null,
            "justify_content": null,
            "justify_items": null,
            "left": null,
            "margin": null,
            "max_height": null,
            "max_width": null,
            "min_height": null,
            "min_width": null,
            "object_fit": null,
            "object_position": null,
            "order": null,
            "overflow": null,
            "padding": null,
            "right": null,
            "top": null,
            "visibility": null,
            "width": null
          }
        },
        "019d19183cd8460fbeb5a7158f76d3e3": {
          "model_module": "@jupyter-widgets/controls",
          "model_name": "HTMLStyleModel",
          "model_module_version": "2.0.0",
          "state": {
            "_model_module": "@jupyter-widgets/controls",
            "_model_module_version": "2.0.0",
            "_model_name": "HTMLStyleModel",
            "_view_count": null,
            "_view_module": "@jupyter-widgets/base",
            "_view_module_version": "2.0.0",
            "_view_name": "StyleView",
            "background": null,
            "description_width": "",
            "font_size": null,
            "text_color": null
          }
        },
        "a6bd44ad53334651ab1aee60ff8c14a7": {
          "model_module": "@jupyter-widgets/controls",
          "model_name": "HBoxModel",
          "model_module_version": "2.0.0",
          "state": {
            "_dom_classes": [],
            "_model_module": "@jupyter-widgets/controls",
            "_model_module_version": "2.0.0",
            "_model_name": "HBoxModel",
            "_view_count": null,
            "_view_module": "@jupyter-widgets/controls",
            "_view_module_version": "2.0.0",
            "_view_name": "HBoxView",
            "box_style": "",
            "children": [
              "IPY_MODEL_a59a801896f04ea7b9771bb49ff6162a",
              "IPY_MODEL_7fa10d7106d04bd082a20672aa16ab8f",
              "IPY_MODEL_468a177dad764e52a25c7c0d61bebe35"
            ],
            "layout": "IPY_MODEL_482be3ae23cf42368364db655acf4b31",
            "tabbable": null,
            "tooltip": null
          }
        },
        "a59a801896f04ea7b9771bb49ff6162a": {
          "model_module": "@jupyter-widgets/controls",
          "model_name": "HTMLModel",
          "model_module_version": "2.0.0",
          "state": {
            "_dom_classes": [],
            "_model_module": "@jupyter-widgets/controls",
            "_model_module_version": "2.0.0",
            "_model_name": "HTMLModel",
            "_view_count": null,
            "_view_module": "@jupyter-widgets/controls",
            "_view_module_version": "2.0.0",
            "_view_name": "HTMLView",
            "description": "",
            "description_allow_html": false,
            "layout": "IPY_MODEL_846dff3188624fc5a6b4c7f59c07085d",
            "placeholder": "​",
            "style": "IPY_MODEL_218cbdc3f6734b7fb1de4a1d5803c560",
            "tabbable": null,
            "tooltip": null,
            "value": "special_tokens_map.json: 100%"
          }
        },
        "7fa10d7106d04bd082a20672aa16ab8f": {
          "model_module": "@jupyter-widgets/controls",
          "model_name": "FloatProgressModel",
          "model_module_version": "2.0.0",
          "state": {
            "_dom_classes": [],
            "_model_module": "@jupyter-widgets/controls",
            "_model_module_version": "2.0.0",
            "_model_name": "FloatProgressModel",
            "_view_count": null,
            "_view_module": "@jupyter-widgets/controls",
            "_view_module_version": "2.0.0",
            "_view_name": "ProgressView",
            "bar_style": "success",
            "description": "",
            "description_allow_html": false,
            "layout": "IPY_MODEL_5aa097e7dcbc49b7818c0930e7168f9c",
            "max": 72,
            "min": 0,
            "orientation": "horizontal",
            "style": "IPY_MODEL_2297ce4c2cf441999433221bdcf85a7c",
            "tabbable": null,
            "tooltip": null,
            "value": 72
          }
        },
        "468a177dad764e52a25c7c0d61bebe35": {
          "model_module": "@jupyter-widgets/controls",
          "model_name": "HTMLModel",
          "model_module_version": "2.0.0",
          "state": {
            "_dom_classes": [],
            "_model_module": "@jupyter-widgets/controls",
            "_model_module_version": "2.0.0",
            "_model_name": "HTMLModel",
            "_view_count": null,
            "_view_module": "@jupyter-widgets/controls",
            "_view_module_version": "2.0.0",
            "_view_name": "HTMLView",
            "description": "",
            "description_allow_html": false,
            "layout": "IPY_MODEL_83c8fa6d0b8a443aacb4ecd9c34f1b1d",
            "placeholder": "​",
            "style": "IPY_MODEL_bad6c05b27534b4e865713e1d5af85b4",
            "tabbable": null,
            "tooltip": null,
            "value": " 72.0/72.0 [00:00&lt;00:00, 5.85kB/s]"
          }
        },
        "482be3ae23cf42368364db655acf4b31": {
          "model_module": "@jupyter-widgets/base",
          "model_name": "LayoutModel",
          "model_module_version": "2.0.0",
          "state": {
            "_model_module": "@jupyter-widgets/base",
            "_model_module_version": "2.0.0",
            "_model_name": "LayoutModel",
            "_view_count": null,
            "_view_module": "@jupyter-widgets/base",
            "_view_module_version": "2.0.0",
            "_view_name": "LayoutView",
            "align_content": null,
            "align_items": null,
            "align_self": null,
            "border_bottom": null,
            "border_left": null,
            "border_right": null,
            "border_top": null,
            "bottom": null,
            "display": null,
            "flex": null,
            "flex_flow": null,
            "grid_area": null,
            "grid_auto_columns": null,
            "grid_auto_flow": null,
            "grid_auto_rows": null,
            "grid_column": null,
            "grid_gap": null,
            "grid_row": null,
            "grid_template_areas": null,
            "grid_template_columns": null,
            "grid_template_rows": null,
            "height": null,
            "justify_content": null,
            "justify_items": null,
            "left": null,
            "margin": null,
            "max_height": null,
            "max_width": null,
            "min_height": null,
            "min_width": null,
            "object_fit": null,
            "object_position": null,
            "order": null,
            "overflow": null,
            "padding": null,
            "right": null,
            "top": null,
            "visibility": null,
            "width": null
          }
        },
        "846dff3188624fc5a6b4c7f59c07085d": {
          "model_module": "@jupyter-widgets/base",
          "model_name": "LayoutModel",
          "model_module_version": "2.0.0",
          "state": {
            "_model_module": "@jupyter-widgets/base",
            "_model_module_version": "2.0.0",
            "_model_name": "LayoutModel",
            "_view_count": null,
            "_view_module": "@jupyter-widgets/base",
            "_view_module_version": "2.0.0",
            "_view_name": "LayoutView",
            "align_content": null,
            "align_items": null,
            "align_self": null,
            "border_bottom": null,
            "border_left": null,
            "border_right": null,
            "border_top": null,
            "bottom": null,
            "display": null,
            "flex": null,
            "flex_flow": null,
            "grid_area": null,
            "grid_auto_columns": null,
            "grid_auto_flow": null,
            "grid_auto_rows": null,
            "grid_column": null,
            "grid_gap": null,
            "grid_row": null,
            "grid_template_areas": null,
            "grid_template_columns": null,
            "grid_template_rows": null,
            "height": null,
            "justify_content": null,
            "justify_items": null,
            "left": null,
            "margin": null,
            "max_height": null,
            "max_width": null,
            "min_height": null,
            "min_width": null,
            "object_fit": null,
            "object_position": null,
            "order": null,
            "overflow": null,
            "padding": null,
            "right": null,
            "top": null,
            "visibility": null,
            "width": null
          }
        },
        "218cbdc3f6734b7fb1de4a1d5803c560": {
          "model_module": "@jupyter-widgets/controls",
          "model_name": "HTMLStyleModel",
          "model_module_version": "2.0.0",
          "state": {
            "_model_module": "@jupyter-widgets/controls",
            "_model_module_version": "2.0.0",
            "_model_name": "HTMLStyleModel",
            "_view_count": null,
            "_view_module": "@jupyter-widgets/base",
            "_view_module_version": "2.0.0",
            "_view_name": "StyleView",
            "background": null,
            "description_width": "",
            "font_size": null,
            "text_color": null
          }
        },
        "5aa097e7dcbc49b7818c0930e7168f9c": {
          "model_module": "@jupyter-widgets/base",
          "model_name": "LayoutModel",
          "model_module_version": "2.0.0",
          "state": {
            "_model_module": "@jupyter-widgets/base",
            "_model_module_version": "2.0.0",
            "_model_name": "LayoutModel",
            "_view_count": null,
            "_view_module": "@jupyter-widgets/base",
            "_view_module_version": "2.0.0",
            "_view_name": "LayoutView",
            "align_content": null,
            "align_items": null,
            "align_self": null,
            "border_bottom": null,
            "border_left": null,
            "border_right": null,
            "border_top": null,
            "bottom": null,
            "display": null,
            "flex": null,
            "flex_flow": null,
            "grid_area": null,
            "grid_auto_columns": null,
            "grid_auto_flow": null,
            "grid_auto_rows": null,
            "grid_column": null,
            "grid_gap": null,
            "grid_row": null,
            "grid_template_areas": null,
            "grid_template_columns": null,
            "grid_template_rows": null,
            "height": null,
            "justify_content": null,
            "justify_items": null,
            "left": null,
            "margin": null,
            "max_height": null,
            "max_width": null,
            "min_height": null,
            "min_width": null,
            "object_fit": null,
            "object_position": null,
            "order": null,
            "overflow": null,
            "padding": null,
            "right": null,
            "top": null,
            "visibility": null,
            "width": null
          }
        },
        "2297ce4c2cf441999433221bdcf85a7c": {
          "model_module": "@jupyter-widgets/controls",
          "model_name": "ProgressStyleModel",
          "model_module_version": "2.0.0",
          "state": {
            "_model_module": "@jupyter-widgets/controls",
            "_model_module_version": "2.0.0",
            "_model_name": "ProgressStyleModel",
            "_view_count": null,
            "_view_module": "@jupyter-widgets/base",
            "_view_module_version": "2.0.0",
            "_view_name": "StyleView",
            "bar_color": null,
            "description_width": ""
          }
        },
        "83c8fa6d0b8a443aacb4ecd9c34f1b1d": {
          "model_module": "@jupyter-widgets/base",
          "model_name": "LayoutModel",
          "model_module_version": "2.0.0",
          "state": {
            "_model_module": "@jupyter-widgets/base",
            "_model_module_version": "2.0.0",
            "_model_name": "LayoutModel",
            "_view_count": null,
            "_view_module": "@jupyter-widgets/base",
            "_view_module_version": "2.0.0",
            "_view_name": "LayoutView",
            "align_content": null,
            "align_items": null,
            "align_self": null,
            "border_bottom": null,
            "border_left": null,
            "border_right": null,
            "border_top": null,
            "bottom": null,
            "display": null,
            "flex": null,
            "flex_flow": null,
            "grid_area": null,
            "grid_auto_columns": null,
            "grid_auto_flow": null,
            "grid_auto_rows": null,
            "grid_column": null,
            "grid_gap": null,
            "grid_row": null,
            "grid_template_areas": null,
            "grid_template_columns": null,
            "grid_template_rows": null,
            "height": null,
            "justify_content": null,
            "justify_items": null,
            "left": null,
            "margin": null,
            "max_height": null,
            "max_width": null,
            "min_height": null,
            "min_width": null,
            "object_fit": null,
            "object_position": null,
            "order": null,
            "overflow": null,
            "padding": null,
            "right": null,
            "top": null,
            "visibility": null,
            "width": null
          }
        },
        "bad6c05b27534b4e865713e1d5af85b4": {
          "model_module": "@jupyter-widgets/controls",
          "model_name": "HTMLStyleModel",
          "model_module_version": "2.0.0",
          "state": {
            "_model_module": "@jupyter-widgets/controls",
            "_model_module_version": "2.0.0",
            "_model_name": "HTMLStyleModel",
            "_view_count": null,
            "_view_module": "@jupyter-widgets/base",
            "_view_module_version": "2.0.0",
            "_view_name": "StyleView",
            "background": null,
            "description_width": "",
            "font_size": null,
            "text_color": null
          }
        },
        "d1ba6f64eddc49db80031d170b09484b": {
          "model_module": "@jupyter-widgets/controls",
          "model_name": "HBoxModel",
          "model_module_version": "2.0.0",
          "state": {
            "_dom_classes": [],
            "_model_module": "@jupyter-widgets/controls",
            "_model_module_version": "2.0.0",
            "_model_name": "HBoxModel",
            "_view_count": null,
            "_view_module": "@jupyter-widgets/controls",
            "_view_module_version": "2.0.0",
            "_view_name": "HBoxView",
            "box_style": "",
            "children": [
              "IPY_MODEL_4714f5f2129a44d997688ae3781a5c11",
              "IPY_MODEL_e3b75f65289043458aa5780e69ee5bba",
              "IPY_MODEL_3850aa5cb2be46d48a5e4919c050f0c1"
            ],
            "layout": "IPY_MODEL_bcc73091e1b046bbb8203898646cb724",
            "tabbable": null,
            "tooltip": null
          }
        },
        "4714f5f2129a44d997688ae3781a5c11": {
          "model_module": "@jupyter-widgets/controls",
          "model_name": "HTMLModel",
          "model_module_version": "2.0.0",
          "state": {
            "_dom_classes": [],
            "_model_module": "@jupyter-widgets/controls",
            "_model_module_version": "2.0.0",
            "_model_name": "HTMLModel",
            "_view_count": null,
            "_view_module": "@jupyter-widgets/controls",
            "_view_module_version": "2.0.0",
            "_view_name": "HTMLView",
            "description": "",
            "description_allow_html": false,
            "layout": "IPY_MODEL_c2ca0b93820b4d02a5dee2ff755c654f",
            "placeholder": "​",
            "style": "IPY_MODEL_2d0029f262a14f7582514026f519552f",
            "tabbable": null,
            "tooltip": null,
            "value": "config.json: 100%"
          }
        },
        "e3b75f65289043458aa5780e69ee5bba": {
          "model_module": "@jupyter-widgets/controls",
          "model_name": "FloatProgressModel",
          "model_module_version": "2.0.0",
          "state": {
            "_dom_classes": [],
            "_model_module": "@jupyter-widgets/controls",
            "_model_module_version": "2.0.0",
            "_model_name": "FloatProgressModel",
            "_view_count": null,
            "_view_module": "@jupyter-widgets/controls",
            "_view_module_version": "2.0.0",
            "_view_name": "ProgressView",
            "bar_style": "success",
            "description": "",
            "description_allow_html": false,
            "layout": "IPY_MODEL_69597ecb301447e1a0de1e7c8b335910",
            "max": 567,
            "min": 0,
            "orientation": "horizontal",
            "style": "IPY_MODEL_9e4cc39f44f34e36bc9e019be613cf50",
            "tabbable": null,
            "tooltip": null,
            "value": 567
          }
        },
        "3850aa5cb2be46d48a5e4919c050f0c1": {
          "model_module": "@jupyter-widgets/controls",
          "model_name": "HTMLModel",
          "model_module_version": "2.0.0",
          "state": {
            "_dom_classes": [],
            "_model_module": "@jupyter-widgets/controls",
            "_model_module_version": "2.0.0",
            "_model_name": "HTMLModel",
            "_view_count": null,
            "_view_module": "@jupyter-widgets/controls",
            "_view_module_version": "2.0.0",
            "_view_name": "HTMLView",
            "description": "",
            "description_allow_html": false,
            "layout": "IPY_MODEL_2bf5cb24f0be4be986bc763322348a07",
            "placeholder": "​",
            "style": "IPY_MODEL_326bebe238504c618ac876d67adb981c",
            "tabbable": null,
            "tooltip": null,
            "value": " 567/567 [00:00&lt;00:00, 43.9kB/s]"
          }
        },
        "bcc73091e1b046bbb8203898646cb724": {
          "model_module": "@jupyter-widgets/base",
          "model_name": "LayoutModel",
          "model_module_version": "2.0.0",
          "state": {
            "_model_module": "@jupyter-widgets/base",
            "_model_module_version": "2.0.0",
            "_model_name": "LayoutModel",
            "_view_count": null,
            "_view_module": "@jupyter-widgets/base",
            "_view_module_version": "2.0.0",
            "_view_name": "LayoutView",
            "align_content": null,
            "align_items": null,
            "align_self": null,
            "border_bottom": null,
            "border_left": null,
            "border_right": null,
            "border_top": null,
            "bottom": null,
            "display": null,
            "flex": null,
            "flex_flow": null,
            "grid_area": null,
            "grid_auto_columns": null,
            "grid_auto_flow": null,
            "grid_auto_rows": null,
            "grid_column": null,
            "grid_gap": null,
            "grid_row": null,
            "grid_template_areas": null,
            "grid_template_columns": null,
            "grid_template_rows": null,
            "height": null,
            "justify_content": null,
            "justify_items": null,
            "left": null,
            "margin": null,
            "max_height": null,
            "max_width": null,
            "min_height": null,
            "min_width": null,
            "object_fit": null,
            "object_position": null,
            "order": null,
            "overflow": null,
            "padding": null,
            "right": null,
            "top": null,
            "visibility": null,
            "width": null
          }
        },
        "c2ca0b93820b4d02a5dee2ff755c654f": {
          "model_module": "@jupyter-widgets/base",
          "model_name": "LayoutModel",
          "model_module_version": "2.0.0",
          "state": {
            "_model_module": "@jupyter-widgets/base",
            "_model_module_version": "2.0.0",
            "_model_name": "LayoutModel",
            "_view_count": null,
            "_view_module": "@jupyter-widgets/base",
            "_view_module_version": "2.0.0",
            "_view_name": "LayoutView",
            "align_content": null,
            "align_items": null,
            "align_self": null,
            "border_bottom": null,
            "border_left": null,
            "border_right": null,
            "border_top": null,
            "bottom": null,
            "display": null,
            "flex": null,
            "flex_flow": null,
            "grid_area": null,
            "grid_auto_columns": null,
            "grid_auto_flow": null,
            "grid_auto_rows": null,
            "grid_column": null,
            "grid_gap": null,
            "grid_row": null,
            "grid_template_areas": null,
            "grid_template_columns": null,
            "grid_template_rows": null,
            "height": null,
            "justify_content": null,
            "justify_items": null,
            "left": null,
            "margin": null,
            "max_height": null,
            "max_width": null,
            "min_height": null,
            "min_width": null,
            "object_fit": null,
            "object_position": null,
            "order": null,
            "overflow": null,
            "padding": null,
            "right": null,
            "top": null,
            "visibility": null,
            "width": null
          }
        },
        "2d0029f262a14f7582514026f519552f": {
          "model_module": "@jupyter-widgets/controls",
          "model_name": "HTMLStyleModel",
          "model_module_version": "2.0.0",
          "state": {
            "_model_module": "@jupyter-widgets/controls",
            "_model_module_version": "2.0.0",
            "_model_name": "HTMLStyleModel",
            "_view_count": null,
            "_view_module": "@jupyter-widgets/base",
            "_view_module_version": "2.0.0",
            "_view_name": "StyleView",
            "background": null,
            "description_width": "",
            "font_size": null,
            "text_color": null
          }
        },
        "69597ecb301447e1a0de1e7c8b335910": {
          "model_module": "@jupyter-widgets/base",
          "model_name": "LayoutModel",
          "model_module_version": "2.0.0",
          "state": {
            "_model_module": "@jupyter-widgets/base",
            "_model_module_version": "2.0.0",
            "_model_name": "LayoutModel",
            "_view_count": null,
            "_view_module": "@jupyter-widgets/base",
            "_view_module_version": "2.0.0",
            "_view_name": "LayoutView",
            "align_content": null,
            "align_items": null,
            "align_self": null,
            "border_bottom": null,
            "border_left": null,
            "border_right": null,
            "border_top": null,
            "bottom": null,
            "display": null,
            "flex": null,
            "flex_flow": null,
            "grid_area": null,
            "grid_auto_columns": null,
            "grid_auto_flow": null,
            "grid_auto_rows": null,
            "grid_column": null,
            "grid_gap": null,
            "grid_row": null,
            "grid_template_areas": null,
            "grid_template_columns": null,
            "grid_template_rows": null,
            "height": null,
            "justify_content": null,
            "justify_items": null,
            "left": null,
            "margin": null,
            "max_height": null,
            "max_width": null,
            "min_height": null,
            "min_width": null,
            "object_fit": null,
            "object_position": null,
            "order": null,
            "overflow": null,
            "padding": null,
            "right": null,
            "top": null,
            "visibility": null,
            "width": null
          }
        },
        "9e4cc39f44f34e36bc9e019be613cf50": {
          "model_module": "@jupyter-widgets/controls",
          "model_name": "ProgressStyleModel",
          "model_module_version": "2.0.0",
          "state": {
            "_model_module": "@jupyter-widgets/controls",
            "_model_module_version": "2.0.0",
            "_model_name": "ProgressStyleModel",
            "_view_count": null,
            "_view_module": "@jupyter-widgets/base",
            "_view_module_version": "2.0.0",
            "_view_name": "StyleView",
            "bar_color": null,
            "description_width": ""
          }
        },
        "2bf5cb24f0be4be986bc763322348a07": {
          "model_module": "@jupyter-widgets/base",
          "model_name": "LayoutModel",
          "model_module_version": "2.0.0",
          "state": {
            "_model_module": "@jupyter-widgets/base",
            "_model_module_version": "2.0.0",
            "_model_name": "LayoutModel",
            "_view_count": null,
            "_view_module": "@jupyter-widgets/base",
            "_view_module_version": "2.0.0",
            "_view_name": "LayoutView",
            "align_content": null,
            "align_items": null,
            "align_self": null,
            "border_bottom": null,
            "border_left": null,
            "border_right": null,
            "border_top": null,
            "bottom": null,
            "display": null,
            "flex": null,
            "flex_flow": null,
            "grid_area": null,
            "grid_auto_columns": null,
            "grid_auto_flow": null,
            "grid_auto_rows": null,
            "grid_column": null,
            "grid_gap": null,
            "grid_row": null,
            "grid_template_areas": null,
            "grid_template_columns": null,
            "grid_template_rows": null,
            "height": null,
            "justify_content": null,
            "justify_items": null,
            "left": null,
            "margin": null,
            "max_height": null,
            "max_width": null,
            "min_height": null,
            "min_width": null,
            "object_fit": null,
            "object_position": null,
            "order": null,
            "overflow": null,
            "padding": null,
            "right": null,
            "top": null,
            "visibility": null,
            "width": null
          }
        },
        "326bebe238504c618ac876d67adb981c": {
          "model_module": "@jupyter-widgets/controls",
          "model_name": "HTMLStyleModel",
          "model_module_version": "2.0.0",
          "state": {
            "_model_module": "@jupyter-widgets/controls",
            "_model_module_version": "2.0.0",
            "_model_name": "HTMLStyleModel",
            "_view_count": null,
            "_view_module": "@jupyter-widgets/base",
            "_view_module_version": "2.0.0",
            "_view_name": "StyleView",
            "background": null,
            "description_width": "",
            "font_size": null,
            "text_color": null
          }
        },
        "68999459c93a494f8827110168b42b31": {
          "model_module": "@jupyter-widgets/controls",
          "model_name": "HBoxModel",
          "model_module_version": "2.0.0",
          "state": {
            "_dom_classes": [],
            "_model_module": "@jupyter-widgets/controls",
            "_model_module_version": "2.0.0",
            "_model_name": "HBoxModel",
            "_view_count": null,
            "_view_module": "@jupyter-widgets/controls",
            "_view_module_version": "2.0.0",
            "_view_name": "HBoxView",
            "box_style": "",
            "children": [
              "IPY_MODEL_5c053675041b42dcb840eac183d10608",
              "IPY_MODEL_e30c85c4f4f24d9eaebf9a2bae9f12bb",
              "IPY_MODEL_2ef5e08172e64573b14a8f2adbcad933"
            ],
            "layout": "IPY_MODEL_d7ef5337c6d34003a6abff6eee753742",
            "tabbable": null,
            "tooltip": null
          }
        },
        "5c053675041b42dcb840eac183d10608": {
          "model_module": "@jupyter-widgets/controls",
          "model_name": "HTMLModel",
          "model_module_version": "2.0.0",
          "state": {
            "_dom_classes": [],
            "_model_module": "@jupyter-widgets/controls",
            "_model_module_version": "2.0.0",
            "_model_name": "HTMLModel",
            "_view_count": null,
            "_view_module": "@jupyter-widgets/controls",
            "_view_module_version": "2.0.0",
            "_view_name": "HTMLView",
            "description": "",
            "description_allow_html": false,
            "layout": "IPY_MODEL_345a0ab45d4e4b52818028a338597a9d",
            "placeholder": "​",
            "style": "IPY_MODEL_2c97130455344df3acc2c02fa2d1a532",
            "tabbable": null,
            "tooltip": null,
            "value": "pytorch_model.bin: 100%"
          }
        },
        "e30c85c4f4f24d9eaebf9a2bae9f12bb": {
          "model_module": "@jupyter-widgets/controls",
          "model_name": "FloatProgressModel",
          "model_module_version": "2.0.0",
          "state": {
            "_dom_classes": [],
            "_model_module": "@jupyter-widgets/controls",
            "_model_module_version": "2.0.0",
            "_model_name": "FloatProgressModel",
            "_view_count": null,
            "_view_module": "@jupyter-widgets/controls",
            "_view_module_version": "2.0.0",
            "_view_name": "ProgressView",
            "bar_style": "success",
            "description": "",
            "description_allow_html": false,
            "layout": "IPY_MODEL_43222e2ea38041f7b6174d051cc6dd16",
            "max": 14483611465,
            "min": 0,
            "orientation": "horizontal",
            "style": "IPY_MODEL_dacd46b46f2f427eb1931a7bd1ba0469",
            "tabbable": null,
            "tooltip": null,
            "value": 14483611465
          }
        },
        "2ef5e08172e64573b14a8f2adbcad933": {
          "model_module": "@jupyter-widgets/controls",
          "model_name": "HTMLModel",
          "model_module_version": "2.0.0",
          "state": {
            "_dom_classes": [],
            "_model_module": "@jupyter-widgets/controls",
            "_model_module_version": "2.0.0",
            "_model_name": "HTMLModel",
            "_view_count": null,
            "_view_module": "@jupyter-widgets/controls",
            "_view_module_version": "2.0.0",
            "_view_name": "HTMLView",
            "description": "",
            "description_allow_html": false,
            "layout": "IPY_MODEL_38053b19bac042b78c7a7590da98f46f",
            "placeholder": "​",
            "style": "IPY_MODEL_85b3ad2559174f8db18c57bdb4ee9d8d",
            "tabbable": null,
            "tooltip": null,
            "value": " 14.5G/14.5G [01:55&lt;00:00, 31.8MB/s]"
          }
        },
        "d7ef5337c6d34003a6abff6eee753742": {
          "model_module": "@jupyter-widgets/base",
          "model_name": "LayoutModel",
          "model_module_version": "2.0.0",
          "state": {
            "_model_module": "@jupyter-widgets/base",
            "_model_module_version": "2.0.0",
            "_model_name": "LayoutModel",
            "_view_count": null,
            "_view_module": "@jupyter-widgets/base",
            "_view_module_version": "2.0.0",
            "_view_name": "LayoutView",
            "align_content": null,
            "align_items": null,
            "align_self": null,
            "border_bottom": null,
            "border_left": null,
            "border_right": null,
            "border_top": null,
            "bottom": null,
            "display": null,
            "flex": null,
            "flex_flow": null,
            "grid_area": null,
            "grid_auto_columns": null,
            "grid_auto_flow": null,
            "grid_auto_rows": null,
            "grid_column": null,
            "grid_gap": null,
            "grid_row": null,
            "grid_template_areas": null,
            "grid_template_columns": null,
            "grid_template_rows": null,
            "height": null,
            "justify_content": null,
            "justify_items": null,
            "left": null,
            "margin": null,
            "max_height": null,
            "max_width": null,
            "min_height": null,
            "min_width": null,
            "object_fit": null,
            "object_position": null,
            "order": null,
            "overflow": null,
            "padding": null,
            "right": null,
            "top": null,
            "visibility": null,
            "width": null
          }
        },
        "345a0ab45d4e4b52818028a338597a9d": {
          "model_module": "@jupyter-widgets/base",
          "model_name": "LayoutModel",
          "model_module_version": "2.0.0",
          "state": {
            "_model_module": "@jupyter-widgets/base",
            "_model_module_version": "2.0.0",
            "_model_name": "LayoutModel",
            "_view_count": null,
            "_view_module": "@jupyter-widgets/base",
            "_view_module_version": "2.0.0",
            "_view_name": "LayoutView",
            "align_content": null,
            "align_items": null,
            "align_self": null,
            "border_bottom": null,
            "border_left": null,
            "border_right": null,
            "border_top": null,
            "bottom": null,
            "display": null,
            "flex": null,
            "flex_flow": null,
            "grid_area": null,
            "grid_auto_columns": null,
            "grid_auto_flow": null,
            "grid_auto_rows": null,
            "grid_column": null,
            "grid_gap": null,
            "grid_row": null,
            "grid_template_areas": null,
            "grid_template_columns": null,
            "grid_template_rows": null,
            "height": null,
            "justify_content": null,
            "justify_items": null,
            "left": null,
            "margin": null,
            "max_height": null,
            "max_width": null,
            "min_height": null,
            "min_width": null,
            "object_fit": null,
            "object_position": null,
            "order": null,
            "overflow": null,
            "padding": null,
            "right": null,
            "top": null,
            "visibility": null,
            "width": null
          }
        },
        "2c97130455344df3acc2c02fa2d1a532": {
          "model_module": "@jupyter-widgets/controls",
          "model_name": "HTMLStyleModel",
          "model_module_version": "2.0.0",
          "state": {
            "_model_module": "@jupyter-widgets/controls",
            "_model_module_version": "2.0.0",
            "_model_name": "HTMLStyleModel",
            "_view_count": null,
            "_view_module": "@jupyter-widgets/base",
            "_view_module_version": "2.0.0",
            "_view_name": "StyleView",
            "background": null,
            "description_width": "",
            "font_size": null,
            "text_color": null
          }
        },
        "43222e2ea38041f7b6174d051cc6dd16": {
          "model_module": "@jupyter-widgets/base",
          "model_name": "LayoutModel",
          "model_module_version": "2.0.0",
          "state": {
            "_model_module": "@jupyter-widgets/base",
            "_model_module_version": "2.0.0",
            "_model_name": "LayoutModel",
            "_view_count": null,
            "_view_module": "@jupyter-widgets/base",
            "_view_module_version": "2.0.0",
            "_view_name": "LayoutView",
            "align_content": null,
            "align_items": null,
            "align_self": null,
            "border_bottom": null,
            "border_left": null,
            "border_right": null,
            "border_top": null,
            "bottom": null,
            "display": null,
            "flex": null,
            "flex_flow": null,
            "grid_area": null,
            "grid_auto_columns": null,
            "grid_auto_flow": null,
            "grid_auto_rows": null,
            "grid_column": null,
            "grid_gap": null,
            "grid_row": null,
            "grid_template_areas": null,
            "grid_template_columns": null,
            "grid_template_rows": null,
            "height": null,
            "justify_content": null,
            "justify_items": null,
            "left": null,
            "margin": null,
            "max_height": null,
            "max_width": null,
            "min_height": null,
            "min_width": null,
            "object_fit": null,
            "object_position": null,
            "order": null,
            "overflow": null,
            "padding": null,
            "right": null,
            "top": null,
            "visibility": null,
            "width": null
          }
        },
        "dacd46b46f2f427eb1931a7bd1ba0469": {
          "model_module": "@jupyter-widgets/controls",
          "model_name": "ProgressStyleModel",
          "model_module_version": "2.0.0",
          "state": {
            "_model_module": "@jupyter-widgets/controls",
            "_model_module_version": "2.0.0",
            "_model_name": "ProgressStyleModel",
            "_view_count": null,
            "_view_module": "@jupyter-widgets/base",
            "_view_module_version": "2.0.0",
            "_view_name": "StyleView",
            "bar_color": null,
            "description_width": ""
          }
        },
        "38053b19bac042b78c7a7590da98f46f": {
          "model_module": "@jupyter-widgets/base",
          "model_name": "LayoutModel",
          "model_module_version": "2.0.0",
          "state": {
            "_model_module": "@jupyter-widgets/base",
            "_model_module_version": "2.0.0",
            "_model_name": "LayoutModel",
            "_view_count": null,
            "_view_module": "@jupyter-widgets/base",
            "_view_module_version": "2.0.0",
            "_view_name": "LayoutView",
            "align_content": null,
            "align_items": null,
            "align_self": null,
            "border_bottom": null,
            "border_left": null,
            "border_right": null,
            "border_top": null,
            "bottom": null,
            "display": null,
            "flex": null,
            "flex_flow": null,
            "grid_area": null,
            "grid_auto_columns": null,
            "grid_auto_flow": null,
            "grid_auto_rows": null,
            "grid_column": null,
            "grid_gap": null,
            "grid_row": null,
            "grid_template_areas": null,
            "grid_template_columns": null,
            "grid_template_rows": null,
            "height": null,
            "justify_content": null,
            "justify_items": null,
            "left": null,
            "margin": null,
            "max_height": null,
            "max_width": null,
            "min_height": null,
            "min_width": null,
            "object_fit": null,
            "object_position": null,
            "order": null,
            "overflow": null,
            "padding": null,
            "right": null,
            "top": null,
            "visibility": null,
            "width": null
          }
        },
        "85b3ad2559174f8db18c57bdb4ee9d8d": {
          "model_module": "@jupyter-widgets/controls",
          "model_name": "HTMLStyleModel",
          "model_module_version": "2.0.0",
          "state": {
            "_model_module": "@jupyter-widgets/controls",
            "_model_module_version": "2.0.0",
            "_model_name": "HTMLStyleModel",
            "_view_count": null,
            "_view_module": "@jupyter-widgets/base",
            "_view_module_version": "2.0.0",
            "_view_name": "StyleView",
            "background": null,
            "description_width": "",
            "font_size": null,
            "text_color": null
          }
        },
        "2551e30db80b402caa6951f4177c7def": {
          "model_module": "@jupyter-widgets/controls",
          "model_name": "HBoxModel",
          "model_module_version": "2.0.0",
          "state": {
            "_dom_classes": [],
            "_model_module": "@jupyter-widgets/controls",
            "_model_module_version": "2.0.0",
            "_model_name": "HBoxModel",
            "_view_count": null,
            "_view_module": "@jupyter-widgets/controls",
            "_view_module_version": "2.0.0",
            "_view_name": "HBoxView",
            "box_style": "",
            "children": [
              "IPY_MODEL_7bba98d4c7ea457995775dec4598011a",
              "IPY_MODEL_b709868cb41449559468113720698764",
              "IPY_MODEL_30e876e78bf4488d8ec3dc0d559a43cc"
            ],
            "layout": "IPY_MODEL_28338b76cfa645d79ab85bb2feee1eb6",
            "tabbable": null,
            "tooltip": null
          }
        },
        "7bba98d4c7ea457995775dec4598011a": {
          "model_module": "@jupyter-widgets/controls",
          "model_name": "HTMLModel",
          "model_module_version": "2.0.0",
          "state": {
            "_dom_classes": [],
            "_model_module": "@jupyter-widgets/controls",
            "_model_module_version": "2.0.0",
            "_model_name": "HTMLModel",
            "_view_count": null,
            "_view_module": "@jupyter-widgets/controls",
            "_view_module_version": "2.0.0",
            "_view_name": "HTMLView",
            "description": "",
            "description_allow_html": false,
            "layout": "IPY_MODEL_e074c1f95c9348a2a05166ba4d72977f",
            "placeholder": "​",
            "style": "IPY_MODEL_b513781cc3504239bffc3c2b25e787b3",
            "tabbable": null,
            "tooltip": null,
            "value": "generation_config.json: 100%"
          }
        },
        "b709868cb41449559468113720698764": {
          "model_module": "@jupyter-widgets/controls",
          "model_name": "FloatProgressModel",
          "model_module_version": "2.0.0",
          "state": {
            "_dom_classes": [],
            "_model_module": "@jupyter-widgets/controls",
            "_model_module_version": "2.0.0",
            "_model_name": "FloatProgressModel",
            "_view_count": null,
            "_view_module": "@jupyter-widgets/controls",
            "_view_module_version": "2.0.0",
            "_view_name": "ProgressView",
            "bar_style": "success",
            "description": "",
            "description_allow_html": false,
            "layout": "IPY_MODEL_fbb6f399352949ea8df8483fab5e5f13",
            "max": 111,
            "min": 0,
            "orientation": "horizontal",
            "style": "IPY_MODEL_4692fb4d9c8c43169d3b4a2e88bd5f4c",
            "tabbable": null,
            "tooltip": null,
            "value": 111
          }
        },
        "30e876e78bf4488d8ec3dc0d559a43cc": {
          "model_module": "@jupyter-widgets/controls",
          "model_name": "HTMLModel",
          "model_module_version": "2.0.0",
          "state": {
            "_dom_classes": [],
            "_model_module": "@jupyter-widgets/controls",
            "_model_module_version": "2.0.0",
            "_model_name": "HTMLModel",
            "_view_count": null,
            "_view_module": "@jupyter-widgets/controls",
            "_view_module_version": "2.0.0",
            "_view_name": "HTMLView",
            "description": "",
            "description_allow_html": false,
            "layout": "IPY_MODEL_dcba6dd50e9e4927b971bd59666f0b44",
            "placeholder": "​",
            "style": "IPY_MODEL_c5f18b242c404190a1573c3a1ac6f46d",
            "tabbable": null,
            "tooltip": null,
            "value": " 111/111 [00:00&lt;00:00, 5.09kB/s]"
          }
        },
        "28338b76cfa645d79ab85bb2feee1eb6": {
          "model_module": "@jupyter-widgets/base",
          "model_name": "LayoutModel",
          "model_module_version": "2.0.0",
          "state": {
            "_model_module": "@jupyter-widgets/base",
            "_model_module_version": "2.0.0",
            "_model_name": "LayoutModel",
            "_view_count": null,
            "_view_module": "@jupyter-widgets/base",
            "_view_module_version": "2.0.0",
            "_view_name": "LayoutView",
            "align_content": null,
            "align_items": null,
            "align_self": null,
            "border_bottom": null,
            "border_left": null,
            "border_right": null,
            "border_top": null,
            "bottom": null,
            "display": null,
            "flex": null,
            "flex_flow": null,
            "grid_area": null,
            "grid_auto_columns": null,
            "grid_auto_flow": null,
            "grid_auto_rows": null,
            "grid_column": null,
            "grid_gap": null,
            "grid_row": null,
            "grid_template_areas": null,
            "grid_template_columns": null,
            "grid_template_rows": null,
            "height": null,
            "justify_content": null,
            "justify_items": null,
            "left": null,
            "margin": null,
            "max_height": null,
            "max_width": null,
            "min_height": null,
            "min_width": null,
            "object_fit": null,
            "object_position": null,
            "order": null,
            "overflow": null,
            "padding": null,
            "right": null,
            "top": null,
            "visibility": null,
            "width": null
          }
        },
        "e074c1f95c9348a2a05166ba4d72977f": {
          "model_module": "@jupyter-widgets/base",
          "model_name": "LayoutModel",
          "model_module_version": "2.0.0",
          "state": {
            "_model_module": "@jupyter-widgets/base",
            "_model_module_version": "2.0.0",
            "_model_name": "LayoutModel",
            "_view_count": null,
            "_view_module": "@jupyter-widgets/base",
            "_view_module_version": "2.0.0",
            "_view_name": "LayoutView",
            "align_content": null,
            "align_items": null,
            "align_self": null,
            "border_bottom": null,
            "border_left": null,
            "border_right": null,
            "border_top": null,
            "bottom": null,
            "display": null,
            "flex": null,
            "flex_flow": null,
            "grid_area": null,
            "grid_auto_columns": null,
            "grid_auto_flow": null,
            "grid_auto_rows": null,
            "grid_column": null,
            "grid_gap": null,
            "grid_row": null,
            "grid_template_areas": null,
            "grid_template_columns": null,
            "grid_template_rows": null,
            "height": null,
            "justify_content": null,
            "justify_items": null,
            "left": null,
            "margin": null,
            "max_height": null,
            "max_width": null,
            "min_height": null,
            "min_width": null,
            "object_fit": null,
            "object_position": null,
            "order": null,
            "overflow": null,
            "padding": null,
            "right": null,
            "top": null,
            "visibility": null,
            "width": null
          }
        },
        "b513781cc3504239bffc3c2b25e787b3": {
          "model_module": "@jupyter-widgets/controls",
          "model_name": "HTMLStyleModel",
          "model_module_version": "2.0.0",
          "state": {
            "_model_module": "@jupyter-widgets/controls",
            "_model_module_version": "2.0.0",
            "_model_name": "HTMLStyleModel",
            "_view_count": null,
            "_view_module": "@jupyter-widgets/base",
            "_view_module_version": "2.0.0",
            "_view_name": "StyleView",
            "background": null,
            "description_width": "",
            "font_size": null,
            "text_color": null
          }
        },
        "fbb6f399352949ea8df8483fab5e5f13": {
          "model_module": "@jupyter-widgets/base",
          "model_name": "LayoutModel",
          "model_module_version": "2.0.0",
          "state": {
            "_model_module": "@jupyter-widgets/base",
            "_model_module_version": "2.0.0",
            "_model_name": "LayoutModel",
            "_view_count": null,
            "_view_module": "@jupyter-widgets/base",
            "_view_module_version": "2.0.0",
            "_view_name": "LayoutView",
            "align_content": null,
            "align_items": null,
            "align_self": null,
            "border_bottom": null,
            "border_left": null,
            "border_right": null,
            "border_top": null,
            "bottom": null,
            "display": null,
            "flex": null,
            "flex_flow": null,
            "grid_area": null,
            "grid_auto_columns": null,
            "grid_auto_flow": null,
            "grid_auto_rows": null,
            "grid_column": null,
            "grid_gap": null,
            "grid_row": null,
            "grid_template_areas": null,
            "grid_template_columns": null,
            "grid_template_rows": null,
            "height": null,
            "justify_content": null,
            "justify_items": null,
            "left": null,
            "margin": null,
            "max_height": null,
            "max_width": null,
            "min_height": null,
            "min_width": null,
            "object_fit": null,
            "object_position": null,
            "order": null,
            "overflow": null,
            "padding": null,
            "right": null,
            "top": null,
            "visibility": null,
            "width": null
          }
        },
        "4692fb4d9c8c43169d3b4a2e88bd5f4c": {
          "model_module": "@jupyter-widgets/controls",
          "model_name": "ProgressStyleModel",
          "model_module_version": "2.0.0",
          "state": {
            "_model_module": "@jupyter-widgets/controls",
            "_model_module_version": "2.0.0",
            "_model_name": "ProgressStyleModel",
            "_view_count": null,
            "_view_module": "@jupyter-widgets/base",
            "_view_module_version": "2.0.0",
            "_view_name": "StyleView",
            "bar_color": null,
            "description_width": ""
          }
        },
        "dcba6dd50e9e4927b971bd59666f0b44": {
          "model_module": "@jupyter-widgets/base",
          "model_name": "LayoutModel",
          "model_module_version": "2.0.0",
          "state": {
            "_model_module": "@jupyter-widgets/base",
            "_model_module_version": "2.0.0",
            "_model_name": "LayoutModel",
            "_view_count": null,
            "_view_module": "@jupyter-widgets/base",
            "_view_module_version": "2.0.0",
            "_view_name": "LayoutView",
            "align_content": null,
            "align_items": null,
            "align_self": null,
            "border_bottom": null,
            "border_left": null,
            "border_right": null,
            "border_top": null,
            "bottom": null,
            "display": null,
            "flex": null,
            "flex_flow": null,
            "grid_area": null,
            "grid_auto_columns": null,
            "grid_auto_flow": null,
            "grid_auto_rows": null,
            "grid_column": null,
            "grid_gap": null,
            "grid_row": null,
            "grid_template_areas": null,
            "grid_template_columns": null,
            "grid_template_rows": null,
            "height": null,
            "justify_content": null,
            "justify_items": null,
            "left": null,
            "margin": null,
            "max_height": null,
            "max_width": null,
            "min_height": null,
            "min_width": null,
            "object_fit": null,
            "object_position": null,
            "order": null,
            "overflow": null,
            "padding": null,
            "right": null,
            "top": null,
            "visibility": null,
            "width": null
          }
        },
        "c5f18b242c404190a1573c3a1ac6f46d": {
          "model_module": "@jupyter-widgets/controls",
          "model_name": "HTMLStyleModel",
          "model_module_version": "2.0.0",
          "state": {
            "_model_module": "@jupyter-widgets/controls",
            "_model_module_version": "2.0.0",
            "_model_name": "HTMLStyleModel",
            "_view_count": null,
            "_view_module": "@jupyter-widgets/base",
            "_view_module_version": "2.0.0",
            "_view_name": "StyleView",
            "background": null,
            "description_width": "",
            "font_size": null,
            "text_color": null
          }
        },
        "cf831bb209d040128a175dccdb1856e4": {
          "model_module": "@jupyter-widgets/controls",
          "model_name": "HBoxModel",
          "model_module_version": "2.0.0",
          "state": {
            "_dom_classes": [],
            "_model_module": "@jupyter-widgets/controls",
            "_model_module_version": "2.0.0",
            "_model_name": "HBoxModel",
            "_view_count": null,
            "_view_module": "@jupyter-widgets/controls",
            "_view_module_version": "2.0.0",
            "_view_name": "HBoxView",
            "box_style": "",
            "children": [
              "IPY_MODEL_2332c19dcea04834a4265d03ec436f59",
              "IPY_MODEL_9096d4028a5e4c468dd47a87ed1b2eb9",
              "IPY_MODEL_36063addccec498dbbbe9830f071868b"
            ],
            "layout": "IPY_MODEL_5cc7059d76204a4b869624eff09d8e5e",
            "tabbable": null,
            "tooltip": null
          }
        },
        "2332c19dcea04834a4265d03ec436f59": {
          "model_module": "@jupyter-widgets/controls",
          "model_name": "HTMLModel",
          "model_module_version": "2.0.0",
          "state": {
            "_dom_classes": [],
            "_model_module": "@jupyter-widgets/controls",
            "_model_module_version": "2.0.0",
            "_model_name": "HTMLModel",
            "_view_count": null,
            "_view_module": "@jupyter-widgets/controls",
            "_view_module_version": "2.0.0",
            "_view_name": "HTMLView",
            "description": "",
            "description_allow_html": false,
            "layout": "IPY_MODEL_c5eee6d9f0ce488590b9c63034a41f44",
            "placeholder": "​",
            "style": "IPY_MODEL_ea0a8e56c09541ad84ac32cda97483cb",
            "tabbable": null,
            "tooltip": null,
            "value": "tokenizer_config.json: 100%"
          }
        },
        "9096d4028a5e4c468dd47a87ed1b2eb9": {
          "model_module": "@jupyter-widgets/controls",
          "model_name": "FloatProgressModel",
          "model_module_version": "2.0.0",
          "state": {
            "_dom_classes": [],
            "_model_module": "@jupyter-widgets/controls",
            "_model_module_version": "2.0.0",
            "_model_name": "FloatProgressModel",
            "_view_count": null,
            "_view_module": "@jupyter-widgets/controls",
            "_view_module_version": "2.0.0",
            "_view_name": "ProgressView",
            "bar_style": "success",
            "description": "",
            "description_allow_html": false,
            "layout": "IPY_MODEL_ac8c2b6612e94a32b6c1906c35fafab3",
            "max": 49,
            "min": 0,
            "orientation": "horizontal",
            "style": "IPY_MODEL_77c078475486406c80a80fc00407d351",
            "tabbable": null,
            "tooltip": null,
            "value": 49
          }
        },
        "36063addccec498dbbbe9830f071868b": {
          "model_module": "@jupyter-widgets/controls",
          "model_name": "HTMLModel",
          "model_module_version": "2.0.0",
          "state": {
            "_dom_classes": [],
            "_model_module": "@jupyter-widgets/controls",
            "_model_module_version": "2.0.0",
            "_model_name": "HTMLModel",
            "_view_count": null,
            "_view_module": "@jupyter-widgets/controls",
            "_view_module_version": "2.0.0",
            "_view_name": "HTMLView",
            "description": "",
            "description_allow_html": false,
            "layout": "IPY_MODEL_d887cb76210046f18c8bf012774ae11d",
            "placeholder": "​",
            "style": "IPY_MODEL_1b64e825fe0e4362922fb5061da112b7",
            "tabbable": null,
            "tooltip": null,
            "value": " 49.0/49.0 [00:00&lt;00:00, 3.48kB/s]"
          }
        },
        "5cc7059d76204a4b869624eff09d8e5e": {
          "model_module": "@jupyter-widgets/base",
          "model_name": "LayoutModel",
          "model_module_version": "2.0.0",
          "state": {
            "_model_module": "@jupyter-widgets/base",
            "_model_module_version": "2.0.0",
            "_model_name": "LayoutModel",
            "_view_count": null,
            "_view_module": "@jupyter-widgets/base",
            "_view_module_version": "2.0.0",
            "_view_name": "LayoutView",
            "align_content": null,
            "align_items": null,
            "align_self": null,
            "border_bottom": null,
            "border_left": null,
            "border_right": null,
            "border_top": null,
            "bottom": null,
            "display": null,
            "flex": null,
            "flex_flow": null,
            "grid_area": null,
            "grid_auto_columns": null,
            "grid_auto_flow": null,
            "grid_auto_rows": null,
            "grid_column": null,
            "grid_gap": null,
            "grid_row": null,
            "grid_template_areas": null,
            "grid_template_columns": null,
            "grid_template_rows": null,
            "height": null,
            "justify_content": null,
            "justify_items": null,
            "left": null,
            "margin": null,
            "max_height": null,
            "max_width": null,
            "min_height": null,
            "min_width": null,
            "object_fit": null,
            "object_position": null,
            "order": null,
            "overflow": null,
            "padding": null,
            "right": null,
            "top": null,
            "visibility": null,
            "width": null
          }
        },
        "c5eee6d9f0ce488590b9c63034a41f44": {
          "model_module": "@jupyter-widgets/base",
          "model_name": "LayoutModel",
          "model_module_version": "2.0.0",
          "state": {
            "_model_module": "@jupyter-widgets/base",
            "_model_module_version": "2.0.0",
            "_model_name": "LayoutModel",
            "_view_count": null,
            "_view_module": "@jupyter-widgets/base",
            "_view_module_version": "2.0.0",
            "_view_name": "LayoutView",
            "align_content": null,
            "align_items": null,
            "align_self": null,
            "border_bottom": null,
            "border_left": null,
            "border_right": null,
            "border_top": null,
            "bottom": null,
            "display": null,
            "flex": null,
            "flex_flow": null,
            "grid_area": null,
            "grid_auto_columns": null,
            "grid_auto_flow": null,
            "grid_auto_rows": null,
            "grid_column": null,
            "grid_gap": null,
            "grid_row": null,
            "grid_template_areas": null,
            "grid_template_columns": null,
            "grid_template_rows": null,
            "height": null,
            "justify_content": null,
            "justify_items": null,
            "left": null,
            "margin": null,
            "max_height": null,
            "max_width": null,
            "min_height": null,
            "min_width": null,
            "object_fit": null,
            "object_position": null,
            "order": null,
            "overflow": null,
            "padding": null,
            "right": null,
            "top": null,
            "visibility": null,
            "width": null
          }
        },
        "ea0a8e56c09541ad84ac32cda97483cb": {
          "model_module": "@jupyter-widgets/controls",
          "model_name": "HTMLStyleModel",
          "model_module_version": "2.0.0",
          "state": {
            "_model_module": "@jupyter-widgets/controls",
            "_model_module_version": "2.0.0",
            "_model_name": "HTMLStyleModel",
            "_view_count": null,
            "_view_module": "@jupyter-widgets/base",
            "_view_module_version": "2.0.0",
            "_view_name": "StyleView",
            "background": null,
            "description_width": "",
            "font_size": null,
            "text_color": null
          }
        },
        "ac8c2b6612e94a32b6c1906c35fafab3": {
          "model_module": "@jupyter-widgets/base",
          "model_name": "LayoutModel",
          "model_module_version": "2.0.0",
          "state": {
            "_model_module": "@jupyter-widgets/base",
            "_model_module_version": "2.0.0",
            "_model_name": "LayoutModel",
            "_view_count": null,
            "_view_module": "@jupyter-widgets/base",
            "_view_module_version": "2.0.0",
            "_view_name": "LayoutView",
            "align_content": null,
            "align_items": null,
            "align_self": null,
            "border_bottom": null,
            "border_left": null,
            "border_right": null,
            "border_top": null,
            "bottom": null,
            "display": null,
            "flex": null,
            "flex_flow": null,
            "grid_area": null,
            "grid_auto_columns": null,
            "grid_auto_flow": null,
            "grid_auto_rows": null,
            "grid_column": null,
            "grid_gap": null,
            "grid_row": null,
            "grid_template_areas": null,
            "grid_template_columns": null,
            "grid_template_rows": null,
            "height": null,
            "justify_content": null,
            "justify_items": null,
            "left": null,
            "margin": null,
            "max_height": null,
            "max_width": null,
            "min_height": null,
            "min_width": null,
            "object_fit": null,
            "object_position": null,
            "order": null,
            "overflow": null,
            "padding": null,
            "right": null,
            "top": null,
            "visibility": null,
            "width": null
          }
        },
        "77c078475486406c80a80fc00407d351": {
          "model_module": "@jupyter-widgets/controls",
          "model_name": "ProgressStyleModel",
          "model_module_version": "2.0.0",
          "state": {
            "_model_module": "@jupyter-widgets/controls",
            "_model_module_version": "2.0.0",
            "_model_name": "ProgressStyleModel",
            "_view_count": null,
            "_view_module": "@jupyter-widgets/base",
            "_view_module_version": "2.0.0",
            "_view_name": "StyleView",
            "bar_color": null,
            "description_width": ""
          }
        },
        "d887cb76210046f18c8bf012774ae11d": {
          "model_module": "@jupyter-widgets/base",
          "model_name": "LayoutModel",
          "model_module_version": "2.0.0",
          "state": {
            "_model_module": "@jupyter-widgets/base",
            "_model_module_version": "2.0.0",
            "_model_name": "LayoutModel",
            "_view_count": null,
            "_view_module": "@jupyter-widgets/base",
            "_view_module_version": "2.0.0",
            "_view_name": "LayoutView",
            "align_content": null,
            "align_items": null,
            "align_self": null,
            "border_bottom": null,
            "border_left": null,
            "border_right": null,
            "border_top": null,
            "bottom": null,
            "display": null,
            "flex": null,
            "flex_flow": null,
            "grid_area": null,
            "grid_auto_columns": null,
            "grid_auto_flow": null,
            "grid_auto_rows": null,
            "grid_column": null,
            "grid_gap": null,
            "grid_row": null,
            "grid_template_areas": null,
            "grid_template_columns": null,
            "grid_template_rows": null,
            "height": null,
            "justify_content": null,
            "justify_items": null,
            "left": null,
            "margin": null,
            "max_height": null,
            "max_width": null,
            "min_height": null,
            "min_width": null,
            "object_fit": null,
            "object_position": null,
            "order": null,
            "overflow": null,
            "padding": null,
            "right": null,
            "top": null,
            "visibility": null,
            "width": null
          }
        },
        "1b64e825fe0e4362922fb5061da112b7": {
          "model_module": "@jupyter-widgets/controls",
          "model_name": "HTMLStyleModel",
          "model_module_version": "2.0.0",
          "state": {
            "_model_module": "@jupyter-widgets/controls",
            "_model_module_version": "2.0.0",
            "_model_name": "HTMLStyleModel",
            "_view_count": null,
            "_view_module": "@jupyter-widgets/base",
            "_view_module_version": "2.0.0",
            "_view_name": "StyleView",
            "background": null,
            "description_width": "",
            "font_size": null,
            "text_color": null
          }
        },
        "841944d927f8429691d7560ac930f7ee": {
          "model_module": "@jupyter-widgets/controls",
          "model_name": "HBoxModel",
          "model_module_version": "2.0.0",
          "state": {
            "_dom_classes": [],
            "_model_module": "@jupyter-widgets/controls",
            "_model_module_version": "2.0.0",
            "_model_name": "HBoxModel",
            "_view_count": null,
            "_view_module": "@jupyter-widgets/controls",
            "_view_module_version": "2.0.0",
            "_view_name": "HBoxView",
            "box_style": "",
            "children": [
              "IPY_MODEL_53279603517946b99f6aa4f0b0404d0f",
              "IPY_MODEL_65d7c889924c4770b47fd7b76a2c056b",
              "IPY_MODEL_33b935ceda0b48f9876c7810bee3565b"
            ],
            "layout": "IPY_MODEL_6c96f89f10864096bf100c2a24667ac5",
            "tabbable": null,
            "tooltip": null
          }
        },
        "53279603517946b99f6aa4f0b0404d0f": {
          "model_module": "@jupyter-widgets/controls",
          "model_name": "HTMLModel",
          "model_module_version": "2.0.0",
          "state": {
            "_dom_classes": [],
            "_model_module": "@jupyter-widgets/controls",
            "_model_module_version": "2.0.0",
            "_model_name": "HTMLModel",
            "_view_count": null,
            "_view_module": "@jupyter-widgets/controls",
            "_view_module_version": "2.0.0",
            "_view_name": "HTMLView",
            "description": "",
            "description_allow_html": false,
            "layout": "IPY_MODEL_81438cf2bc4a472f9c4e4941cfca8b27",
            "placeholder": "​",
            "style": "IPY_MODEL_3570d63523c149a58f8093943d533027",
            "tabbable": null,
            "tooltip": null,
            "value": "config.json: 100%"
          }
        },
        "65d7c889924c4770b47fd7b76a2c056b": {
          "model_module": "@jupyter-widgets/controls",
          "model_name": "FloatProgressModel",
          "model_module_version": "2.0.0",
          "state": {
            "_dom_classes": [],
            "_model_module": "@jupyter-widgets/controls",
            "_model_module_version": "2.0.0",
            "_model_name": "FloatProgressModel",
            "_view_count": null,
            "_view_module": "@jupyter-widgets/controls",
            "_view_module_version": "2.0.0",
            "_view_name": "ProgressView",
            "bar_style": "success",
            "description": "",
            "description_allow_html": false,
            "layout": "IPY_MODEL_78177ffb9d9d4195a12823f1fee3723c",
            "max": 625,
            "min": 0,
            "orientation": "horizontal",
            "style": "IPY_MODEL_acdd8153ef13444abbd52852423f4161",
            "tabbable": null,
            "tooltip": null,
            "value": 625
          }
        },
        "33b935ceda0b48f9876c7810bee3565b": {
          "model_module": "@jupyter-widgets/controls",
          "model_name": "HTMLModel",
          "model_module_version": "2.0.0",
          "state": {
            "_dom_classes": [],
            "_model_module": "@jupyter-widgets/controls",
            "_model_module_version": "2.0.0",
            "_model_name": "HTMLModel",
            "_view_count": null,
            "_view_module": "@jupyter-widgets/controls",
            "_view_module_version": "2.0.0",
            "_view_name": "HTMLView",
            "description": "",
            "description_allow_html": false,
            "layout": "IPY_MODEL_f79c900d27ad46db9f720d62f7bb11e3",
            "placeholder": "​",
            "style": "IPY_MODEL_bc02d0a504ff4b68a2c5e58ecac4aac4",
            "tabbable": null,
            "tooltip": null,
            "value": " 625/625 [00:00&lt;00:00, 41.3kB/s]"
          }
        },
        "6c96f89f10864096bf100c2a24667ac5": {
          "model_module": "@jupyter-widgets/base",
          "model_name": "LayoutModel",
          "model_module_version": "2.0.0",
          "state": {
            "_model_module": "@jupyter-widgets/base",
            "_model_module_version": "2.0.0",
            "_model_name": "LayoutModel",
            "_view_count": null,
            "_view_module": "@jupyter-widgets/base",
            "_view_module_version": "2.0.0",
            "_view_name": "LayoutView",
            "align_content": null,
            "align_items": null,
            "align_self": null,
            "border_bottom": null,
            "border_left": null,
            "border_right": null,
            "border_top": null,
            "bottom": null,
            "display": null,
            "flex": null,
            "flex_flow": null,
            "grid_area": null,
            "grid_auto_columns": null,
            "grid_auto_flow": null,
            "grid_auto_rows": null,
            "grid_column": null,
            "grid_gap": null,
            "grid_row": null,
            "grid_template_areas": null,
            "grid_template_columns": null,
            "grid_template_rows": null,
            "height": null,
            "justify_content": null,
            "justify_items": null,
            "left": null,
            "margin": null,
            "max_height": null,
            "max_width": null,
            "min_height": null,
            "min_width": null,
            "object_fit": null,
            "object_position": null,
            "order": null,
            "overflow": null,
            "padding": null,
            "right": null,
            "top": null,
            "visibility": null,
            "width": null
          }
        },
        "81438cf2bc4a472f9c4e4941cfca8b27": {
          "model_module": "@jupyter-widgets/base",
          "model_name": "LayoutModel",
          "model_module_version": "2.0.0",
          "state": {
            "_model_module": "@jupyter-widgets/base",
            "_model_module_version": "2.0.0",
            "_model_name": "LayoutModel",
            "_view_count": null,
            "_view_module": "@jupyter-widgets/base",
            "_view_module_version": "2.0.0",
            "_view_name": "LayoutView",
            "align_content": null,
            "align_items": null,
            "align_self": null,
            "border_bottom": null,
            "border_left": null,
            "border_right": null,
            "border_top": null,
            "bottom": null,
            "display": null,
            "flex": null,
            "flex_flow": null,
            "grid_area": null,
            "grid_auto_columns": null,
            "grid_auto_flow": null,
            "grid_auto_rows": null,
            "grid_column": null,
            "grid_gap": null,
            "grid_row": null,
            "grid_template_areas": null,
            "grid_template_columns": null,
            "grid_template_rows": null,
            "height": null,
            "justify_content": null,
            "justify_items": null,
            "left": null,
            "margin": null,
            "max_height": null,
            "max_width": null,
            "min_height": null,
            "min_width": null,
            "object_fit": null,
            "object_position": null,
            "order": null,
            "overflow": null,
            "padding": null,
            "right": null,
            "top": null,
            "visibility": null,
            "width": null
          }
        },
        "3570d63523c149a58f8093943d533027": {
          "model_module": "@jupyter-widgets/controls",
          "model_name": "HTMLStyleModel",
          "model_module_version": "2.0.0",
          "state": {
            "_model_module": "@jupyter-widgets/controls",
            "_model_module_version": "2.0.0",
            "_model_name": "HTMLStyleModel",
            "_view_count": null,
            "_view_module": "@jupyter-widgets/base",
            "_view_module_version": "2.0.0",
            "_view_name": "StyleView",
            "background": null,
            "description_width": "",
            "font_size": null,
            "text_color": null
          }
        },
        "78177ffb9d9d4195a12823f1fee3723c": {
          "model_module": "@jupyter-widgets/base",
          "model_name": "LayoutModel",
          "model_module_version": "2.0.0",
          "state": {
            "_model_module": "@jupyter-widgets/base",
            "_model_module_version": "2.0.0",
            "_model_name": "LayoutModel",
            "_view_count": null,
            "_view_module": "@jupyter-widgets/base",
            "_view_module_version": "2.0.0",
            "_view_name": "LayoutView",
            "align_content": null,
            "align_items": null,
            "align_self": null,
            "border_bottom": null,
            "border_left": null,
            "border_right": null,
            "border_top": null,
            "bottom": null,
            "display": null,
            "flex": null,
            "flex_flow": null,
            "grid_area": null,
            "grid_auto_columns": null,
            "grid_auto_flow": null,
            "grid_auto_rows": null,
            "grid_column": null,
            "grid_gap": null,
            "grid_row": null,
            "grid_template_areas": null,
            "grid_template_columns": null,
            "grid_template_rows": null,
            "height": null,
            "justify_content": null,
            "justify_items": null,
            "left": null,
            "margin": null,
            "max_height": null,
            "max_width": null,
            "min_height": null,
            "min_width": null,
            "object_fit": null,
            "object_position": null,
            "order": null,
            "overflow": null,
            "padding": null,
            "right": null,
            "top": null,
            "visibility": null,
            "width": null
          }
        },
        "acdd8153ef13444abbd52852423f4161": {
          "model_module": "@jupyter-widgets/controls",
          "model_name": "ProgressStyleModel",
          "model_module_version": "2.0.0",
          "state": {
            "_model_module": "@jupyter-widgets/controls",
            "_model_module_version": "2.0.0",
            "_model_name": "ProgressStyleModel",
            "_view_count": null,
            "_view_module": "@jupyter-widgets/base",
            "_view_module_version": "2.0.0",
            "_view_name": "StyleView",
            "bar_color": null,
            "description_width": ""
          }
        },
        "f79c900d27ad46db9f720d62f7bb11e3": {
          "model_module": "@jupyter-widgets/base",
          "model_name": "LayoutModel",
          "model_module_version": "2.0.0",
          "state": {
            "_model_module": "@jupyter-widgets/base",
            "_model_module_version": "2.0.0",
            "_model_name": "LayoutModel",
            "_view_count": null,
            "_view_module": "@jupyter-widgets/base",
            "_view_module_version": "2.0.0",
            "_view_name": "LayoutView",
            "align_content": null,
            "align_items": null,
            "align_self": null,
            "border_bottom": null,
            "border_left": null,
            "border_right": null,
            "border_top": null,
            "bottom": null,
            "display": null,
            "flex": null,
            "flex_flow": null,
            "grid_area": null,
            "grid_auto_columns": null,
            "grid_auto_flow": null,
            "grid_auto_rows": null,
            "grid_column": null,
            "grid_gap": null,
            "grid_row": null,
            "grid_template_areas": null,
            "grid_template_columns": null,
            "grid_template_rows": null,
            "height": null,
            "justify_content": null,
            "justify_items": null,
            "left": null,
            "margin": null,
            "max_height": null,
            "max_width": null,
            "min_height": null,
            "min_width": null,
            "object_fit": null,
            "object_position": null,
            "order": null,
            "overflow": null,
            "padding": null,
            "right": null,
            "top": null,
            "visibility": null,
            "width": null
          }
        },
        "bc02d0a504ff4b68a2c5e58ecac4aac4": {
          "model_module": "@jupyter-widgets/controls",
          "model_name": "HTMLStyleModel",
          "model_module_version": "2.0.0",
          "state": {
            "_model_module": "@jupyter-widgets/controls",
            "_model_module_version": "2.0.0",
            "_model_name": "HTMLStyleModel",
            "_view_count": null,
            "_view_module": "@jupyter-widgets/base",
            "_view_module_version": "2.0.0",
            "_view_name": "StyleView",
            "background": null,
            "description_width": "",
            "font_size": null,
            "text_color": null
          }
        },
        "77d2dd5fb20644adb92043c8257c00e1": {
          "model_module": "@jupyter-widgets/controls",
          "model_name": "HBoxModel",
          "model_module_version": "2.0.0",
          "state": {
            "_dom_classes": [],
            "_model_module": "@jupyter-widgets/controls",
            "_model_module_version": "2.0.0",
            "_model_name": "HBoxModel",
            "_view_count": null,
            "_view_module": "@jupyter-widgets/controls",
            "_view_module_version": "2.0.0",
            "_view_name": "HBoxView",
            "box_style": "",
            "children": [
              "IPY_MODEL_227caa58f9f9497b81ee292da8113284",
              "IPY_MODEL_f6bd46cc8cb5400ba271550bff015222",
              "IPY_MODEL_fc0c0d3915064bfdbfbb89e1facfcd29"
            ],
            "layout": "IPY_MODEL_3d1915ee2d6d4afd8fd3d696ae990ca4",
            "tabbable": null,
            "tooltip": null
          }
        },
        "227caa58f9f9497b81ee292da8113284": {
          "model_module": "@jupyter-widgets/controls",
          "model_name": "HTMLModel",
          "model_module_version": "2.0.0",
          "state": {
            "_dom_classes": [],
            "_model_module": "@jupyter-widgets/controls",
            "_model_module_version": "2.0.0",
            "_model_name": "HTMLModel",
            "_view_count": null,
            "_view_module": "@jupyter-widgets/controls",
            "_view_module_version": "2.0.0",
            "_view_name": "HTMLView",
            "description": "",
            "description_allow_html": false,
            "layout": "IPY_MODEL_65e6ad55a05c4c728f9f3f0967db43f3",
            "placeholder": "​",
            "style": "IPY_MODEL_0c857c8685804708aa0a6404f8e959a0",
            "tabbable": null,
            "tooltip": null,
            "value": "vocab.txt: 100%"
          }
        },
        "f6bd46cc8cb5400ba271550bff015222": {
          "model_module": "@jupyter-widgets/controls",
          "model_name": "FloatProgressModel",
          "model_module_version": "2.0.0",
          "state": {
            "_dom_classes": [],
            "_model_module": "@jupyter-widgets/controls",
            "_model_module_version": "2.0.0",
            "_model_name": "FloatProgressModel",
            "_view_count": null,
            "_view_module": "@jupyter-widgets/controls",
            "_view_module_version": "2.0.0",
            "_view_name": "ProgressView",
            "bar_style": "success",
            "description": "",
            "description_allow_html": false,
            "layout": "IPY_MODEL_70d8ff9b25da4f46be0be2d5b2b3014a",
            "max": 995526,
            "min": 0,
            "orientation": "horizontal",
            "style": "IPY_MODEL_00b9056364f240a6a9f1c7f0d3f4d710",
            "tabbable": null,
            "tooltip": null,
            "value": 995526
          }
        },
        "fc0c0d3915064bfdbfbb89e1facfcd29": {
          "model_module": "@jupyter-widgets/controls",
          "model_name": "HTMLModel",
          "model_module_version": "2.0.0",
          "state": {
            "_dom_classes": [],
            "_model_module": "@jupyter-widgets/controls",
            "_model_module_version": "2.0.0",
            "_model_name": "HTMLModel",
            "_view_count": null,
            "_view_module": "@jupyter-widgets/controls",
            "_view_module_version": "2.0.0",
            "_view_name": "HTMLView",
            "description": "",
            "description_allow_html": false,
            "layout": "IPY_MODEL_6afeb4183fdc45ef929f2180408083c7",
            "placeholder": "​",
            "style": "IPY_MODEL_f6327b4b796a4848a5ba6471996c5c6d",
            "tabbable": null,
            "tooltip": null,
            "value": " 996k/996k [00:00&lt;00:00, 1.13MB/s]"
          }
        },
        "3d1915ee2d6d4afd8fd3d696ae990ca4": {
          "model_module": "@jupyter-widgets/base",
          "model_name": "LayoutModel",
          "model_module_version": "2.0.0",
          "state": {
            "_model_module": "@jupyter-widgets/base",
            "_model_module_version": "2.0.0",
            "_model_name": "LayoutModel",
            "_view_count": null,
            "_view_module": "@jupyter-widgets/base",
            "_view_module_version": "2.0.0",
            "_view_name": "LayoutView",
            "align_content": null,
            "align_items": null,
            "align_self": null,
            "border_bottom": null,
            "border_left": null,
            "border_right": null,
            "border_top": null,
            "bottom": null,
            "display": null,
            "flex": null,
            "flex_flow": null,
            "grid_area": null,
            "grid_auto_columns": null,
            "grid_auto_flow": null,
            "grid_auto_rows": null,
            "grid_column": null,
            "grid_gap": null,
            "grid_row": null,
            "grid_template_areas": null,
            "grid_template_columns": null,
            "grid_template_rows": null,
            "height": null,
            "justify_content": null,
            "justify_items": null,
            "left": null,
            "margin": null,
            "max_height": null,
            "max_width": null,
            "min_height": null,
            "min_width": null,
            "object_fit": null,
            "object_position": null,
            "order": null,
            "overflow": null,
            "padding": null,
            "right": null,
            "top": null,
            "visibility": null,
            "width": null
          }
        },
        "65e6ad55a05c4c728f9f3f0967db43f3": {
          "model_module": "@jupyter-widgets/base",
          "model_name": "LayoutModel",
          "model_module_version": "2.0.0",
          "state": {
            "_model_module": "@jupyter-widgets/base",
            "_model_module_version": "2.0.0",
            "_model_name": "LayoutModel",
            "_view_count": null,
            "_view_module": "@jupyter-widgets/base",
            "_view_module_version": "2.0.0",
            "_view_name": "LayoutView",
            "align_content": null,
            "align_items": null,
            "align_self": null,
            "border_bottom": null,
            "border_left": null,
            "border_right": null,
            "border_top": null,
            "bottom": null,
            "display": null,
            "flex": null,
            "flex_flow": null,
            "grid_area": null,
            "grid_auto_columns": null,
            "grid_auto_flow": null,
            "grid_auto_rows": null,
            "grid_column": null,
            "grid_gap": null,
            "grid_row": null,
            "grid_template_areas": null,
            "grid_template_columns": null,
            "grid_template_rows": null,
            "height": null,
            "justify_content": null,
            "justify_items": null,
            "left": null,
            "margin": null,
            "max_height": null,
            "max_width": null,
            "min_height": null,
            "min_width": null,
            "object_fit": null,
            "object_position": null,
            "order": null,
            "overflow": null,
            "padding": null,
            "right": null,
            "top": null,
            "visibility": null,
            "width": null
          }
        },
        "0c857c8685804708aa0a6404f8e959a0": {
          "model_module": "@jupyter-widgets/controls",
          "model_name": "HTMLStyleModel",
          "model_module_version": "2.0.0",
          "state": {
            "_model_module": "@jupyter-widgets/controls",
            "_model_module_version": "2.0.0",
            "_model_name": "HTMLStyleModel",
            "_view_count": null,
            "_view_module": "@jupyter-widgets/base",
            "_view_module_version": "2.0.0",
            "_view_name": "StyleView",
            "background": null,
            "description_width": "",
            "font_size": null,
            "text_color": null
          }
        },
        "70d8ff9b25da4f46be0be2d5b2b3014a": {
          "model_module": "@jupyter-widgets/base",
          "model_name": "LayoutModel",
          "model_module_version": "2.0.0",
          "state": {
            "_model_module": "@jupyter-widgets/base",
            "_model_module_version": "2.0.0",
            "_model_name": "LayoutModel",
            "_view_count": null,
            "_view_module": "@jupyter-widgets/base",
            "_view_module_version": "2.0.0",
            "_view_name": "LayoutView",
            "align_content": null,
            "align_items": null,
            "align_self": null,
            "border_bottom": null,
            "border_left": null,
            "border_right": null,
            "border_top": null,
            "bottom": null,
            "display": null,
            "flex": null,
            "flex_flow": null,
            "grid_area": null,
            "grid_auto_columns": null,
            "grid_auto_flow": null,
            "grid_auto_rows": null,
            "grid_column": null,
            "grid_gap": null,
            "grid_row": null,
            "grid_template_areas": null,
            "grid_template_columns": null,
            "grid_template_rows": null,
            "height": null,
            "justify_content": null,
            "justify_items": null,
            "left": null,
            "margin": null,
            "max_height": null,
            "max_width": null,
            "min_height": null,
            "min_width": null,
            "object_fit": null,
            "object_position": null,
            "order": null,
            "overflow": null,
            "padding": null,
            "right": null,
            "top": null,
            "visibility": null,
            "width": null
          }
        },
        "00b9056364f240a6a9f1c7f0d3f4d710": {
          "model_module": "@jupyter-widgets/controls",
          "model_name": "ProgressStyleModel",
          "model_module_version": "2.0.0",
          "state": {
            "_model_module": "@jupyter-widgets/controls",
            "_model_module_version": "2.0.0",
            "_model_name": "ProgressStyleModel",
            "_view_count": null,
            "_view_module": "@jupyter-widgets/base",
            "_view_module_version": "2.0.0",
            "_view_name": "StyleView",
            "bar_color": null,
            "description_width": ""
          }
        },
        "6afeb4183fdc45ef929f2180408083c7": {
          "model_module": "@jupyter-widgets/base",
          "model_name": "LayoutModel",
          "model_module_version": "2.0.0",
          "state": {
            "_model_module": "@jupyter-widgets/base",
            "_model_module_version": "2.0.0",
            "_model_name": "LayoutModel",
            "_view_count": null,
            "_view_module": "@jupyter-widgets/base",
            "_view_module_version": "2.0.0",
            "_view_name": "LayoutView",
            "align_content": null,
            "align_items": null,
            "align_self": null,
            "border_bottom": null,
            "border_left": null,
            "border_right": null,
            "border_top": null,
            "bottom": null,
            "display": null,
            "flex": null,
            "flex_flow": null,
            "grid_area": null,
            "grid_auto_columns": null,
            "grid_auto_flow": null,
            "grid_auto_rows": null,
            "grid_column": null,
            "grid_gap": null,
            "grid_row": null,
            "grid_template_areas": null,
            "grid_template_columns": null,
            "grid_template_rows": null,
            "height": null,
            "justify_content": null,
            "justify_items": null,
            "left": null,
            "margin": null,
            "max_height": null,
            "max_width": null,
            "min_height": null,
            "min_width": null,
            "object_fit": null,
            "object_position": null,
            "order": null,
            "overflow": null,
            "padding": null,
            "right": null,
            "top": null,
            "visibility": null,
            "width": null
          }
        },
        "f6327b4b796a4848a5ba6471996c5c6d": {
          "model_module": "@jupyter-widgets/controls",
          "model_name": "HTMLStyleModel",
          "model_module_version": "2.0.0",
          "state": {
            "_model_module": "@jupyter-widgets/controls",
            "_model_module_version": "2.0.0",
            "_model_name": "HTMLStyleModel",
            "_view_count": null,
            "_view_module": "@jupyter-widgets/base",
            "_view_module_version": "2.0.0",
            "_view_name": "StyleView",
            "background": null,
            "description_width": "",
            "font_size": null,
            "text_color": null
          }
        },
        "9ddcc6e7bd764ca49cf8e3bed5842ca0": {
          "model_module": "@jupyter-widgets/controls",
          "model_name": "HBoxModel",
          "model_module_version": "2.0.0",
          "state": {
            "_dom_classes": [],
            "_model_module": "@jupyter-widgets/controls",
            "_model_module_version": "2.0.0",
            "_model_name": "HBoxModel",
            "_view_count": null,
            "_view_module": "@jupyter-widgets/controls",
            "_view_module_version": "2.0.0",
            "_view_name": "HBoxView",
            "box_style": "",
            "children": [
              "IPY_MODEL_e06891af494c49f4a9011ee8c5b22be0",
              "IPY_MODEL_f605757139ad4fc79e8062adf7f75dd1",
              "IPY_MODEL_22ece309abdf4819be26b009461a3d81"
            ],
            "layout": "IPY_MODEL_457e44e37b4747b781fc19f4ac716261",
            "tabbable": null,
            "tooltip": null
          }
        },
        "e06891af494c49f4a9011ee8c5b22be0": {
          "model_module": "@jupyter-widgets/controls",
          "model_name": "HTMLModel",
          "model_module_version": "2.0.0",
          "state": {
            "_dom_classes": [],
            "_model_module": "@jupyter-widgets/controls",
            "_model_module_version": "2.0.0",
            "_model_name": "HTMLModel",
            "_view_count": null,
            "_view_module": "@jupyter-widgets/controls",
            "_view_module_version": "2.0.0",
            "_view_name": "HTMLView",
            "description": "",
            "description_allow_html": false,
            "layout": "IPY_MODEL_680ef579dd2240f3b4906d18dbdab33b",
            "placeholder": "​",
            "style": "IPY_MODEL_e7df7321a2194d35bc5a22b57fb23c77",
            "tabbable": null,
            "tooltip": null,
            "value": "tokenizer.json: 100%"
          }
        },
        "f605757139ad4fc79e8062adf7f75dd1": {
          "model_module": "@jupyter-widgets/controls",
          "model_name": "FloatProgressModel",
          "model_module_version": "2.0.0",
          "state": {
            "_dom_classes": [],
            "_model_module": "@jupyter-widgets/controls",
            "_model_module_version": "2.0.0",
            "_model_name": "FloatProgressModel",
            "_view_count": null,
            "_view_module": "@jupyter-widgets/controls",
            "_view_module_version": "2.0.0",
            "_view_name": "ProgressView",
            "bar_style": "success",
            "description": "",
            "description_allow_html": false,
            "layout": "IPY_MODEL_f664aacf58f2471fb4a7cbd02b1fabe6",
            "max": 1961828,
            "min": 0,
            "orientation": "horizontal",
            "style": "IPY_MODEL_b1973209f02e46779bebe2195a48076c",
            "tabbable": null,
            "tooltip": null,
            "value": 1961828
          }
        },
        "22ece309abdf4819be26b009461a3d81": {
          "model_module": "@jupyter-widgets/controls",
          "model_name": "HTMLModel",
          "model_module_version": "2.0.0",
          "state": {
            "_dom_classes": [],
            "_model_module": "@jupyter-widgets/controls",
            "_model_module_version": "2.0.0",
            "_model_name": "HTMLModel",
            "_view_count": null,
            "_view_module": "@jupyter-widgets/controls",
            "_view_module_version": "2.0.0",
            "_view_name": "HTMLView",
            "description": "",
            "description_allow_html": false,
            "layout": "IPY_MODEL_4a5b38be42dd4918ad2bb13ac4731c33",
            "placeholder": "​",
            "style": "IPY_MODEL_e780844b0fc647e180255e0f9aa30abc",
            "tabbable": null,
            "tooltip": null,
            "value": " 1.96M/1.96M [00:00&lt;00:00, 8.70MB/s]"
          }
        },
        "457e44e37b4747b781fc19f4ac716261": {
          "model_module": "@jupyter-widgets/base",
          "model_name": "LayoutModel",
          "model_module_version": "2.0.0",
          "state": {
            "_model_module": "@jupyter-widgets/base",
            "_model_module_version": "2.0.0",
            "_model_name": "LayoutModel",
            "_view_count": null,
            "_view_module": "@jupyter-widgets/base",
            "_view_module_version": "2.0.0",
            "_view_name": "LayoutView",
            "align_content": null,
            "align_items": null,
            "align_self": null,
            "border_bottom": null,
            "border_left": null,
            "border_right": null,
            "border_top": null,
            "bottom": null,
            "display": null,
            "flex": null,
            "flex_flow": null,
            "grid_area": null,
            "grid_auto_columns": null,
            "grid_auto_flow": null,
            "grid_auto_rows": null,
            "grid_column": null,
            "grid_gap": null,
            "grid_row": null,
            "grid_template_areas": null,
            "grid_template_columns": null,
            "grid_template_rows": null,
            "height": null,
            "justify_content": null,
            "justify_items": null,
            "left": null,
            "margin": null,
            "max_height": null,
            "max_width": null,
            "min_height": null,
            "min_width": null,
            "object_fit": null,
            "object_position": null,
            "order": null,
            "overflow": null,
            "padding": null,
            "right": null,
            "top": null,
            "visibility": null,
            "width": null
          }
        },
        "680ef579dd2240f3b4906d18dbdab33b": {
          "model_module": "@jupyter-widgets/base",
          "model_name": "LayoutModel",
          "model_module_version": "2.0.0",
          "state": {
            "_model_module": "@jupyter-widgets/base",
            "_model_module_version": "2.0.0",
            "_model_name": "LayoutModel",
            "_view_count": null,
            "_view_module": "@jupyter-widgets/base",
            "_view_module_version": "2.0.0",
            "_view_name": "LayoutView",
            "align_content": null,
            "align_items": null,
            "align_self": null,
            "border_bottom": null,
            "border_left": null,
            "border_right": null,
            "border_top": null,
            "bottom": null,
            "display": null,
            "flex": null,
            "flex_flow": null,
            "grid_area": null,
            "grid_auto_columns": null,
            "grid_auto_flow": null,
            "grid_auto_rows": null,
            "grid_column": null,
            "grid_gap": null,
            "grid_row": null,
            "grid_template_areas": null,
            "grid_template_columns": null,
            "grid_template_rows": null,
            "height": null,
            "justify_content": null,
            "justify_items": null,
            "left": null,
            "margin": null,
            "max_height": null,
            "max_width": null,
            "min_height": null,
            "min_width": null,
            "object_fit": null,
            "object_position": null,
            "order": null,
            "overflow": null,
            "padding": null,
            "right": null,
            "top": null,
            "visibility": null,
            "width": null
          }
        },
        "e7df7321a2194d35bc5a22b57fb23c77": {
          "model_module": "@jupyter-widgets/controls",
          "model_name": "HTMLStyleModel",
          "model_module_version": "2.0.0",
          "state": {
            "_model_module": "@jupyter-widgets/controls",
            "_model_module_version": "2.0.0",
            "_model_name": "HTMLStyleModel",
            "_view_count": null,
            "_view_module": "@jupyter-widgets/base",
            "_view_module_version": "2.0.0",
            "_view_name": "StyleView",
            "background": null,
            "description_width": "",
            "font_size": null,
            "text_color": null
          }
        },
        "f664aacf58f2471fb4a7cbd02b1fabe6": {
          "model_module": "@jupyter-widgets/base",
          "model_name": "LayoutModel",
          "model_module_version": "2.0.0",
          "state": {
            "_model_module": "@jupyter-widgets/base",
            "_model_module_version": "2.0.0",
            "_model_name": "LayoutModel",
            "_view_count": null,
            "_view_module": "@jupyter-widgets/base",
            "_view_module_version": "2.0.0",
            "_view_name": "LayoutView",
            "align_content": null,
            "align_items": null,
            "align_self": null,
            "border_bottom": null,
            "border_left": null,
            "border_right": null,
            "border_top": null,
            "bottom": null,
            "display": null,
            "flex": null,
            "flex_flow": null,
            "grid_area": null,
            "grid_auto_columns": null,
            "grid_auto_flow": null,
            "grid_auto_rows": null,
            "grid_column": null,
            "grid_gap": null,
            "grid_row": null,
            "grid_template_areas": null,
            "grid_template_columns": null,
            "grid_template_rows": null,
            "height": null,
            "justify_content": null,
            "justify_items": null,
            "left": null,
            "margin": null,
            "max_height": null,
            "max_width": null,
            "min_height": null,
            "min_width": null,
            "object_fit": null,
            "object_position": null,
            "order": null,
            "overflow": null,
            "padding": null,
            "right": null,
            "top": null,
            "visibility": null,
            "width": null
          }
        },
        "b1973209f02e46779bebe2195a48076c": {
          "model_module": "@jupyter-widgets/controls",
          "model_name": "ProgressStyleModel",
          "model_module_version": "2.0.0",
          "state": {
            "_model_module": "@jupyter-widgets/controls",
            "_model_module_version": "2.0.0",
            "_model_name": "ProgressStyleModel",
            "_view_count": null,
            "_view_module": "@jupyter-widgets/base",
            "_view_module_version": "2.0.0",
            "_view_name": "StyleView",
            "bar_color": null,
            "description_width": ""
          }
        },
        "4a5b38be42dd4918ad2bb13ac4731c33": {
          "model_module": "@jupyter-widgets/base",
          "model_name": "LayoutModel",
          "model_module_version": "2.0.0",
          "state": {
            "_model_module": "@jupyter-widgets/base",
            "_model_module_version": "2.0.0",
            "_model_name": "LayoutModel",
            "_view_count": null,
            "_view_module": "@jupyter-widgets/base",
            "_view_module_version": "2.0.0",
            "_view_name": "LayoutView",
            "align_content": null,
            "align_items": null,
            "align_self": null,
            "border_bottom": null,
            "border_left": null,
            "border_right": null,
            "border_top": null,
            "bottom": null,
            "display": null,
            "flex": null,
            "flex_flow": null,
            "grid_area": null,
            "grid_auto_columns": null,
            "grid_auto_flow": null,
            "grid_auto_rows": null,
            "grid_column": null,
            "grid_gap": null,
            "grid_row": null,
            "grid_template_areas": null,
            "grid_template_columns": null,
            "grid_template_rows": null,
            "height": null,
            "justify_content": null,
            "justify_items": null,
            "left": null,
            "margin": null,
            "max_height": null,
            "max_width": null,
            "min_height": null,
            "min_width": null,
            "object_fit": null,
            "object_position": null,
            "order": null,
            "overflow": null,
            "padding": null,
            "right": null,
            "top": null,
            "visibility": null,
            "width": null
          }
        },
        "e780844b0fc647e180255e0f9aa30abc": {
          "model_module": "@jupyter-widgets/controls",
          "model_name": "HTMLStyleModel",
          "model_module_version": "2.0.0",
          "state": {
            "_model_module": "@jupyter-widgets/controls",
            "_model_module_version": "2.0.0",
            "_model_name": "HTMLStyleModel",
            "_view_count": null,
            "_view_module": "@jupyter-widgets/base",
            "_view_module_version": "2.0.0",
            "_view_name": "StyleView",
            "background": null,
            "description_width": "",
            "font_size": null,
            "text_color": null
          }
        },
        "42d9455fb8ce41ef93cb9827e357a5ab": {
          "model_module": "@jupyter-widgets/controls",
          "model_name": "HBoxModel",
          "model_module_version": "2.0.0",
          "state": {
            "_dom_classes": [],
            "_model_module": "@jupyter-widgets/controls",
            "_model_module_version": "2.0.0",
            "_model_name": "HBoxModel",
            "_view_count": null,
            "_view_module": "@jupyter-widgets/controls",
            "_view_module_version": "2.0.0",
            "_view_name": "HBoxView",
            "box_style": "",
            "children": [
              "IPY_MODEL_9b88f976a1464b3bac418e0806e0594a",
              "IPY_MODEL_eb013852eaf2418b8b5606a3808c27aa",
              "IPY_MODEL_9efd23e7f7c74983bf9e69dc6d3f7133"
            ],
            "layout": "IPY_MODEL_5390c748c50f40ff975b7e2ac6d7b82c",
            "tabbable": null,
            "tooltip": null
          }
        },
        "9b88f976a1464b3bac418e0806e0594a": {
          "model_module": "@jupyter-widgets/controls",
          "model_name": "HTMLModel",
          "model_module_version": "2.0.0",
          "state": {
            "_dom_classes": [],
            "_model_module": "@jupyter-widgets/controls",
            "_model_module_version": "2.0.0",
            "_model_name": "HTMLModel",
            "_view_count": null,
            "_view_module": "@jupyter-widgets/controls",
            "_view_module_version": "2.0.0",
            "_view_name": "HTMLView",
            "description": "",
            "description_allow_html": false,
            "layout": "IPY_MODEL_a7090a8307fe44188ba409d7340b3e7a",
            "placeholder": "​",
            "style": "IPY_MODEL_78ace3c8fa3c46d5a2d4cf93696b85f7",
            "tabbable": null,
            "tooltip": null,
            "value": "model.safetensors: 100%"
          }
        },
        "eb013852eaf2418b8b5606a3808c27aa": {
          "model_module": "@jupyter-widgets/controls",
          "model_name": "FloatProgressModel",
          "model_module_version": "2.0.0",
          "state": {
            "_dom_classes": [],
            "_model_module": "@jupyter-widgets/controls",
            "_model_module_version": "2.0.0",
            "_model_name": "FloatProgressModel",
            "_view_count": null,
            "_view_module": "@jupyter-widgets/controls",
            "_view_module_version": "2.0.0",
            "_view_name": "ProgressView",
            "bar_style": "success",
            "description": "",
            "description_allow_html": false,
            "layout": "IPY_MODEL_d4e1441bcb554719b51279e64aaac6ed",
            "max": 714290682,
            "min": 0,
            "orientation": "horizontal",
            "style": "IPY_MODEL_23cd448301ef4161bd01bfacd0ff1297",
            "tabbable": null,
            "tooltip": null,
            "value": 714290682
          }
        },
        "9efd23e7f7c74983bf9e69dc6d3f7133": {
          "model_module": "@jupyter-widgets/controls",
          "model_name": "HTMLModel",
          "model_module_version": "2.0.0",
          "state": {
            "_dom_classes": [],
            "_model_module": "@jupyter-widgets/controls",
            "_model_module_version": "2.0.0",
            "_model_name": "HTMLModel",
            "_view_count": null,
            "_view_module": "@jupyter-widgets/controls",
            "_view_module_version": "2.0.0",
            "_view_name": "HTMLView",
            "description": "",
            "description_allow_html": false,
            "layout": "IPY_MODEL_d845ce9f98494373afc66b30f8ddfeb5",
            "placeholder": "​",
            "style": "IPY_MODEL_8828dda579bb44f691fead26363ca6de",
            "tabbable": null,
            "tooltip": null,
            "value": " 714M/714M [00:09&lt;00:00, 142MB/s]"
          }
        },
        "5390c748c50f40ff975b7e2ac6d7b82c": {
          "model_module": "@jupyter-widgets/base",
          "model_name": "LayoutModel",
          "model_module_version": "2.0.0",
          "state": {
            "_model_module": "@jupyter-widgets/base",
            "_model_module_version": "2.0.0",
            "_model_name": "LayoutModel",
            "_view_count": null,
            "_view_module": "@jupyter-widgets/base",
            "_view_module_version": "2.0.0",
            "_view_name": "LayoutView",
            "align_content": null,
            "align_items": null,
            "align_self": null,
            "border_bottom": null,
            "border_left": null,
            "border_right": null,
            "border_top": null,
            "bottom": null,
            "display": null,
            "flex": null,
            "flex_flow": null,
            "grid_area": null,
            "grid_auto_columns": null,
            "grid_auto_flow": null,
            "grid_auto_rows": null,
            "grid_column": null,
            "grid_gap": null,
            "grid_row": null,
            "grid_template_areas": null,
            "grid_template_columns": null,
            "grid_template_rows": null,
            "height": null,
            "justify_content": null,
            "justify_items": null,
            "left": null,
            "margin": null,
            "max_height": null,
            "max_width": null,
            "min_height": null,
            "min_width": null,
            "object_fit": null,
            "object_position": null,
            "order": null,
            "overflow": null,
            "padding": null,
            "right": null,
            "top": null,
            "visibility": null,
            "width": null
          }
        },
        "a7090a8307fe44188ba409d7340b3e7a": {
          "model_module": "@jupyter-widgets/base",
          "model_name": "LayoutModel",
          "model_module_version": "2.0.0",
          "state": {
            "_model_module": "@jupyter-widgets/base",
            "_model_module_version": "2.0.0",
            "_model_name": "LayoutModel",
            "_view_count": null,
            "_view_module": "@jupyter-widgets/base",
            "_view_module_version": "2.0.0",
            "_view_name": "LayoutView",
            "align_content": null,
            "align_items": null,
            "align_self": null,
            "border_bottom": null,
            "border_left": null,
            "border_right": null,
            "border_top": null,
            "bottom": null,
            "display": null,
            "flex": null,
            "flex_flow": null,
            "grid_area": null,
            "grid_auto_columns": null,
            "grid_auto_flow": null,
            "grid_auto_rows": null,
            "grid_column": null,
            "grid_gap": null,
            "grid_row": null,
            "grid_template_areas": null,
            "grid_template_columns": null,
            "grid_template_rows": null,
            "height": null,
            "justify_content": null,
            "justify_items": null,
            "left": null,
            "margin": null,
            "max_height": null,
            "max_width": null,
            "min_height": null,
            "min_width": null,
            "object_fit": null,
            "object_position": null,
            "order": null,
            "overflow": null,
            "padding": null,
            "right": null,
            "top": null,
            "visibility": null,
            "width": null
          }
        },
        "78ace3c8fa3c46d5a2d4cf93696b85f7": {
          "model_module": "@jupyter-widgets/controls",
          "model_name": "HTMLStyleModel",
          "model_module_version": "2.0.0",
          "state": {
            "_model_module": "@jupyter-widgets/controls",
            "_model_module_version": "2.0.0",
            "_model_name": "HTMLStyleModel",
            "_view_count": null,
            "_view_module": "@jupyter-widgets/base",
            "_view_module_version": "2.0.0",
            "_view_name": "StyleView",
            "background": null,
            "description_width": "",
            "font_size": null,
            "text_color": null
          }
        },
        "d4e1441bcb554719b51279e64aaac6ed": {
          "model_module": "@jupyter-widgets/base",
          "model_name": "LayoutModel",
          "model_module_version": "2.0.0",
          "state": {
            "_model_module": "@jupyter-widgets/base",
            "_model_module_version": "2.0.0",
            "_model_name": "LayoutModel",
            "_view_count": null,
            "_view_module": "@jupyter-widgets/base",
            "_view_module_version": "2.0.0",
            "_view_name": "LayoutView",
            "align_content": null,
            "align_items": null,
            "align_self": null,
            "border_bottom": null,
            "border_left": null,
            "border_right": null,
            "border_top": null,
            "bottom": null,
            "display": null,
            "flex": null,
            "flex_flow": null,
            "grid_area": null,
            "grid_auto_columns": null,
            "grid_auto_flow": null,
            "grid_auto_rows": null,
            "grid_column": null,
            "grid_gap": null,
            "grid_row": null,
            "grid_template_areas": null,
            "grid_template_columns": null,
            "grid_template_rows": null,
            "height": null,
            "justify_content": null,
            "justify_items": null,
            "left": null,
            "margin": null,
            "max_height": null,
            "max_width": null,
            "min_height": null,
            "min_width": null,
            "object_fit": null,
            "object_position": null,
            "order": null,
            "overflow": null,
            "padding": null,
            "right": null,
            "top": null,
            "visibility": null,
            "width": null
          }
        },
        "23cd448301ef4161bd01bfacd0ff1297": {
          "model_module": "@jupyter-widgets/controls",
          "model_name": "ProgressStyleModel",
          "model_module_version": "2.0.0",
          "state": {
            "_model_module": "@jupyter-widgets/controls",
            "_model_module_version": "2.0.0",
            "_model_name": "ProgressStyleModel",
            "_view_count": null,
            "_view_module": "@jupyter-widgets/base",
            "_view_module_version": "2.0.0",
            "_view_name": "StyleView",
            "bar_color": null,
            "description_width": ""
          }
        },
        "d845ce9f98494373afc66b30f8ddfeb5": {
          "model_module": "@jupyter-widgets/base",
          "model_name": "LayoutModel",
          "model_module_version": "2.0.0",
          "state": {
            "_model_module": "@jupyter-widgets/base",
            "_model_module_version": "2.0.0",
            "_model_name": "LayoutModel",
            "_view_count": null,
            "_view_module": "@jupyter-widgets/base",
            "_view_module_version": "2.0.0",
            "_view_name": "LayoutView",
            "align_content": null,
            "align_items": null,
            "align_self": null,
            "border_bottom": null,
            "border_left": null,
            "border_right": null,
            "border_top": null,
            "bottom": null,
            "display": null,
            "flex": null,
            "flex_flow": null,
            "grid_area": null,
            "grid_auto_columns": null,
            "grid_auto_flow": null,
            "grid_auto_rows": null,
            "grid_column": null,
            "grid_gap": null,
            "grid_row": null,
            "grid_template_areas": null,
            "grid_template_columns": null,
            "grid_template_rows": null,
            "height": null,
            "justify_content": null,
            "justify_items": null,
            "left": null,
            "margin": null,
            "max_height": null,
            "max_width": null,
            "min_height": null,
            "min_width": null,
            "object_fit": null,
            "object_position": null,
            "order": null,
            "overflow": null,
            "padding": null,
            "right": null,
            "top": null,
            "visibility": null,
            "width": null
          }
        },
        "8828dda579bb44f691fead26363ca6de": {
          "model_module": "@jupyter-widgets/controls",
          "model_name": "HTMLStyleModel",
          "model_module_version": "2.0.0",
          "state": {
            "_model_module": "@jupyter-widgets/controls",
            "_model_module_version": "2.0.0",
            "_model_name": "HTMLStyleModel",
            "_view_count": null,
            "_view_module": "@jupyter-widgets/base",
            "_view_module_version": "2.0.0",
            "_view_name": "StyleView",
            "background": null,
            "description_width": "",
            "font_size": null,
            "text_color": null
          }
        },
        "1439c8972bbd4ea58408bcae64cf065c": {
          "model_module": "@jupyter-widgets/controls",
          "model_name": "HBoxModel",
          "model_module_version": "2.0.0",
          "state": {
            "_dom_classes": [],
            "_model_module": "@jupyter-widgets/controls",
            "_model_module_version": "2.0.0",
            "_model_name": "HBoxModel",
            "_view_count": null,
            "_view_module": "@jupyter-widgets/controls",
            "_view_module_version": "2.0.0",
            "_view_name": "HBoxView",
            "box_style": "",
            "children": [
              "IPY_MODEL_4e2f4ec14d0d457795332926b237dc69",
              "IPY_MODEL_f394949e6d054c4eb06d0b45829d8bca",
              "IPY_MODEL_93c220f025f24a01aaaf361486c8f85d"
            ],
            "layout": "IPY_MODEL_8b70a6618c0445cc8bc09e0fe22544aa",
            "tabbable": null,
            "tooltip": null
          }
        },
        "4e2f4ec14d0d457795332926b237dc69": {
          "model_module": "@jupyter-widgets/controls",
          "model_name": "HTMLModel",
          "model_module_version": "2.0.0",
          "state": {
            "_dom_classes": [],
            "_model_module": "@jupyter-widgets/controls",
            "_model_module_version": "2.0.0",
            "_model_name": "HTMLModel",
            "_view_count": null,
            "_view_module": "@jupyter-widgets/controls",
            "_view_module_version": "2.0.0",
            "_view_name": "HTMLView",
            "description": "",
            "description_allow_html": false,
            "layout": "IPY_MODEL_cfc364643d6d4badb5d6801fea388a43",
            "placeholder": "​",
            "style": "IPY_MODEL_38dd93961419400a8fbc4b1ad8d80f65",
            "tabbable": null,
            "tooltip": null,
            "value": "100%"
          }
        },
        "f394949e6d054c4eb06d0b45829d8bca": {
          "model_module": "@jupyter-widgets/controls",
          "model_name": "FloatProgressModel",
          "model_module_version": "2.0.0",
          "state": {
            "_dom_classes": [],
            "_model_module": "@jupyter-widgets/controls",
            "_model_module_version": "2.0.0",
            "_model_name": "FloatProgressModel",
            "_view_count": null,
            "_view_module": "@jupyter-widgets/controls",
            "_view_module_version": "2.0.0",
            "_view_name": "ProgressView",
            "bar_style": "success",
            "description": "",
            "description_allow_html": false,
            "layout": "IPY_MODEL_e06031f831ca432786361833855f83cc",
            "max": 3,
            "min": 0,
            "orientation": "horizontal",
            "style": "IPY_MODEL_3dce44fcab10449694f1d1ac4088c3aa",
            "tabbable": null,
            "tooltip": null,
            "value": 3
          }
        },
        "93c220f025f24a01aaaf361486c8f85d": {
          "model_module": "@jupyter-widgets/controls",
          "model_name": "HTMLModel",
          "model_module_version": "2.0.0",
          "state": {
            "_dom_classes": [],
            "_model_module": "@jupyter-widgets/controls",
            "_model_module_version": "2.0.0",
            "_model_name": "HTMLModel",
            "_view_count": null,
            "_view_module": "@jupyter-widgets/controls",
            "_view_module_version": "2.0.0",
            "_view_name": "HTMLView",
            "description": "",
            "description_allow_html": false,
            "layout": "IPY_MODEL_d34167cf32734413919d19d6f2a6942f",
            "placeholder": "​",
            "style": "IPY_MODEL_e0414e6950f94f41b39ec4520055feb4",
            "tabbable": null,
            "tooltip": null,
            "value": " 3/3 [00:02&lt;00:00,  1.66it/s]"
          }
        },
        "8b70a6618c0445cc8bc09e0fe22544aa": {
          "model_module": "@jupyter-widgets/base",
          "model_name": "LayoutModel",
          "model_module_version": "2.0.0",
          "state": {
            "_model_module": "@jupyter-widgets/base",
            "_model_module_version": "2.0.0",
            "_model_name": "LayoutModel",
            "_view_count": null,
            "_view_module": "@jupyter-widgets/base",
            "_view_module_version": "2.0.0",
            "_view_name": "LayoutView",
            "align_content": null,
            "align_items": null,
            "align_self": null,
            "border_bottom": null,
            "border_left": null,
            "border_right": null,
            "border_top": null,
            "bottom": null,
            "display": null,
            "flex": null,
            "flex_flow": null,
            "grid_area": null,
            "grid_auto_columns": null,
            "grid_auto_flow": null,
            "grid_auto_rows": null,
            "grid_column": null,
            "grid_gap": null,
            "grid_row": null,
            "grid_template_areas": null,
            "grid_template_columns": null,
            "grid_template_rows": null,
            "height": null,
            "justify_content": null,
            "justify_items": null,
            "left": null,
            "margin": null,
            "max_height": null,
            "max_width": null,
            "min_height": null,
            "min_width": null,
            "object_fit": null,
            "object_position": null,
            "order": null,
            "overflow": null,
            "padding": null,
            "right": null,
            "top": null,
            "visibility": null,
            "width": null
          }
        },
        "cfc364643d6d4badb5d6801fea388a43": {
          "model_module": "@jupyter-widgets/base",
          "model_name": "LayoutModel",
          "model_module_version": "2.0.0",
          "state": {
            "_model_module": "@jupyter-widgets/base",
            "_model_module_version": "2.0.0",
            "_model_name": "LayoutModel",
            "_view_count": null,
            "_view_module": "@jupyter-widgets/base",
            "_view_module_version": "2.0.0",
            "_view_name": "LayoutView",
            "align_content": null,
            "align_items": null,
            "align_self": null,
            "border_bottom": null,
            "border_left": null,
            "border_right": null,
            "border_top": null,
            "bottom": null,
            "display": null,
            "flex": null,
            "flex_flow": null,
            "grid_area": null,
            "grid_auto_columns": null,
            "grid_auto_flow": null,
            "grid_auto_rows": null,
            "grid_column": null,
            "grid_gap": null,
            "grid_row": null,
            "grid_template_areas": null,
            "grid_template_columns": null,
            "grid_template_rows": null,
            "height": null,
            "justify_content": null,
            "justify_items": null,
            "left": null,
            "margin": null,
            "max_height": null,
            "max_width": null,
            "min_height": null,
            "min_width": null,
            "object_fit": null,
            "object_position": null,
            "order": null,
            "overflow": null,
            "padding": null,
            "right": null,
            "top": null,
            "visibility": null,
            "width": null
          }
        },
        "38dd93961419400a8fbc4b1ad8d80f65": {
          "model_module": "@jupyter-widgets/controls",
          "model_name": "HTMLStyleModel",
          "model_module_version": "2.0.0",
          "state": {
            "_model_module": "@jupyter-widgets/controls",
            "_model_module_version": "2.0.0",
            "_model_name": "HTMLStyleModel",
            "_view_count": null,
            "_view_module": "@jupyter-widgets/base",
            "_view_module_version": "2.0.0",
            "_view_name": "StyleView",
            "background": null,
            "description_width": "",
            "font_size": null,
            "text_color": null
          }
        },
        "e06031f831ca432786361833855f83cc": {
          "model_module": "@jupyter-widgets/base",
          "model_name": "LayoutModel",
          "model_module_version": "2.0.0",
          "state": {
            "_model_module": "@jupyter-widgets/base",
            "_model_module_version": "2.0.0",
            "_model_name": "LayoutModel",
            "_view_count": null,
            "_view_module": "@jupyter-widgets/base",
            "_view_module_version": "2.0.0",
            "_view_name": "LayoutView",
            "align_content": null,
            "align_items": null,
            "align_self": null,
            "border_bottom": null,
            "border_left": null,
            "border_right": null,
            "border_top": null,
            "bottom": null,
            "display": null,
            "flex": null,
            "flex_flow": null,
            "grid_area": null,
            "grid_auto_columns": null,
            "grid_auto_flow": null,
            "grid_auto_rows": null,
            "grid_column": null,
            "grid_gap": null,
            "grid_row": null,
            "grid_template_areas": null,
            "grid_template_columns": null,
            "grid_template_rows": null,
            "height": null,
            "justify_content": null,
            "justify_items": null,
            "left": null,
            "margin": null,
            "max_height": null,
            "max_width": null,
            "min_height": null,
            "min_width": null,
            "object_fit": null,
            "object_position": null,
            "order": null,
            "overflow": null,
            "padding": null,
            "right": null,
            "top": null,
            "visibility": null,
            "width": null
          }
        },
        "3dce44fcab10449694f1d1ac4088c3aa": {
          "model_module": "@jupyter-widgets/controls",
          "model_name": "ProgressStyleModel",
          "model_module_version": "2.0.0",
          "state": {
            "_model_module": "@jupyter-widgets/controls",
            "_model_module_version": "2.0.0",
            "_model_name": "ProgressStyleModel",
            "_view_count": null,
            "_view_module": "@jupyter-widgets/base",
            "_view_module_version": "2.0.0",
            "_view_name": "StyleView",
            "bar_color": null,
            "description_width": ""
          }
        },
        "d34167cf32734413919d19d6f2a6942f": {
          "model_module": "@jupyter-widgets/base",
          "model_name": "LayoutModel",
          "model_module_version": "2.0.0",
          "state": {
            "_model_module": "@jupyter-widgets/base",
            "_model_module_version": "2.0.0",
            "_model_name": "LayoutModel",
            "_view_count": null,
            "_view_module": "@jupyter-widgets/base",
            "_view_module_version": "2.0.0",
            "_view_name": "LayoutView",
            "align_content": null,
            "align_items": null,
            "align_self": null,
            "border_bottom": null,
            "border_left": null,
            "border_right": null,
            "border_top": null,
            "bottom": null,
            "display": null,
            "flex": null,
            "flex_flow": null,
            "grid_area": null,
            "grid_auto_columns": null,
            "grid_auto_flow": null,
            "grid_auto_rows": null,
            "grid_column": null,
            "grid_gap": null,
            "grid_row": null,
            "grid_template_areas": null,
            "grid_template_columns": null,
            "grid_template_rows": null,
            "height": null,
            "justify_content": null,
            "justify_items": null,
            "left": null,
            "margin": null,
            "max_height": null,
            "max_width": null,
            "min_height": null,
            "min_width": null,
            "object_fit": null,
            "object_position": null,
            "order": null,
            "overflow": null,
            "padding": null,
            "right": null,
            "top": null,
            "visibility": null,
            "width": null
          }
        },
        "e0414e6950f94f41b39ec4520055feb4": {
          "model_module": "@jupyter-widgets/controls",
          "model_name": "HTMLStyleModel",
          "model_module_version": "2.0.0",
          "state": {
            "_model_module": "@jupyter-widgets/controls",
            "_model_module_version": "2.0.0",
            "_model_name": "HTMLStyleModel",
            "_view_count": null,
            "_view_module": "@jupyter-widgets/base",
            "_view_module_version": "2.0.0",
            "_view_name": "StyleView",
            "background": null,
            "description_width": "",
            "font_size": null,
            "text_color": null
          }
        },
        "782b4eef434e470b94df0ecc95d7560c": {
          "model_module": "@jupyter-widgets/controls",
          "model_name": "HBoxModel",
          "model_module_version": "2.0.0",
          "state": {
            "_dom_classes": [],
            "_model_module": "@jupyter-widgets/controls",
            "_model_module_version": "2.0.0",
            "_model_name": "HBoxModel",
            "_view_count": null,
            "_view_module": "@jupyter-widgets/controls",
            "_view_module_version": "2.0.0",
            "_view_name": "HBoxView",
            "box_style": "",
            "children": [
              "IPY_MODEL_191e44ff91af4d42a65261df29f53dc0",
              "IPY_MODEL_4ca64bc7966e4f74b183db929b98eb98",
              "IPY_MODEL_6b14f7196a574ed7900178c8b458c8d9"
            ],
            "layout": "IPY_MODEL_c8f3dd3e3c6b4a14b1662d570bc90331",
            "tabbable": null,
            "tooltip": null
          }
        },
        "191e44ff91af4d42a65261df29f53dc0": {
          "model_module": "@jupyter-widgets/controls",
          "model_name": "HTMLModel",
          "model_module_version": "2.0.0",
          "state": {
            "_dom_classes": [],
            "_model_module": "@jupyter-widgets/controls",
            "_model_module_version": "2.0.0",
            "_model_name": "HTMLModel",
            "_view_count": null,
            "_view_module": "@jupyter-widgets/controls",
            "_view_module_version": "2.0.0",
            "_view_name": "HTMLView",
            "description": "",
            "description_allow_html": false,
            "layout": "IPY_MODEL_b5b08060e9e6458ebc2cc91c9bc07a30",
            "placeholder": "​",
            "style": "IPY_MODEL_ccd03af0813c45ab99e5e8c6c712571f",
            "tabbable": null,
            "tooltip": null,
            "value": "100%"
          }
        },
        "4ca64bc7966e4f74b183db929b98eb98": {
          "model_module": "@jupyter-widgets/controls",
          "model_name": "FloatProgressModel",
          "model_module_version": "2.0.0",
          "state": {
            "_dom_classes": [],
            "_model_module": "@jupyter-widgets/controls",
            "_model_module_version": "2.0.0",
            "_model_name": "FloatProgressModel",
            "_view_count": null,
            "_view_module": "@jupyter-widgets/controls",
            "_view_module_version": "2.0.0",
            "_view_name": "ProgressView",
            "bar_style": "success",
            "description": "",
            "description_allow_html": false,
            "layout": "IPY_MODEL_641148c1090c49a69d4d75775eeb4c6b",
            "max": 2,
            "min": 0,
            "orientation": "horizontal",
            "style": "IPY_MODEL_b4c9371f9dd644fabbc28ab32f77d6b5",
            "tabbable": null,
            "tooltip": null,
            "value": 2
          }
        },
        "6b14f7196a574ed7900178c8b458c8d9": {
          "model_module": "@jupyter-widgets/controls",
          "model_name": "HTMLModel",
          "model_module_version": "2.0.0",
          "state": {
            "_dom_classes": [],
            "_model_module": "@jupyter-widgets/controls",
            "_model_module_version": "2.0.0",
            "_model_name": "HTMLModel",
            "_view_count": null,
            "_view_module": "@jupyter-widgets/controls",
            "_view_module_version": "2.0.0",
            "_view_name": "HTMLView",
            "description": "",
            "description_allow_html": false,
            "layout": "IPY_MODEL_766c8fb8fa784d9eab924451b87a0da8",
            "placeholder": "​",
            "style": "IPY_MODEL_7104e748f54849029d2f8b73658e39c6",
            "tabbable": null,
            "tooltip": null,
            "value": " 2/2 [00:00&lt;00:00,  5.90it/s]"
          }
        },
        "c8f3dd3e3c6b4a14b1662d570bc90331": {
          "model_module": "@jupyter-widgets/base",
          "model_name": "LayoutModel",
          "model_module_version": "2.0.0",
          "state": {
            "_model_module": "@jupyter-widgets/base",
            "_model_module_version": "2.0.0",
            "_model_name": "LayoutModel",
            "_view_count": null,
            "_view_module": "@jupyter-widgets/base",
            "_view_module_version": "2.0.0",
            "_view_name": "LayoutView",
            "align_content": null,
            "align_items": null,
            "align_self": null,
            "border_bottom": null,
            "border_left": null,
            "border_right": null,
            "border_top": null,
            "bottom": null,
            "display": null,
            "flex": null,
            "flex_flow": null,
            "grid_area": null,
            "grid_auto_columns": null,
            "grid_auto_flow": null,
            "grid_auto_rows": null,
            "grid_column": null,
            "grid_gap": null,
            "grid_row": null,
            "grid_template_areas": null,
            "grid_template_columns": null,
            "grid_template_rows": null,
            "height": null,
            "justify_content": null,
            "justify_items": null,
            "left": null,
            "margin": null,
            "max_height": null,
            "max_width": null,
            "min_height": null,
            "min_width": null,
            "object_fit": null,
            "object_position": null,
            "order": null,
            "overflow": null,
            "padding": null,
            "right": null,
            "top": null,
            "visibility": null,
            "width": null
          }
        },
        "b5b08060e9e6458ebc2cc91c9bc07a30": {
          "model_module": "@jupyter-widgets/base",
          "model_name": "LayoutModel",
          "model_module_version": "2.0.0",
          "state": {
            "_model_module": "@jupyter-widgets/base",
            "_model_module_version": "2.0.0",
            "_model_name": "LayoutModel",
            "_view_count": null,
            "_view_module": "@jupyter-widgets/base",
            "_view_module_version": "2.0.0",
            "_view_name": "LayoutView",
            "align_content": null,
            "align_items": null,
            "align_self": null,
            "border_bottom": null,
            "border_left": null,
            "border_right": null,
            "border_top": null,
            "bottom": null,
            "display": null,
            "flex": null,
            "flex_flow": null,
            "grid_area": null,
            "grid_auto_columns": null,
            "grid_auto_flow": null,
            "grid_auto_rows": null,
            "grid_column": null,
            "grid_gap": null,
            "grid_row": null,
            "grid_template_areas": null,
            "grid_template_columns": null,
            "grid_template_rows": null,
            "height": null,
            "justify_content": null,
            "justify_items": null,
            "left": null,
            "margin": null,
            "max_height": null,
            "max_width": null,
            "min_height": null,
            "min_width": null,
            "object_fit": null,
            "object_position": null,
            "order": null,
            "overflow": null,
            "padding": null,
            "right": null,
            "top": null,
            "visibility": null,
            "width": null
          }
        },
        "ccd03af0813c45ab99e5e8c6c712571f": {
          "model_module": "@jupyter-widgets/controls",
          "model_name": "HTMLStyleModel",
          "model_module_version": "2.0.0",
          "state": {
            "_model_module": "@jupyter-widgets/controls",
            "_model_module_version": "2.0.0",
            "_model_name": "HTMLStyleModel",
            "_view_count": null,
            "_view_module": "@jupyter-widgets/base",
            "_view_module_version": "2.0.0",
            "_view_name": "StyleView",
            "background": null,
            "description_width": "",
            "font_size": null,
            "text_color": null
          }
        },
        "641148c1090c49a69d4d75775eeb4c6b": {
          "model_module": "@jupyter-widgets/base",
          "model_name": "LayoutModel",
          "model_module_version": "2.0.0",
          "state": {
            "_model_module": "@jupyter-widgets/base",
            "_model_module_version": "2.0.0",
            "_model_name": "LayoutModel",
            "_view_count": null,
            "_view_module": "@jupyter-widgets/base",
            "_view_module_version": "2.0.0",
            "_view_name": "LayoutView",
            "align_content": null,
            "align_items": null,
            "align_self": null,
            "border_bottom": null,
            "border_left": null,
            "border_right": null,
            "border_top": null,
            "bottom": null,
            "display": null,
            "flex": null,
            "flex_flow": null,
            "grid_area": null,
            "grid_auto_columns": null,
            "grid_auto_flow": null,
            "grid_auto_rows": null,
            "grid_column": null,
            "grid_gap": null,
            "grid_row": null,
            "grid_template_areas": null,
            "grid_template_columns": null,
            "grid_template_rows": null,
            "height": null,
            "justify_content": null,
            "justify_items": null,
            "left": null,
            "margin": null,
            "max_height": null,
            "max_width": null,
            "min_height": null,
            "min_width": null,
            "object_fit": null,
            "object_position": null,
            "order": null,
            "overflow": null,
            "padding": null,
            "right": null,
            "top": null,
            "visibility": null,
            "width": null
          }
        },
        "b4c9371f9dd644fabbc28ab32f77d6b5": {
          "model_module": "@jupyter-widgets/controls",
          "model_name": "ProgressStyleModel",
          "model_module_version": "2.0.0",
          "state": {
            "_model_module": "@jupyter-widgets/controls",
            "_model_module_version": "2.0.0",
            "_model_name": "ProgressStyleModel",
            "_view_count": null,
            "_view_module": "@jupyter-widgets/base",
            "_view_module_version": "2.0.0",
            "_view_name": "StyleView",
            "bar_color": null,
            "description_width": ""
          }
        },
        "766c8fb8fa784d9eab924451b87a0da8": {
          "model_module": "@jupyter-widgets/base",
          "model_name": "LayoutModel",
          "model_module_version": "2.0.0",
          "state": {
            "_model_module": "@jupyter-widgets/base",
            "_model_module_version": "2.0.0",
            "_model_name": "LayoutModel",
            "_view_count": null,
            "_view_module": "@jupyter-widgets/base",
            "_view_module_version": "2.0.0",
            "_view_name": "LayoutView",
            "align_content": null,
            "align_items": null,
            "align_self": null,
            "border_bottom": null,
            "border_left": null,
            "border_right": null,
            "border_top": null,
            "bottom": null,
            "display": null,
            "flex": null,
            "flex_flow": null,
            "grid_area": null,
            "grid_auto_columns": null,
            "grid_auto_flow": null,
            "grid_auto_rows": null,
            "grid_column": null,
            "grid_gap": null,
            "grid_row": null,
            "grid_template_areas": null,
            "grid_template_columns": null,
            "grid_template_rows": null,
            "height": null,
            "justify_content": null,
            "justify_items": null,
            "left": null,
            "margin": null,
            "max_height": null,
            "max_width": null,
            "min_height": null,
            "min_width": null,
            "object_fit": null,
            "object_position": null,
            "order": null,
            "overflow": null,
            "padding": null,
            "right": null,
            "top": null,
            "visibility": null,
            "width": null
          }
        },
        "7104e748f54849029d2f8b73658e39c6": {
          "model_module": "@jupyter-widgets/controls",
          "model_name": "HTMLStyleModel",
          "model_module_version": "2.0.0",
          "state": {
            "_model_module": "@jupyter-widgets/controls",
            "_model_module_version": "2.0.0",
            "_model_name": "HTMLStyleModel",
            "_view_count": null,
            "_view_module": "@jupyter-widgets/base",
            "_view_module_version": "2.0.0",
            "_view_name": "StyleView",
            "background": null,
            "description_width": "",
            "font_size": null,
            "text_color": null
          }
        },
        "d97a536a88a34340beb46115c28915b2": {
          "model_module": "@jupyter-widgets/controls",
          "model_name": "HBoxModel",
          "model_module_version": "2.0.0",
          "state": {
            "_dom_classes": [],
            "_model_module": "@jupyter-widgets/controls",
            "_model_module_version": "2.0.0",
            "_model_name": "HBoxModel",
            "_view_count": null,
            "_view_module": "@jupyter-widgets/controls",
            "_view_module_version": "2.0.0",
            "_view_name": "HBoxView",
            "box_style": "",
            "children": [
              "IPY_MODEL_74f9d9c263ab4888a472a6585e7b627b",
              "IPY_MODEL_a9b2cab5a20d4188946f2fc1fe70ef05",
              "IPY_MODEL_b3af7079004d46f8ae015da6c5af99c7"
            ],
            "layout": "IPY_MODEL_c0eb2ef3b2c24fda9fde873c67168530",
            "tabbable": null,
            "tooltip": null
          }
        },
        "74f9d9c263ab4888a472a6585e7b627b": {
          "model_module": "@jupyter-widgets/controls",
          "model_name": "HTMLModel",
          "model_module_version": "2.0.0",
          "state": {
            "_dom_classes": [],
            "_model_module": "@jupyter-widgets/controls",
            "_model_module_version": "2.0.0",
            "_model_name": "HTMLModel",
            "_view_count": null,
            "_view_module": "@jupyter-widgets/controls",
            "_view_module_version": "2.0.0",
            "_view_name": "HTMLView",
            "description": "",
            "description_allow_html": false,
            "layout": "IPY_MODEL_a08f77db9bcf4aff8505356e8d2c8a25",
            "placeholder": "​",
            "style": "IPY_MODEL_197c7e0759744e4bac285cca686ce102",
            "tabbable": null,
            "tooltip": null,
            "value": "100%"
          }
        },
        "a9b2cab5a20d4188946f2fc1fe70ef05": {
          "model_module": "@jupyter-widgets/controls",
          "model_name": "FloatProgressModel",
          "model_module_version": "2.0.0",
          "state": {
            "_dom_classes": [],
            "_model_module": "@jupyter-widgets/controls",
            "_model_module_version": "2.0.0",
            "_model_name": "FloatProgressModel",
            "_view_count": null,
            "_view_module": "@jupyter-widgets/controls",
            "_view_module_version": "2.0.0",
            "_view_name": "ProgressView",
            "bar_style": "success",
            "description": "",
            "description_allow_html": false,
            "layout": "IPY_MODEL_be7e38c78f4c4222bef62697b729b468",
            "max": 3,
            "min": 0,
            "orientation": "horizontal",
            "style": "IPY_MODEL_17191e12e996419e8ac617dbca165c95",
            "tabbable": null,
            "tooltip": null,
            "value": 3
          }
        },
        "b3af7079004d46f8ae015da6c5af99c7": {
          "model_module": "@jupyter-widgets/controls",
          "model_name": "HTMLModel",
          "model_module_version": "2.0.0",
          "state": {
            "_dom_classes": [],
            "_model_module": "@jupyter-widgets/controls",
            "_model_module_version": "2.0.0",
            "_model_name": "HTMLModel",
            "_view_count": null,
            "_view_module": "@jupyter-widgets/controls",
            "_view_module_version": "2.0.0",
            "_view_name": "HTMLView",
            "description": "",
            "description_allow_html": false,
            "layout": "IPY_MODEL_88b5f576ad4940aaa8e85a248c3e981f",
            "placeholder": "​",
            "style": "IPY_MODEL_0c5f02bf168f48c781bb3868d5f96e87",
            "tabbable": null,
            "tooltip": null,
            "value": " 3/3 [00:00&lt;00:00,  3.30it/s]"
          }
        },
        "c0eb2ef3b2c24fda9fde873c67168530": {
          "model_module": "@jupyter-widgets/base",
          "model_name": "LayoutModel",
          "model_module_version": "2.0.0",
          "state": {
            "_model_module": "@jupyter-widgets/base",
            "_model_module_version": "2.0.0",
            "_model_name": "LayoutModel",
            "_view_count": null,
            "_view_module": "@jupyter-widgets/base",
            "_view_module_version": "2.0.0",
            "_view_name": "LayoutView",
            "align_content": null,
            "align_items": null,
            "align_self": null,
            "border_bottom": null,
            "border_left": null,
            "border_right": null,
            "border_top": null,
            "bottom": null,
            "display": null,
            "flex": null,
            "flex_flow": null,
            "grid_area": null,
            "grid_auto_columns": null,
            "grid_auto_flow": null,
            "grid_auto_rows": null,
            "grid_column": null,
            "grid_gap": null,
            "grid_row": null,
            "grid_template_areas": null,
            "grid_template_columns": null,
            "grid_template_rows": null,
            "height": null,
            "justify_content": null,
            "justify_items": null,
            "left": null,
            "margin": null,
            "max_height": null,
            "max_width": null,
            "min_height": null,
            "min_width": null,
            "object_fit": null,
            "object_position": null,
            "order": null,
            "overflow": null,
            "padding": null,
            "right": null,
            "top": null,
            "visibility": null,
            "width": null
          }
        },
        "a08f77db9bcf4aff8505356e8d2c8a25": {
          "model_module": "@jupyter-widgets/base",
          "model_name": "LayoutModel",
          "model_module_version": "2.0.0",
          "state": {
            "_model_module": "@jupyter-widgets/base",
            "_model_module_version": "2.0.0",
            "_model_name": "LayoutModel",
            "_view_count": null,
            "_view_module": "@jupyter-widgets/base",
            "_view_module_version": "2.0.0",
            "_view_name": "LayoutView",
            "align_content": null,
            "align_items": null,
            "align_self": null,
            "border_bottom": null,
            "border_left": null,
            "border_right": null,
            "border_top": null,
            "bottom": null,
            "display": null,
            "flex": null,
            "flex_flow": null,
            "grid_area": null,
            "grid_auto_columns": null,
            "grid_auto_flow": null,
            "grid_auto_rows": null,
            "grid_column": null,
            "grid_gap": null,
            "grid_row": null,
            "grid_template_areas": null,
            "grid_template_columns": null,
            "grid_template_rows": null,
            "height": null,
            "justify_content": null,
            "justify_items": null,
            "left": null,
            "margin": null,
            "max_height": null,
            "max_width": null,
            "min_height": null,
            "min_width": null,
            "object_fit": null,
            "object_position": null,
            "order": null,
            "overflow": null,
            "padding": null,
            "right": null,
            "top": null,
            "visibility": null,
            "width": null
          }
        },
        "197c7e0759744e4bac285cca686ce102": {
          "model_module": "@jupyter-widgets/controls",
          "model_name": "HTMLStyleModel",
          "model_module_version": "2.0.0",
          "state": {
            "_model_module": "@jupyter-widgets/controls",
            "_model_module_version": "2.0.0",
            "_model_name": "HTMLStyleModel",
            "_view_count": null,
            "_view_module": "@jupyter-widgets/base",
            "_view_module_version": "2.0.0",
            "_view_name": "StyleView",
            "background": null,
            "description_width": "",
            "font_size": null,
            "text_color": null
          }
        },
        "be7e38c78f4c4222bef62697b729b468": {
          "model_module": "@jupyter-widgets/base",
          "model_name": "LayoutModel",
          "model_module_version": "2.0.0",
          "state": {
            "_model_module": "@jupyter-widgets/base",
            "_model_module_version": "2.0.0",
            "_model_name": "LayoutModel",
            "_view_count": null,
            "_view_module": "@jupyter-widgets/base",
            "_view_module_version": "2.0.0",
            "_view_name": "LayoutView",
            "align_content": null,
            "align_items": null,
            "align_self": null,
            "border_bottom": null,
            "border_left": null,
            "border_right": null,
            "border_top": null,
            "bottom": null,
            "display": null,
            "flex": null,
            "flex_flow": null,
            "grid_area": null,
            "grid_auto_columns": null,
            "grid_auto_flow": null,
            "grid_auto_rows": null,
            "grid_column": null,
            "grid_gap": null,
            "grid_row": null,
            "grid_template_areas": null,
            "grid_template_columns": null,
            "grid_template_rows": null,
            "height": null,
            "justify_content": null,
            "justify_items": null,
            "left": null,
            "margin": null,
            "max_height": null,
            "max_width": null,
            "min_height": null,
            "min_width": null,
            "object_fit": null,
            "object_position": null,
            "order": null,
            "overflow": null,
            "padding": null,
            "right": null,
            "top": null,
            "visibility": null,
            "width": null
          }
        },
        "17191e12e996419e8ac617dbca165c95": {
          "model_module": "@jupyter-widgets/controls",
          "model_name": "ProgressStyleModel",
          "model_module_version": "2.0.0",
          "state": {
            "_model_module": "@jupyter-widgets/controls",
            "_model_module_version": "2.0.0",
            "_model_name": "ProgressStyleModel",
            "_view_count": null,
            "_view_module": "@jupyter-widgets/base",
            "_view_module_version": "2.0.0",
            "_view_name": "StyleView",
            "bar_color": null,
            "description_width": ""
          }
        },
        "88b5f576ad4940aaa8e85a248c3e981f": {
          "model_module": "@jupyter-widgets/base",
          "model_name": "LayoutModel",
          "model_module_version": "2.0.0",
          "state": {
            "_model_module": "@jupyter-widgets/base",
            "_model_module_version": "2.0.0",
            "_model_name": "LayoutModel",
            "_view_count": null,
            "_view_module": "@jupyter-widgets/base",
            "_view_module_version": "2.0.0",
            "_view_name": "LayoutView",
            "align_content": null,
            "align_items": null,
            "align_self": null,
            "border_bottom": null,
            "border_left": null,
            "border_right": null,
            "border_top": null,
            "bottom": null,
            "display": null,
            "flex": null,
            "flex_flow": null,
            "grid_area": null,
            "grid_auto_columns": null,
            "grid_auto_flow": null,
            "grid_auto_rows": null,
            "grid_column": null,
            "grid_gap": null,
            "grid_row": null,
            "grid_template_areas": null,
            "grid_template_columns": null,
            "grid_template_rows": null,
            "height": null,
            "justify_content": null,
            "justify_items": null,
            "left": null,
            "margin": null,
            "max_height": null,
            "max_width": null,
            "min_height": null,
            "min_width": null,
            "object_fit": null,
            "object_position": null,
            "order": null,
            "overflow": null,
            "padding": null,
            "right": null,
            "top": null,
            "visibility": null,
            "width": null
          }
        },
        "0c5f02bf168f48c781bb3868d5f96e87": {
          "model_module": "@jupyter-widgets/controls",
          "model_name": "HTMLStyleModel",
          "model_module_version": "2.0.0",
          "state": {
            "_model_module": "@jupyter-widgets/controls",
            "_model_module_version": "2.0.0",
            "_model_name": "HTMLStyleModel",
            "_view_count": null,
            "_view_module": "@jupyter-widgets/base",
            "_view_module_version": "2.0.0",
            "_view_name": "StyleView",
            "background": null,
            "description_width": "",
            "font_size": null,
            "text_color": null
          }
        },
        "6c8f57a52d884f0e98f8beb08a73d00d": {
          "model_module": "@jupyter-widgets/controls",
          "model_name": "HBoxModel",
          "model_module_version": "2.0.0",
          "state": {
            "_dom_classes": [],
            "_model_module": "@jupyter-widgets/controls",
            "_model_module_version": "2.0.0",
            "_model_name": "HBoxModel",
            "_view_count": null,
            "_view_module": "@jupyter-widgets/controls",
            "_view_module_version": "2.0.0",
            "_view_name": "HBoxView",
            "box_style": "",
            "children": [
              "IPY_MODEL_7edea43c969a43e3a67a089e6bf0dffb",
              "IPY_MODEL_9698d47f53eb4429a1de91b0186d13e6",
              "IPY_MODEL_80c4841adca14318a1ec6cda082081b8"
            ],
            "layout": "IPY_MODEL_941d8ebef6ff4eeb9591aa30746692a2",
            "tabbable": null,
            "tooltip": null
          }
        },
        "7edea43c969a43e3a67a089e6bf0dffb": {
          "model_module": "@jupyter-widgets/controls",
          "model_name": "HTMLModel",
          "model_module_version": "2.0.0",
          "state": {
            "_dom_classes": [],
            "_model_module": "@jupyter-widgets/controls",
            "_model_module_version": "2.0.0",
            "_model_name": "HTMLModel",
            "_view_count": null,
            "_view_module": "@jupyter-widgets/controls",
            "_view_module_version": "2.0.0",
            "_view_name": "HTMLView",
            "description": "",
            "description_allow_html": false,
            "layout": "IPY_MODEL_9c63e66f50814766ba5bb9616aa057f5",
            "placeholder": "​",
            "style": "IPY_MODEL_3e08b791439e43208fb035e63d64dffe",
            "tabbable": null,
            "tooltip": null,
            "value": "100%"
          }
        },
        "9698d47f53eb4429a1de91b0186d13e6": {
          "model_module": "@jupyter-widgets/controls",
          "model_name": "FloatProgressModel",
          "model_module_version": "2.0.0",
          "state": {
            "_dom_classes": [],
            "_model_module": "@jupyter-widgets/controls",
            "_model_module_version": "2.0.0",
            "_model_name": "FloatProgressModel",
            "_view_count": null,
            "_view_module": "@jupyter-widgets/controls",
            "_view_module_version": "2.0.0",
            "_view_name": "ProgressView",
            "bar_style": "success",
            "description": "",
            "description_allow_html": false,
            "layout": "IPY_MODEL_62bfc95752b84a1ba7b9bca6cf1ddecc",
            "max": 2,
            "min": 0,
            "orientation": "horizontal",
            "style": "IPY_MODEL_85b5d626497e42c2b2788b9c6f4a110e",
            "tabbable": null,
            "tooltip": null,
            "value": 2
          }
        },
        "80c4841adca14318a1ec6cda082081b8": {
          "model_module": "@jupyter-widgets/controls",
          "model_name": "HTMLModel",
          "model_module_version": "2.0.0",
          "state": {
            "_dom_classes": [],
            "_model_module": "@jupyter-widgets/controls",
            "_model_module_version": "2.0.0",
            "_model_name": "HTMLModel",
            "_view_count": null,
            "_view_module": "@jupyter-widgets/controls",
            "_view_module_version": "2.0.0",
            "_view_name": "HTMLView",
            "description": "",
            "description_allow_html": false,
            "layout": "IPY_MODEL_1f37d7a1b0d1413e997d844107b4b76c",
            "placeholder": "​",
            "style": "IPY_MODEL_84e42e3973954c56b9cfd19f665f6c61",
            "tabbable": null,
            "tooltip": null,
            "value": " 2/2 [00:00&lt;00:00, 38.75it/s]"
          }
        },
        "941d8ebef6ff4eeb9591aa30746692a2": {
          "model_module": "@jupyter-widgets/base",
          "model_name": "LayoutModel",
          "model_module_version": "2.0.0",
          "state": {
            "_model_module": "@jupyter-widgets/base",
            "_model_module_version": "2.0.0",
            "_model_name": "LayoutModel",
            "_view_count": null,
            "_view_module": "@jupyter-widgets/base",
            "_view_module_version": "2.0.0",
            "_view_name": "LayoutView",
            "align_content": null,
            "align_items": null,
            "align_self": null,
            "border_bottom": null,
            "border_left": null,
            "border_right": null,
            "border_top": null,
            "bottom": null,
            "display": null,
            "flex": null,
            "flex_flow": null,
            "grid_area": null,
            "grid_auto_columns": null,
            "grid_auto_flow": null,
            "grid_auto_rows": null,
            "grid_column": null,
            "grid_gap": null,
            "grid_row": null,
            "grid_template_areas": null,
            "grid_template_columns": null,
            "grid_template_rows": null,
            "height": null,
            "justify_content": null,
            "justify_items": null,
            "left": null,
            "margin": null,
            "max_height": null,
            "max_width": null,
            "min_height": null,
            "min_width": null,
            "object_fit": null,
            "object_position": null,
            "order": null,
            "overflow": null,
            "padding": null,
            "right": null,
            "top": null,
            "visibility": null,
            "width": null
          }
        },
        "9c63e66f50814766ba5bb9616aa057f5": {
          "model_module": "@jupyter-widgets/base",
          "model_name": "LayoutModel",
          "model_module_version": "2.0.0",
          "state": {
            "_model_module": "@jupyter-widgets/base",
            "_model_module_version": "2.0.0",
            "_model_name": "LayoutModel",
            "_view_count": null,
            "_view_module": "@jupyter-widgets/base",
            "_view_module_version": "2.0.0",
            "_view_name": "LayoutView",
            "align_content": null,
            "align_items": null,
            "align_self": null,
            "border_bottom": null,
            "border_left": null,
            "border_right": null,
            "border_top": null,
            "bottom": null,
            "display": null,
            "flex": null,
            "flex_flow": null,
            "grid_area": null,
            "grid_auto_columns": null,
            "grid_auto_flow": null,
            "grid_auto_rows": null,
            "grid_column": null,
            "grid_gap": null,
            "grid_row": null,
            "grid_template_areas": null,
            "grid_template_columns": null,
            "grid_template_rows": null,
            "height": null,
            "justify_content": null,
            "justify_items": null,
            "left": null,
            "margin": null,
            "max_height": null,
            "max_width": null,
            "min_height": null,
            "min_width": null,
            "object_fit": null,
            "object_position": null,
            "order": null,
            "overflow": null,
            "padding": null,
            "right": null,
            "top": null,
            "visibility": null,
            "width": null
          }
        },
        "3e08b791439e43208fb035e63d64dffe": {
          "model_module": "@jupyter-widgets/controls",
          "model_name": "HTMLStyleModel",
          "model_module_version": "2.0.0",
          "state": {
            "_model_module": "@jupyter-widgets/controls",
            "_model_module_version": "2.0.0",
            "_model_name": "HTMLStyleModel",
            "_view_count": null,
            "_view_module": "@jupyter-widgets/base",
            "_view_module_version": "2.0.0",
            "_view_name": "StyleView",
            "background": null,
            "description_width": "",
            "font_size": null,
            "text_color": null
          }
        },
        "62bfc95752b84a1ba7b9bca6cf1ddecc": {
          "model_module": "@jupyter-widgets/base",
          "model_name": "LayoutModel",
          "model_module_version": "2.0.0",
          "state": {
            "_model_module": "@jupyter-widgets/base",
            "_model_module_version": "2.0.0",
            "_model_name": "LayoutModel",
            "_view_count": null,
            "_view_module": "@jupyter-widgets/base",
            "_view_module_version": "2.0.0",
            "_view_name": "LayoutView",
            "align_content": null,
            "align_items": null,
            "align_self": null,
            "border_bottom": null,
            "border_left": null,
            "border_right": null,
            "border_top": null,
            "bottom": null,
            "display": null,
            "flex": null,
            "flex_flow": null,
            "grid_area": null,
            "grid_auto_columns": null,
            "grid_auto_flow": null,
            "grid_auto_rows": null,
            "grid_column": null,
            "grid_gap": null,
            "grid_row": null,
            "grid_template_areas": null,
            "grid_template_columns": null,
            "grid_template_rows": null,
            "height": null,
            "justify_content": null,
            "justify_items": null,
            "left": null,
            "margin": null,
            "max_height": null,
            "max_width": null,
            "min_height": null,
            "min_width": null,
            "object_fit": null,
            "object_position": null,
            "order": null,
            "overflow": null,
            "padding": null,
            "right": null,
            "top": null,
            "visibility": null,
            "width": null
          }
        },
        "85b5d626497e42c2b2788b9c6f4a110e": {
          "model_module": "@jupyter-widgets/controls",
          "model_name": "ProgressStyleModel",
          "model_module_version": "2.0.0",
          "state": {
            "_model_module": "@jupyter-widgets/controls",
            "_model_module_version": "2.0.0",
            "_model_name": "ProgressStyleModel",
            "_view_count": null,
            "_view_module": "@jupyter-widgets/base",
            "_view_module_version": "2.0.0",
            "_view_name": "StyleView",
            "bar_color": null,
            "description_width": ""
          }
        },
        "1f37d7a1b0d1413e997d844107b4b76c": {
          "model_module": "@jupyter-widgets/base",
          "model_name": "LayoutModel",
          "model_module_version": "2.0.0",
          "state": {
            "_model_module": "@jupyter-widgets/base",
            "_model_module_version": "2.0.0",
            "_model_name": "LayoutModel",
            "_view_count": null,
            "_view_module": "@jupyter-widgets/base",
            "_view_module_version": "2.0.0",
            "_view_name": "LayoutView",
            "align_content": null,
            "align_items": null,
            "align_self": null,
            "border_bottom": null,
            "border_left": null,
            "border_right": null,
            "border_top": null,
            "bottom": null,
            "display": null,
            "flex": null,
            "flex_flow": null,
            "grid_area": null,
            "grid_auto_columns": null,
            "grid_auto_flow": null,
            "grid_auto_rows": null,
            "grid_column": null,
            "grid_gap": null,
            "grid_row": null,
            "grid_template_areas": null,
            "grid_template_columns": null,
            "grid_template_rows": null,
            "height": null,
            "justify_content": null,
            "justify_items": null,
            "left": null,
            "margin": null,
            "max_height": null,
            "max_width": null,
            "min_height": null,
            "min_width": null,
            "object_fit": null,
            "object_position": null,
            "order": null,
            "overflow": null,
            "padding": null,
            "right": null,
            "top": null,
            "visibility": null,
            "width": null
          }
        },
        "84e42e3973954c56b9cfd19f665f6c61": {
          "model_module": "@jupyter-widgets/controls",
          "model_name": "HTMLStyleModel",
          "model_module_version": "2.0.0",
          "state": {
            "_model_module": "@jupyter-widgets/controls",
            "_model_module_version": "2.0.0",
            "_model_name": "HTMLStyleModel",
            "_view_count": null,
            "_view_module": "@jupyter-widgets/base",
            "_view_module_version": "2.0.0",
            "_view_name": "StyleView",
            "background": null,
            "description_width": "",
            "font_size": null,
            "text_color": null
          }
        }
      }
    }
  },
  "nbformat": 4,
  "nbformat_minor": 0
}